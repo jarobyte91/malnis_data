{
 "cells": [
  {
   "cell_type": "code",
   "execution_count": 13,
   "id": "8ae054c6",
   "metadata": {},
   "outputs": [],
   "source": [
    "import pandas as pd\n",
    "import matplotlib.pyplot as plt\n",
    "from sklearn.feature_extraction.text import TfidfVectorizer\n",
    "from malnis import show\n",
    "from nltk.tokenize import word_tokenize\n",
    "from tqdm.auto import tqdm\n",
    "import scipy.sparse as sp\n",
    "from sklearn.linear_model import LogisticRegression \n",
    "from sklearn.ensemble import RandomForestClassifier\n",
    "from sklearn.svm import SVC\n",
    "from sklearn.decomposition import PCA, SparsePCA\n",
    "from sklearn.neural_network import MLPClassifier\n",
    "from sklearn.metrics import log_loss, PrecisionRecallDisplay, RocCurveDisplay\n",
    "import numpy as np\n",
    "from sentence_transformers import SentenceTransformer\n",
    "from sklearn.model_selection import train_test_split\n",
    "import torch\n",
    "from torch import nn\n",
    "import pytorch_lightning as pl\n",
    "import torch.utils.data as tud\n",
    "import seaborn as sns\n",
    "sns.set()"
   ]
  },
  {
   "cell_type": "code",
   "execution_count": 14,
   "id": "57351439",
   "metadata": {},
   "outputs": [
    {
     "data": {
      "text/plain": [
       "'/home/jarobyte/malnis_dataset/notebooks'"
      ]
     },
     "execution_count": 14,
     "metadata": {},
     "output_type": "execute_result"
    }
   ],
   "source": [
    "pwd"
   ]
  },
  {
   "cell_type": "code",
   "execution_count": 15,
   "id": "b8d48d64",
   "metadata": {},
   "outputs": [
    {
     "name": "stdout",
     "output_type": "stream",
     "text": [
      "(8965, 9)\n"
     ]
    },
    {
     "data": {
      "text/html": [
       "<div>\n",
       "<style scoped>\n",
       "    .dataframe tbody tr th:only-of-type {\n",
       "        vertical-align: middle;\n",
       "    }\n",
       "\n",
       "    .dataframe tbody tr th {\n",
       "        vertical-align: top;\n",
       "    }\n",
       "\n",
       "    .dataframe thead th {\n",
       "        text-align: right;\n",
       "    }\n",
       "</style>\n",
       "<table border=\"1\" class=\"dataframe\">\n",
       "  <thead>\n",
       "    <tr style=\"text-align: right;\">\n",
       "      <th></th>\n",
       "      <th>query</th>\n",
       "      <th>document</th>\n",
       "      <th>summary</th>\n",
       "      <th>r1</th>\n",
       "      <th>r2</th>\n",
       "      <th>rl</th>\n",
       "      <th>sentences</th>\n",
       "      <th>relevance</th>\n",
       "      <th>n_sentences</th>\n",
       "    </tr>\n",
       "  </thead>\n",
       "  <tbody>\n",
       "    <tr>\n",
       "      <th>0</th>\n",
       "      <td>We introduce a new language representation mod...</td>\n",
       "      <td>KEYWORDS cascade ranking, pre-trained language...</td>\n",
       "      <td>[Our approach is mainly based on the BERT lang...</td>\n",
       "      <td>0.237885</td>\n",
       "      <td>0.065359</td>\n",
       "      <td>0.229075</td>\n",
       "      <td>[KEYWORDS cascade ranking, pre-trained languag...</td>\n",
       "      <td>[False, False, False, False, False, False, Fal...</td>\n",
       "      <td>117</td>\n",
       "    </tr>\n",
       "    <tr>\n",
       "      <th>1</th>\n",
       "      <td>The dominant sequence transduction models are ...</td>\n",
       "      <td>KEYWORDS cascade ranking, pre-trained language...</td>\n",
       "      <td>[BERT [2] is a self-supervised approach for pr...</td>\n",
       "      <td>0.238372</td>\n",
       "      <td>0.063366</td>\n",
       "      <td>0.215116</td>\n",
       "      <td>[KEYWORDS cascade ranking, pre-trained languag...</td>\n",
       "      <td>[False, False, False, False, False, True, Fals...</td>\n",
       "      <td>117</td>\n",
       "    </tr>\n",
       "    <tr>\n",
       "      <th>2</th>\n",
       "      <td>Language model pretraining has led to signific...</td>\n",
       "      <td>KEYWORDS cascade ranking, pre-trained language...</td>\n",
       "      <td>[Recently, some variants [4, 12] of BERT langu...</td>\n",
       "      <td>0.172727</td>\n",
       "      <td>0.047782</td>\n",
       "      <td>0.172727</td>\n",
       "      <td>[KEYWORDS cascade ranking, pre-trained languag...</td>\n",
       "      <td>[False, False, False, False, False, True, Fals...</td>\n",
       "      <td>117</td>\n",
       "    </tr>\n",
       "    <tr>\n",
       "      <th>3</th>\n",
       "      <td>With the capability of modeling bidirectional ...</td>\n",
       "      <td>KEYWORDS cascade ranking, pre-trained language...</td>\n",
       "      <td>[Recently, some variants [4, 12] of BERT langu...</td>\n",
       "      <td>0.237838</td>\n",
       "      <td>0.078740</td>\n",
       "      <td>0.227027</td>\n",
       "      <td>[KEYWORDS cascade ranking, pre-trained languag...</td>\n",
       "      <td>[False, False, False, False, False, False, Tru...</td>\n",
       "      <td>117</td>\n",
       "    </tr>\n",
       "    <tr>\n",
       "      <th>4</th>\n",
       "      <td>Neural sequence-to-sequence models have provid...</td>\n",
       "      <td>KEYWORDS cascade ranking, pre-trained language...</td>\n",
       "      <td>[The proposed model is based on the pointer-ge...</td>\n",
       "      <td>0.215139</td>\n",
       "      <td>0.093023</td>\n",
       "      <td>0.199203</td>\n",
       "      <td>[KEYWORDS cascade ranking, pre-trained languag...</td>\n",
       "      <td>[False, False, False, False, False, False, Fal...</td>\n",
       "      <td>117</td>\n",
       "    </tr>\n",
       "  </tbody>\n",
       "</table>\n",
       "</div>"
      ],
      "text/plain": [
       "                                               query  \\\n",
       "0  We introduce a new language representation mod...   \n",
       "1  The dominant sequence transduction models are ...   \n",
       "2  Language model pretraining has led to signific...   \n",
       "3  With the capability of modeling bidirectional ...   \n",
       "4  Neural sequence-to-sequence models have provid...   \n",
       "\n",
       "                                            document  \\\n",
       "0  KEYWORDS cascade ranking, pre-trained language...   \n",
       "1  KEYWORDS cascade ranking, pre-trained language...   \n",
       "2  KEYWORDS cascade ranking, pre-trained language...   \n",
       "3  KEYWORDS cascade ranking, pre-trained language...   \n",
       "4  KEYWORDS cascade ranking, pre-trained language...   \n",
       "\n",
       "                                             summary        r1        r2  \\\n",
       "0  [Our approach is mainly based on the BERT lang...  0.237885  0.065359   \n",
       "1  [BERT [2] is a self-supervised approach for pr...  0.238372  0.063366   \n",
       "2  [Recently, some variants [4, 12] of BERT langu...  0.172727  0.047782   \n",
       "3  [Recently, some variants [4, 12] of BERT langu...  0.237838  0.078740   \n",
       "4  [The proposed model is based on the pointer-ge...  0.215139  0.093023   \n",
       "\n",
       "         rl                                          sentences  \\\n",
       "0  0.229075  [KEYWORDS cascade ranking, pre-trained languag...   \n",
       "1  0.215116  [KEYWORDS cascade ranking, pre-trained languag...   \n",
       "2  0.172727  [KEYWORDS cascade ranking, pre-trained languag...   \n",
       "3  0.227027  [KEYWORDS cascade ranking, pre-trained languag...   \n",
       "4  0.199203  [KEYWORDS cascade ranking, pre-trained languag...   \n",
       "\n",
       "                                           relevance  n_sentences  \n",
       "0  [False, False, False, False, False, False, Fal...          117  \n",
       "1  [False, False, False, False, False, True, Fals...          117  \n",
       "2  [False, False, False, False, False, True, Fals...          117  \n",
       "3  [False, False, False, False, False, False, Tru...          117  \n",
       "4  [False, False, False, False, False, False, Fal...          117  "
      ]
     },
     "execution_count": 15,
     "metadata": {},
     "output_type": "execute_result"
    }
   ],
   "source": [
    "# The number of sentences in each paper goes from 59 to 4,447. I truncate to 512.\n",
    "\n",
    "data = pd.read_pickle(\"../data/labels.pkl\")\\\n",
    ".reset_index(drop = True)\\\n",
    ".assign(n_sentences = lambda df: df.sentences.map(len))\\\n",
    ".assign(\n",
    "    sentences = lambda df: df.sentences.map(lambda y: y[:512]),\n",
    "    relevance = lambda df: df.relevance.map(lambda y: y[:512]),    \n",
    ")\n",
    "\n",
    "show(data)"
   ]
  },
  {
   "cell_type": "code",
   "execution_count": 16,
   "id": "45575480",
   "metadata": {},
   "outputs": [
    {
     "data": {
      "text/plain": [
       "0.03491795433209077"
      ]
     },
     "execution_count": 16,
     "metadata": {},
     "output_type": "execute_result"
    }
   ],
   "source": [
    "s = np.array(data.relevance.map(lambda x: [sum(x), len(x)]).tolist()).sum(axis = 0)\n",
    "s[0] / s[1]"
   ]
  },
  {
   "cell_type": "code",
   "execution_count": 17,
   "id": "c0a3d01d",
   "metadata": {},
   "outputs": [
    {
     "data": {
      "image/png": "[encoded data removed]",
      "text/plain": [
       "<Figure size 640x480 with 1 Axes>"
      ]
     },
     "metadata": {},
     "output_type": "display_data"
    }
   ],
   "source": [
    "data.r2.plot.hist(\n",
    "#     log = True\n",
    ")\n",
    "plt.show()"
   ]
  },
  {
   "cell_type": "code",
   "execution_count": 18,
   "id": "a8e3bb5a",
   "metadata": {},
   "outputs": [
    {
     "data": {
      "text/plain": [
       "'The recently proposed BERT has shown great power on a variety of natural language understanding tasks, such as text classification, reading comprehension, etc. However, how to effectively apply BERT to neural machine translation (NMT) lacks enough exploration. While BERT is more commonly used as fine-tuning instead of contextual embedding for downstream language understanding tasks, in NMT, our preliminary exploration of using BERT as contextual embedding is better than using for fine-tuning. This motivates us to think how to better leverage BERT for NMT along this direction. We propose a new algorithm named BERT-fused model, in which we first use BERT to extract representations for an input sequence, and then the representations are fused with each layer of the encoder and decoder of the NMT model through attention mechanisms. We conduct experiments on supervised (including sentence-level and document-level translations), semi-supervised and unsupervised machine translation, and achieve state-of-the-art results on seven benchmark datasets. Our code is available at \\\\url{https://github.com/bert-nmt/bert-nmt}.'"
      ]
     },
     "execution_count": 18,
     "metadata": {},
     "output_type": "execute_result"
    }
   ],
   "source": [
    "data[\"query\"][36]"
   ]
  },
  {
   "cell_type": "code",
   "execution_count": 19,
   "id": "e05fa16b",
   "metadata": {},
   "outputs": [
    {
     "data": {
      "text/plain": [
       "['BERT (Devlin et al., 2019) and its improvements to natural language understanding have spurred a rapid succession of contextual language representations (Yang et al., 2019; Liu et al., 2019; inter alia) which use larger datasets and more involved training schemes.',\n",
       " 'Existing uses of pretrained MLMs in sequenceto-sequence models for automatic speech recognition (ASR) or neural machine translation (NMT) involve integrating their weights (Clinchant et al., 2019) or representations (Zhu et al., 2020) into the encoder and/or decoder during training.',\n",
       " 'We tune the LM weight λ on the development set to minimize word error rate (WER) for ASR or maximize tokenized BLEU for NMT.',\n",
       " 'We finetune BERT to produce scores without [MASK] tokens.',\n",
       " 'In particular, we see the outsized cost of the unconditional first unigram in Figure 3.',\n",
       " 'Furthermore, neither work considers the inference cost of masked rescoring, which we address with our maskless scoring approach, or analyze PLL’s numerical properties.',\n",
       " 'Their PLLs would have different properties from ours (e.g., their cross-entropies in Figure 4 may be convex instead of flat).',\n",
       " 'We studied scoring with MLM pseudo-loglikelihood scores in a variety of settings.',\n",
       " 'Thus, one could compute a new pretrained model’s word-normalized PPPL on a small target- domain sample to quickly assess whether rescoring with it could improve on the previous model.']"
      ]
     },
     "execution_count": 19,
     "metadata": {},
     "output_type": "execute_result"
    }
   ],
   "source": [
    "[s for s, l in zip(data.sentences[36], data.relevance[36]) if l == True]"
   ]
  },
  {
   "cell_type": "code",
   "execution_count": 20,
   "id": "9d082009",
   "metadata": {},
   "outputs": [
    {
     "data": {
      "text/plain": [
       "9"
      ]
     },
     "execution_count": 20,
     "metadata": {},
     "output_type": "execute_result"
    }
   ],
   "source": [
    "sum(data.relevance[36])"
   ]
  },
  {
   "cell_type": "code",
   "execution_count": 21,
   "id": "f45f2977",
   "metadata": {},
   "outputs": [
    {
     "data": {
      "text/plain": [
       "258"
      ]
     },
     "execution_count": 21,
     "metadata": {},
     "output_type": "execute_result"
    }
   ],
   "source": [
    "len(data.relevance[36])"
   ]
  },
  {
   "cell_type": "code",
   "execution_count": 22,
   "id": "d57f0b66",
   "metadata": {},
   "outputs": [
    {
     "data": {
      "text/plain": [
       "SentenceTransformer(\n",
       "  (0): Transformer({'max_seq_length': 256, 'do_lower_case': False}) with Transformer model: BertModel \n",
       "  (1): Pooling({'word_embedding_dimension': 384, 'pooling_mode_cls_token': False, 'pooling_mode_mean_tokens': True, 'pooling_mode_max_tokens': False, 'pooling_mode_mean_sqrt_len_tokens': False})\n",
       "  (2): Normalize()\n",
       ")"
      ]
     },
     "execution_count": 22,
     "metadata": {},
     "output_type": "execute_result"
    }
   ],
   "source": [
    "model = SentenceTransformer(\n",
    "    \"sbert\"\n",
    "#     'all-MiniLM-L6-v2', \n",
    "#     cache_folder = \"../assets\"\n",
    "#     \"../cache/huggingface/transformers/\"\n",
    "#     cache_folder = \"../cache/huggingface/transformers\"\n",
    ")\n",
    "model"
   ]
  },
  {
   "cell_type": "code",
   "execution_count": 23,
   "id": "3ff1df69",
   "metadata": {},
   "outputs": [],
   "source": [
    "# query_embeddings = model.encode(data[\"query\"])\n",
    "# query_embeddings.shape\n",
    "\n",
    "# dims = query_embeddings.shape[1]\n",
    "# sentence_embeddings = [\n",
    "#     model.encode(l)#.toarray() \n",
    "#     for l in tqdm(data.sentences)\n",
    "# ]\n",
    "# print(all([l.shape[1] == dims for l in sentence_embeddings]))\n",
    "\n",
    "# print(query_embeddings.shape[0] == len(sentence_embeddings))\n",
    "\n",
    "# print(sum([len(l) for l in tqdm(data.sentences)]))\n",
    "\n",
    "# train = [\n",
    "# #     ((sp.csr_matrix(np.ones([l.shape[0],1])) * q) - l).power(2)\n",
    "# #     (q - l)**2\n",
    "#     np.concatenate([np.tile(q, (l.shape[0], 1)), l], axis = 1)\n",
    "#     for q, l in zip(tqdm(query_embeddings), sentence_embeddings)\n",
    "# ]\n",
    "# print(len(train))\n",
    "\n",
    "# X = [torch.tensor(x) for x in train]\n",
    "# print(all([x.shape[0] <= 512 for x in X]))\n",
    "\n",
    "# X = torch.nn.utils.rnn.pad_sequence(X, batch_first = True)\n",
    "# print(X.shape)\n",
    "\n",
    "# # X = np.concatenate(train)#.toarray().T#.squeeze()\n",
    "# # print(X.shape)\n",
    "\n",
    "# torch.save(X, \"X_lstm_sbert_concat.pt\")"
   ]
  },
  {
   "cell_type": "code",
   "execution_count": 24,
   "id": "65ed2afd",
   "metadata": {},
   "outputs": [
    {
     "data": {
      "text/plain": [
       "torch.Size([8965, 512, 768])"
      ]
     },
     "execution_count": 24,
     "metadata": {},
     "output_type": "execute_result"
    }
   ],
   "source": [
    "X = torch.load(\"X_lstm_sbert_concat.pt\")\n",
    "X.shape"
   ]
  },
  {
   "cell_type": "code",
   "execution_count": 25,
   "id": "c0ee380f",
   "metadata": {},
   "outputs": [],
   "source": [
    "# Y = torch.tensor([y for l in tqdm(data.relevance) for y in l])\n",
    "# Y.shape"
   ]
  },
  {
   "cell_type": "code",
   "execution_count": 26,
   "id": "a0a3748d",
   "metadata": {},
   "outputs": [
    {
     "data": {
      "text/plain": [
       "torch.Size([8965, 512])"
      ]
     },
     "execution_count": 26,
     "metadata": {},
     "output_type": "execute_result"
    }
   ],
   "source": [
    "Y = torch.nn.utils.rnn.pad_sequence(\n",
    "    [torch.tensor(x) for x in data.relevance], \n",
    "    batch_first = True\n",
    ")\\\n",
    ".long()\n",
    "Y.shape"
   ]
  },
  {
   "cell_type": "code",
   "execution_count": 27,
   "id": "568c0951",
   "metadata": {},
   "outputs": [
    {
     "data": {
      "text/plain": [
       "tensor(91349)"
      ]
     },
     "execution_count": 27,
     "metadata": {},
     "output_type": "execute_result"
    }
   ],
   "source": [
    "Y.sum()"
   ]
  },
  {
   "cell_type": "code",
   "execution_count": 28,
   "id": "35f8b580",
   "metadata": {},
   "outputs": [
    {
     "name": "stdout",
     "output_type": "stream",
     "text": [
      "X_train torch.Size([6723, 512, 768])\n",
      "X_test torch.Size([2242, 512, 768])\n",
      "Y_train torch.Size([6723, 512])\n",
      "Y_test torch.Size([2242, 512])\n"
     ]
    }
   ],
   "source": [
    "X_train, X_test, Y_train, Y_test, relevance_train, relevance_test = train_test_split(\n",
    "    X, \n",
    "    Y, \n",
    "    data.relevance, \n",
    "    random_state = 1\n",
    ")\n",
    "print(\"X_train\", X_train.shape)\n",
    "print(\"X_test\", X_test.shape)\n",
    "print(\"Y_train\", Y_train.shape)\n",
    "print(\"Y_test\", Y_test.shape)"
   ]
  },
  {
   "cell_type": "code",
   "execution_count": 29,
   "id": "3ad173cc",
   "metadata": {},
   "outputs": [
    {
     "data": {
      "text/plain": [
       "(tensor(68550), tensor(22799))"
      ]
     },
     "execution_count": 29,
     "metadata": {},
     "output_type": "execute_result"
    }
   ],
   "source": [
    "Y_train.sum(), Y_test.sum()"
   ]
  },
  {
   "cell_type": "code",
   "execution_count": 30,
   "id": "f5143ba0",
   "metadata": {},
   "outputs": [
    {
     "data": {
      "text/plain": [
       "6723"
      ]
     },
     "execution_count": 30,
     "metadata": {},
     "output_type": "execute_result"
    }
   ],
   "source": [
    "dataset = tud.TensorDataset(X_train.cuda(), Y_train.cuda())\n",
    "len(dataset)"
   ]
  },
  {
   "cell_type": "code",
   "execution_count": 31,
   "id": "99441648",
   "metadata": {},
   "outputs": [
    {
     "data": {
      "text/plain": [
       "[torch.Size([8, 512, 768]), torch.Size([8, 512])]"
      ]
     },
     "execution_count": 31,
     "metadata": {},
     "output_type": "execute_result"
    }
   ],
   "source": [
    "loader = tud.DataLoader(\n",
    "    dataset,\n",
    "    batch_size = 8,\n",
    "    shuffle = True\n",
    ")\n",
    "[x.shape for x in next(iter(loader))]"
   ]
  },
  {
   "cell_type": "code",
   "execution_count": 33,
   "id": "9fd0734e",
   "metadata": {},
   "outputs": [
    {
     "name": "stdout",
     "output_type": "stream",
     "text": [
      "parameters: 11,033,857\n"
     ]
    },
    {
     "data": {
      "application/vnd.jupyter.widget-view+json": {
       "model_id": "71e013846ce34363b9f32b0d82434f06",
       "version_major": 2,
       "version_minor": 0
      },
      "text/plain": [
       "  0%|          | 0/2523 [00:00<?, ?it/s]"
      ]
     },
     "metadata": {},
     "output_type": "display_data"
    },
    {
     "name": "stdout",
     "output_type": "stream",
     "text": [
      "epoch 3, loss 0.084515\r"
     ]
    },
    {
     "data": {
      "image/png": "[encoded data removed]",
      "text/plain": [
       "<Figure size 640x480 with 1 Axes>"
      ]
     },
     "metadata": {},
     "output_type": "display_data"
    },
    {
     "data": {
      "application/vnd.jupyter.widget-view+json": {
       "model_id": "d16761db4501444d85c61ed089213f50",
       "version_major": 2,
       "version_minor": 0
      },
      "text/plain": [
       "  0%|          | 0/141 [00:00<?, ?it/s]"
      ]
     },
     "metadata": {},
     "output_type": "display_data"
    },
    {
     "name": "stdout",
     "output_type": "stream",
     "text": [
      "true predictions (656761,)\n",
      "true targets (656761,)\n"
     ]
    },
    {
     "data": {
      "image/png": "[encoded data removed]",
      "text/plain": [
       "<Figure size 640x480 with 1 Axes>"
      ]
     },
     "metadata": {},
     "output_type": "display_data"
    },
    {
     "data": {
      "image/png": "[encoded data removed]",
      "text/plain": [
       "<Figure size 1200x600 with 2 Axes>"
      ]
     },
     "metadata": {},
     "output_type": "display_data"
    }
   ],
   "source": [
    "class Transformer(nn.Module):\n",
    "    def __init__(self):\n",
    "        super().__init__()\n",
    "        self.positional_embeddings = nn.Embedding(\n",
    "            512, \n",
    "            768\n",
    "        )        \n",
    "        self.transformer_layer = nn.TransformerEncoderLayer(\n",
    "            d_model = 768,\n",
    "            dim_feedforward = 768,\n",
    "            nhead = 4\n",
    "        )\n",
    "        self.encoder = nn.TransformerEncoder(\n",
    "            encoder_layer = self.transformer_layer,\n",
    "            num_layers = 2\n",
    "        )\n",
    "        self.out_layer = nn.Linear(768, 1)\n",
    "        \n",
    "    def forward(self, x):\n",
    "        x_positional = torch.arange(\n",
    "            x.shape[1], \n",
    "            device = next(self.parameters()).device\n",
    "        )\\\n",
    "        .repeat((x.shape[0], 1))\n",
    "        x_positional = self.positional_embeddings(x_positional)\n",
    "#         print(\"X\", x.shape)\n",
    "#         print(\"X_positional\", x_positional.shape)\n",
    "        x = (x + x_positional).transpose(0, 1)\n",
    "#         print(\"x\", x.shape)\n",
    "        x = self.encoder.forward(src = x).transpose(0, 1)\n",
    "        \n",
    "#         x, (last_hidden, last_memory) = self.lstm(x)\n",
    "# #         print(x)\n",
    "        return self.out_layer(x).sigmoid()\n",
    "    \n",
    "#     def configure_optimizers(self):\n",
    "#         optimizer = torch.optim.Adam(self.parameters(), lr = 10**-4)\n",
    "#         return optimizer\n",
    "    \n",
    "#     def training_step(self, train_batch, batch_idx):\n",
    "#         x, y = train_batch\n",
    "#         x = self.forward(x)\n",
    "\n",
    "    \n",
    "clf = Transformer()\n",
    "clf.cuda()\n",
    "print(f\"parameters: {sum([x.numel() for x in clf.parameters()]):,}\")    \n",
    "\n",
    "clf.cuda()\n",
    "clf.train()\n",
    "\n",
    "epochs = 3\n",
    "lr = 10 ** -4\n",
    "\n",
    "# criterion = nn.CrossEntropyLoss()\n",
    "criterion = nn.BCELoss()\n",
    "optimizer = torch.optim.Adam(clf.parameters(), lr = lr)\n",
    "bar = tqdm(total = epochs * len(loader))\n",
    "plot = []\n",
    "for i in range(1, epochs + 1):\n",
    "    losses = []\n",
    "    for x, y in (iter(loader)):\n",
    "        preds = clf(x).squeeze()\n",
    "#         print(preds.shape)\n",
    "#         print(y.shape)\n",
    "        loss = criterion(preds, y.float())\n",
    "        \n",
    "        optimizer.zero_grad()\n",
    "        loss.backward()\n",
    "        optimizer.step()\n",
    "        \n",
    "        losses.append(loss.item())\n",
    "        plot.append(loss.item())\n",
    "        bar.update(1)\n",
    "    epoch_loss = sum(losses) / len(losses)\n",
    "#     plot.append(epoch_loss)\n",
    "    print(f\"epoch {i}, loss {epoch_loss:.6f}\", end = \"\\r\")\n",
    "\n",
    "plt.plot(np.arange(len(plot)) + 1, plot)\n",
    "plt.ylim(0, max(plot) + 0.1)\n",
    "plt.ylabel(\"Train Loss\")\n",
    "plt.xlabel(\"Epoch\")\n",
    "plt.show()\n",
    "\n",
    "# results\n",
    "\n",
    "test_dataset = tud.TensorDataset(X_test.cuda())\n",
    "test_loader = tud.DataLoader(test_dataset, batch_size = 16)\n",
    "predictions = []\n",
    "for (b,) in tqdm(test_loader):\n",
    "    p = clf(b).cpu().detach().numpy().squeeze()\n",
    "    predictions.append(p)\n",
    "predictions = np.concatenate(predictions)\n",
    "predictions.shape\n",
    "\n",
    "# predictions = clf(X_test.cuda()).cpu().detach().numpy().squeeze()\n",
    "# predictions.shape\n",
    "\n",
    "relevance_test.map(len).sum()\n",
    "\n",
    "true_predictions = np.concatenate(\n",
    "    [\n",
    "        p[:len(l)] \n",
    "        for p, l in zip(\n",
    "            predictions, \n",
    "            relevance_test\n",
    "        )\n",
    "    ]\n",
    ")\n",
    "\n",
    "print(\"true predictions\", true_predictions.shape)\n",
    "\n",
    "true_targets = np.concatenate(relevance_test.to_list())\n",
    "print(\"true targets\", true_targets.shape)\n",
    "\n",
    "plt.hist(true_predictions, range = (0, 1), bins = 50)\n",
    "plt.xlabel(\"Predicted Probability\")\n",
    "plt.ylabel(\"Frequency\")\n",
    "plt.show()\n",
    "\n",
    "fig, axes = plt.subplots(1, 2, figsize = (12, 6))\n",
    "\n",
    "display = PrecisionRecallDisplay.from_predictions(\n",
    "    true_targets, true_predictions, name = \"Transformer\",\n",
    "    ax = axes[0]\n",
    ")\n",
    "\n",
    "display = RocCurveDisplay.from_predictions(\n",
    "    true_targets, true_predictions, name = \"Transformer\",\n",
    "    ax = axes[1]\n",
    ")"
   ]
  },
  {
   "cell_type": "code",
   "execution_count": null,
   "id": "e92fa64b",
   "metadata": {},
   "outputs": [],
   "source": []
  }
 ],
 "metadata": {
  "kernelspec": {
   "display_name": "Python 3 (ipykernel)",
   "language": "python",
   "name": "python3"
  },
  "language_info": {
   "codemirror_mode": {
    "name": "ipython",
    "version": 3
   },
   "file_extension": ".py",
   "mimetype": "text/x-python",
   "name": "python",
   "nbconvert_exporter": "python",
   "pygments_lexer": "ipython3",
   "version": "3.8.10"
  }
 },
 "nbformat": 4,
 "nbformat_minor": 5
}
