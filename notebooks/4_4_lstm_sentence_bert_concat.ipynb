{
 "cells": [
  {
   "cell_type": "code",
   "execution_count": 1,
   "id": "8ae054c6",
   "metadata": {},
   "outputs": [
    {
     "name": "stderr",
     "output_type": "stream",
     "text": [
      "/home/jarobyte/envs/malnis/lib/python3.8/site-packages/huggingface_hub/snapshot_download.py:6: FutureWarning: snapshot_download.py has been made private and will no longer be available from version 0.11. Please use `from huggingface_hub import snapshot_download` to import the only public function in this module. Other members of the file may be changed without a deprecation notice.\n",
      "  warnings.warn(\n"
     ]
    }
   ],
   "source": [
    "import pandas as pd\n",
    "import matplotlib.pyplot as plt\n",
    "from sklearn.feature_extraction.text import TfidfVectorizer\n",
    "from malnis import show\n",
    "from nltk.tokenize import word_tokenize\n",
    "from tqdm.auto import tqdm\n",
    "import scipy.sparse as sp\n",
    "from sklearn.linear_model import LogisticRegression \n",
    "from sklearn.ensemble import RandomForestClassifier\n",
    "from sklearn.svm import SVC\n",
    "from sklearn.decomposition import PCA, SparsePCA\n",
    "from sklearn.neural_network import MLPClassifier\n",
    "from sklearn.metrics import accuracy_score, f1_score, auc, roc_auc_score, average_precision_score, PrecisionRecallDisplay\n",
    "import numpy as np\n",
    "from sentence_transformers import SentenceTransformer\n",
    "from sklearn.model_selection import train_test_split\n",
    "import torch\n",
    "from torch import nn\n",
    "from skorch import NeuralNetClassifier"
   ]
  },
  {
   "cell_type": "code",
   "execution_count": 2,
   "id": "57351439",
   "metadata": {},
   "outputs": [
    {
     "data": {
      "text/plain": [
       "'/home/jarobyte/malnis_dataset/notebooks'"
      ]
     },
     "execution_count": 2,
     "metadata": {},
     "output_type": "execute_result"
    }
   ],
   "source": [
    "pwd"
   ]
  },
  {
   "cell_type": "code",
   "execution_count": 3,
   "id": "b8d48d64",
   "metadata": {},
   "outputs": [
    {
     "name": "stdout",
     "output_type": "stream",
     "text": [
      "(275, 9)\n"
     ]
    },
    {
     "data": {
      "text/html": [
       "<div>\n",
       "<style scoped>\n",
       "    .dataframe tbody tr th:only-of-type {\n",
       "        vertical-align: middle;\n",
       "    }\n",
       "\n",
       "    .dataframe tbody tr th {\n",
       "        vertical-align: top;\n",
       "    }\n",
       "\n",
       "    .dataframe thead th {\n",
       "        text-align: right;\n",
       "    }\n",
       "</style>\n",
       "<table border=\"1\" class=\"dataframe\">\n",
       "  <thead>\n",
       "    <tr style=\"text-align: right;\">\n",
       "      <th></th>\n",
       "      <th>query</th>\n",
       "      <th>document</th>\n",
       "      <th>summary</th>\n",
       "      <th>r1</th>\n",
       "      <th>r2</th>\n",
       "      <th>rl</th>\n",
       "      <th>sentences</th>\n",
       "      <th>relevance</th>\n",
       "      <th>n_sentences</th>\n",
       "    </tr>\n",
       "  </thead>\n",
       "  <tbody>\n",
       "    <tr>\n",
       "      <th>0</th>\n",
       "      <td>For many types of machine learning algorithms,...</td>\n",
       "      <td>field in computer science, and health informat...</td>\n",
       "      <td>[While the techniques for neural networks are ...</td>\n",
       "      <td>0.594595</td>\n",
       "      <td>0.485714</td>\n",
       "      <td>0.594595</td>\n",
       "      <td>[field in computer science, and health informa...</td>\n",
       "      <td>[False, False, False, False, False, False, Fal...</td>\n",
       "      <td>256</td>\n",
       "    </tr>\n",
       "    <tr>\n",
       "      <th>1</th>\n",
       "      <td>We consider the problem of learning good traje...</td>\n",
       "      <td>field in computer science, and health informat...</td>\n",
       "      <td>[[71] considered the problem of learning good ...</td>\n",
       "      <td>0.646766</td>\n",
       "      <td>0.478571</td>\n",
       "      <td>0.636816</td>\n",
       "      <td>[field in computer science, and health informa...</td>\n",
       "      <td>[False, False, False, False, False, False, Fal...</td>\n",
       "      <td>256</td>\n",
       "    </tr>\n",
       "    <tr>\n",
       "      <th>2</th>\n",
       "      <td>HDBSCAN*, a state-of-the-art density-based hie...</td>\n",
       "      <td>PVLDB Reference Format: Antonio Cavalcante Ara...</td>\n",
       "      <td>[In [6], the authors proposed RNG-HDBSCAN*, a ...</td>\n",
       "      <td>0.539062</td>\n",
       "      <td>0.350365</td>\n",
       "      <td>0.507812</td>\n",
       "      <td>[PVLDB Reference Format: Antonio Cavalcante Ar...</td>\n",
       "      <td>[False, False, False, False, False, False, Fal...</td>\n",
       "      <td>124</td>\n",
       "    </tr>\n",
       "    <tr>\n",
       "      <th>3</th>\n",
       "      <td>This work investigates continual learning of t...</td>\n",
       "      <td>Fully automatic deep learning has become the s...</td>\n",
       "      <td>[Baweja et al. (2018) investigate continual le...</td>\n",
       "      <td>0.480769</td>\n",
       "      <td>0.317690</td>\n",
       "      <td>0.442308</td>\n",
       "      <td>[Fully automatic deep learning has become the ...</td>\n",
       "      <td>[False, False, False, False, False, False, Fal...</td>\n",
       "      <td>449</td>\n",
       "    </tr>\n",
       "    <tr>\n",
       "      <th>4</th>\n",
       "      <td>Query relevance ranking and sentence saliency ...</td>\n",
       "      <td>Keywords: Query-focused summarization · Extrac...</td>\n",
       "      <td>[There exist approaches utilizing attention me...</td>\n",
       "      <td>0.500000</td>\n",
       "      <td>0.293333</td>\n",
       "      <td>0.490566</td>\n",
       "      <td>[Keywords: Query-focused summarization · Extra...</td>\n",
       "      <td>[False, False, True, False, False, False, Fals...</td>\n",
       "      <td>266</td>\n",
       "    </tr>\n",
       "    <tr>\n",
       "      <th>5</th>\n",
       "      <td>The key idea behind active learning is that a ...</td>\n",
       "      <td>I. INTRODUCTION Deep Neural Networks (DNNs) tr...</td>\n",
       "      <td>[The key idea behind active learning is that a...</td>\n",
       "      <td>0.368664</td>\n",
       "      <td>0.282828</td>\n",
       "      <td>0.368664</td>\n",
       "      <td>[I., INTRODUCTION Deep Neural Networks (DNNs) ...</td>\n",
       "      <td>[False, False, False, False, False, False, Fal...</td>\n",
       "      <td>238</td>\n",
       "    </tr>\n",
       "    <tr>\n",
       "      <th>6</th>\n",
       "      <td>When AI systems interact with humans in the lo...</td>\n",
       "      <td>22 22 23 23 24 24 25 25 26 26 27 27 28 28 29 2...</td>\n",
       "      <td>[• Approaches: Past work on explanations prima...</td>\n",
       "      <td>0.330827</td>\n",
       "      <td>0.278075</td>\n",
       "      <td>0.330827</td>\n",
       "      <td>[22 22 23 23 24 24 25 25 26 26 27 27 28 28 29 ...</td>\n",
       "      <td>[False, False, False, False, False, False, Fal...</td>\n",
       "      <td>166</td>\n",
       "    </tr>\n",
       "    <tr>\n",
       "      <th>7</th>\n",
       "      <td>Pre-training techniques have been verified suc...</td>\n",
       "      <td>Visually-rich Document Understanding (VrDU) ai...</td>\n",
       "      <td>[To this end, the second direction relies on t...</td>\n",
       "      <td>0.459259</td>\n",
       "      <td>0.265000</td>\n",
       "      <td>0.437037</td>\n",
       "      <td>[Visually-rich Document Understanding (VrDU) a...</td>\n",
       "      <td>[False, False, True, False, False, False, Fals...</td>\n",
       "      <td>252</td>\n",
       "    </tr>\n",
       "    <tr>\n",
       "      <th>8</th>\n",
       "      <td>We rigorously evaluate three state-of-the-art ...</td>\n",
       "      <td>The Transformer (Vaswani et al., 2017) has bec...</td>\n",
       "      <td>[This agrees with the observations made in wor...</td>\n",
       "      <td>0.406593</td>\n",
       "      <td>0.264957</td>\n",
       "      <td>0.395604</td>\n",
       "      <td>[The Transformer (Vaswani et al., 2017) has be...</td>\n",
       "      <td>[False, False, False, False, False, False, Fal...</td>\n",
       "      <td>233</td>\n",
       "    </tr>\n",
       "    <tr>\n",
       "      <th>9</th>\n",
       "      <td>We introduce a novel type of text representati...</td>\n",
       "      <td>We experiment on real world invoice and resume...</td>\n",
       "      <td>[Chargrid [14] models the problem by encoding ...</td>\n",
       "      <td>0.423358</td>\n",
       "      <td>0.258427</td>\n",
       "      <td>0.423358</td>\n",
       "      <td>[We experiment on real world invoice and resum...</td>\n",
       "      <td>[False, False, False, False, False, False, Fal...</td>\n",
       "      <td>301</td>\n",
       "    </tr>\n",
       "    <tr>\n",
       "      <th>10</th>\n",
       "      <td>We present RACE, a new dataset for benchmark e...</td>\n",
       "      <td>Unsupervised representation learning has been ...</td>\n",
       "      <td>[The RACE dataset [17] contains near 100K ques...</td>\n",
       "      <td>0.490323</td>\n",
       "      <td>0.251208</td>\n",
       "      <td>0.464516</td>\n",
       "      <td>[Unsupervised representation learning has been...</td>\n",
       "      <td>[False, False, False, False, False, False, Fal...</td>\n",
       "      <td>263</td>\n",
       "    </tr>\n",
       "    <tr>\n",
       "      <th>11</th>\n",
       "      <td>We introduce a new language representation mod...</td>\n",
       "      <td>Proceedings of the 57th Annual Meeting of the ...</td>\n",
       "      <td>[Firstly, to better capture sentential meaning...</td>\n",
       "      <td>0.420635</td>\n",
       "      <td>0.244648</td>\n",
       "      <td>0.412698</td>\n",
       "      <td>[Proceedings of the 57th Annual Meeting of the...</td>\n",
       "      <td>[False, False, False, False, False, False, Fal...</td>\n",
       "      <td>186</td>\n",
       "    </tr>\n",
       "    <tr>\n",
       "      <th>12</th>\n",
       "      <td>Recurrent neural networks, and in particular l...</td>\n",
       "      <td>Index Terms—Deep learning, visual analytics, i...</td>\n",
       "      <td>[In response to this, many visual analytics sy...</td>\n",
       "      <td>0.425000</td>\n",
       "      <td>0.238372</td>\n",
       "      <td>0.383333</td>\n",
       "      <td>[Index Terms—Deep learning, visual analytics, ...</td>\n",
       "      <td>[False, False, False, False, False, False, Fal...</td>\n",
       "      <td>497</td>\n",
       "    </tr>\n",
       "    <tr>\n",
       "      <th>13</th>\n",
       "      <td>Several large cloze-style context-question-ans...</td>\n",
       "      <td>Building intelligent agents with machine readi...</td>\n",
       "      <td>[• Attention Sum Reader (AS Reader): AS Reader...</td>\n",
       "      <td>0.342105</td>\n",
       "      <td>0.234146</td>\n",
       "      <td>0.342105</td>\n",
       "      <td>[Building intelligent agents with machine read...</td>\n",
       "      <td>[False, False, False, False, False, False, Tru...</td>\n",
       "      <td>185</td>\n",
       "    </tr>\n",
       "    <tr>\n",
       "      <th>14</th>\n",
       "      <td>Several large cloze-style context-question-ans...</td>\n",
       "      <td>Building intelligent agents with machine readi...</td>\n",
       "      <td>[• Attention Sum Reader (AS Reader): AS Reader...</td>\n",
       "      <td>0.342105</td>\n",
       "      <td>0.234146</td>\n",
       "      <td>0.342105</td>\n",
       "      <td>[Building intelligent agents with machine read...</td>\n",
       "      <td>[False, False, False, False, False, False, Tru...</td>\n",
       "      <td>185</td>\n",
       "    </tr>\n",
       "    <tr>\n",
       "      <th>15</th>\n",
       "      <td>The key idea behind active learning is that a ...</td>\n",
       "      <td>CCS Concepts • Computing methodologies➝Maching...</td>\n",
       "      <td>[It’s well known that the key idea lying behin...</td>\n",
       "      <td>0.434343</td>\n",
       "      <td>0.231047</td>\n",
       "      <td>0.404040</td>\n",
       "      <td>[CCS Concepts • Computing methodologies➝Machin...</td>\n",
       "      <td>[False, False, False, False, True, False, Fals...</td>\n",
       "      <td>165</td>\n",
       "    </tr>\n",
       "    <tr>\n",
       "      <th>16</th>\n",
       "      <td>The key idea behind active learning is that a ...</td>\n",
       "      <td>We propose a mixed-initiative active learning ...</td>\n",
       "      <td>[Settles [32] writes that “Active learning sys...</td>\n",
       "      <td>0.382022</td>\n",
       "      <td>0.224900</td>\n",
       "      <td>0.382022</td>\n",
       "      <td>[We propose a mixed-initiative active learning...</td>\n",
       "      <td>[False, False, False, False, False, False, Fal...</td>\n",
       "      <td>237</td>\n",
       "    </tr>\n",
       "    <tr>\n",
       "      <th>17</th>\n",
       "      <td>There has been a recent resurgence in the area...</td>\n",
       "      <td>Index Terms—Deep learning, visual analytics, i...</td>\n",
       "      <td>[referring to machine learning models [60], [6...</td>\n",
       "      <td>0.431818</td>\n",
       "      <td>0.220472</td>\n",
       "      <td>0.424242</td>\n",
       "      <td>[Index Terms—Deep learning, visual analytics, ...</td>\n",
       "      <td>[False, False, False, False, False, False, Fal...</td>\n",
       "      <td>497</td>\n",
       "    </tr>\n",
       "    <tr>\n",
       "      <th>18</th>\n",
       "      <td>Recently, pre-trained models have achieved sta...</td>\n",
       "      <td>Text classification (Korde and Mahender, 2012;...</td>\n",
       "      <td>[0 (Sun et al., 2019) proposed a continual pre...</td>\n",
       "      <td>0.413793</td>\n",
       "      <td>0.218045</td>\n",
       "      <td>0.394089</td>\n",
       "      <td>[Text classification (Korde and Mahender, 2012...</td>\n",
       "      <td>[False, False, False, False, False, False, Fal...</td>\n",
       "      <td>302</td>\n",
       "    </tr>\n",
       "    <tr>\n",
       "      <th>19</th>\n",
       "      <td>ROUGE stands for Recall-Oriented Understudy fo...</td>\n",
       "      <td>ar X iv :1 70 7. 02 26 8v 3 [ cs .C L In recen...</td>\n",
       "      <td>[Lin [36] introduced a set ofmetrics called Re...</td>\n",
       "      <td>0.319527</td>\n",
       "      <td>0.217195</td>\n",
       "      <td>0.319527</td>\n",
       "      <td>[ar X iv :1 70 7., 02 26 8v 3 [ cs .C L In rec...</td>\n",
       "      <td>[False, False, False, False, False, False, Fal...</td>\n",
       "      <td>283</td>\n",
       "    </tr>\n",
       "  </tbody>\n",
       "</table>\n",
       "</div>"
      ],
      "text/plain": [
       "                                                query  \\\n",
       "0   For many types of machine learning algorithms,...   \n",
       "1   We consider the problem of learning good traje...   \n",
       "2   HDBSCAN*, a state-of-the-art density-based hie...   \n",
       "3   This work investigates continual learning of t...   \n",
       "4   Query relevance ranking and sentence saliency ...   \n",
       "5   The key idea behind active learning is that a ...   \n",
       "6   When AI systems interact with humans in the lo...   \n",
       "7   Pre-training techniques have been verified suc...   \n",
       "8   We rigorously evaluate three state-of-the-art ...   \n",
       "9   We introduce a novel type of text representati...   \n",
       "10  We present RACE, a new dataset for benchmark e...   \n",
       "11  We introduce a new language representation mod...   \n",
       "12  Recurrent neural networks, and in particular l...   \n",
       "13  Several large cloze-style context-question-ans...   \n",
       "14  Several large cloze-style context-question-ans...   \n",
       "15  The key idea behind active learning is that a ...   \n",
       "16  The key idea behind active learning is that a ...   \n",
       "17  There has been a recent resurgence in the area...   \n",
       "18  Recently, pre-trained models have achieved sta...   \n",
       "19  ROUGE stands for Recall-Oriented Understudy fo...   \n",
       "\n",
       "                                             document  \\\n",
       "0   field in computer science, and health informat...   \n",
       "1   field in computer science, and health informat...   \n",
       "2   PVLDB Reference Format: Antonio Cavalcante Ara...   \n",
       "3   Fully automatic deep learning has become the s...   \n",
       "4   Keywords: Query-focused summarization · Extrac...   \n",
       "5   I. INTRODUCTION Deep Neural Networks (DNNs) tr...   \n",
       "6   22 22 23 23 24 24 25 25 26 26 27 27 28 28 29 2...   \n",
       "7   Visually-rich Document Understanding (VrDU) ai...   \n",
       "8   The Transformer (Vaswani et al., 2017) has bec...   \n",
       "9   We experiment on real world invoice and resume...   \n",
       "10  Unsupervised representation learning has been ...   \n",
       "11  Proceedings of the 57th Annual Meeting of the ...   \n",
       "12  Index Terms—Deep learning, visual analytics, i...   \n",
       "13  Building intelligent agents with machine readi...   \n",
       "14  Building intelligent agents with machine readi...   \n",
       "15  CCS Concepts • Computing methodologies➝Maching...   \n",
       "16  We propose a mixed-initiative active learning ...   \n",
       "17  Index Terms—Deep learning, visual analytics, i...   \n",
       "18  Text classification (Korde and Mahender, 2012;...   \n",
       "19  ar X iv :1 70 7. 02 26 8v 3 [ cs .C L In recen...   \n",
       "\n",
       "                                              summary        r1        r2  \\\n",
       "0   [While the techniques for neural networks are ...  0.594595  0.485714   \n",
       "1   [[71] considered the problem of learning good ...  0.646766  0.478571   \n",
       "2   [In [6], the authors proposed RNG-HDBSCAN*, a ...  0.539062  0.350365   \n",
       "3   [Baweja et al. (2018) investigate continual le...  0.480769  0.317690   \n",
       "4   [There exist approaches utilizing attention me...  0.500000  0.293333   \n",
       "5   [The key idea behind active learning is that a...  0.368664  0.282828   \n",
       "6   [• Approaches: Past work on explanations prima...  0.330827  0.278075   \n",
       "7   [To this end, the second direction relies on t...  0.459259  0.265000   \n",
       "8   [This agrees with the observations made in wor...  0.406593  0.264957   \n",
       "9   [Chargrid [14] models the problem by encoding ...  0.423358  0.258427   \n",
       "10  [The RACE dataset [17] contains near 100K ques...  0.490323  0.251208   \n",
       "11  [Firstly, to better capture sentential meaning...  0.420635  0.244648   \n",
       "12  [In response to this, many visual analytics sy...  0.425000  0.238372   \n",
       "13  [• Attention Sum Reader (AS Reader): AS Reader...  0.342105  0.234146   \n",
       "14  [• Attention Sum Reader (AS Reader): AS Reader...  0.342105  0.234146   \n",
       "15  [It’s well known that the key idea lying behin...  0.434343  0.231047   \n",
       "16  [Settles [32] writes that “Active learning sys...  0.382022  0.224900   \n",
       "17  [referring to machine learning models [60], [6...  0.431818  0.220472   \n",
       "18  [0 (Sun et al., 2019) proposed a continual pre...  0.413793  0.218045   \n",
       "19  [Lin [36] introduced a set ofmetrics called Re...  0.319527  0.217195   \n",
       "\n",
       "          rl                                          sentences  \\\n",
       "0   0.594595  [field in computer science, and health informa...   \n",
       "1   0.636816  [field in computer science, and health informa...   \n",
       "2   0.507812  [PVLDB Reference Format: Antonio Cavalcante Ar...   \n",
       "3   0.442308  [Fully automatic deep learning has become the ...   \n",
       "4   0.490566  [Keywords: Query-focused summarization · Extra...   \n",
       "5   0.368664  [I., INTRODUCTION Deep Neural Networks (DNNs) ...   \n",
       "6   0.330827  [22 22 23 23 24 24 25 25 26 26 27 27 28 28 29 ...   \n",
       "7   0.437037  [Visually-rich Document Understanding (VrDU) a...   \n",
       "8   0.395604  [The Transformer (Vaswani et al., 2017) has be...   \n",
       "9   0.423358  [We experiment on real world invoice and resum...   \n",
       "10  0.464516  [Unsupervised representation learning has been...   \n",
       "11  0.412698  [Proceedings of the 57th Annual Meeting of the...   \n",
       "12  0.383333  [Index Terms—Deep learning, visual analytics, ...   \n",
       "13  0.342105  [Building intelligent agents with machine read...   \n",
       "14  0.342105  [Building intelligent agents with machine read...   \n",
       "15  0.404040  [CCS Concepts • Computing methodologies➝Machin...   \n",
       "16  0.382022  [We propose a mixed-initiative active learning...   \n",
       "17  0.424242  [Index Terms—Deep learning, visual analytics, ...   \n",
       "18  0.394089  [Text classification (Korde and Mahender, 2012...   \n",
       "19  0.319527  [ar X iv :1 70 7., 02 26 8v 3 [ cs .C L In rec...   \n",
       "\n",
       "                                            relevance  n_sentences  \n",
       "0   [False, False, False, False, False, False, Fal...          256  \n",
       "1   [False, False, False, False, False, False, Fal...          256  \n",
       "2   [False, False, False, False, False, False, Fal...          124  \n",
       "3   [False, False, False, False, False, False, Fal...          449  \n",
       "4   [False, False, True, False, False, False, Fals...          266  \n",
       "5   [False, False, False, False, False, False, Fal...          238  \n",
       "6   [False, False, False, False, False, False, Fal...          166  \n",
       "7   [False, False, True, False, False, False, Fals...          252  \n",
       "8   [False, False, False, False, False, False, Fal...          233  \n",
       "9   [False, False, False, False, False, False, Fal...          301  \n",
       "10  [False, False, False, False, False, False, Fal...          263  \n",
       "11  [False, False, False, False, False, False, Fal...          186  \n",
       "12  [False, False, False, False, False, False, Fal...          497  \n",
       "13  [False, False, False, False, False, False, Tru...          185  \n",
       "14  [False, False, False, False, False, False, Tru...          185  \n",
       "15  [False, False, False, False, True, False, Fals...          165  \n",
       "16  [False, False, False, False, False, False, Fal...          237  \n",
       "17  [False, False, False, False, False, False, Fal...          497  \n",
       "18  [False, False, False, False, False, False, Fal...          302  \n",
       "19  [False, False, False, False, False, False, Fal...          283  "
      ]
     },
     "execution_count": 3,
     "metadata": {},
     "output_type": "execute_result"
    }
   ],
   "source": [
    "# The number of sentences in each paper goes from 59 to 4,447. I truncate to 512.\n",
    "\n",
    "data = pd.read_pickle(\"../data/labels.pkl\")\\\n",
    ".assign(n_sentences = lambda df: df.sentences.map(len))\\\n",
    ".query(\"n_sentences <= 512\")\\\n",
    ".reset_index(drop = True)\n",
    "\n",
    "show(data, 20)"
   ]
  },
  {
   "cell_type": "code",
   "execution_count": 4,
   "id": "c0a3d01d",
   "metadata": {},
   "outputs": [
    {
     "data": {
      "text/plain": [
       "<AxesSubplot:ylabel='Frequency'>"
      ]
     },
     "execution_count": 4,
     "metadata": {},
     "output_type": "execute_result"
    },
    {
     "data": {
      "image/png": "[encoded data removed]",
      "text/plain": [
       "<Figure size 640x480 with 1 Axes>"
      ]
     },
     "metadata": {},
     "output_type": "display_data"
    }
   ],
   "source": [
    "data.r2.plot.hist(log = True)"
   ]
  },
  {
   "cell_type": "code",
   "execution_count": 5,
   "id": "a8e3bb5a",
   "metadata": {},
   "outputs": [
    {
     "data": {
      "text/plain": [
       "'We introduce the author-topic model, a generative model for documents that extends Latent Dirichlet Allocation (LDA; Blei, Ng, & Jordan, 2003) to include authorship information. Each author is associated with a multinomial distribution over topics and each topic is associated with a multinomial distribution over words. A document with multiple authors is modeled as a distribution over topics that is a mixture of the distributions associated with the authors. We apply the model to a collection of 1,700 NIPS conference papers and 160,000 CiteSeer abstracts. Exact inference is intractable for these datasets and we use Gibbs sampling to estimate the topic and author distributions. We compare the performance with two other generative models for documents, which are special cases of the author-topic model: LDA (a topic model) and a simple author model in which each author is associated with a distribution over words rather than a distribution over topics. We show topics recovered by the author-topic model, and demonstrate applications to computing similarity between authors and entropy of author output.'"
      ]
     },
     "execution_count": 5,
     "metadata": {},
     "output_type": "execute_result"
    }
   ],
   "source": [
    "data[\"query\"][36]"
   ]
  },
  {
   "cell_type": "code",
   "execution_count": 6,
   "id": "e05fa16b",
   "metadata": {},
   "outputs": [
    {
     "data": {
      "text/plain": [
       "['The dynamic mixture model (DMM) [36] considers a single dynamic sequence of documents, which corresponds to a single topic over time.',\n",
       " 'We sample the topic assignment z for each word-pair instead of each independent word.',\n",
       " 'UCT captures a user’s interests at time t as θt,u, that is, as a distribution over mixtures of topics.',\n",
       " '(6) Inference is intractable in this model.',\n",
       " 'This is a traditional clustering algorithm [16].',\n",
       " 'Latent Dirichlet Allocation (LDA).',\n",
       " 'We evaluate the performance with the above metrics at each time period, and report the mean of the evaluation results.',\n",
       " 'The author-topic model for authors and documents.',\n",
       " 'Dynamic mixture models for multiple time-series.']"
      ]
     },
     "execution_count": 6,
     "metadata": {},
     "output_type": "execute_result"
    }
   ],
   "source": [
    "[s for s, l in zip(data.sentences[36], data.relevance[36]) if l == True]"
   ]
  },
  {
   "cell_type": "code",
   "execution_count": 7,
   "id": "9d082009",
   "metadata": {},
   "outputs": [
    {
     "data": {
      "text/plain": [
       "9"
      ]
     },
     "execution_count": 7,
     "metadata": {},
     "output_type": "execute_result"
    }
   ],
   "source": [
    "sum(data.relevance[36])"
   ]
  },
  {
   "cell_type": "code",
   "execution_count": 8,
   "id": "f45f2977",
   "metadata": {},
   "outputs": [
    {
     "data": {
      "text/plain": [
       "456"
      ]
     },
     "execution_count": 8,
     "metadata": {},
     "output_type": "execute_result"
    }
   ],
   "source": [
    "len(data.relevance[36])"
   ]
  },
  {
   "cell_type": "code",
   "execution_count": 9,
   "id": "d57f0b66",
   "metadata": {},
   "outputs": [
    {
     "data": {
      "text/plain": [
       "SentenceTransformer(\n",
       "  (0): Transformer({'max_seq_length': 256, 'do_lower_case': False}) with Transformer model: BertModel \n",
       "  (1): Pooling({'word_embedding_dimension': 384, 'pooling_mode_cls_token': False, 'pooling_mode_mean_tokens': True, 'pooling_mode_max_tokens': False, 'pooling_mode_mean_sqrt_len_tokens': False})\n",
       "  (2): Normalize()\n",
       ")"
      ]
     },
     "execution_count": 9,
     "metadata": {},
     "output_type": "execute_result"
    }
   ],
   "source": [
    "model = SentenceTransformer(\n",
    "    \"sbert\"\n",
    "#     'all-MiniLM-L6-v2', \n",
    "#     cache_folder = \"../assets\"\n",
    "#     \"../cache/huggingface/transformers/\"\n",
    "#     cache_folder = \"../cache/huggingface/transformers\"\n",
    ")\n",
    "model"
   ]
  },
  {
   "cell_type": "code",
   "execution_count": 10,
   "id": "3ff1df69",
   "metadata": {},
   "outputs": [
    {
     "data": {
      "text/plain": [
       "(275, 384)"
      ]
     },
     "execution_count": 10,
     "metadata": {},
     "output_type": "execute_result"
    }
   ],
   "source": [
    "query_embeddings = model.encode(data[\"query\"])\n",
    "query_embeddings.shape"
   ]
  },
  {
   "cell_type": "code",
   "execution_count": 11,
   "id": "6a69cbde",
   "metadata": {},
   "outputs": [
    {
     "data": {
      "application/vnd.jupyter.widget-view+json": {
       "model_id": "4a23e467d4c54ad0b0b3f58ec7cac4f1",
       "version_major": 2,
       "version_minor": 0
      },
      "text/plain": [
       "  0%|          | 0/275 [00:00<?, ?it/s]"
      ]
     },
     "metadata": {},
     "output_type": "display_data"
    },
    {
     "data": {
      "text/plain": [
       "True"
      ]
     },
     "execution_count": 11,
     "metadata": {},
     "output_type": "execute_result"
    }
   ],
   "source": [
    "dims = query_embeddings.shape[1]\n",
    "sentence_embeddings = [\n",
    "    model.encode(l)#.toarray() \n",
    "    for l in tqdm(data.sentences)\n",
    "]\n",
    "all([l.shape[1] == dims for l in sentence_embeddings])"
   ]
  },
  {
   "cell_type": "code",
   "execution_count": 12,
   "id": "07ff9f48",
   "metadata": {},
   "outputs": [
    {
     "data": {
      "text/plain": [
       "True"
      ]
     },
     "execution_count": 12,
     "metadata": {},
     "output_type": "execute_result"
    }
   ],
   "source": [
    "query_embeddings.shape[0] == len(sentence_embeddings)"
   ]
  },
  {
   "cell_type": "code",
   "execution_count": 13,
   "id": "ed72a578",
   "metadata": {},
   "outputs": [
    {
     "data": {
      "application/vnd.jupyter.widget-view+json": {
       "model_id": "220a16668a114efea1c6d5b82dde02d7",
       "version_major": 2,
       "version_minor": 0
      },
      "text/plain": [
       "  0%|          | 0/275 [00:00<?, ?it/s]"
      ]
     },
     "metadata": {},
     "output_type": "display_data"
    },
    {
     "data": {
      "text/plain": [
       "73124"
      ]
     },
     "execution_count": 13,
     "metadata": {},
     "output_type": "execute_result"
    }
   ],
   "source": [
    "sum([len(l) for l in tqdm(data.sentences)])"
   ]
  },
  {
   "cell_type": "code",
   "execution_count": 14,
   "id": "eacf1fd6",
   "metadata": {},
   "outputs": [],
   "source": [
    "# train = [\n",
    "# #     ((sp.csr_matrix(np.ones([l.shape[0],1])) * q) - l).power(2)\n",
    "# #     (q - l)**2\n",
    "#     np.concatenate([np.tile(q, (l.shape[0], 1)), l], axis = 1)\n",
    "#     for q, l in zip(tqdm(query_embeddings), sentence_embeddings)\n",
    "# ]\n",
    "# len(train)"
   ]
  },
  {
   "cell_type": "code",
   "execution_count": 15,
   "id": "7fab9e80",
   "metadata": {},
   "outputs": [],
   "source": [
    "# [x.shape for x in train[:5]]"
   ]
  },
  {
   "cell_type": "code",
   "execution_count": 16,
   "id": "2a39b916",
   "metadata": {},
   "outputs": [],
   "source": [
    "# pd.Series([x.shape[0] for x in train]).describe(percentiles = np.linspace(0, 1, 11))"
   ]
  },
  {
   "cell_type": "code",
   "execution_count": 17,
   "id": "cad51f34",
   "metadata": {},
   "outputs": [
    {
     "data": {
      "image/png": "[encoded data removed]",
      "text/plain": [
       "<Figure size 640x480 with 1 Axes>"
      ]
     },
     "metadata": {},
     "output_type": "display_data"
    }
   ],
   "source": [
    "data.sentences.map(len).plot.hist()\n",
    "plt.show()"
   ]
  },
  {
   "cell_type": "code",
   "execution_count": 18,
   "id": "45811370",
   "metadata": {},
   "outputs": [],
   "source": [
    "# X = [torch.tensor(x) for x in train]\n",
    "# all([x.shape[0] <= 512 for x in X])"
   ]
  },
  {
   "cell_type": "code",
   "execution_count": 19,
   "id": "6342443e",
   "metadata": {},
   "outputs": [],
   "source": [
    "# X = torch.nn.utils.rnn.pad_sequence(X, batch_first = False)\n",
    "# X.shape"
   ]
  },
  {
   "cell_type": "code",
   "execution_count": 20,
   "id": "f122e4cd",
   "metadata": {},
   "outputs": [],
   "source": [
    "# X = np.concatenate(train)#.toarray().T#.squeeze()\n",
    "# X.shape"
   ]
  },
  {
   "cell_type": "code",
   "execution_count": 21,
   "id": "4d616105",
   "metadata": {},
   "outputs": [],
   "source": [
    "# torch.save(X, \"X__lstm_sbert_concat.npy\")"
   ]
  },
  {
   "cell_type": "code",
   "execution_count": 22,
   "id": "65ed2afd",
   "metadata": {},
   "outputs": [
    {
     "data": {
      "text/plain": [
       "torch.Size([275, 504, 768])"
      ]
     },
     "execution_count": 22,
     "metadata": {},
     "output_type": "execute_result"
    }
   ],
   "source": [
    "X = torch.load(\"X__lstm_sbert_concat.npy\")\n",
    "X.shape"
   ]
  },
  {
   "cell_type": "code",
   "execution_count": 23,
   "id": "c0ee380f",
   "metadata": {},
   "outputs": [
    {
     "data": {
      "application/vnd.jupyter.widget-view+json": {
       "model_id": "75119cd5f5a34409982a610a6f3e65c6",
       "version_major": 2,
       "version_minor": 0
      },
      "text/plain": [
       "  0%|          | 0/275 [00:00<?, ?it/s]"
      ]
     },
     "metadata": {},
     "output_type": "display_data"
    },
    {
     "data": {
      "text/plain": [
       "torch.Size([73124])"
      ]
     },
     "execution_count": 23,
     "metadata": {},
     "output_type": "execute_result"
    }
   ],
   "source": [
    "Y = torch.tensor([y for l in tqdm(data.relevance) for y in l])\n",
    "Y.shape"
   ]
  },
  {
   "cell_type": "code",
   "execution_count": 24,
   "id": "a0a3748d",
   "metadata": {},
   "outputs": [
    {
     "data": {
      "text/plain": [
       "torch.Size([275, 504])"
      ]
     },
     "execution_count": 24,
     "metadata": {},
     "output_type": "execute_result"
    }
   ],
   "source": [
    "Y = torch.nn.utils.rnn.pad_sequence([torch.tensor(x) for x in data.relevance], batch_first = True)\n",
    "Y.shape"
   ]
  },
  {
   "cell_type": "code",
   "execution_count": 25,
   "id": "568c0951",
   "metadata": {},
   "outputs": [
    {
     "data": {
      "text/plain": [
       "tensor(2470)"
      ]
     },
     "execution_count": 25,
     "metadata": {},
     "output_type": "execute_result"
    }
   ],
   "source": [
    "Y.sum()"
   ]
  },
  {
   "cell_type": "code",
   "execution_count": 26,
   "id": "f80e15b4",
   "metadata": {},
   "outputs": [],
   "source": [
    "# %%time\n",
    "# model = LogisticRegression(\n",
    "#     C = 10**-2\n",
    "# )\n",
    "# model.fit(X, Y)\n",
    "\n",
    "# predictions = model.predict_proba(X)\n",
    "\n",
    "# # predictions.sum()\n",
    "# predictions.shape"
   ]
  },
  {
   "cell_type": "code",
   "execution_count": 27,
   "id": "9b31159b",
   "metadata": {},
   "outputs": [],
   "source": [
    "# %%time\n",
    "# model = LogisticRegression(\n",
    "#     C = 10**-2\n",
    "# )\n",
    "# model.fit(X, Y)\n",
    "\n",
    "# predictions = model.predict_proba(X)\n",
    "\n",
    "# # predictions.sum()\n",
    "# predictions.shape"
   ]
  },
  {
   "cell_type": "code",
   "execution_count": 28,
   "id": "d50be69a",
   "metadata": {},
   "outputs": [],
   "source": [
    "# %%time\n",
    "# model = SVC(\n",
    "# #     C = 10**-2\n",
    "# )\n",
    "# model.fit(X, Y)\n",
    "\n",
    "# predictions = model.predict_proba(X)\n",
    "\n",
    "# # predictions.sum()\n",
    "# predictions.shape"
   ]
  },
  {
   "cell_type": "code",
   "execution_count": 29,
   "id": "e0426c05",
   "metadata": {
    "scrolled": true
   },
   "outputs": [],
   "source": [
    "# %%time\n",
    "# model = MLPClassifier(\n",
    "# #     C = 10**-2\n",
    "#     verbose = True,\n",
    "# #     early_stopping = True\n",
    "# )\n",
    "# model.fit(X, Y)\n",
    "\n",
    "# predictions = model.predict_proba(X)\n",
    "\n",
    "# # predictions.sum()\n",
    "# predictions.shape"
   ]
  },
  {
   "cell_type": "code",
   "execution_count": 30,
   "id": "35f8b580",
   "metadata": {},
   "outputs": [
    {
     "name": "stdout",
     "output_type": "stream",
     "text": [
      "X_train torch.Size([206, 504, 768])\n",
      "X_test torch.Size([69, 504, 768])\n",
      "Y_train torch.Size([206, 504])\n",
      "Y_test torch.Size([69, 504])\n"
     ]
    }
   ],
   "source": [
    "X_train, X_test, Y_train, Y_test = train_test_split(X, Y)\n",
    "print(\"X_train\", X_train.shape)\n",
    "print(\"X_test\", X_test.shape)\n",
    "print(\"Y_train\", Y_train.shape)\n",
    "print(\"Y_test\", Y_test.shape)"
   ]
  },
  {
   "cell_type": "code",
   "execution_count": 31,
   "id": "3ad173cc",
   "metadata": {},
   "outputs": [
    {
     "data": {
      "text/plain": [
       "(tensor(1790), tensor(680))"
      ]
     },
     "execution_count": 31,
     "metadata": {},
     "output_type": "execute_result"
    }
   ],
   "source": [
    "Y_train.sum(), Y_test.sum()"
   ]
  },
  {
   "cell_type": "code",
   "execution_count": 32,
   "id": "acdb2183",
   "metadata": {
    "scrolled": true
   },
   "outputs": [],
   "source": [
    "# %%time\n",
    "\n",
    "# model = MLPClassifier(\n",
    "# #     C = 10**-2\n",
    "#     verbose = True,\n",
    "# #     early_stopping = True\n",
    "# )\n",
    "# model.fit(X_train, Y_train)\n",
    "\n",
    "# predictions = model.predict_proba(X_test)\n",
    "\n",
    "# # predictions.sum()\n",
    "# predictions.shape"
   ]
  },
  {
   "cell_type": "code",
   "execution_count": 33,
   "id": "9485282e",
   "metadata": {
    "scrolled": false
   },
   "outputs": [
    {
     "name": "stdout",
     "output_type": "stream",
     "text": [
      "torch.Size([5, 504, 768])\n",
      "(tensor([[[-6.1515e-02, -1.1650e-03,  5.6224e-03,  ...,  3.7993e-02,\n",
      "           1.6307e-02,  6.7649e-02],\n",
      "         [-6.3048e-02,  3.2548e-03,  1.3215e-03,  ...,  3.9316e-02,\n",
      "           5.2120e-03,  6.5406e-02],\n",
      "         [-6.5201e-02,  2.9311e-02,  5.0081e-03,  ...,  1.9785e-02,\n",
      "           4.0859e-02,  4.1452e-02],\n",
      "         ...,\n",
      "         [-3.5228e-02, -1.0815e-02,  7.1415e-03,  ...,  5.6132e-02,\n",
      "           4.4949e-02,  2.6575e-02],\n",
      "         [-3.5228e-02, -1.0815e-02,  7.1415e-03,  ...,  5.6132e-02,\n",
      "           4.4949e-02,  2.6575e-02],\n",
      "         [-3.5228e-02, -1.0815e-02,  7.1415e-03,  ...,  5.6132e-02,\n",
      "           4.4949e-02,  2.6575e-02]],\n",
      "\n",
      "        [[-1.0066e-01, -1.7871e-02,  6.7002e-06,  ...,  4.2436e-02,\n",
      "           1.6605e-02,  2.3631e-02],\n",
      "         [-1.1764e-01,  1.3606e-02,  5.5039e-04,  ...,  3.8308e-02,\n",
      "           3.4052e-02,  6.6408e-02],\n",
      "         [-1.0262e-01,  3.1461e-02,  3.1650e-02,  ...,  2.7030e-02,\n",
      "           4.5487e-02,  6.6837e-02],\n",
      "         ...,\n",
      "         [-5.6298e-02, -1.5956e-02,  1.4866e-02,  ...,  5.4053e-02,\n",
      "           4.1637e-02,  2.4099e-02],\n",
      "         [-5.6298e-02, -1.5956e-02,  1.4866e-02,  ...,  5.4053e-02,\n",
      "           4.1637e-02,  2.4099e-02],\n",
      "         [-5.6298e-02, -1.5956e-02,  1.4866e-02,  ...,  5.4053e-02,\n",
      "           4.1637e-02,  2.4099e-02]],\n",
      "\n",
      "        [[-1.0678e-01, -1.5666e-02,  4.3898e-03,  ...,  4.4639e-02,\n",
      "           2.8178e-02,  1.3225e-02],\n",
      "         [-1.3897e-01, -1.6301e-02,  7.0264e-03,  ...,  1.6158e-02,\n",
      "           4.9466e-02,  3.0245e-02],\n",
      "         [-9.8791e-02,  3.3730e-03,  3.9516e-02,  ...,  3.1899e-02,\n",
      "           4.7090e-02,  2.2710e-02],\n",
      "         ...,\n",
      "         [-6.7704e-02, -1.8776e-02,  2.1169e-02,  ...,  4.9999e-02,\n",
      "           3.6746e-02,  2.0233e-02],\n",
      "         [-6.7704e-02, -1.8776e-02,  2.1169e-02,  ...,  4.9999e-02,\n",
      "           3.6746e-02,  2.0233e-02],\n",
      "         [-6.7704e-02, -1.8776e-02,  2.1169e-02,  ...,  4.9999e-02,\n",
      "           3.6746e-02,  2.0233e-02]],\n",
      "\n",
      "        [[-1.0080e-01, -2.5767e-02, -2.1082e-03,  ...,  5.1402e-02,\n",
      "           3.8279e-02, -9.9994e-03],\n",
      "         [-1.4669e-01, -1.4477e-02,  1.2143e-02,  ...,  4.4672e-02,\n",
      "           3.2893e-02, -5.1293e-03],\n",
      "         [-1.3413e-01,  2.1965e-03,  4.7575e-02,  ...,  3.0033e-02,\n",
      "           2.3578e-02, -2.3709e-03],\n",
      "         ...,\n",
      "         [-7.3445e-02, -2.0408e-02,  2.5721e-02,  ...,  4.2125e-02,\n",
      "           2.9569e-02,  1.4597e-02],\n",
      "         [-7.3445e-02, -2.0408e-02,  2.5721e-02,  ...,  4.2125e-02,\n",
      "           2.9569e-02,  1.4597e-02],\n",
      "         [-7.3445e-02, -2.0408e-02,  2.5721e-02,  ...,  4.2125e-02,\n",
      "           2.9569e-02,  1.4597e-02]],\n",
      "\n",
      "        [[-9.3615e-02, -3.8954e-02,  7.3294e-03,  ...,  3.4912e-02,\n",
      "           2.5433e-02,  8.8661e-03],\n",
      "         [-1.3724e-01, -5.5137e-02,  2.0437e-02,  ...,  3.0940e-02,\n",
      "           3.2096e-02, -1.2828e-03],\n",
      "         [-1.2137e-01, -3.2570e-02,  3.2129e-02,  ...,  5.2877e-02,\n",
      "           1.5733e-02,  1.9267e-02],\n",
      "         ...,\n",
      "         [-7.6157e-02, -2.1340e-02,  2.8775e-02,  ...,  2.7140e-02,\n",
      "           1.8672e-02,  7.2706e-03],\n",
      "         [-7.6157e-02, -2.1340e-02,  2.8775e-02,  ...,  2.7140e-02,\n",
      "           1.8672e-02,  7.2706e-03],\n",
      "         [-7.6157e-02, -2.1340e-02,  2.8775e-02,  ...,  2.7140e-02,\n",
      "           1.8672e-02,  7.2706e-03]]], grad_fn=<CatBackward0>), (tensor([[[-0.0936, -0.0390,  0.0073,  ...,  0.0449,  0.0275,  0.0090],\n",
      "         [-0.1372, -0.0551,  0.0204,  ...,  0.0437,  0.0423,  0.0251],\n",
      "         [-0.1214, -0.0326,  0.0321,  ...,  0.0473,  0.0488, -0.0051],\n",
      "         ...,\n",
      "         [-0.0762, -0.0213,  0.0288,  ...,  0.0790,  0.0246, -0.0087],\n",
      "         [-0.0762, -0.0213,  0.0288,  ...,  0.0790,  0.0246, -0.0087],\n",
      "         [-0.0762, -0.0213,  0.0288,  ...,  0.0790,  0.0246, -0.0087]],\n",
      "\n",
      "        [[ 0.1167,  0.0716,  0.1432,  ...,  0.0380,  0.0163,  0.0676],\n",
      "         [ 0.1041,  0.1042,  0.1019,  ...,  0.0393,  0.0052,  0.0654],\n",
      "         [ 0.0979,  0.0916,  0.1240,  ...,  0.0198,  0.0409,  0.0415],\n",
      "         ...,\n",
      "         [ 0.0662,  0.0396,  0.0661,  ...,  0.0561,  0.0449,  0.0266],\n",
      "         [ 0.0662,  0.0396,  0.0661,  ...,  0.0561,  0.0449,  0.0266],\n",
      "         [ 0.0662,  0.0396,  0.0661,  ...,  0.0561,  0.0449,  0.0266]]],\n",
      "       grad_fn=<StackBackward0>), tensor([[[-0.2013, -0.0757,  0.0161,  ...,  0.0957,  0.0577,  0.0188],\n",
      "         [-0.3089, -0.1041,  0.0460,  ...,  0.0921,  0.0866,  0.0511],\n",
      "         [-0.2613, -0.0641,  0.0709,  ...,  0.0947,  0.0979, -0.0105],\n",
      "         ...,\n",
      "         [-0.1546, -0.0407,  0.0626,  ...,  0.1529,  0.0521, -0.0178],\n",
      "         [-0.1546, -0.0407,  0.0626,  ...,  0.1529,  0.0521, -0.0178],\n",
      "         [-0.1546, -0.0407,  0.0626,  ...,  0.1529,  0.0521, -0.0178]],\n",
      "\n",
      "        [[ 0.2532,  0.1460,  0.3045,  ...,  0.0751,  0.0341,  0.1274],\n",
      "         [ 0.2257,  0.2116,  0.2073,  ...,  0.0790,  0.0110,  0.1270],\n",
      "         [ 0.2153,  0.1795,  0.2620,  ...,  0.0426,  0.0854,  0.0793],\n",
      "         ...,\n",
      "         [ 0.1296,  0.0782,  0.1385,  ...,  0.1103,  0.0924,  0.0507],\n",
      "         [ 0.1296,  0.0782,  0.1385,  ...,  0.1103,  0.0924,  0.0507],\n",
      "         [ 0.1296,  0.0782,  0.1385,  ...,  0.1103,  0.0924,  0.0507]]],\n",
      "       grad_fn=<StackBackward0>)))\n"
     ]
    },
    {
     "ename": "TypeError",
     "evalue": "linear(): argument 'input' (position 1) must be Tensor, not tuple",
     "output_type": "error",
     "traceback": [
      "\u001b[0;31m---------------------------------------------------------------------------\u001b[0m",
      "\u001b[0;31mTypeError\u001b[0m                                 Traceback (most recent call last)",
      "Cell \u001b[0;32mIn [33], line 20\u001b[0m\n\u001b[1;32m     18\u001b[0m d \u001b[38;5;241m=\u001b[39m X_train[:\u001b[38;5;241m5\u001b[39m]\n\u001b[1;32m     19\u001b[0m \u001b[38;5;28mprint\u001b[39m(d\u001b[38;5;241m.\u001b[39mshape)\n\u001b[0;32m---> 20\u001b[0m \u001b[43ml\u001b[49m\u001b[43m(\u001b[49m\u001b[43md\u001b[49m\u001b[43m)\u001b[49m\n",
      "File \u001b[0;32m~/envs/malnis/lib/python3.8/site-packages/torch/nn/modules/module.py:1130\u001b[0m, in \u001b[0;36mModule._call_impl\u001b[0;34m(self, *input, **kwargs)\u001b[0m\n\u001b[1;32m   1126\u001b[0m \u001b[38;5;66;03m# If we don't have any hooks, we want to skip the rest of the logic in\u001b[39;00m\n\u001b[1;32m   1127\u001b[0m \u001b[38;5;66;03m# this function, and just call forward.\u001b[39;00m\n\u001b[1;32m   1128\u001b[0m \u001b[38;5;28;01mif\u001b[39;00m \u001b[38;5;129;01mnot\u001b[39;00m (\u001b[38;5;28mself\u001b[39m\u001b[38;5;241m.\u001b[39m_backward_hooks \u001b[38;5;129;01mor\u001b[39;00m \u001b[38;5;28mself\u001b[39m\u001b[38;5;241m.\u001b[39m_forward_hooks \u001b[38;5;129;01mor\u001b[39;00m \u001b[38;5;28mself\u001b[39m\u001b[38;5;241m.\u001b[39m_forward_pre_hooks \u001b[38;5;129;01mor\u001b[39;00m _global_backward_hooks\n\u001b[1;32m   1129\u001b[0m         \u001b[38;5;129;01mor\u001b[39;00m _global_forward_hooks \u001b[38;5;129;01mor\u001b[39;00m _global_forward_pre_hooks):\n\u001b[0;32m-> 1130\u001b[0m     \u001b[38;5;28;01mreturn\u001b[39;00m \u001b[43mforward_call\u001b[49m\u001b[43m(\u001b[49m\u001b[38;5;241;43m*\u001b[39;49m\u001b[38;5;28;43minput\u001b[39;49m\u001b[43m,\u001b[49m\u001b[43m \u001b[49m\u001b[38;5;241;43m*\u001b[39;49m\u001b[38;5;241;43m*\u001b[39;49m\u001b[43mkwargs\u001b[49m\u001b[43m)\u001b[49m\n\u001b[1;32m   1131\u001b[0m \u001b[38;5;66;03m# Do not call functions when jit is used\u001b[39;00m\n\u001b[1;32m   1132\u001b[0m full_backward_hooks, non_full_backward_hooks \u001b[38;5;241m=\u001b[39m [], []\n",
      "Cell \u001b[0;32mIn [33], line 15\u001b[0m, in \u001b[0;36mLSTM.forward\u001b[0;34m(self, x, **kwargs)\u001b[0m\n\u001b[1;32m     13\u001b[0m x \u001b[38;5;241m=\u001b[39m \u001b[38;5;28mself\u001b[39m\u001b[38;5;241m.\u001b[39mlstm(x)\n\u001b[1;32m     14\u001b[0m \u001b[38;5;28mprint\u001b[39m(x)\n\u001b[0;32m---> 15\u001b[0m \u001b[38;5;28;01mreturn\u001b[39;00m \u001b[38;5;28;43mself\u001b[39;49m\u001b[38;5;241;43m.\u001b[39;49m\u001b[43mout_layer\u001b[49m\u001b[43m(\u001b[49m\u001b[43mx\u001b[49m\u001b[43m)\u001b[49m\n",
      "File \u001b[0;32m~/envs/malnis/lib/python3.8/site-packages/torch/nn/modules/module.py:1130\u001b[0m, in \u001b[0;36mModule._call_impl\u001b[0;34m(self, *input, **kwargs)\u001b[0m\n\u001b[1;32m   1126\u001b[0m \u001b[38;5;66;03m# If we don't have any hooks, we want to skip the rest of the logic in\u001b[39;00m\n\u001b[1;32m   1127\u001b[0m \u001b[38;5;66;03m# this function, and just call forward.\u001b[39;00m\n\u001b[1;32m   1128\u001b[0m \u001b[38;5;28;01mif\u001b[39;00m \u001b[38;5;129;01mnot\u001b[39;00m (\u001b[38;5;28mself\u001b[39m\u001b[38;5;241m.\u001b[39m_backward_hooks \u001b[38;5;129;01mor\u001b[39;00m \u001b[38;5;28mself\u001b[39m\u001b[38;5;241m.\u001b[39m_forward_hooks \u001b[38;5;129;01mor\u001b[39;00m \u001b[38;5;28mself\u001b[39m\u001b[38;5;241m.\u001b[39m_forward_pre_hooks \u001b[38;5;129;01mor\u001b[39;00m _global_backward_hooks\n\u001b[1;32m   1129\u001b[0m         \u001b[38;5;129;01mor\u001b[39;00m _global_forward_hooks \u001b[38;5;129;01mor\u001b[39;00m _global_forward_pre_hooks):\n\u001b[0;32m-> 1130\u001b[0m     \u001b[38;5;28;01mreturn\u001b[39;00m \u001b[43mforward_call\u001b[49m\u001b[43m(\u001b[49m\u001b[38;5;241;43m*\u001b[39;49m\u001b[38;5;28;43minput\u001b[39;49m\u001b[43m,\u001b[49m\u001b[43m \u001b[49m\u001b[38;5;241;43m*\u001b[39;49m\u001b[38;5;241;43m*\u001b[39;49m\u001b[43mkwargs\u001b[49m\u001b[43m)\u001b[49m\n\u001b[1;32m   1131\u001b[0m \u001b[38;5;66;03m# Do not call functions when jit is used\u001b[39;00m\n\u001b[1;32m   1132\u001b[0m full_backward_hooks, non_full_backward_hooks \u001b[38;5;241m=\u001b[39m [], []\n",
      "File \u001b[0;32m~/envs/malnis/lib/python3.8/site-packages/torch/nn/modules/linear.py:114\u001b[0m, in \u001b[0;36mLinear.forward\u001b[0;34m(self, input)\u001b[0m\n\u001b[1;32m    113\u001b[0m \u001b[38;5;28;01mdef\u001b[39;00m \u001b[38;5;21mforward\u001b[39m(\u001b[38;5;28mself\u001b[39m, \u001b[38;5;28minput\u001b[39m: Tensor) \u001b[38;5;241m-\u001b[39m\u001b[38;5;241m>\u001b[39m Tensor:\n\u001b[0;32m--> 114\u001b[0m     \u001b[38;5;28;01mreturn\u001b[39;00m \u001b[43mF\u001b[49m\u001b[38;5;241;43m.\u001b[39;49m\u001b[43mlinear\u001b[49m\u001b[43m(\u001b[49m\u001b[38;5;28;43minput\u001b[39;49m\u001b[43m,\u001b[49m\u001b[43m \u001b[49m\u001b[38;5;28;43mself\u001b[39;49m\u001b[38;5;241;43m.\u001b[39;49m\u001b[43mweight\u001b[49m\u001b[43m,\u001b[49m\u001b[43m \u001b[49m\u001b[38;5;28;43mself\u001b[39;49m\u001b[38;5;241;43m.\u001b[39;49m\u001b[43mbias\u001b[49m\u001b[43m)\u001b[49m\n",
      "\u001b[0;31mTypeError\u001b[0m: linear(): argument 'input' (position 1) must be Tensor, not tuple"
     ]
    }
   ],
   "source": [
    "class LSTM(nn.Module):\n",
    "    def __init__(self):\n",
    "        super().__init__()\n",
    "        self.lstm = nn.LSTM(\n",
    "            input_size = 768,\n",
    "            hidden_size = 100,\n",
    "            num_layers = 1,\n",
    "            bidirectional = True\n",
    "        )\n",
    "        self.out_layer = nn.Linear(200, 2)\n",
    "        \n",
    "    def forward(self, x, **kwargs):\n",
    "        x = self.lstm(x)\n",
    "        print(x)\n",
    "        return self.out_layer(x)\n",
    "    \n",
    "l = LSTM()\n",
    "d = X_train[:5]\n",
    "print(d.shape)\n",
    "l(d)"
   ]
  },
  {
   "cell_type": "code",
   "execution_count": null,
   "id": "dac6d586",
   "metadata": {},
   "outputs": [],
   "source": [
    "plt.hist(predictions[:, 1])\n",
    "# plt.xlim(-0.1, 1.1)\n",
    "plt.show()"
   ]
  },
  {
   "cell_type": "code",
   "execution_count": null,
   "id": "ade086c6",
   "metadata": {},
   "outputs": [],
   "source": [
    "roc_auc_score(Y_test, predictions[:, 1])"
   ]
  },
  {
   "cell_type": "code",
   "execution_count": null,
   "id": "ee5d17c3",
   "metadata": {},
   "outputs": [],
   "source": [
    "average_precision_score(Y_test, predictions[:, 1])"
   ]
  },
  {
   "cell_type": "code",
   "execution_count": null,
   "id": "7ed69d3b",
   "metadata": {},
   "outputs": [],
   "source": [
    "f1_score(Y_test, predictions[:, 1] > 0.5)"
   ]
  },
  {
   "cell_type": "code",
   "execution_count": null,
   "id": "77cf60c9",
   "metadata": {},
   "outputs": [],
   "source": [
    "display = PrecisionRecallDisplay.from_estimator(\n",
    "    model, X_test, Y_test, name=\"Neural Network\"\n",
    ")"
   ]
  },
  {
   "cell_type": "code",
   "execution_count": null,
   "id": "e0f4769a",
   "metadata": {},
   "outputs": [],
   "source": []
  },
  {
   "cell_type": "code",
   "execution_count": null,
   "id": "b35f5220",
   "metadata": {},
   "outputs": [],
   "source": []
  }
 ],
 "metadata": {
  "kernelspec": {
   "display_name": "Python 3 (ipykernel)",
   "language": "python",
   "name": "python3"
  },
  "language_info": {
   "codemirror_mode": {
    "name": "ipython",
    "version": 3
   },
   "file_extension": ".py",
   "mimetype": "text/x-python",
   "name": "python",
   "nbconvert_exporter": "python",
   "pygments_lexer": "ipython3",
   "version": "3.8.10"
  }
 },
 "nbformat": 4,
 "nbformat_minor": 5
}
