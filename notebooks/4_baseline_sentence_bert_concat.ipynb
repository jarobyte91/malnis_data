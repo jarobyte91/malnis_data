{
 "cells": [
  {
   "cell_type": "code",
   "execution_count": 1,
   "id": "8ae054c6",
   "metadata": {},
   "outputs": [
    {
     "name": "stderr",
     "output_type": "stream",
     "text": [
      "/home/jarobyte/anaconda3/envs/malnis/lib/python3.8/site-packages/huggingface_hub/snapshot_download.py:6: FutureWarning: snapshot_download.py has been made private and will no longer be available from version 0.11. Please use `from huggingface_hub import snapshot_download` to import the only public function in this module. Other members of the file may be changed without a deprecation notice.\n",
      "  warnings.warn(\n"
     ]
    }
   ],
   "source": [
    "import pandas as pd\n",
    "import matplotlib.pyplot as plt\n",
    "from sklearn.feature_extraction.text import TfidfVectorizer\n",
    "from malnis import show\n",
    "from nltk.tokenize import word_tokenize\n",
    "from tqdm.auto import tqdm\n",
    "import scipy.sparse as sp\n",
    "from sklearn.linear_model import LogisticRegression \n",
    "from sklearn.ensemble import RandomForestClassifier\n",
    "from sklearn.svm import SVC\n",
    "from sklearn.decomposition import PCA, SparsePCA\n",
    "from sklearn.neural_network import MLPClassifier\n",
    "from sklearn.metrics import accuracy_score, f1_score, auc, roc_auc_score, average_precision_score, PrecisionRecallDisplay\n",
    "import numpy as np\n",
    "from sentence_transformers import SentenceTransformer\n",
    "from sklearn.model_selection import train_test_split"
   ]
  },
  {
   "cell_type": "code",
   "execution_count": 2,
   "id": "57351439",
   "metadata": {},
   "outputs": [
    {
     "data": {
      "text/plain": [
       "'/home/jarobyte/phd/projects/malnis_dataset/notebooks'"
      ]
     },
     "execution_count": 2,
     "metadata": {},
     "output_type": "execute_result"
    }
   ],
   "source": [
    "pwd"
   ]
  },
  {
   "cell_type": "code",
   "execution_count": 3,
   "id": "b8d48d64",
   "metadata": {},
   "outputs": [
    {
     "name": "stdout",
     "output_type": "stream",
     "text": [
      "(391, 8)\n"
     ]
    },
    {
     "data": {
      "text/html": [
       "<div>\n",
       "<style scoped>\n",
       "    .dataframe tbody tr th:only-of-type {\n",
       "        vertical-align: middle;\n",
       "    }\n",
       "\n",
       "    .dataframe tbody tr th {\n",
       "        vertical-align: top;\n",
       "    }\n",
       "\n",
       "    .dataframe thead th {\n",
       "        text-align: right;\n",
       "    }\n",
       "</style>\n",
       "<table border=\"1\" class=\"dataframe\">\n",
       "  <thead>\n",
       "    <tr style=\"text-align: right;\">\n",
       "      <th></th>\n",
       "      <th>query</th>\n",
       "      <th>document</th>\n",
       "      <th>summary</th>\n",
       "      <th>r1</th>\n",
       "      <th>r2</th>\n",
       "      <th>rl</th>\n",
       "      <th>sentences</th>\n",
       "      <th>relevance</th>\n",
       "    </tr>\n",
       "  </thead>\n",
       "  <tbody>\n",
       "    <tr>\n",
       "      <th>36</th>\n",
       "      <td>For many types of machine learning algorithms,...</td>\n",
       "      <td>field in computer science, and health informat...</td>\n",
       "      <td>[While the techniques for neural networks are ...</td>\n",
       "      <td>0.594595</td>\n",
       "      <td>0.485714</td>\n",
       "      <td>0.594595</td>\n",
       "      <td>[field in computer science, and health informa...</td>\n",
       "      <td>[False, False, False, False, False, False, Fal...</td>\n",
       "    </tr>\n",
       "    <tr>\n",
       "      <th>38</th>\n",
       "      <td>We consider the problem of learning good traje...</td>\n",
       "      <td>field in computer science, and health informat...</td>\n",
       "      <td>[[71] considered the problem of learning good ...</td>\n",
       "      <td>0.646766</td>\n",
       "      <td>0.478571</td>\n",
       "      <td>0.636816</td>\n",
       "      <td>[field in computer science, and health informa...</td>\n",
       "      <td>[False, False, False, False, False, False, Fal...</td>\n",
       "    </tr>\n",
       "    <tr>\n",
       "      <th>136</th>\n",
       "      <td>We study in this work the importance of depth ...</td>\n",
       "      <td>Deep Learning Based Text Classification: A Com...</td>\n",
       "      <td>[[57] show that deep models indeed outperform ...</td>\n",
       "      <td>0.533333</td>\n",
       "      <td>0.403101</td>\n",
       "      <td>0.533333</td>\n",
       "      <td>[Deep Learning Based Text Classification: A Co...</td>\n",
       "      <td>[False, False, False, False, False, False, Fal...</td>\n",
       "    </tr>\n",
       "    <tr>\n",
       "      <th>5</th>\n",
       "      <td>We investigate a lattice-structured LSTM model...</td>\n",
       "      <td>1041-4347 (c) 2020 IEEE. Personal use is permi...</td>\n",
       "      <td>[Zhang and Yang [149] proposed a lattice-struc...</td>\n",
       "      <td>0.478261</td>\n",
       "      <td>0.393162</td>\n",
       "      <td>0.478261</td>\n",
       "      <td>[1041-4347 (c) 2020 IEEE., Personal use is per...</td>\n",
       "      <td>[False, False, False, False, False, False, Fal...</td>\n",
       "    </tr>\n",
       "    <tr>\n",
       "      <th>316</th>\n",
       "      <td>HDBSCAN*, a state-of-the-art density-based hie...</td>\n",
       "      <td>PVLDB Reference Format: Antonio Cavalcante Ara...</td>\n",
       "      <td>[In [6], the authors proposed RNG-HDBSCAN*, a ...</td>\n",
       "      <td>0.539062</td>\n",
       "      <td>0.350365</td>\n",
       "      <td>0.507812</td>\n",
       "      <td>[PVLDB Reference Format: Antonio Cavalcante Ar...</td>\n",
       "      <td>[False, False, False, False, False, False, Fal...</td>\n",
       "    </tr>\n",
       "    <tr>\n",
       "      <th>112</th>\n",
       "      <td>This work investigates continual learning of t...</td>\n",
       "      <td>Fully automatic deep learning has become the s...</td>\n",
       "      <td>[Baweja et al. (2018) investigate continual le...</td>\n",
       "      <td>0.480769</td>\n",
       "      <td>0.317690</td>\n",
       "      <td>0.442308</td>\n",
       "      <td>[Fully automatic deep learning has become the ...</td>\n",
       "      <td>[False, False, False, False, False, False, Fal...</td>\n",
       "    </tr>\n",
       "    <tr>\n",
       "      <th>133</th>\n",
       "      <td>Word embeddings are effective intermediate rep...</td>\n",
       "      <td>Deep Learning Based Text Classification: A Com...</td>\n",
       "      <td>[[84] view TC as a label-word matching problem...</td>\n",
       "      <td>0.508671</td>\n",
       "      <td>0.299145</td>\n",
       "      <td>0.485549</td>\n",
       "      <td>[Deep Learning Based Text Classification: A Co...</td>\n",
       "      <td>[False, False, False, False, False, False, Fal...</td>\n",
       "    </tr>\n",
       "    <tr>\n",
       "      <th>257</th>\n",
       "      <td>Query relevance ranking and sentence saliency ...</td>\n",
       "      <td>Keywords: Query-focused summarization · Extrac...</td>\n",
       "      <td>[There exist approaches utilizing attention me...</td>\n",
       "      <td>0.500000</td>\n",
       "      <td>0.293333</td>\n",
       "      <td>0.490566</td>\n",
       "      <td>[Keywords: Query-focused summarization · Extra...</td>\n",
       "      <td>[False, False, True, False, False, False, Fals...</td>\n",
       "    </tr>\n",
       "    <tr>\n",
       "      <th>52</th>\n",
       "      <td>The key idea behind active learning is that a ...</td>\n",
       "      <td>I. INTRODUCTION Deep Neural Networks (DNNs) tr...</td>\n",
       "      <td>[The key idea behind active learning is that a...</td>\n",
       "      <td>0.368664</td>\n",
       "      <td>0.282828</td>\n",
       "      <td>0.368664</td>\n",
       "      <td>[I., INTRODUCTION Deep Neural Networks (DNNs) ...</td>\n",
       "      <td>[False, False, False, False, False, False, Fal...</td>\n",
       "    </tr>\n",
       "    <tr>\n",
       "      <th>315</th>\n",
       "      <td>When AI systems interact with humans in the lo...</td>\n",
       "      <td>22 22 23 23 24 24 25 25 26 26 27 27 28 28 29 2...</td>\n",
       "      <td>[• Approaches: Past work on explanations prima...</td>\n",
       "      <td>0.330827</td>\n",
       "      <td>0.278075</td>\n",
       "      <td>0.330827</td>\n",
       "      <td>[22 22 23 23 24 24 25 25 26 26 27 27 28 28 29 ...</td>\n",
       "      <td>[False, False, False, False, False, False, Fal...</td>\n",
       "    </tr>\n",
       "    <tr>\n",
       "      <th>0</th>\n",
       "      <td>We introduce a new language representation mod...</td>\n",
       "      <td>1041-4347 (c) 2020 IEEE. Personal use is permi...</td>\n",
       "      <td>[[118] proposed a new language representation ...</td>\n",
       "      <td>0.456621</td>\n",
       "      <td>0.271062</td>\n",
       "      <td>0.447489</td>\n",
       "      <td>[1041-4347 (c) 2020 IEEE., Personal use is per...</td>\n",
       "      <td>[False, False, False, False, False, False, Fal...</td>\n",
       "    </tr>\n",
       "    <tr>\n",
       "      <th>199</th>\n",
       "      <td>Pre-training techniques have been verified suc...</td>\n",
       "      <td>Visually-rich Document Understanding (VrDU) ai...</td>\n",
       "      <td>[To this end, the second direction relies on t...</td>\n",
       "      <td>0.459259</td>\n",
       "      <td>0.265000</td>\n",
       "      <td>0.437037</td>\n",
       "      <td>[Visually-rich Document Understanding (VrDU) a...</td>\n",
       "      <td>[False, False, True, False, False, False, Fals...</td>\n",
       "    </tr>\n",
       "    <tr>\n",
       "      <th>364</th>\n",
       "      <td>We rigorously evaluate three state-of-the-art ...</td>\n",
       "      <td>The Transformer (Vaswani et al., 2017) has bec...</td>\n",
       "      <td>[This agrees with the observations made in wor...</td>\n",
       "      <td>0.406593</td>\n",
       "      <td>0.264957</td>\n",
       "      <td>0.395604</td>\n",
       "      <td>[The Transformer (Vaswani et al., 2017) has be...</td>\n",
       "      <td>[False, False, False, False, False, False, Fal...</td>\n",
       "    </tr>\n",
       "    <tr>\n",
       "      <th>143</th>\n",
       "      <td>We introduce a novel type of text representati...</td>\n",
       "      <td>We experiment on real world invoice and resume...</td>\n",
       "      <td>[Chargrid [14] models the problem by encoding ...</td>\n",
       "      <td>0.423358</td>\n",
       "      <td>0.258427</td>\n",
       "      <td>0.423358</td>\n",
       "      <td>[We experiment on real world invoice and resum...</td>\n",
       "      <td>[False, False, False, False, False, False, Fal...</td>\n",
       "    </tr>\n",
       "    <tr>\n",
       "      <th>175</th>\n",
       "      <td>We present RACE, a new dataset for benchmark e...</td>\n",
       "      <td>Unsupervised representation learning has been ...</td>\n",
       "      <td>[The RACE dataset [17] contains near 100K ques...</td>\n",
       "      <td>0.490323</td>\n",
       "      <td>0.251208</td>\n",
       "      <td>0.464516</td>\n",
       "      <td>[Unsupervised representation learning has been...</td>\n",
       "      <td>[False, False, False, False, False, False, Fal...</td>\n",
       "    </tr>\n",
       "    <tr>\n",
       "      <th>387</th>\n",
       "      <td>The query suggestion or auto-completion mechan...</td>\n",
       "      <td>44 Interactive Intent Modeling for Exploratory...</td>\n",
       "      <td>[Other techniques use query clustering to simi...</td>\n",
       "      <td>0.425339</td>\n",
       "      <td>0.248521</td>\n",
       "      <td>0.398190</td>\n",
       "      <td>[44 Interactive Intent Modeling for Explorator...</td>\n",
       "      <td>[False, False, False, False, False, False, Fal...</td>\n",
       "    </tr>\n",
       "    <tr>\n",
       "      <th>17</th>\n",
       "      <td>We introduce a new language representation mod...</td>\n",
       "      <td>Proceedings of the 57th Annual Meeting of the ...</td>\n",
       "      <td>[Firstly, to better capture sentential meaning...</td>\n",
       "      <td>0.420635</td>\n",
       "      <td>0.244648</td>\n",
       "      <td>0.412698</td>\n",
       "      <td>[Proceedings of the 57th Annual Meeting of the...</td>\n",
       "      <td>[False, False, False, False, False, False, Fal...</td>\n",
       "    </tr>\n",
       "    <tr>\n",
       "      <th>202</th>\n",
       "      <td>Recurrent neural networks, and in particular l...</td>\n",
       "      <td>Index Terms—Deep learning, visual analytics, i...</td>\n",
       "      <td>[In response to this, many visual analytics sy...</td>\n",
       "      <td>0.425000</td>\n",
       "      <td>0.238372</td>\n",
       "      <td>0.383333</td>\n",
       "      <td>[Index Terms—Deep learning, visual analytics, ...</td>\n",
       "      <td>[False, False, False, False, False, False, Fal...</td>\n",
       "    </tr>\n",
       "    <tr>\n",
       "      <th>285</th>\n",
       "      <td>Several large cloze-style context-question-ans...</td>\n",
       "      <td>Building intelligent agents with machine readi...</td>\n",
       "      <td>[• Attention Sum Reader (AS Reader): AS Reader...</td>\n",
       "      <td>0.342105</td>\n",
       "      <td>0.234146</td>\n",
       "      <td>0.342105</td>\n",
       "      <td>[Building intelligent agents with machine read...</td>\n",
       "      <td>[False, False, False, False, False, False, Tru...</td>\n",
       "    </tr>\n",
       "    <tr>\n",
       "      <th>284</th>\n",
       "      <td>Several large cloze-style context-question-ans...</td>\n",
       "      <td>Building intelligent agents with machine readi...</td>\n",
       "      <td>[• Attention Sum Reader (AS Reader): AS Reader...</td>\n",
       "      <td>0.342105</td>\n",
       "      <td>0.234146</td>\n",
       "      <td>0.342105</td>\n",
       "      <td>[Building intelligent agents with machine read...</td>\n",
       "      <td>[False, False, False, False, False, False, Tru...</td>\n",
       "    </tr>\n",
       "  </tbody>\n",
       "</table>\n",
       "</div>"
      ],
      "text/plain": [
       "                                                 query  \\\n",
       "36   For many types of machine learning algorithms,...   \n",
       "38   We consider the problem of learning good traje...   \n",
       "136  We study in this work the importance of depth ...   \n",
       "5    We investigate a lattice-structured LSTM model...   \n",
       "316  HDBSCAN*, a state-of-the-art density-based hie...   \n",
       "112  This work investigates continual learning of t...   \n",
       "133  Word embeddings are effective intermediate rep...   \n",
       "257  Query relevance ranking and sentence saliency ...   \n",
       "52   The key idea behind active learning is that a ...   \n",
       "315  When AI systems interact with humans in the lo...   \n",
       "0    We introduce a new language representation mod...   \n",
       "199  Pre-training techniques have been verified suc...   \n",
       "364  We rigorously evaluate three state-of-the-art ...   \n",
       "143  We introduce a novel type of text representati...   \n",
       "175  We present RACE, a new dataset for benchmark e...   \n",
       "387  The query suggestion or auto-completion mechan...   \n",
       "17   We introduce a new language representation mod...   \n",
       "202  Recurrent neural networks, and in particular l...   \n",
       "285  Several large cloze-style context-question-ans...   \n",
       "284  Several large cloze-style context-question-ans...   \n",
       "\n",
       "                                              document  \\\n",
       "36   field in computer science, and health informat...   \n",
       "38   field in computer science, and health informat...   \n",
       "136  Deep Learning Based Text Classification: A Com...   \n",
       "5    1041-4347 (c) 2020 IEEE. Personal use is permi...   \n",
       "316  PVLDB Reference Format: Antonio Cavalcante Ara...   \n",
       "112  Fully automatic deep learning has become the s...   \n",
       "133  Deep Learning Based Text Classification: A Com...   \n",
       "257  Keywords: Query-focused summarization · Extrac...   \n",
       "52   I. INTRODUCTION Deep Neural Networks (DNNs) tr...   \n",
       "315  22 22 23 23 24 24 25 25 26 26 27 27 28 28 29 2...   \n",
       "0    1041-4347 (c) 2020 IEEE. Personal use is permi...   \n",
       "199  Visually-rich Document Understanding (VrDU) ai...   \n",
       "364  The Transformer (Vaswani et al., 2017) has bec...   \n",
       "143  We experiment on real world invoice and resume...   \n",
       "175  Unsupervised representation learning has been ...   \n",
       "387  44 Interactive Intent Modeling for Exploratory...   \n",
       "17   Proceedings of the 57th Annual Meeting of the ...   \n",
       "202  Index Terms—Deep learning, visual analytics, i...   \n",
       "285  Building intelligent agents with machine readi...   \n",
       "284  Building intelligent agents with machine readi...   \n",
       "\n",
       "                                               summary        r1        r2  \\\n",
       "36   [While the techniques for neural networks are ...  0.594595  0.485714   \n",
       "38   [[71] considered the problem of learning good ...  0.646766  0.478571   \n",
       "136  [[57] show that deep models indeed outperform ...  0.533333  0.403101   \n",
       "5    [Zhang and Yang [149] proposed a lattice-struc...  0.478261  0.393162   \n",
       "316  [In [6], the authors proposed RNG-HDBSCAN*, a ...  0.539062  0.350365   \n",
       "112  [Baweja et al. (2018) investigate continual le...  0.480769  0.317690   \n",
       "133  [[84] view TC as a label-word matching problem...  0.508671  0.299145   \n",
       "257  [There exist approaches utilizing attention me...  0.500000  0.293333   \n",
       "52   [The key idea behind active learning is that a...  0.368664  0.282828   \n",
       "315  [• Approaches: Past work on explanations prima...  0.330827  0.278075   \n",
       "0    [[118] proposed a new language representation ...  0.456621  0.271062   \n",
       "199  [To this end, the second direction relies on t...  0.459259  0.265000   \n",
       "364  [This agrees with the observations made in wor...  0.406593  0.264957   \n",
       "143  [Chargrid [14] models the problem by encoding ...  0.423358  0.258427   \n",
       "175  [The RACE dataset [17] contains near 100K ques...  0.490323  0.251208   \n",
       "387  [Other techniques use query clustering to simi...  0.425339  0.248521   \n",
       "17   [Firstly, to better capture sentential meaning...  0.420635  0.244648   \n",
       "202  [In response to this, many visual analytics sy...  0.425000  0.238372   \n",
       "285  [• Attention Sum Reader (AS Reader): AS Reader...  0.342105  0.234146   \n",
       "284  [• Attention Sum Reader (AS Reader): AS Reader...  0.342105  0.234146   \n",
       "\n",
       "           rl                                          sentences  \\\n",
       "36   0.594595  [field in computer science, and health informa...   \n",
       "38   0.636816  [field in computer science, and health informa...   \n",
       "136  0.533333  [Deep Learning Based Text Classification: A Co...   \n",
       "5    0.478261  [1041-4347 (c) 2020 IEEE., Personal use is per...   \n",
       "316  0.507812  [PVLDB Reference Format: Antonio Cavalcante Ar...   \n",
       "112  0.442308  [Fully automatic deep learning has become the ...   \n",
       "133  0.485549  [Deep Learning Based Text Classification: A Co...   \n",
       "257  0.490566  [Keywords: Query-focused summarization · Extra...   \n",
       "52   0.368664  [I., INTRODUCTION Deep Neural Networks (DNNs) ...   \n",
       "315  0.330827  [22 22 23 23 24 24 25 25 26 26 27 27 28 28 29 ...   \n",
       "0    0.447489  [1041-4347 (c) 2020 IEEE., Personal use is per...   \n",
       "199  0.437037  [Visually-rich Document Understanding (VrDU) a...   \n",
       "364  0.395604  [The Transformer (Vaswani et al., 2017) has be...   \n",
       "143  0.423358  [We experiment on real world invoice and resum...   \n",
       "175  0.464516  [Unsupervised representation learning has been...   \n",
       "387  0.398190  [44 Interactive Intent Modeling for Explorator...   \n",
       "17   0.412698  [Proceedings of the 57th Annual Meeting of the...   \n",
       "202  0.383333  [Index Terms—Deep learning, visual analytics, ...   \n",
       "285  0.342105  [Building intelligent agents with machine read...   \n",
       "284  0.342105  [Building intelligent agents with machine read...   \n",
       "\n",
       "                                             relevance  \n",
       "36   [False, False, False, False, False, False, Fal...  \n",
       "38   [False, False, False, False, False, False, Fal...  \n",
       "136  [False, False, False, False, False, False, Fal...  \n",
       "5    [False, False, False, False, False, False, Fal...  \n",
       "316  [False, False, False, False, False, False, Fal...  \n",
       "112  [False, False, False, False, False, False, Fal...  \n",
       "133  [False, False, False, False, False, False, Fal...  \n",
       "257  [False, False, True, False, False, False, Fals...  \n",
       "52   [False, False, False, False, False, False, Fal...  \n",
       "315  [False, False, False, False, False, False, Fal...  \n",
       "0    [False, False, False, False, False, False, Fal...  \n",
       "199  [False, False, True, False, False, False, Fals...  \n",
       "364  [False, False, False, False, False, False, Fal...  \n",
       "143  [False, False, False, False, False, False, Fal...  \n",
       "175  [False, False, False, False, False, False, Fal...  \n",
       "387  [False, False, False, False, False, False, Fal...  \n",
       "17   [False, False, False, False, False, False, Fal...  \n",
       "202  [False, False, False, False, False, False, Fal...  \n",
       "285  [False, False, False, False, False, False, Tru...  \n",
       "284  [False, False, False, False, False, False, Tru...  "
      ]
     },
     "execution_count": 3,
     "metadata": {},
     "output_type": "execute_result"
    }
   ],
   "source": [
    "data = pd.read_pickle(\"../data/labels.pkl\")#.head(50)\n",
    "show(data, 20)"
   ]
  },
  {
   "cell_type": "code",
   "execution_count": 4,
   "id": "c0a3d01d",
   "metadata": {},
   "outputs": [
    {
     "data": {
      "text/plain": [
       "<AxesSubplot:ylabel='Frequency'>"
      ]
     },
     "execution_count": 4,
     "metadata": {},
     "output_type": "execute_result"
    },
    {
     "data": {
      "image/png": "[encoded data removed]",
      "text/plain": [
       "<Figure size 640x480 with 1 Axes>"
      ]
     },
     "metadata": {},
     "output_type": "display_data"
    }
   ],
   "source": [
    "data.r2.plot.hist(log = True)"
   ]
  },
  {
   "cell_type": "code",
   "execution_count": 5,
   "id": "a8e3bb5a",
   "metadata": {},
   "outputs": [
    {
     "data": {
      "text/plain": [
       "\"For many types of machine learning algorithms, one can compute the statistically `optimal' way to select training data. In this paper, we review how optimal data selection techniques have been used with feedforward neural networks. We then show how the same principles may be used to select data for two alternative, statistically-based learning architectures: mixtures of Gaussians and locally weighted regression. While the techniques for neural networks are computationally expensive and approximate, the techniques for mixtures of Gaussians and locally weighted regression are both efficient and accurate. Empirically, we observe that the optimality criterion sharply decreases the number of training examples the learner needs in order to achieve good performance.\""
      ]
     },
     "execution_count": 5,
     "metadata": {},
     "output_type": "execute_result"
    }
   ],
   "source": [
    "data[\"query\"][36]"
   ]
  },
  {
   "cell_type": "code",
   "execution_count": 6,
   "id": "e05fa16b",
   "metadata": {},
   "outputs": [
    {
     "data": {
      "text/plain": [
       "['For many types of ML-algorithms, one can compute the statistically optimal way to select training data.',\n",
       " 'While the techniques for neural networks are computationally expensive and approximate, the techniques for mixtures of Gaussians and locally weighted regression are both efficient and accurate [74].']"
      ]
     },
     "execution_count": 6,
     "metadata": {},
     "output_type": "execute_result"
    }
   ],
   "source": [
    "[s for s, l in zip(data.sentences[36], data.relevance[36]) if l == True]"
   ]
  },
  {
   "cell_type": "code",
   "execution_count": 7,
   "id": "9d082009",
   "metadata": {},
   "outputs": [
    {
     "data": {
      "text/plain": [
       "2"
      ]
     },
     "execution_count": 7,
     "metadata": {},
     "output_type": "execute_result"
    }
   ],
   "source": [
    "sum(data.relevance[36])"
   ]
  },
  {
   "cell_type": "code",
   "execution_count": 8,
   "id": "f45f2977",
   "metadata": {},
   "outputs": [
    {
     "data": {
      "text/plain": [
       "256"
      ]
     },
     "execution_count": 8,
     "metadata": {},
     "output_type": "execute_result"
    }
   ],
   "source": [
    "len(data.relevance[36])"
   ]
  },
  {
   "cell_type": "code",
   "execution_count": 9,
   "id": "d57f0b66",
   "metadata": {},
   "outputs": [
    {
     "data": {
      "text/plain": [
       "SentenceTransformer(\n",
       "  (0): Transformer({'max_seq_length': 256, 'do_lower_case': False}) with Transformer model: BertModel \n",
       "  (1): Pooling({'word_embedding_dimension': 384, 'pooling_mode_cls_token': False, 'pooling_mode_mean_tokens': True, 'pooling_mode_max_tokens': False, 'pooling_mode_mean_sqrt_len_tokens': False})\n",
       "  (2): Normalize()\n",
       ")"
      ]
     },
     "execution_count": 9,
     "metadata": {},
     "output_type": "execute_result"
    }
   ],
   "source": [
    "model = SentenceTransformer(\n",
    "    \"sbert\"\n",
    "#     'all-MiniLM-L6-v2', \n",
    "#     cache_folder = \"../assets\"\n",
    "#     \"../cache/huggingface/transformers/\"\n",
    "#     cache_folder = \"../cache/huggingface/transformers\"\n",
    ")\n",
    "model"
   ]
  },
  {
   "cell_type": "code",
   "execution_count": 10,
   "id": "3ff1df69",
   "metadata": {},
   "outputs": [
    {
     "data": {
      "text/plain": [
       "(391, 384)"
      ]
     },
     "execution_count": 10,
     "metadata": {},
     "output_type": "execute_result"
    }
   ],
   "source": [
    "query_embeddings = model.encode(data[\"query\"])\n",
    "query_embeddings.shape"
   ]
  },
  {
   "cell_type": "code",
   "execution_count": 11,
   "id": "6a69cbde",
   "metadata": {},
   "outputs": [],
   "source": [
    "# dims = query_embeddings.shape[1]\n",
    "# sentence_embeddings = [\n",
    "#     model.encode(l)#.toarray() \n",
    "#     for l in tqdm(data.sentences)\n",
    "# ]\n",
    "# all([l.shape[1] == dims for l in sentence_embeddings])"
   ]
  },
  {
   "cell_type": "code",
   "execution_count": 12,
   "id": "07ff9f48",
   "metadata": {},
   "outputs": [],
   "source": [
    "# query_embeddings.shape[0] == len(sentence_embeddings)"
   ]
  },
  {
   "cell_type": "code",
   "execution_count": 13,
   "id": "ed72a578",
   "metadata": {},
   "outputs": [
    {
     "data": {
      "application/vnd.jupyter.widget-view+json": {
       "model_id": "a5d4beb88ff9449f9de68fb6a6baf53b",
       "version_major": 2,
       "version_minor": 0
      },
      "text/plain": [
       "  0%|          | 0/391 [00:00<?, ?it/s]"
      ]
     },
     "metadata": {},
     "output_type": "display_data"
    },
    {
     "data": {
      "text/plain": [
       "222254"
      ]
     },
     "execution_count": 13,
     "metadata": {},
     "output_type": "execute_result"
    }
   ],
   "source": [
    "sum([len(l) for l in tqdm(data.sentences)])"
   ]
  },
  {
   "cell_type": "code",
   "execution_count": 14,
   "id": "eacf1fd6",
   "metadata": {},
   "outputs": [],
   "source": [
    "# train = [\n",
    "# #     ((sp.csr_matrix(np.ones([l.shape[0],1])) * q) - l).power(2)\n",
    "# #     (q - l)**2\n",
    "#     np.concatenate([np.tile(q, (l.shape[0], 1)), l], axis = 1)\n",
    "#     for q, l in zip(tqdm(query_embeddings), sentence_embeddings)\n",
    "# ]\n",
    "# len(train)"
   ]
  },
  {
   "cell_type": "code",
   "execution_count": 15,
   "id": "f122e4cd",
   "metadata": {},
   "outputs": [],
   "source": [
    "# X = np.concatenate(train)#.toarray().T#.squeeze()\n",
    "# X.shape"
   ]
  },
  {
   "cell_type": "code",
   "execution_count": 16,
   "id": "4d616105",
   "metadata": {},
   "outputs": [],
   "source": [
    "# np.save(\"X_sbert.npy\", X)"
   ]
  },
  {
   "cell_type": "code",
   "execution_count": 17,
   "id": "65ed2afd",
   "metadata": {},
   "outputs": [
    {
     "data": {
      "text/plain": [
       "(222254, 768)"
      ]
     },
     "execution_count": 17,
     "metadata": {},
     "output_type": "execute_result"
    }
   ],
   "source": [
    "X = np.load(\"X_sbert_concat.npy\")\n",
    "X.shape"
   ]
  },
  {
   "cell_type": "code",
   "execution_count": 18,
   "id": "632ff8d5",
   "metadata": {},
   "outputs": [
    {
     "data": {
      "application/vnd.jupyter.widget-view+json": {
       "model_id": "1a0199b4d9144b9c92a8f5dfe0af0634",
       "version_major": 2,
       "version_minor": 0
      },
      "text/plain": [
       "  0%|          | 0/391 [00:00<?, ?it/s]"
      ]
     },
     "metadata": {},
     "output_type": "display_data"
    },
    {
     "data": {
      "text/plain": [
       "(222254,)"
      ]
     },
     "execution_count": 18,
     "metadata": {},
     "output_type": "execute_result"
    }
   ],
   "source": [
    "Y = np.array([y for l in tqdm(data.relevance) for y in l])\n",
    "Y.shape"
   ]
  },
  {
   "cell_type": "code",
   "execution_count": 19,
   "id": "568c0951",
   "metadata": {},
   "outputs": [
    {
     "data": {
      "text/plain": [
       "3836"
      ]
     },
     "execution_count": 19,
     "metadata": {},
     "output_type": "execute_result"
    }
   ],
   "source": [
    "Y.sum()"
   ]
  },
  {
   "cell_type": "code",
   "execution_count": 20,
   "id": "f9a816ac",
   "metadata": {},
   "outputs": [
    {
     "data": {
      "text/plain": [
       "0.01725953188694017"
      ]
     },
     "execution_count": 20,
     "metadata": {},
     "output_type": "execute_result"
    }
   ],
   "source": [
    "Y.mean()"
   ]
  },
  {
   "cell_type": "code",
   "execution_count": 21,
   "id": "f80e15b4",
   "metadata": {},
   "outputs": [],
   "source": [
    "# %%time\n",
    "# model = LogisticRegression(\n",
    "#     C = 10**-2\n",
    "# )\n",
    "# model.fit(X, Y)\n",
    "\n",
    "# predictions = model.predict_proba(X)\n",
    "\n",
    "# # predictions.sum()\n",
    "# predictions.shape"
   ]
  },
  {
   "cell_type": "code",
   "execution_count": 22,
   "id": "9b31159b",
   "metadata": {},
   "outputs": [],
   "source": [
    "# %%time\n",
    "# model = LogisticRegression(\n",
    "#     C = 10**-2\n",
    "# )\n",
    "# model.fit(X, Y)\n",
    "\n",
    "# predictions = model.predict_proba(X)\n",
    "\n",
    "# # predictions.sum()\n",
    "# predictions.shape"
   ]
  },
  {
   "cell_type": "code",
   "execution_count": 23,
   "id": "d50be69a",
   "metadata": {},
   "outputs": [],
   "source": [
    "# %%time\n",
    "# model = SVC(\n",
    "# #     C = 10**-2\n",
    "# )\n",
    "# model.fit(X, Y)\n",
    "\n",
    "# predictions = model.predict_proba(X)\n",
    "\n",
    "# # predictions.sum()\n",
    "# predictions.shape"
   ]
  },
  {
   "cell_type": "code",
   "execution_count": 24,
   "id": "e0426c05",
   "metadata": {
    "scrolled": true
   },
   "outputs": [],
   "source": [
    "# %%time\n",
    "# model = MLPClassifier(\n",
    "# #     C = 10**-2\n",
    "#     verbose = True,\n",
    "# #     early_stopping = True\n",
    "# )\n",
    "# model.fit(X, Y)\n",
    "\n",
    "# predictions = model.predict_proba(X)\n",
    "\n",
    "# # predictions.sum()\n",
    "# predictions.shape"
   ]
  },
  {
   "cell_type": "code",
   "execution_count": 25,
   "id": "35f8b580",
   "metadata": {},
   "outputs": [
    {
     "name": "stdout",
     "output_type": "stream",
     "text": [
      "X_train (166690, 768)\n",
      "X_test (55564, 768)\n"
     ]
    }
   ],
   "source": [
    "X_train, X_test, Y_train, Y_test = train_test_split(X, Y)\n",
    "print(\"X_train\", X_train.shape)\n",
    "print(\"X_test\", X_test.shape)"
   ]
  },
  {
   "cell_type": "code",
   "execution_count": 26,
   "id": "3ad173cc",
   "metadata": {},
   "outputs": [
    {
     "data": {
      "text/plain": [
       "(2842, 994)"
      ]
     },
     "execution_count": 26,
     "metadata": {},
     "output_type": "execute_result"
    }
   ],
   "source": [
    "Y_train.sum(), Y_test.sum()"
   ]
  },
  {
   "cell_type": "code",
   "execution_count": 27,
   "id": "acdb2183",
   "metadata": {
    "scrolled": false
   },
   "outputs": [
    {
     "name": "stdout",
     "output_type": "stream",
     "text": [
      "Iteration 1, loss = 0.09103144\n",
      "Iteration 2, loss = 0.08087767\n",
      "Iteration 3, loss = 0.07966416\n",
      "Iteration 4, loss = 0.07903714\n",
      "Iteration 5, loss = 0.07835226\n",
      "Iteration 6, loss = 0.07768553\n",
      "Iteration 7, loss = 0.07681757\n",
      "Iteration 8, loss = 0.07568470\n",
      "Iteration 9, loss = 0.07435018\n",
      "Iteration 10, loss = 0.07290867\n",
      "Iteration 11, loss = 0.07124349\n",
      "Iteration 12, loss = 0.06966014\n",
      "Iteration 13, loss = 0.06802146\n",
      "Iteration 14, loss = 0.06630722\n",
      "Iteration 15, loss = 0.06479597\n",
      "Iteration 16, loss = 0.06326984\n",
      "Iteration 17, loss = 0.06170768\n",
      "Iteration 18, loss = 0.06027839\n",
      "Iteration 19, loss = 0.05885090\n",
      "Iteration 20, loss = 0.05758098\n",
      "Iteration 21, loss = 0.05621515\n",
      "Iteration 22, loss = 0.05468776\n",
      "Iteration 23, loss = 0.05347793\n",
      "Iteration 24, loss = 0.05235715\n",
      "Iteration 25, loss = 0.05112447\n",
      "Iteration 26, loss = 0.05004422\n",
      "Iteration 27, loss = 0.04885206\n",
      "Iteration 28, loss = 0.04774496\n",
      "Iteration 29, loss = 0.04675610\n",
      "Iteration 30, loss = 0.04567262\n",
      "Iteration 31, loss = 0.04463811\n",
      "Iteration 32, loss = 0.04351137\n",
      "Iteration 33, loss = 0.04291088\n",
      "Iteration 34, loss = 0.04184245\n",
      "Iteration 35, loss = 0.04084246\n",
      "Iteration 36, loss = 0.03995562\n",
      "Iteration 37, loss = 0.03909595\n",
      "Iteration 38, loss = 0.03828433\n",
      "Iteration 39, loss = 0.03748525\n",
      "Iteration 40, loss = 0.03665870\n",
      "Iteration 41, loss = 0.03585690\n",
      "Iteration 42, loss = 0.03500108\n",
      "Iteration 43, loss = 0.03433659\n",
      "Iteration 44, loss = 0.03350716\n",
      "Iteration 45, loss = 0.03289072\n",
      "Iteration 46, loss = 0.03232298\n",
      "Iteration 47, loss = 0.03158061\n",
      "Iteration 48, loss = 0.03067278\n",
      "Iteration 49, loss = 0.03003301\n",
      "Iteration 50, loss = 0.02942544\n",
      "Iteration 51, loss = 0.02866780\n",
      "Iteration 52, loss = 0.02796349\n",
      "Iteration 53, loss = 0.02752177\n",
      "Iteration 54, loss = 0.02684788\n",
      "Iteration 55, loss = 0.02604284\n",
      "Iteration 56, loss = 0.02554414\n",
      "Iteration 57, loss = 0.02485130\n",
      "Iteration 58, loss = 0.02449851\n",
      "Iteration 59, loss = 0.02383708\n",
      "Iteration 60, loss = 0.02333490\n",
      "Iteration 61, loss = 0.02280073\n",
      "Iteration 62, loss = 0.02220769\n",
      "Iteration 63, loss = 0.02160164\n",
      "Iteration 64, loss = 0.02114968\n",
      "Iteration 65, loss = 0.02060140\n",
      "Iteration 66, loss = 0.02005331\n",
      "Iteration 67, loss = 0.01975172\n",
      "Iteration 68, loss = 0.01916464\n",
      "Iteration 69, loss = 0.01873209\n",
      "Iteration 70, loss = 0.01831672\n",
      "Iteration 71, loss = 0.01787662\n",
      "Iteration 72, loss = 0.01740346\n",
      "Iteration 73, loss = 0.01714127\n",
      "Iteration 74, loss = 0.01677237\n",
      "Iteration 75, loss = 0.01614303\n",
      "Iteration 76, loss = 0.01595751\n",
      "Iteration 77, loss = 0.01539812\n",
      "Iteration 78, loss = 0.01516561\n",
      "Iteration 79, loss = 0.01479168\n",
      "Iteration 80, loss = 0.01428381\n",
      "Iteration 81, loss = 0.01408986\n",
      "Iteration 82, loss = 0.01359408\n",
      "Iteration 83, loss = 0.01343460\n",
      "Iteration 84, loss = 0.01330721\n",
      "Iteration 85, loss = 0.01295839\n",
      "Iteration 86, loss = 0.01244875\n",
      "Iteration 87, loss = 0.01216350\n",
      "Iteration 88, loss = 0.01183211\n",
      "Iteration 89, loss = 0.01181774\n",
      "Iteration 90, loss = 0.01141439\n",
      "Iteration 91, loss = 0.01119277\n",
      "Iteration 92, loss = 0.01116827\n",
      "Iteration 93, loss = 0.01069117\n",
      "Iteration 94, loss = 0.01050717\n",
      "Iteration 95, loss = 0.01024383\n",
      "Iteration 96, loss = 0.01006996\n",
      "Iteration 97, loss = 0.01019800\n",
      "Iteration 98, loss = 0.00984938\n",
      "Iteration 99, loss = 0.00967543\n",
      "Iteration 100, loss = 0.00916798\n",
      "Iteration 101, loss = 0.00941385\n",
      "Iteration 102, loss = 0.00914111\n",
      "Iteration 103, loss = 0.00885941\n",
      "Iteration 104, loss = 0.00864885\n",
      "Iteration 105, loss = 0.00870843\n",
      "Iteration 106, loss = 0.00818978\n",
      "Iteration 107, loss = 0.00838740\n",
      "Iteration 108, loss = 0.00828401\n",
      "Iteration 109, loss = 0.00821698\n",
      "Iteration 110, loss = 0.00820857\n",
      "Iteration 111, loss = 0.00786430\n",
      "Iteration 112, loss = 0.00784194\n",
      "Iteration 113, loss = 0.00781361\n",
      "Iteration 114, loss = 0.00794509\n",
      "Iteration 115, loss = 0.00748072\n",
      "Iteration 116, loss = 0.00764689\n",
      "Iteration 117, loss = 0.00759561\n",
      "Iteration 118, loss = 0.00711056\n",
      "Iteration 119, loss = 0.00733433\n",
      "Iteration 120, loss = 0.00736801\n",
      "Iteration 121, loss = 0.00709611\n",
      "Iteration 122, loss = 0.00707781\n",
      "Iteration 123, loss = 0.00726355\n",
      "Iteration 124, loss = 0.00703994\n",
      "Iteration 125, loss = 0.00699003\n",
      "Iteration 126, loss = 0.00670986\n",
      "Iteration 127, loss = 0.00698104\n",
      "Iteration 128, loss = 0.00685077\n",
      "Iteration 129, loss = 0.00664752\n",
      "Iteration 130, loss = 0.00681915\n",
      "Iteration 131, loss = 0.00678141\n",
      "Iteration 132, loss = 0.00652209\n",
      "Iteration 133, loss = 0.00670034\n",
      "Iteration 134, loss = 0.00672243\n",
      "Iteration 135, loss = 0.00675129\n",
      "Iteration 136, loss = 0.00673712\n",
      "Iteration 137, loss = 0.00642687\n",
      "Iteration 138, loss = 0.00651177\n",
      "Iteration 139, loss = 0.00662039\n",
      "Iteration 140, loss = 0.00660850\n",
      "Iteration 141, loss = 0.00655253\n",
      "Iteration 142, loss = 0.00659615\n",
      "Iteration 143, loss = 0.00652436\n",
      "Training loss did not improve more than tol=0.000100 for 10 consecutive epochs. Stopping.\n",
      "CPU times: user 24min 55s, sys: 19min 54s, total: 44min 50s\n",
      "Wall time: 12min 35s\n"
     ]
    },
    {
     "data": {
      "text/plain": [
       "(55564, 2)"
      ]
     },
     "execution_count": 27,
     "metadata": {},
     "output_type": "execute_result"
    }
   ],
   "source": [
    "%%time\n",
    "\n",
    "model = MLPClassifier(\n",
    "#     C = 10**-2\n",
    "    verbose = True,\n",
    "#     early_stopping = True\n",
    ")\n",
    "model.fit(X_train, Y_train)\n",
    "\n",
    "predictions = model.predict_proba(X_test)\n",
    "\n",
    "# predictions.sum()\n",
    "predictions.shape"
   ]
  },
  {
   "cell_type": "code",
   "execution_count": 28,
   "id": "dac6d586",
   "metadata": {},
   "outputs": [
    {
     "data": {
      "image/png": "[encoded data removed]",
      "text/plain": [
       "<Figure size 640x480 with 1 Axes>"
      ]
     },
     "metadata": {},
     "output_type": "display_data"
    }
   ],
   "source": [
    "plt.hist(predictions[:, 1])\n",
    "# plt.xlim(-0.1, 1.1)\n",
    "plt.show()"
   ]
  },
  {
   "cell_type": "code",
   "execution_count": 29,
   "id": "ade086c6",
   "metadata": {},
   "outputs": [
    {
     "data": {
      "text/plain": [
       "0.7203932961890824"
      ]
     },
     "execution_count": 29,
     "metadata": {},
     "output_type": "execute_result"
    }
   ],
   "source": [
    "roc_auc_score(Y_test, predictions[:, 1])"
   ]
  },
  {
   "cell_type": "code",
   "execution_count": 30,
   "id": "ee5d17c3",
   "metadata": {},
   "outputs": [
    {
     "data": {
      "text/plain": [
       "0.05397482798592623"
      ]
     },
     "execution_count": 30,
     "metadata": {},
     "output_type": "execute_result"
    }
   ],
   "source": [
    "average_precision_score(Y_test, predictions[:, 1])"
   ]
  },
  {
   "cell_type": "code",
   "execution_count": 31,
   "id": "7ed69d3b",
   "metadata": {},
   "outputs": [
    {
     "data": {
      "text/plain": [
       "0.08217446270543616"
      ]
     },
     "execution_count": 31,
     "metadata": {},
     "output_type": "execute_result"
    }
   ],
   "source": [
    "f1_score(Y_test, predictions[:, 1] > 0.5)"
   ]
  },
  {
   "cell_type": "code",
   "execution_count": 33,
   "id": "77cf60c9",
   "metadata": {},
   "outputs": [
    {
     "data": {
      "image/png": "[encoded data removed]",
      "text/plain": [
       "<Figure size 640x480 with 1 Axes>"
      ]
     },
     "metadata": {},
     "output_type": "display_data"
    }
   ],
   "source": [
    "display = PrecisionRecallDisplay.from_estimator(\n",
    "    model, X_test, Y_test, name=\"Neural Network\"\n",
    ")"
   ]
  },
  {
   "cell_type": "code",
   "execution_count": null,
   "id": "e0f4769a",
   "metadata": {},
   "outputs": [],
   "source": []
  }
 ],
 "metadata": {
  "kernelspec": {
   "display_name": "Python 3 (ipykernel)",
   "language": "python",
   "name": "python3"
  },
  "language_info": {
   "codemirror_mode": {
    "name": "ipython",
    "version": 3
   },
   "file_extension": ".py",
   "mimetype": "text/x-python",
   "name": "python",
   "nbconvert_exporter": "python",
   "pygments_lexer": "ipython3",
   "version": "3.8.10"
  }
 },
 "nbformat": 4,
 "nbformat_minor": 5
}
