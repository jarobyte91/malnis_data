{
 "cells": [
  {
   "cell_type": "code",
   "execution_count": 1,
   "id": "dd10fc04",
   "metadata": {},
   "outputs": [],
   "source": [
    "import numpy as np\n",
    "import pandas as pd\n",
    "import matplotlib.pyplot as plt\n",
    "# import os\n",
    "# from sklearn.metrics import average_precision_score, roc_auc_score\n",
    "from malnis import show\n",
    "\n",
    "# plt.style.use('seaborn-whitegrid')\n",
    "import seaborn as sns\n",
    "sns.set(style = \"whitegrid\")\n",
    "from itertools import accumulate, groupby"
   ]
  },
  {
   "cell_type": "code",
   "execution_count": 2,
   "id": "3692743b",
   "metadata": {},
   "outputs": [],
   "source": [
    "data_folder = \"/home/jarobyte/scratch/malnis_dataset/data/\""
   ]
  },
  {
   "cell_type": "code",
   "execution_count": 3,
   "id": "5de0719c",
   "metadata": {},
   "outputs": [
    {
     "name": "stdout",
     "output_type": "stream",
     "text": [
      "(7172, 9)\n"
     ]
    },
    {
     "data": {
      "text/html": [
       "<div>\n",
       "<style scoped>\n",
       "    .dataframe tbody tr th:only-of-type {\n",
       "        vertical-align: middle;\n",
       "    }\n",
       "\n",
       "    .dataframe tbody tr th {\n",
       "        vertical-align: top;\n",
       "    }\n",
       "\n",
       "    .dataframe thead th {\n",
       "        text-align: right;\n",
       "    }\n",
       "</style>\n",
       "<table border=\"1\" class=\"dataframe\">\n",
       "  <thead>\n",
       "    <tr style=\"text-align: right;\">\n",
       "      <th></th>\n",
       "      <th>query</th>\n",
       "      <th>document</th>\n",
       "      <th>summary</th>\n",
       "      <th>r1</th>\n",
       "      <th>r2</th>\n",
       "      <th>rl</th>\n",
       "      <th>sentences</th>\n",
       "      <th>relevance</th>\n",
       "      <th>original_sentences</th>\n",
       "    </tr>\n",
       "  </thead>\n",
       "  <tbody>\n",
       "    <tr>\n",
       "      <th>7593</th>\n",
       "      <td>Due to the lack of structured knowledge applie...</td>\n",
       "      <td>Index Terms—Machine learning, knowledge discov...</td>\n",
       "      <td>[Text classification [226], text clustering [2...</td>\n",
       "      <td>0.278846</td>\n",
       "      <td>0.095941</td>\n",
       "      <td>0.259615</td>\n",
       "      <td>[Index Terms—Machine learning, knowledge disco...</td>\n",
       "      <td>[False, False, False, False, False, False, Fal...</td>\n",
       "      <td>685</td>\n",
       "    </tr>\n",
       "    <tr>\n",
       "      <th>7554</th>\n",
       "      <td>Obtaining enough labeled data to robustly trai...</td>\n",
       "      <td>One of the greatest roadblocks to using modern...</td>\n",
       "      <td>[“Lawyer”); moreover, these sources might be c...</td>\n",
       "      <td>0.295455</td>\n",
       "      <td>0.104247</td>\n",
       "      <td>0.272727</td>\n",
       "      <td>[One of the greatest roadblocks to using moder...</td>\n",
       "      <td>[True, False, True, False, False, False, False...</td>\n",
       "      <td>246</td>\n",
       "    </tr>\n",
       "    <tr>\n",
       "      <th>4892</th>\n",
       "      <td>Word embeddings, i.e., low-dimensional vector ...</td>\n",
       "      <td>Recently some studies have shown that text cla...</td>\n",
       "      <td>[A recent work (Schuster et al., 2020) showed ...</td>\n",
       "      <td>0.407018</td>\n",
       "      <td>0.186364</td>\n",
       "      <td>0.385965</td>\n",
       "      <td>[Recently some studies have shown that text cl...</td>\n",
       "      <td>[False, False, True, False, False, False, Fals...</td>\n",
       "      <td>202</td>\n",
       "    </tr>\n",
       "    <tr>\n",
       "      <th>4169</th>\n",
       "      <td>In this paper our objectives are, first, netwo...</td>\n",
       "      <td>It is commonsense that how you look at an obje...</td>\n",
       "      <td>[Views are commonly different sensory signals,...</td>\n",
       "      <td>0.257143</td>\n",
       "      <td>0.090909</td>\n",
       "      <td>0.250000</td>\n",
       "      <td>[It is commonsense that how you look at an obj...</td>\n",
       "      <td>[False, False, False, False, False, False, Fal...</td>\n",
       "      <td>240</td>\n",
       "    </tr>\n",
       "    <tr>\n",
       "      <th>6690</th>\n",
       "      <td>This paper describes TextTiling, an algorithm ...</td>\n",
       "      <td>Accurately representing the distance between t...</td>\n",
       "      <td>[Most similar to our method is that of Wan (20...</td>\n",
       "      <td>0.206349</td>\n",
       "      <td>0.037975</td>\n",
       "      <td>0.158730</td>\n",
       "      <td>[Accurately representing the distance between ...</td>\n",
       "      <td>[False, False, False, False, False, False, Fal...</td>\n",
       "      <td>246</td>\n",
       "    </tr>\n",
       "  </tbody>\n",
       "</table>\n",
       "</div>"
      ],
      "text/plain": [
       "                                                  query  \\\n",
       "7593  Due to the lack of structured knowledge applie...   \n",
       "7554  Obtaining enough labeled data to robustly trai...   \n",
       "4892  Word embeddings, i.e., low-dimensional vector ...   \n",
       "4169  In this paper our objectives are, first, netwo...   \n",
       "6690  This paper describes TextTiling, an algorithm ...   \n",
       "\n",
       "                                               document  \\\n",
       "7593  Index Terms—Machine learning, knowledge discov...   \n",
       "7554  One of the greatest roadblocks to using modern...   \n",
       "4892  Recently some studies have shown that text cla...   \n",
       "4169  It is commonsense that how you look at an obje...   \n",
       "6690  Accurately representing the distance between t...   \n",
       "\n",
       "                                                summary        r1        r2  \\\n",
       "7593  [Text classification [226], text clustering [2...  0.278846  0.095941   \n",
       "7554  [“Lawyer”); moreover, these sources might be c...  0.295455  0.104247   \n",
       "4892  [A recent work (Schuster et al., 2020) showed ...  0.407018  0.186364   \n",
       "4169  [Views are commonly different sensory signals,...  0.257143  0.090909   \n",
       "6690  [Most similar to our method is that of Wan (20...  0.206349  0.037975   \n",
       "\n",
       "            rl                                          sentences  \\\n",
       "7593  0.259615  [Index Terms—Machine learning, knowledge disco...   \n",
       "7554  0.272727  [One of the greatest roadblocks to using moder...   \n",
       "4892  0.385965  [Recently some studies have shown that text cl...   \n",
       "4169  0.250000  [It is commonsense that how you look at an obj...   \n",
       "6690  0.158730  [Accurately representing the distance between ...   \n",
       "\n",
       "                                              relevance  original_sentences  \n",
       "7593  [False, False, False, False, False, False, Fal...                 685  \n",
       "7554  [True, False, True, False, False, False, False...                 246  \n",
       "4892  [False, False, True, False, False, False, Fals...                 202  \n",
       "4169  [False, False, False, False, False, False, Fal...                 240  \n",
       "6690  [False, False, False, False, False, False, Fal...                 246  "
      ]
     },
     "execution_count": 3,
     "metadata": {},
     "output_type": "execute_result"
    }
   ],
   "source": [
    "train = pd.read_pickle(data_folder + \"data_train.pkl\")\n",
    "show(train)"
   ]
  },
  {
   "cell_type": "code",
   "execution_count": 4,
   "id": "d95267fe",
   "metadata": {},
   "outputs": [
    {
     "name": "stdout",
     "output_type": "stream",
     "text": [
      "(8965, 8)\n"
     ]
    },
    {
     "data": {
      "text/html": [
       "<div>\n",
       "<style scoped>\n",
       "    .dataframe tbody tr th:only-of-type {\n",
       "        vertical-align: middle;\n",
       "    }\n",
       "\n",
       "    .dataframe tbody tr th {\n",
       "        vertical-align: top;\n",
       "    }\n",
       "\n",
       "    .dataframe thead th {\n",
       "        text-align: right;\n",
       "    }\n",
       "</style>\n",
       "<table border=\"1\" class=\"dataframe\">\n",
       "  <thead>\n",
       "    <tr style=\"text-align: right;\">\n",
       "      <th></th>\n",
       "      <th>query</th>\n",
       "      <th>document</th>\n",
       "      <th>summary</th>\n",
       "      <th>r1</th>\n",
       "      <th>r2</th>\n",
       "      <th>rl</th>\n",
       "      <th>sentences</th>\n",
       "      <th>relevance</th>\n",
       "    </tr>\n",
       "  </thead>\n",
       "  <tbody>\n",
       "    <tr>\n",
       "      <th>0</th>\n",
       "      <td>We introduce a new language representation mod...</td>\n",
       "      <td>KEYWORDS cascade ranking, pre-trained language...</td>\n",
       "      <td>[Our approach is mainly based on the BERT lang...</td>\n",
       "      <td>0.237885</td>\n",
       "      <td>0.065359</td>\n",
       "      <td>0.229075</td>\n",
       "      <td>[KEYWORDS cascade ranking, pre-trained languag...</td>\n",
       "      <td>[False, False, False, False, False, False, Fal...</td>\n",
       "    </tr>\n",
       "    <tr>\n",
       "      <th>1</th>\n",
       "      <td>The dominant sequence transduction models are ...</td>\n",
       "      <td>KEYWORDS cascade ranking, pre-trained language...</td>\n",
       "      <td>[BERT [2] is a self-supervised approach for pr...</td>\n",
       "      <td>0.238372</td>\n",
       "      <td>0.063366</td>\n",
       "      <td>0.215116</td>\n",
       "      <td>[KEYWORDS cascade ranking, pre-trained languag...</td>\n",
       "      <td>[False, False, False, False, False, True, Fals...</td>\n",
       "    </tr>\n",
       "    <tr>\n",
       "      <th>2</th>\n",
       "      <td>Language model pretraining has led to signific...</td>\n",
       "      <td>KEYWORDS cascade ranking, pre-trained language...</td>\n",
       "      <td>[Recently, some variants [4, 12] of BERT langu...</td>\n",
       "      <td>0.172727</td>\n",
       "      <td>0.047782</td>\n",
       "      <td>0.172727</td>\n",
       "      <td>[KEYWORDS cascade ranking, pre-trained languag...</td>\n",
       "      <td>[False, False, False, False, False, True, Fals...</td>\n",
       "    </tr>\n",
       "    <tr>\n",
       "      <th>3</th>\n",
       "      <td>With the capability of modeling bidirectional ...</td>\n",
       "      <td>KEYWORDS cascade ranking, pre-trained language...</td>\n",
       "      <td>[Recently, some variants [4, 12] of BERT langu...</td>\n",
       "      <td>0.237838</td>\n",
       "      <td>0.078740</td>\n",
       "      <td>0.227027</td>\n",
       "      <td>[KEYWORDS cascade ranking, pre-trained languag...</td>\n",
       "      <td>[False, False, False, False, False, False, Tru...</td>\n",
       "    </tr>\n",
       "    <tr>\n",
       "      <th>4</th>\n",
       "      <td>Neural sequence-to-sequence models have provid...</td>\n",
       "      <td>KEYWORDS cascade ranking, pre-trained language...</td>\n",
       "      <td>[The proposed model is based on the pointer-ge...</td>\n",
       "      <td>0.215139</td>\n",
       "      <td>0.093023</td>\n",
       "      <td>0.199203</td>\n",
       "      <td>[KEYWORDS cascade ranking, pre-trained languag...</td>\n",
       "      <td>[False, False, False, False, False, False, Fal...</td>\n",
       "    </tr>\n",
       "  </tbody>\n",
       "</table>\n",
       "</div>"
      ],
      "text/plain": [
       "                                               query  \\\n",
       "0  We introduce a new language representation mod...   \n",
       "1  The dominant sequence transduction models are ...   \n",
       "2  Language model pretraining has led to signific...   \n",
       "3  With the capability of modeling bidirectional ...   \n",
       "4  Neural sequence-to-sequence models have provid...   \n",
       "\n",
       "                                            document  \\\n",
       "0  KEYWORDS cascade ranking, pre-trained language...   \n",
       "1  KEYWORDS cascade ranking, pre-trained language...   \n",
       "2  KEYWORDS cascade ranking, pre-trained language...   \n",
       "3  KEYWORDS cascade ranking, pre-trained language...   \n",
       "4  KEYWORDS cascade ranking, pre-trained language...   \n",
       "\n",
       "                                             summary        r1        r2  \\\n",
       "0  [Our approach is mainly based on the BERT lang...  0.237885  0.065359   \n",
       "1  [BERT [2] is a self-supervised approach for pr...  0.238372  0.063366   \n",
       "2  [Recently, some variants [4, 12] of BERT langu...  0.172727  0.047782   \n",
       "3  [Recently, some variants [4, 12] of BERT langu...  0.237838  0.078740   \n",
       "4  [The proposed model is based on the pointer-ge...  0.215139  0.093023   \n",
       "\n",
       "         rl                                          sentences  \\\n",
       "0  0.229075  [KEYWORDS cascade ranking, pre-trained languag...   \n",
       "1  0.215116  [KEYWORDS cascade ranking, pre-trained languag...   \n",
       "2  0.172727  [KEYWORDS cascade ranking, pre-trained languag...   \n",
       "3  0.227027  [KEYWORDS cascade ranking, pre-trained languag...   \n",
       "4  0.199203  [KEYWORDS cascade ranking, pre-trained languag...   \n",
       "\n",
       "                                           relevance  \n",
       "0  [False, False, False, False, False, False, Fal...  \n",
       "1  [False, False, False, False, False, True, Fals...  \n",
       "2  [False, False, False, False, False, True, Fals...  \n",
       "3  [False, False, False, False, False, False, Tru...  \n",
       "4  [False, False, False, False, False, False, Fal...  "
      ]
     },
     "execution_count": 4,
     "metadata": {},
     "output_type": "execute_result"
    }
   ],
   "source": [
    "data = pd.read_pickle(\"../data/sentence_labels.pkl\")\n",
    "show(data)"
   ]
  },
  {
   "cell_type": "code",
   "execution_count": 6,
   "id": "e75a5411",
   "metadata": {},
   "outputs": [
    {
     "name": "stdout",
     "output_type": "stream",
     "text": [
      "(7172, 8)\n"
     ]
    },
    {
     "data": {
      "text/html": [
       "<div>\n",
       "<style scoped>\n",
       "    .dataframe tbody tr th:only-of-type {\n",
       "        vertical-align: middle;\n",
       "    }\n",
       "\n",
       "    .dataframe tbody tr th {\n",
       "        vertical-align: top;\n",
       "    }\n",
       "\n",
       "    .dataframe thead th {\n",
       "        text-align: right;\n",
       "    }\n",
       "</style>\n",
       "<table border=\"1\" class=\"dataframe\">\n",
       "  <thead>\n",
       "    <tr style=\"text-align: right;\">\n",
       "      <th></th>\n",
       "      <th>query</th>\n",
       "      <th>document</th>\n",
       "      <th>summary</th>\n",
       "      <th>r1</th>\n",
       "      <th>r2</th>\n",
       "      <th>rl</th>\n",
       "      <th>sentences</th>\n",
       "      <th>relevance</th>\n",
       "    </tr>\n",
       "  </thead>\n",
       "  <tbody>\n",
       "    <tr>\n",
       "      <th>57</th>\n",
       "      <td>Due to the lack of structured knowledge applie...</td>\n",
       "      <td>Index Terms—Machine learning, knowledge discov...</td>\n",
       "      <td>[Text classification [226], text clustering [2...</td>\n",
       "      <td>0.278846</td>\n",
       "      <td>0.095941</td>\n",
       "      <td>0.259615</td>\n",
       "      <td>[Index Terms—Machine learning, knowledge disco...</td>\n",
       "      <td>[False, False, False, False, False, False, Fal...</td>\n",
       "    </tr>\n",
       "    <tr>\n",
       "      <th>18</th>\n",
       "      <td>Obtaining enough labeled data to robustly trai...</td>\n",
       "      <td>One of the greatest roadblocks to using modern...</td>\n",
       "      <td>[“Lawyer”); moreover, these sources might be c...</td>\n",
       "      <td>0.295455</td>\n",
       "      <td>0.104247</td>\n",
       "      <td>0.272727</td>\n",
       "      <td>[One of the greatest roadblocks to using moder...</td>\n",
       "      <td>[True, False, True, False, False, False, False...</td>\n",
       "    </tr>\n",
       "    <tr>\n",
       "      <th>3</th>\n",
       "      <td>Word embeddings, i.e., low-dimensional vector ...</td>\n",
       "      <td>Recently some studies have shown that text cla...</td>\n",
       "      <td>[A recent work (Schuster et al., 2020) showed ...</td>\n",
       "      <td>0.407018</td>\n",
       "      <td>0.186364</td>\n",
       "      <td>0.385965</td>\n",
       "      <td>[Recently some studies have shown that text cl...</td>\n",
       "      <td>[False, False, True, False, False, False, Fals...</td>\n",
       "    </tr>\n",
       "    <tr>\n",
       "      <th>66</th>\n",
       "      <td>In this paper our objectives are, first, netwo...</td>\n",
       "      <td>It is commonsense that how you look at an obje...</td>\n",
       "      <td>[Views are commonly different sensory signals,...</td>\n",
       "      <td>0.257143</td>\n",
       "      <td>0.090909</td>\n",
       "      <td>0.250000</td>\n",
       "      <td>[It is commonsense that how you look at an obj...</td>\n",
       "      <td>[False, False, False, False, False, False, Fal...</td>\n",
       "    </tr>\n",
       "    <tr>\n",
       "      <th>71</th>\n",
       "      <td>This paper describes TextTiling, an algorithm ...</td>\n",
       "      <td>Accurately representing the distance between t...</td>\n",
       "      <td>[Most similar to our method is that of Wan (20...</td>\n",
       "      <td>0.206349</td>\n",
       "      <td>0.037975</td>\n",
       "      <td>0.158730</td>\n",
       "      <td>[Accurately representing the distance between ...</td>\n",
       "      <td>[False, False, False, False, False, False, Fal...</td>\n",
       "    </tr>\n",
       "  </tbody>\n",
       "</table>\n",
       "</div>"
      ],
      "text/plain": [
       "                                                query  \\\n",
       "57  Due to the lack of structured knowledge applie...   \n",
       "18  Obtaining enough labeled data to robustly trai...   \n",
       "3   Word embeddings, i.e., low-dimensional vector ...   \n",
       "66  In this paper our objectives are, first, netwo...   \n",
       "71  This paper describes TextTiling, an algorithm ...   \n",
       "\n",
       "                                             document  \\\n",
       "57  Index Terms—Machine learning, knowledge discov...   \n",
       "18  One of the greatest roadblocks to using modern...   \n",
       "3   Recently some studies have shown that text cla...   \n",
       "66  It is commonsense that how you look at an obje...   \n",
       "71  Accurately representing the distance between t...   \n",
       "\n",
       "                                              summary        r1        r2  \\\n",
       "57  [Text classification [226], text clustering [2...  0.278846  0.095941   \n",
       "18  [“Lawyer”); moreover, these sources might be c...  0.295455  0.104247   \n",
       "3   [A recent work (Schuster et al., 2020) showed ...  0.407018  0.186364   \n",
       "66  [Views are commonly different sensory signals,...  0.257143  0.090909   \n",
       "71  [Most similar to our method is that of Wan (20...  0.206349  0.037975   \n",
       "\n",
       "          rl                                          sentences  \\\n",
       "57  0.259615  [Index Terms—Machine learning, knowledge disco...   \n",
       "18  0.272727  [One of the greatest roadblocks to using moder...   \n",
       "3   0.385965  [Recently some studies have shown that text cl...   \n",
       "66  0.250000  [It is commonsense that how you look at an obj...   \n",
       "71  0.158730  [Accurately representing the distance between ...   \n",
       "\n",
       "                                            relevance  \n",
       "57  [False, False, False, False, False, False, Fal...  \n",
       "18  [True, False, True, False, False, False, False...  \n",
       "3   [False, False, True, False, False, False, Fals...  \n",
       "66  [False, False, False, False, False, False, Fal...  \n",
       "71  [False, False, False, False, False, False, Fal...  "
      ]
     },
     "execution_count": 6,
     "metadata": {},
     "output_type": "execute_result"
    }
   ],
   "source": [
    "raw_train = data.iloc[train.index]\n",
    "show(raw_train)"
   ]
  },
  {
   "cell_type": "code",
   "execution_count": 7,
   "id": "54fd35c3",
   "metadata": {},
   "outputs": [
    {
     "data": {
      "text/plain": [
       "count    7172.000000\n",
       "mean      352.546152\n",
       "std       311.406426\n",
       "min         3.000000\n",
       "25%       203.000000\n",
       "50%       254.000000\n",
       "75%       375.000000\n",
       "max      4447.000000\n",
       "Name: relevance, dtype: float64"
      ]
     },
     "execution_count": 7,
     "metadata": {},
     "output_type": "execute_result"
    }
   ],
   "source": [
    "raw_train.relevance.map(len).describe()"
   ]
  },
  {
   "cell_type": "markdown",
   "id": "a21b1488",
   "metadata": {},
   "source": [
    "# Plots"
   ]
  },
  {
   "cell_type": "code",
   "execution_count": 8,
   "id": "7b9f6a5b",
   "metadata": {},
   "outputs": [],
   "source": [
    "# lines = raw_train.relevance.map(lambda x: [(1.0, i/len(x))  if y else (0.0, i/len(x)) for i, y in enumerate(x)])\n",
    "# lines[0]"
   ]
  },
  {
   "cell_type": "code",
   "execution_count": 9,
   "id": "cb019cae",
   "metadata": {},
   "outputs": [
    {
     "data": {
      "text/plain": [
       "0    ([0.0, 0.006024096385542169, 0.012048192771084...\n",
       "0    ([0.0, 0.0010905125408942203, 0.00218102508178...\n",
       "0    ([0.0, 0.0015015015015015015, 0.00300300300300...\n",
       "0    ([0.0, 0.0048543689320388345, 0.00970873786407...\n",
       "0    ([0.0, 0.0031545741324921135, 0.00630914826498...\n",
       "                           ...                        \n",
       "0    ([0.0, 0.0035714285714285713, 0.00714285714285...\n",
       "0    ([0.0, 0.0009587727708533077, 0.00191754554170...\n",
       "0    ([0.0, 0.004694835680751174, 0.009389671361502...\n",
       "0    ([0.0, 0.0021691973969631237, 0.00433839479392...\n",
       "0    ([0.0, 0.003875968992248062, 0.007751937984496...\n",
       "Name: relevance, Length: 87, dtype: object"
      ]
     },
     "execution_count": 9,
     "metadata": {},
     "output_type": "execute_result"
    }
   ],
   "source": [
    "lines = raw_train.relevance.map(\n",
    "    lambda x: (\n",
    "        [i/len(x) for i, y in enumerate(x)],\n",
    "        [1.0 if y else 0.0 for y in x],\n",
    "    )\n",
    ")\n",
    "lines[0]"
   ]
  },
  {
   "cell_type": "code",
   "execution_count": 10,
   "id": "1364e557",
   "metadata": {},
   "outputs": [
    {
     "name": "stderr",
     "output_type": "stream",
     "text": [
      "/tmp/ipykernel_3179843/2394907394.py:2: FutureWarning: The behavior of `series[i:j]` with an integer-dtype index is deprecated. In a future version, this will be treated as *label-based* indexing, consistent with e.g. `series[i]` lookups. To retain the old behavior, use `series.iloc[i:j]`. To get the future behavior, use `series.loc[i:j]`.\n",
      "  for x, y in lines[:3]:\n"
     ]
    },
    {
     "data": {
      "image/png": "[encoded data removed]",
      "text/plain": [
       "<Figure size 1200x600 with 1 Axes>"
      ]
     },
     "metadata": {},
     "output_type": "display_data"
    }
   ],
   "source": [
    "plt.subplots(figsize = (12, 6))\n",
    "for x, y in lines[:3]:\n",
    "    plt.plot(x, y)\n",
    "plt.show()"
   ]
  },
  {
   "cell_type": "markdown",
   "id": "c23fc11e",
   "metadata": {},
   "source": [
    "# mean interval length"
   ]
  },
  {
   "cell_type": "code",
   "execution_count": 16,
   "id": "cfba2660",
   "metadata": {},
   "outputs": [
    {
     "name": "stdout",
     "output_type": "stream",
     "text": [
      "(7172,)\n"
     ]
    },
    {
     "data": {
      "text/plain": [
       "57                   [1, 1, 1, 1, 1, 1, 1, 1]\n",
       "18    [1, 1, 1, 1, 1, 1, 1, 1, 1, 1, 1, 1, 1]\n",
       "3                 [1, 1, 1, 1, 1, 1, 1, 1, 1]\n",
       "66          [1, 1, 1, 1, 1, 1, 1, 1, 1, 1, 1]\n",
       "71                                     [1, 1]\n",
       "Name: relevance, dtype: object"
      ]
     },
     "execution_count": 16,
     "metadata": {},
     "output_type": "execute_result"
    }
   ],
   "source": [
    "spans = raw_train.relevance.map(lambda x: [y for y in [list(g) for k, g in groupby(x)] if y[0]])\\\n",
    ".map(lambda x: [len(l) for l in x])\n",
    "\n",
    "show(spans)"
   ]
  },
  {
   "cell_type": "code",
   "execution_count": 12,
   "id": "468b85df",
   "metadata": {},
   "outputs": [
    {
     "data": {
      "text/plain": [
       "73946"
      ]
     },
     "execution_count": 12,
     "metadata": {},
     "output_type": "execute_result"
    }
   ],
   "source": [
    "sum([len(x) for x in spans])"
   ]
  },
  {
   "cell_type": "code",
   "execution_count": 13,
   "id": "926396b7",
   "metadata": {},
   "outputs": [
    {
     "data": {
      "text/plain": [
       "count    73946.000000\n",
       "mean         1.053972\n",
       "std          0.242978\n",
       "min          1.000000\n",
       "25%          1.000000\n",
       "50%          1.000000\n",
       "75%          1.000000\n",
       "max          5.000000\n",
       "dtype: float64"
      ]
     },
     "execution_count": 13,
     "metadata": {},
     "output_type": "execute_result"
    }
   ],
   "source": [
    "unpacked = pd.Series([x for l in spans for x in l])\n",
    "unpacked.describe()"
   ]
  },
  {
   "cell_type": "code",
   "execution_count": 14,
   "id": "20775983",
   "metadata": {},
   "outputs": [
    {
     "name": "stdout",
     "output_type": "stream",
     "text": [
      "\\begin{tabular}{lr}\n",
      "\\toprule\n",
      "{} &          0 \\\\\n",
      "\\midrule\n",
      "1 &  94.953074 \\\\\n",
      "2 &   4.739945 \\\\\n",
      "3 &   0.269115 \\\\\n",
      "4 &   0.032456 \\\\\n",
      "5 &   0.005409 \\\\\n",
      "\\bottomrule\n",
      "\\end{tabular}\n",
      "\n"
     ]
    },
    {
     "name": "stderr",
     "output_type": "stream",
     "text": [
      "/tmp/ipykernel_3179843/1246959685.py:2: FutureWarning: In future versions `DataFrame.to_latex` is expected to utilise the base implementation of `Styler.to_latex` for formatting and rendering. The arguments signature may therefore change. It is recommended instead to use `DataFrame.style.to_latex` which also contains additional functionality.\n",
      "  (unpacked.value_counts(normalize = True) * 100).to_latex()\n"
     ]
    }
   ],
   "source": [
    "print(\n",
    "    (unpacked.value_counts(normalize = True) * 100).to_latex()\n",
    ")"
   ]
  },
  {
   "cell_type": "code",
   "execution_count": 15,
   "id": "d83ecf1e",
   "metadata": {},
   "outputs": [
    {
     "data": {
      "text/plain": [
       "3732"
      ]
     },
     "execution_count": 15,
     "metadata": {},
     "output_type": "execute_result"
    }
   ],
   "source": [
    "sum(unpacked != 1)"
   ]
  },
  {
   "cell_type": "markdown",
   "id": "096bdd30",
   "metadata": {},
   "source": [
    "# mean span number"
   ]
  },
  {
   "cell_type": "code",
   "execution_count": 40,
   "id": "57e52781",
   "metadata": {},
   "outputs": [
    {
     "name": "stdout",
     "output_type": "stream",
     "text": [
      "(7172,)\n"
     ]
    },
    {
     "data": {
      "text/plain": [
       "57    0.011679\n",
       "18    0.052846\n",
       "3     0.044554\n",
       "66    0.045833\n",
       "71    0.008130\n",
       "Name: relevance, dtype: float64"
      ]
     },
     "execution_count": 40,
     "metadata": {},
     "output_type": "execute_result"
    }
   ],
   "source": [
    "span_fraction = spans.map(len) / raw_train.relevance.map(len)\n",
    "show(span_fraction)"
   ]
  },
  {
   "cell_type": "code",
   "execution_count": 52,
   "id": "fc3714e7",
   "metadata": {},
   "outputs": [
    {
     "data": {
      "image/png": "[encoded data removed]",
      "text/plain": [
       "<Figure size 640x480 with 1 Axes>"
      ]
     },
     "metadata": {},
     "output_type": "display_data"
    }
   ],
   "source": [
    "span_fraction.plot.hist(bins = 50)\n",
    "plt.xlabel(\"Fraction of Relevant Sentences\", fontsize = \"x-large\")\n",
    "plt.ylabel(\"Frequency\", fontsize = \"x-large\")\n",
    "plt.show()"
   ]
  },
  {
   "cell_type": "code",
   "execution_count": 60,
   "id": "83ef976c",
   "metadata": {},
   "outputs": [
    {
     "name": "stdout",
     "output_type": "stream",
     "text": [
      "\\begin{tabular}{lr}\n",
      " & relevance \\\\\n",
      "count & 7172.000000 \\\\\n",
      "mean & 0.039000 \\\\\n",
      "std & 0.020000 \\\\\n",
      "min & 0.000000 \\\\\n",
      "25% & 0.024300 \\\\\n",
      "50% & 0.036600 \\\\\n",
      "75% & 0.050300 \\\\\n",
      "max & 0.227300 \\\\\n",
      "\\end{tabular}\n",
      "\n"
     ]
    }
   ],
   "source": [
    "print(span_fraction.describe(\n",
    "#     percentiles = np.linspace(0, 1,11)\n",
    ").round(4).to_frame().style.to_latex())"
   ]
  },
  {
   "cell_type": "code",
   "execution_count": null,
   "id": "ea0985de",
   "metadata": {},
   "outputs": [],
   "source": []
  },
  {
   "cell_type": "code",
   "execution_count": 39,
   "id": "8b817615",
   "metadata": {},
   "outputs": [
    {
     "name": "stdout",
     "output_type": "stream",
     "text": [
      "\\begin{tabular}{lr}\n",
      " & relevance \\\\\n",
      "count & 7172.000000 \\\\\n",
      "mean & 10.310374 \\\\\n",
      "std & 3.824506 \\\\\n",
      "min & 0.000000 \\\\\n",
      "25% & 8.000000 \\\\\n",
      "50% & 10.000000 \\\\\n",
      "75% & 13.000000 \\\\\n",
      "max & 43.000000 \\\\\n",
      "\\end{tabular}\n",
      "\n"
     ]
    }
   ],
   "source": [
    "print(spans.map(len).describe().to_frame().style.to_latex())"
   ]
  },
  {
   "cell_type": "code",
   "execution_count": 21,
   "id": "680abe86",
   "metadata": {},
   "outputs": [
    {
     "data": {
      "text/plain": [
       "count    7172.000000\n",
       "mean       10.310374\n",
       "std         3.824506\n",
       "min         0.000000\n",
       "0%          0.000000\n",
       "10%         6.000000\n",
       "20%         7.000000\n",
       "30%         8.000000\n",
       "40%         9.000000\n",
       "50%        10.000000\n",
       "60%        11.000000\n",
       "70%        12.000000\n",
       "80%        13.000000\n",
       "90%        15.000000\n",
       "100%       43.000000\n",
       "max        43.000000\n",
       "Name: relevance, dtype: float64"
      ]
     },
     "execution_count": 21,
     "metadata": {},
     "output_type": "execute_result"
    }
   ],
   "source": [
    "spans.map(len).describe(percentiles = np.linspace(0, 1, 11))"
   ]
  },
  {
   "cell_type": "code",
   "execution_count": 29,
   "id": "79183bf2",
   "metadata": {},
   "outputs": [
    {
     "data": {
      "image/png": "[encoded data removed]",
      "text/plain": [
       "<Figure size 640x480 with 1 Axes>"
      ]
     },
     "metadata": {},
     "output_type": "display_data"
    }
   ],
   "source": [
    "spans.map(len).plot.hist(bins = 30)\n",
    "plt.xlabel(\"Positive Label Spans\")\n",
    "t = range(0, 1800, 200)\n",
    "plt.yticks(ticks = t, labels = [f\"{s:,}\" for s in t])\n",
    "plt.show()"
   ]
  }
 ],
 "metadata": {
  "kernelspec": {
   "display_name": "Python 3 (ipykernel)",
   "language": "python",
   "name": "python3"
  },
  "language_info": {
   "codemirror_mode": {
    "name": "ipython",
    "version": 3
   },
   "file_extension": ".py",
   "mimetype": "text/x-python",
   "name": "python",
   "nbconvert_exporter": "python",
   "pygments_lexer": "ipython3",
   "version": "3.8.10"
  }
 },
 "nbformat": 4,
 "nbformat_minor": 5
}
