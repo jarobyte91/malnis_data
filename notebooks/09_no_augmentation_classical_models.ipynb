{
 "cells": [
  {
   "cell_type": "code",
   "execution_count": 1,
   "id": "eefcbec4",
   "metadata": {},
   "outputs": [],
   "source": [
    "import pandas as pd\n",
    "import numpy as np\n",
    "from malnis import show\n",
    "from nltk.tokenize import sent_tokenize\n",
    "from tqdm.notebook import tqdm\n",
    "import re\n",
    "from sklearn.model_selection import train_test_split\n",
    "from sklearn.feature_extraction.text import TfidfVectorizer\n",
    "from sklearn.metrics import average_precision_score, roc_auc_score"
   ]
  },
  {
   "cell_type": "code",
   "execution_count": 2,
   "id": "ccdf047a",
   "metadata": {},
   "outputs": [
    {
     "name": "stdout",
     "output_type": "stream",
     "text": [
      "(8965, 3)\n"
     ]
    },
    {
     "data": {
      "text/html": [
       "<div>\n",
       "<style scoped>\n",
       "    .dataframe tbody tr th:only-of-type {\n",
       "        vertical-align: middle;\n",
       "    }\n",
       "\n",
       "    .dataframe tbody tr th {\n",
       "        vertical-align: top;\n",
       "    }\n",
       "\n",
       "    .dataframe thead th {\n",
       "        text-align: right;\n",
       "    }\n",
       "</style>\n",
       "<table border=\"1\" class=\"dataframe\">\n",
       "  <thead>\n",
       "    <tr style=\"text-align: right;\">\n",
       "      <th></th>\n",
       "      <th>query</th>\n",
       "      <th>sentences</th>\n",
       "      <th>summary</th>\n",
       "    </tr>\n",
       "  </thead>\n",
       "  <tbody>\n",
       "    <tr>\n",
       "      <th>0</th>\n",
       "      <td>We introduce a new language representation mod...</td>\n",
       "      <td>[KEYWORDS cascade ranking, pre-trained languag...</td>\n",
       "      <td>[Our approach is mainly based on the BERT lang...</td>\n",
       "    </tr>\n",
       "    <tr>\n",
       "      <th>1</th>\n",
       "      <td>The dominant sequence transduction models are ...</td>\n",
       "      <td>[KEYWORDS cascade ranking, pre-trained languag...</td>\n",
       "      <td>[BERT [2] is a self-supervised approach for pr...</td>\n",
       "    </tr>\n",
       "    <tr>\n",
       "      <th>2</th>\n",
       "      <td>Language model pretraining has led to signific...</td>\n",
       "      <td>[KEYWORDS cascade ranking, pre-trained languag...</td>\n",
       "      <td>[Recently, some variants [4, 12] of BERT langu...</td>\n",
       "    </tr>\n",
       "    <tr>\n",
       "      <th>3</th>\n",
       "      <td>With the capability of modeling bidirectional ...</td>\n",
       "      <td>[KEYWORDS cascade ranking, pre-trained languag...</td>\n",
       "      <td>[Recently, some variants [4, 12] of BERT langu...</td>\n",
       "    </tr>\n",
       "    <tr>\n",
       "      <th>4</th>\n",
       "      <td>Neural sequence-to-sequence models have provid...</td>\n",
       "      <td>[KEYWORDS cascade ranking, pre-trained languag...</td>\n",
       "      <td>[The proposed model is based on the pointer-ge...</td>\n",
       "    </tr>\n",
       "  </tbody>\n",
       "</table>\n",
       "</div>"
      ],
      "text/plain": [
       "                                               query  \\\n",
       "0  We introduce a new language representation mod...   \n",
       "1  The dominant sequence transduction models are ...   \n",
       "2  Language model pretraining has led to signific...   \n",
       "3  With the capability of modeling bidirectional ...   \n",
       "4  Neural sequence-to-sequence models have provid...   \n",
       "\n",
       "                                           sentences  \\\n",
       "0  [KEYWORDS cascade ranking, pre-trained languag...   \n",
       "1  [KEYWORDS cascade ranking, pre-trained languag...   \n",
       "2  [KEYWORDS cascade ranking, pre-trained languag...   \n",
       "3  [KEYWORDS cascade ranking, pre-trained languag...   \n",
       "4  [KEYWORDS cascade ranking, pre-trained languag...   \n",
       "\n",
       "                                             summary  \n",
       "0  [Our approach is mainly based on the BERT lang...  \n",
       "1  [BERT [2] is a self-supervised approach for pr...  \n",
       "2  [Recently, some variants [4, 12] of BERT langu...  \n",
       "3  [Recently, some variants [4, 12] of BERT langu...  \n",
       "4  [The proposed model is based on the pointer-ge...  "
      ]
     },
     "execution_count": 2,
     "metadata": {},
     "output_type": "execute_result"
    }
   ],
   "source": [
    "data = pd.read_pickle(\"../data/sentence_labels.pkl\")\\\n",
    ".reset_index(drop = True)\\\n",
    "[[\"query\", \"sentences\", \"summary\"]]\\\n",
    ".assign(summary = lambda df: df.summary.map(lambda x: sent_tokenize(re.sub(r\"\\.(?=[A-Z])\", \". \", x[0]))))\\\n",
    "\n",
    "show(data)"
   ]
  },
  {
   "cell_type": "code",
   "execution_count": 3,
   "id": "0c059683",
   "metadata": {},
   "outputs": [
    {
     "data": {
      "application/vnd.jupyter.widget-view+json": {
       "model_id": "fbe8f384f0a0465cb790368e5264747b",
       "version_major": 2,
       "version_minor": 0
      },
      "text/plain": [
       "  0%|          | 0/8965 [00:00<?, ?it/s]"
      ]
     },
     "metadata": {},
     "output_type": "display_data"
    },
    {
     "data": {
      "text/plain": [
       "['keywordscascaderankingpretrainedlanguagemodeldocumentexpansionsequencetosequencegenerationacmreferenceformatmingyanchenlianglichenwubinbiweiwangjiangnanxialuosi',\n",
       " '2020',\n",
       " 'idstattrec2019deeplearningtrackdeepcascaderankingwithgenerationbaseddocumentexpansionandpretrainedlanguagemodeling',\n",
       " 'inproceedingsofacmconferenceconference17',\n",
       " 'acmnewyorknyusa4pages',\n",
       " 'httpsdoiorg101145nnnnnnnnnnnnnnthedeeplearningtrackisanewtrackfirstrunintrec2019whichaimsatstudyinginformationretrievalinalargetrainingdataregime',\n",
       " 'itconsistsoftwotaskspassagerankinganddocumentranking',\n",
       " 'bothtasksusealargehumangeneratedsetoftraininglabelsfromthemsmarco1dataset',\n",
       " 'thepassagerankingtaskfocusesonrankingpassageswhereitcontains1010916queriesonacollectionof8841823passages',\n",
       " 'thedocumentrankingtaskis1httpwwwmsmarcoorgpermissiontomakedigitalorhardcopiesofallorpartofthisworkforpersonalorclassroomuseisgrantedwithoutfeeprovidedthatcopiesarenotmadeordistributedforprofitorcommercialadvantageandthatcopiesbearthisnoticeandthefullcitationonthefirstpage']"
      ]
     },
     "execution_count": 3,
     "metadata": {},
     "output_type": "execute_result"
    }
   ],
   "source": [
    "df = data.sentences#.head(10)\n",
    "clean_sentences = [[re.sub(r\"\\W\", \"\", x.lower()) for x in l] for l in tqdm(df)]\n",
    "clean_sentences[0][:10]"
   ]
  },
  {
   "cell_type": "code",
   "execution_count": 4,
   "id": "83659aad",
   "metadata": {
    "scrolled": true
   },
   "outputs": [
    {
     "data": {
      "text/plain": [
       "1     6007\n",
       "2     1602\n",
       "3      573\n",
       "4      288\n",
       "5      151\n",
       "6       96\n",
       "7       77\n",
       "8       36\n",
       "9       35\n",
       "11      21\n",
       "10      19\n",
       "12       9\n",
       "13       8\n",
       "14       6\n",
       "15       5\n",
       "16       4\n",
       "18       4\n",
       "20       2\n",
       "30       2\n",
       "19       2\n",
       "32       2\n",
       "21       2\n",
       "28       2\n",
       "49       1\n",
       "71       1\n",
       "69       1\n",
       "25       1\n",
       "24       1\n",
       "31       1\n",
       "23       1\n",
       "17       1\n",
       "42       1\n",
       "74       1\n",
       "84       1\n",
       "54       1\n",
       "Name: summary, dtype: int64"
      ]
     },
     "execution_count": 4,
     "metadata": {},
     "output_type": "execute_result"
    }
   ],
   "source": [
    "data.summary.map(len).value_counts()"
   ]
  },
  {
   "cell_type": "code",
   "execution_count": 5,
   "id": "73781650",
   "metadata": {},
   "outputs": [
    {
     "data": {
      "application/vnd.jupyter.widget-view+json": {
       "model_id": "a650a9778e9c4474841c0f09c79f482e",
       "version_major": 2,
       "version_minor": 0
      },
      "text/plain": [
       "  0%|          | 0/8965 [00:00<?, ?it/s]"
      ]
     },
     "metadata": {},
     "output_type": "display_data"
    },
    {
     "data": {
      "text/plain": [
       "['ourapproachismainlybasedonthebertlanguagemodel2whichisastateoftheartmodelinvariousnaturallanguageunderstandingtasks',\n",
       " 'bert2isaselfsupervisedapproachforpretrainingadeeptransformerencoder8beforefinetuningitforaparticulardownstreamtask']"
      ]
     },
     "execution_count": 5,
     "metadata": {},
     "output_type": "execute_result"
    }
   ],
   "source": [
    "df = data.summary#.head(10)\n",
    "clean_summary = [[re.sub(r\"\\W\", \"\", x.lower()) for x in l] for l in tqdm(df)]\n",
    "clean_summary[0][:10]"
   ]
  },
  {
   "cell_type": "code",
   "execution_count": 6,
   "id": "9caddfe2",
   "metadata": {
    "scrolled": true
   },
   "outputs": [
    {
     "data": {
      "text/plain": [
       "1     6007\n",
       "2     1602\n",
       "3      573\n",
       "4      288\n",
       "5      151\n",
       "6       96\n",
       "7       77\n",
       "8       36\n",
       "9       35\n",
       "11      21\n",
       "10      19\n",
       "12       9\n",
       "13       8\n",
       "14       6\n",
       "15       5\n",
       "16       4\n",
       "18       4\n",
       "20       2\n",
       "30       2\n",
       "19       2\n",
       "32       2\n",
       "21       2\n",
       "28       2\n",
       "49       1\n",
       "71       1\n",
       "69       1\n",
       "25       1\n",
       "24       1\n",
       "31       1\n",
       "23       1\n",
       "17       1\n",
       "42       1\n",
       "74       1\n",
       "84       1\n",
       "54       1\n",
       "dtype: int64"
      ]
     },
     "execution_count": 6,
     "metadata": {},
     "output_type": "execute_result"
    }
   ],
   "source": [
    "pd.Series(clean_summary).map(len).value_counts()"
   ]
  },
  {
   "cell_type": "code",
   "execution_count": 7,
   "id": "d32cae6b",
   "metadata": {},
   "outputs": [
    {
     "data": {
      "text/plain": [
       "3173352"
      ]
     },
     "execution_count": 7,
     "metadata": {},
     "output_type": "execute_result"
    }
   ],
   "source": [
    "data.sentences.map(len).sum()"
   ]
  },
  {
   "cell_type": "code",
   "execution_count": 8,
   "id": "79cf4e01",
   "metadata": {},
   "outputs": [
    {
     "data": {
      "application/vnd.jupyter.widget-view+json": {
       "model_id": "bd519d8566fa48bc929909ddab4b5339",
       "version_major": 2,
       "version_minor": 0
      },
      "text/plain": [
       "  0%|          | 0/8965 [00:00<?, ?it/s]"
      ]
     },
     "metadata": {},
     "output_type": "display_data"
    },
    {
     "data": {
      "text/plain": [
       "3173352"
      ]
     },
     "execution_count": 8,
     "metadata": {},
     "output_type": "execute_result"
    }
   ],
   "source": [
    "relevance = [\n",
    "    [True if s in summ else False for s in sents] \n",
    "    for sents, summ in zip(tqdm(clean_sentences), clean_summary)\n",
    "]\n",
    "sum([len(x) for x in relevance])"
   ]
  },
  {
   "cell_type": "code",
   "execution_count": 9,
   "id": "700e6a5c",
   "metadata": {},
   "outputs": [
    {
     "name": "stdout",
     "output_type": "stream",
     "text": [
      "(8965, 4)\n"
     ]
    },
    {
     "data": {
      "text/html": [
       "<div>\n",
       "<style scoped>\n",
       "    .dataframe tbody tr th:only-of-type {\n",
       "        vertical-align: middle;\n",
       "    }\n",
       "\n",
       "    .dataframe tbody tr th {\n",
       "        vertical-align: top;\n",
       "    }\n",
       "\n",
       "    .dataframe thead th {\n",
       "        text-align: right;\n",
       "    }\n",
       "</style>\n",
       "<table border=\"1\" class=\"dataframe\">\n",
       "  <thead>\n",
       "    <tr style=\"text-align: right;\">\n",
       "      <th></th>\n",
       "      <th>query</th>\n",
       "      <th>sentences</th>\n",
       "      <th>summary</th>\n",
       "      <th>relevance</th>\n",
       "    </tr>\n",
       "  </thead>\n",
       "  <tbody>\n",
       "    <tr>\n",
       "      <th>0</th>\n",
       "      <td>We introduce a new language representation mod...</td>\n",
       "      <td>[KEYWORDS cascade ranking, pre-trained languag...</td>\n",
       "      <td>[Our approach is mainly based on the BERT lang...</td>\n",
       "      <td>[False, False, False, False, False, False, Fal...</td>\n",
       "    </tr>\n",
       "    <tr>\n",
       "      <th>1</th>\n",
       "      <td>The dominant sequence transduction models are ...</td>\n",
       "      <td>[KEYWORDS cascade ranking, pre-trained languag...</td>\n",
       "      <td>[BERT [2] is a self-supervised approach for pr...</td>\n",
       "      <td>[False, False, False, False, False, False, Fal...</td>\n",
       "    </tr>\n",
       "    <tr>\n",
       "      <th>2</th>\n",
       "      <td>Language model pretraining has led to signific...</td>\n",
       "      <td>[KEYWORDS cascade ranking, pre-trained languag...</td>\n",
       "      <td>[Recently, some variants [4, 12] of BERT langu...</td>\n",
       "      <td>[False, False, False, False, False, False, Fal...</td>\n",
       "    </tr>\n",
       "    <tr>\n",
       "      <th>3</th>\n",
       "      <td>With the capability of modeling bidirectional ...</td>\n",
       "      <td>[KEYWORDS cascade ranking, pre-trained languag...</td>\n",
       "      <td>[Recently, some variants [4, 12] of BERT langu...</td>\n",
       "      <td>[False, False, False, False, False, False, Fal...</td>\n",
       "    </tr>\n",
       "    <tr>\n",
       "      <th>4</th>\n",
       "      <td>Neural sequence-to-sequence models have provid...</td>\n",
       "      <td>[KEYWORDS cascade ranking, pre-trained languag...</td>\n",
       "      <td>[The proposed model is based on the pointer-ge...</td>\n",
       "      <td>[False, False, False, False, False, False, Fal...</td>\n",
       "    </tr>\n",
       "  </tbody>\n",
       "</table>\n",
       "</div>"
      ],
      "text/plain": [
       "                                               query  \\\n",
       "0  We introduce a new language representation mod...   \n",
       "1  The dominant sequence transduction models are ...   \n",
       "2  Language model pretraining has led to signific...   \n",
       "3  With the capability of modeling bidirectional ...   \n",
       "4  Neural sequence-to-sequence models have provid...   \n",
       "\n",
       "                                           sentences  \\\n",
       "0  [KEYWORDS cascade ranking, pre-trained languag...   \n",
       "1  [KEYWORDS cascade ranking, pre-trained languag...   \n",
       "2  [KEYWORDS cascade ranking, pre-trained languag...   \n",
       "3  [KEYWORDS cascade ranking, pre-trained languag...   \n",
       "4  [KEYWORDS cascade ranking, pre-trained languag...   \n",
       "\n",
       "                                             summary  \\\n",
       "0  [Our approach is mainly based on the BERT lang...   \n",
       "1  [BERT [2] is a self-supervised approach for pr...   \n",
       "2  [Recently, some variants [4, 12] of BERT langu...   \n",
       "3  [Recently, some variants [4, 12] of BERT langu...   \n",
       "4  [The proposed model is based on the pointer-ge...   \n",
       "\n",
       "                                           relevance  \n",
       "0  [False, False, False, False, False, False, Fal...  \n",
       "1  [False, False, False, False, False, False, Fal...  \n",
       "2  [False, False, False, False, False, False, Fal...  \n",
       "3  [False, False, False, False, False, False, Fal...  \n",
       "4  [False, False, False, False, False, False, Fal...  "
      ]
     },
     "execution_count": 9,
     "metadata": {},
     "output_type": "execute_result"
    }
   ],
   "source": [
    "data = data.assign(relevance = relevance)\n",
    "show(data)"
   ]
  },
  {
   "cell_type": "code",
   "execution_count": 10,
   "id": "c4596747",
   "metadata": {},
   "outputs": [
    {
     "data": {
      "text/plain": [
       "True"
      ]
     },
     "execution_count": 10,
     "metadata": {},
     "output_type": "execute_result"
    }
   ],
   "source": [
    "all(data.relevance.map(len) == data.sentences.map(len))"
   ]
  },
  {
   "cell_type": "code",
   "execution_count": 11,
   "id": "3310ed0d",
   "metadata": {},
   "outputs": [
    {
     "data": {
      "text/plain": [
       "True     6292\n",
       "False    2673\n",
       "Name: relevance, dtype: int64"
      ]
     },
     "execution_count": 11,
     "metadata": {},
     "output_type": "execute_result"
    }
   ],
   "source": [
    "data.relevance.map(any).value_counts()"
   ]
  },
  {
   "cell_type": "code",
   "execution_count": 12,
   "id": "e664b69f",
   "metadata": {},
   "outputs": [
    {
     "data": {
      "text/plain": [
       "1816    False\n",
       "2241    False\n",
       "2242    False\n",
       "2243    False\n",
       "2244    False\n",
       "        ...  \n",
       "3630     True\n",
       "3629     True\n",
       "3628     True\n",
       "3641     True\n",
       "8964     True\n",
       "Name: relevance, Length: 8965, dtype: bool"
      ]
     },
     "execution_count": 12,
     "metadata": {},
     "output_type": "execute_result"
    }
   ],
   "source": [
    "data.relevance.map(any).sort_values()"
   ]
  },
  {
   "cell_type": "code",
   "execution_count": 13,
   "id": "dffac618",
   "metadata": {},
   "outputs": [],
   "source": [
    "filt = data.relevance.map(any)"
   ]
  },
  {
   "cell_type": "code",
   "execution_count": 14,
   "id": "923b9712",
   "metadata": {},
   "outputs": [
    {
     "name": "stdout",
     "output_type": "stream",
     "text": [
      "(6292, 4)\n"
     ]
    },
    {
     "data": {
      "text/html": [
       "<div>\n",
       "<style scoped>\n",
       "    .dataframe tbody tr th:only-of-type {\n",
       "        vertical-align: middle;\n",
       "    }\n",
       "\n",
       "    .dataframe tbody tr th {\n",
       "        vertical-align: top;\n",
       "    }\n",
       "\n",
       "    .dataframe thead th {\n",
       "        text-align: right;\n",
       "    }\n",
       "</style>\n",
       "<table border=\"1\" class=\"dataframe\">\n",
       "  <thead>\n",
       "    <tr style=\"text-align: right;\">\n",
       "      <th></th>\n",
       "      <th>query</th>\n",
       "      <th>sentences</th>\n",
       "      <th>summary</th>\n",
       "      <th>relevance</th>\n",
       "    </tr>\n",
       "  </thead>\n",
       "  <tbody>\n",
       "    <tr>\n",
       "      <th>0</th>\n",
       "      <td>We introduce a new language representation mod...</td>\n",
       "      <td>[KEYWORDS cascade ranking, pre-trained languag...</td>\n",
       "      <td>[Our approach is mainly based on the BERT lang...</td>\n",
       "      <td>[False, False, False, False, False, False, Fal...</td>\n",
       "    </tr>\n",
       "    <tr>\n",
       "      <th>1</th>\n",
       "      <td>The dominant sequence transduction models are ...</td>\n",
       "      <td>[KEYWORDS cascade ranking, pre-trained languag...</td>\n",
       "      <td>[BERT [2] is a self-supervised approach for pr...</td>\n",
       "      <td>[False, False, False, False, False, False, Fal...</td>\n",
       "    </tr>\n",
       "    <tr>\n",
       "      <th>2</th>\n",
       "      <td>Language model pretraining has led to signific...</td>\n",
       "      <td>[KEYWORDS cascade ranking, pre-trained languag...</td>\n",
       "      <td>[Recently, some variants [4, 12] of BERT langu...</td>\n",
       "      <td>[False, False, False, False, False, False, Fal...</td>\n",
       "    </tr>\n",
       "    <tr>\n",
       "      <th>3</th>\n",
       "      <td>With the capability of modeling bidirectional ...</td>\n",
       "      <td>[KEYWORDS cascade ranking, pre-trained languag...</td>\n",
       "      <td>[Recently, some variants [4, 12] of BERT langu...</td>\n",
       "      <td>[False, False, False, False, False, False, Fal...</td>\n",
       "    </tr>\n",
       "    <tr>\n",
       "      <th>4</th>\n",
       "      <td>Neural sequence-to-sequence models have provid...</td>\n",
       "      <td>[KEYWORDS cascade ranking, pre-trained languag...</td>\n",
       "      <td>[The proposed model is based on the pointer-ge...</td>\n",
       "      <td>[False, False, False, False, False, False, Fal...</td>\n",
       "    </tr>\n",
       "  </tbody>\n",
       "</table>\n",
       "</div>"
      ],
      "text/plain": [
       "                                               query  \\\n",
       "0  We introduce a new language representation mod...   \n",
       "1  The dominant sequence transduction models are ...   \n",
       "2  Language model pretraining has led to signific...   \n",
       "3  With the capability of modeling bidirectional ...   \n",
       "4  Neural sequence-to-sequence models have provid...   \n",
       "\n",
       "                                           sentences  \\\n",
       "0  [KEYWORDS cascade ranking, pre-trained languag...   \n",
       "1  [KEYWORDS cascade ranking, pre-trained languag...   \n",
       "2  [KEYWORDS cascade ranking, pre-trained languag...   \n",
       "3  [KEYWORDS cascade ranking, pre-trained languag...   \n",
       "4  [KEYWORDS cascade ranking, pre-trained languag...   \n",
       "\n",
       "                                             summary  \\\n",
       "0  [Our approach is mainly based on the BERT lang...   \n",
       "1  [BERT [2] is a self-supervised approach for pr...   \n",
       "2  [Recently, some variants [4, 12] of BERT langu...   \n",
       "3  [Recently, some variants [4, 12] of BERT langu...   \n",
       "4  [The proposed model is based on the pointer-ge...   \n",
       "\n",
       "                                           relevance  \n",
       "0  [False, False, False, False, False, False, Fal...  \n",
       "1  [False, False, False, False, False, False, Fal...  \n",
       "2  [False, False, False, False, False, False, Fal...  \n",
       "3  [False, False, False, False, False, False, Fal...  \n",
       "4  [False, False, False, False, False, False, Fal...  "
      ]
     },
     "execution_count": 14,
     "metadata": {},
     "output_type": "execute_result"
    }
   ],
   "source": [
    "new = data.loc[filt]\n",
    "show(new)"
   ]
  },
  {
   "cell_type": "code",
   "execution_count": 15,
   "id": "7a072d4e",
   "metadata": {},
   "outputs": [
    {
     "data": {
      "text/plain": [
       "((4719, 4), (1573, 4))"
      ]
     },
     "execution_count": 15,
     "metadata": {},
     "output_type": "execute_result"
    }
   ],
   "source": [
    "train, test = train_test_split(new)\n",
    "train.shape, test.shape"
   ]
  },
  {
   "cell_type": "code",
   "execution_count": 16,
   "id": "3398f248",
   "metadata": {},
   "outputs": [
    {
     "data": {
      "text/plain": [
       "(557897,)"
      ]
     },
     "execution_count": 16,
     "metadata": {},
     "output_type": "execute_result"
    }
   ],
   "source": [
    "rel = np.concatenate(test.relevance.tolist())\n",
    "rel.shape"
   ]
  },
  {
   "cell_type": "code",
   "execution_count": 18,
   "id": "c966a782",
   "metadata": {},
   "outputs": [
    {
     "name": "stdout",
     "output_type": "stream",
     "text": [
      "CPU times: user 46.7 s, sys: 169 ms, total: 46.9 s\n",
      "Wall time: 46.9 s\n"
     ]
    },
    {
     "data": {
      "text/plain": [
       "1754236"
      ]
     },
     "execution_count": 18,
     "metadata": {},
     "output_type": "execute_result"
    }
   ],
   "source": [
    "%%time\n",
    "\n",
    "corpus = train.sentences.sum()\n",
    "len(corpus)"
   ]
  },
  {
   "cell_type": "markdown",
   "id": "0ff19968",
   "metadata": {},
   "source": [
    "# words"
   ]
  },
  {
   "cell_type": "code",
   "execution_count": 19,
   "id": "cd17e7a3",
   "metadata": {},
   "outputs": [
    {
     "data": {
      "text/html": [
       "<style>#sk-container-id-1 {color: black;background-color: white;}#sk-container-id-1 pre{padding: 0;}#sk-container-id-1 div.sk-toggleable {background-color: white;}#sk-container-id-1 label.sk-toggleable__label {cursor: pointer;display: block;width: 100%;margin-bottom: 0;padding: 0.3em;box-sizing: border-box;text-align: center;}#sk-container-id-1 label.sk-toggleable__label-arrow:before {content: \"▸\";float: left;margin-right: 0.25em;color: #696969;}#sk-container-id-1 label.sk-toggleable__label-arrow:hover:before {color: black;}#sk-container-id-1 div.sk-estimator:hover label.sk-toggleable__label-arrow:before {color: black;}#sk-container-id-1 div.sk-toggleable__content {max-height: 0;max-width: 0;overflow: hidden;text-align: left;background-color: #f0f8ff;}#sk-container-id-1 div.sk-toggleable__content pre {margin: 0.2em;color: black;border-radius: 0.25em;background-color: #f0f8ff;}#sk-container-id-1 input.sk-toggleable__control:checked~div.sk-toggleable__content {max-height: 200px;max-width: 100%;overflow: auto;}#sk-container-id-1 input.sk-toggleable__control:checked~label.sk-toggleable__label-arrow:before {content: \"▾\";}#sk-container-id-1 div.sk-estimator input.sk-toggleable__control:checked~label.sk-toggleable__label {background-color: #d4ebff;}#sk-container-id-1 div.sk-label input.sk-toggleable__control:checked~label.sk-toggleable__label {background-color: #d4ebff;}#sk-container-id-1 input.sk-hidden--visually {border: 0;clip: rect(1px 1px 1px 1px);clip: rect(1px, 1px, 1px, 1px);height: 1px;margin: -1px;overflow: hidden;padding: 0;position: absolute;width: 1px;}#sk-container-id-1 div.sk-estimator {font-family: monospace;background-color: #f0f8ff;border: 1px dotted black;border-radius: 0.25em;box-sizing: border-box;margin-bottom: 0.5em;}#sk-container-id-1 div.sk-estimator:hover {background-color: #d4ebff;}#sk-container-id-1 div.sk-parallel-item::after {content: \"\";width: 100%;border-bottom: 1px solid gray;flex-grow: 1;}#sk-container-id-1 div.sk-label:hover label.sk-toggleable__label {background-color: #d4ebff;}#sk-container-id-1 div.sk-serial::before {content: \"\";position: absolute;border-left: 1px solid gray;box-sizing: border-box;top: 0;bottom: 0;left: 50%;z-index: 0;}#sk-container-id-1 div.sk-serial {display: flex;flex-direction: column;align-items: center;background-color: white;padding-right: 0.2em;padding-left: 0.2em;position: relative;}#sk-container-id-1 div.sk-item {position: relative;z-index: 1;}#sk-container-id-1 div.sk-parallel {display: flex;align-items: stretch;justify-content: center;background-color: white;position: relative;}#sk-container-id-1 div.sk-item::before, #sk-container-id-1 div.sk-parallel-item::before {content: \"\";position: absolute;border-left: 1px solid gray;box-sizing: border-box;top: 0;bottom: 0;left: 50%;z-index: -1;}#sk-container-id-1 div.sk-parallel-item {display: flex;flex-direction: column;z-index: 1;position: relative;background-color: white;}#sk-container-id-1 div.sk-parallel-item:first-child::after {align-self: flex-end;width: 50%;}#sk-container-id-1 div.sk-parallel-item:last-child::after {align-self: flex-start;width: 50%;}#sk-container-id-1 div.sk-parallel-item:only-child::after {width: 0;}#sk-container-id-1 div.sk-dashed-wrapped {border: 1px dashed gray;margin: 0 0.4em 0.5em 0.4em;box-sizing: border-box;padding-bottom: 0.4em;background-color: white;}#sk-container-id-1 div.sk-label label {font-family: monospace;font-weight: bold;display: inline-block;line-height: 1.2em;}#sk-container-id-1 div.sk-label-container {text-align: center;}#sk-container-id-1 div.sk-container {/* jupyter's `normalize.less` sets `[hidden] { display: none; }` but bootstrap.min.css set `[hidden] { display: none !important; }` so we also need the `!important` here to be able to override the default hidden behavior on the sphinx rendered scikit-learn.org. See: https://github.com/scikit-learn/scikit-learn/issues/21755 */display: inline-block !important;position: relative;}#sk-container-id-1 div.sk-text-repr-fallback {display: none;}</style><div id=\"sk-container-id-1\" class=\"sk-top-container\"><div class=\"sk-text-repr-fallback\"><pre>TfidfVectorizer()</pre><b>In a Jupyter environment, please rerun this cell to show the HTML representation or trust the notebook. <br />On GitHub, the HTML representation is unable to render, please try loading this page with nbviewer.org.</b></div><div class=\"sk-container\" hidden><div class=\"sk-item\"><div class=\"sk-estimator sk-toggleable\"><input class=\"sk-toggleable__control sk-hidden--visually\" id=\"sk-estimator-id-1\" type=\"checkbox\" checked><label for=\"sk-estimator-id-1\" class=\"sk-toggleable__label sk-toggleable__label-arrow\">TfidfVectorizer</label><div class=\"sk-toggleable__content\"><pre>TfidfVectorizer()</pre></div></div></div></div></div>"
      ],
      "text/plain": [
       "TfidfVectorizer()"
      ]
     },
     "execution_count": 19,
     "metadata": {},
     "output_type": "execute_result"
    }
   ],
   "source": [
    "vectorizer_words = TfidfVectorizer()\n",
    "vectorizer_words.fit(corpus)"
   ]
  },
  {
   "cell_type": "code",
   "execution_count": 20,
   "id": "03caa7e7",
   "metadata": {},
   "outputs": [
    {
     "data": {
      "application/vnd.jupyter.widget-view+json": {
       "model_id": "75998ea4336849e99abc07d0126706bd",
       "version_major": 2,
       "version_minor": 0
      },
      "text/plain": [
       "  0%|          | 0/1573 [00:00<?, ?it/s]"
      ]
     },
     "metadata": {},
     "output_type": "display_data"
    },
    {
     "data": {
      "text/plain": [
       "(232, 65457)"
      ]
     },
     "execution_count": 20,
     "metadata": {},
     "output_type": "execute_result"
    }
   ],
   "source": [
    "sentence_features_words = [vectorizer_words.transform(s) for s in tqdm(test.sentences)]\n",
    "sentence_features_words[0].shape"
   ]
  },
  {
   "cell_type": "code",
   "execution_count": null,
   "id": "e78bb416",
   "metadata": {},
   "outputs": [],
   "source": [
    "# summary_features_words = [vectorizer_words.transform(s) for s in tqdm(test.summary)] \n",
    "# summary_features_words[0].shape"
   ]
  },
  {
   "cell_type": "code",
   "execution_count": null,
   "id": "b0f507a6",
   "metadata": {},
   "outputs": [],
   "source": [
    "# scores_words = [\n",
    "#     (sents @ summ.T).max(1).toarray().squeeze() \n",
    "#     for sents, summ in zip(tqdm(sentence_features_words), summary_features_words)\n",
    "# ]\n",
    "# scores_words[0].shape"
   ]
  },
  {
   "cell_type": "code",
   "execution_count": 22,
   "id": "db59ec94",
   "metadata": {},
   "outputs": [
    {
     "data": {
      "application/vnd.jupyter.widget-view+json": {
       "model_id": "f6c26849e4d744a78940839f3424846c",
       "version_major": 2,
       "version_minor": 0
      },
      "text/plain": [
       "  0%|          | 0/1573 [00:00<?, ?it/s]"
      ]
     },
     "metadata": {},
     "output_type": "display_data"
    },
    {
     "data": {
      "text/plain": [
       "(1573, (1, 65457))"
      ]
     },
     "execution_count": 22,
     "metadata": {},
     "output_type": "execute_result"
    }
   ],
   "source": [
    "query_features_words = [vectorizer_words.transform([s]) for s in tqdm(test[\"query\"])]\n",
    "\n",
    "len(query_features_words), query_features_words[0].shape "
   ]
  },
  {
   "cell_type": "code",
   "execution_count": 24,
   "id": "0f36bd28",
   "metadata": {},
   "outputs": [
    {
     "data": {
      "application/vnd.jupyter.widget-view+json": {
       "model_id": "7a718bc5e2ff4dcbae0884d9f8fda160",
       "version_major": 2,
       "version_minor": 0
      },
      "text/plain": [
       "  0%|          | 0/1573 [00:00<?, ?it/s]"
      ]
     },
     "metadata": {},
     "output_type": "display_data"
    },
    {
     "data": {
      "text/plain": [
       "(1573, (232,))"
      ]
     },
     "execution_count": 24,
     "metadata": {},
     "output_type": "execute_result"
    }
   ],
   "source": [
    "scores_words = [\n",
    "    (sents @ q.T).toarray().squeeze() \n",
    "    for sents, q in zip(tqdm(sentence_features_words), query_features_words)\n",
    "]\n",
    "len(scores_words), scores_words[0].shape"
   ]
  },
  {
   "cell_type": "code",
   "execution_count": 25,
   "id": "34792df1",
   "metadata": {},
   "outputs": [
    {
     "data": {
      "text/plain": [
       "557897"
      ]
     },
     "execution_count": 25,
     "metadata": {},
     "output_type": "execute_result"
    }
   ],
   "source": [
    "test.sentences.map(len).sum()"
   ]
  },
  {
   "cell_type": "code",
   "execution_count": 26,
   "id": "acd54f1d",
   "metadata": {},
   "outputs": [
    {
     "data": {
      "text/plain": [
       "(557897,)"
      ]
     },
     "execution_count": 26,
     "metadata": {},
     "output_type": "execute_result"
    }
   ],
   "source": [
    "final_scores_words = np.concatenate(scores_words)\n",
    "final_scores_words.shape"
   ]
  },
  {
   "cell_type": "code",
   "execution_count": 27,
   "id": "906988a2",
   "metadata": {},
   "outputs": [
    {
     "data": {
      "text/plain": [
       "0.035980217775553235"
      ]
     },
     "execution_count": 27,
     "metadata": {},
     "output_type": "execute_result"
    }
   ],
   "source": [
    "average_precision_score(rel, final_scores_words)"
   ]
  },
  {
   "cell_type": "code",
   "execution_count": 28,
   "id": "21de05b9",
   "metadata": {},
   "outputs": [
    {
     "data": {
      "text/plain": [
       "0.7299003529790372"
      ]
     },
     "execution_count": 28,
     "metadata": {},
     "output_type": "execute_result"
    }
   ],
   "source": [
    "roc_auc_score(rel, final_scores_words)"
   ]
  },
  {
   "cell_type": "markdown",
   "id": "9e841d22",
   "metadata": {},
   "source": [
    "# chars"
   ]
  },
  {
   "cell_type": "code",
   "execution_count": 30,
   "id": "11214649",
   "metadata": {},
   "outputs": [
    {
     "data": {
      "text/html": [
       "<style>#sk-container-id-2 {color: black;background-color: white;}#sk-container-id-2 pre{padding: 0;}#sk-container-id-2 div.sk-toggleable {background-color: white;}#sk-container-id-2 label.sk-toggleable__label {cursor: pointer;display: block;width: 100%;margin-bottom: 0;padding: 0.3em;box-sizing: border-box;text-align: center;}#sk-container-id-2 label.sk-toggleable__label-arrow:before {content: \"▸\";float: left;margin-right: 0.25em;color: #696969;}#sk-container-id-2 label.sk-toggleable__label-arrow:hover:before {color: black;}#sk-container-id-2 div.sk-estimator:hover label.sk-toggleable__label-arrow:before {color: black;}#sk-container-id-2 div.sk-toggleable__content {max-height: 0;max-width: 0;overflow: hidden;text-align: left;background-color: #f0f8ff;}#sk-container-id-2 div.sk-toggleable__content pre {margin: 0.2em;color: black;border-radius: 0.25em;background-color: #f0f8ff;}#sk-container-id-2 input.sk-toggleable__control:checked~div.sk-toggleable__content {max-height: 200px;max-width: 100%;overflow: auto;}#sk-container-id-2 input.sk-toggleable__control:checked~label.sk-toggleable__label-arrow:before {content: \"▾\";}#sk-container-id-2 div.sk-estimator input.sk-toggleable__control:checked~label.sk-toggleable__label {background-color: #d4ebff;}#sk-container-id-2 div.sk-label input.sk-toggleable__control:checked~label.sk-toggleable__label {background-color: #d4ebff;}#sk-container-id-2 input.sk-hidden--visually {border: 0;clip: rect(1px 1px 1px 1px);clip: rect(1px, 1px, 1px, 1px);height: 1px;margin: -1px;overflow: hidden;padding: 0;position: absolute;width: 1px;}#sk-container-id-2 div.sk-estimator {font-family: monospace;background-color: #f0f8ff;border: 1px dotted black;border-radius: 0.25em;box-sizing: border-box;margin-bottom: 0.5em;}#sk-container-id-2 div.sk-estimator:hover {background-color: #d4ebff;}#sk-container-id-2 div.sk-parallel-item::after {content: \"\";width: 100%;border-bottom: 1px solid gray;flex-grow: 1;}#sk-container-id-2 div.sk-label:hover label.sk-toggleable__label {background-color: #d4ebff;}#sk-container-id-2 div.sk-serial::before {content: \"\";position: absolute;border-left: 1px solid gray;box-sizing: border-box;top: 0;bottom: 0;left: 50%;z-index: 0;}#sk-container-id-2 div.sk-serial {display: flex;flex-direction: column;align-items: center;background-color: white;padding-right: 0.2em;padding-left: 0.2em;position: relative;}#sk-container-id-2 div.sk-item {position: relative;z-index: 1;}#sk-container-id-2 div.sk-parallel {display: flex;align-items: stretch;justify-content: center;background-color: white;position: relative;}#sk-container-id-2 div.sk-item::before, #sk-container-id-2 div.sk-parallel-item::before {content: \"\";position: absolute;border-left: 1px solid gray;box-sizing: border-box;top: 0;bottom: 0;left: 50%;z-index: -1;}#sk-container-id-2 div.sk-parallel-item {display: flex;flex-direction: column;z-index: 1;position: relative;background-color: white;}#sk-container-id-2 div.sk-parallel-item:first-child::after {align-self: flex-end;width: 50%;}#sk-container-id-2 div.sk-parallel-item:last-child::after {align-self: flex-start;width: 50%;}#sk-container-id-2 div.sk-parallel-item:only-child::after {width: 0;}#sk-container-id-2 div.sk-dashed-wrapped {border: 1px dashed gray;margin: 0 0.4em 0.5em 0.4em;box-sizing: border-box;padding-bottom: 0.4em;background-color: white;}#sk-container-id-2 div.sk-label label {font-family: monospace;font-weight: bold;display: inline-block;line-height: 1.2em;}#sk-container-id-2 div.sk-label-container {text-align: center;}#sk-container-id-2 div.sk-container {/* jupyter's `normalize.less` sets `[hidden] { display: none; }` but bootstrap.min.css set `[hidden] { display: none !important; }` so we also need the `!important` here to be able to override the default hidden behavior on the sphinx rendered scikit-learn.org. See: https://github.com/scikit-learn/scikit-learn/issues/21755 */display: inline-block !important;position: relative;}#sk-container-id-2 div.sk-text-repr-fallback {display: none;}</style><div id=\"sk-container-id-2\" class=\"sk-top-container\"><div class=\"sk-text-repr-fallback\"><pre>TfidfVectorizer(analyzer=&#x27;char&#x27;, ngram_range=(3, 3))</pre><b>In a Jupyter environment, please rerun this cell to show the HTML representation or trust the notebook. <br />On GitHub, the HTML representation is unable to render, please try loading this page with nbviewer.org.</b></div><div class=\"sk-container\" hidden><div class=\"sk-item\"><div class=\"sk-estimator sk-toggleable\"><input class=\"sk-toggleable__control sk-hidden--visually\" id=\"sk-estimator-id-2\" type=\"checkbox\" checked><label for=\"sk-estimator-id-2\" class=\"sk-toggleable__label sk-toggleable__label-arrow\">TfidfVectorizer</label><div class=\"sk-toggleable__content\"><pre>TfidfVectorizer(analyzer=&#x27;char&#x27;, ngram_range=(3, 3))</pre></div></div></div></div></div>"
      ],
      "text/plain": [
       "TfidfVectorizer(analyzer='char', ngram_range=(3, 3))"
      ]
     },
     "execution_count": 30,
     "metadata": {},
     "output_type": "execute_result"
    }
   ],
   "source": [
    "vectorizer_chars = TfidfVectorizer(analyzer = \"char\", ngram_range = (3, 3))\n",
    "vectorizer_chars.fit(corpus)"
   ]
  },
  {
   "cell_type": "code",
   "execution_count": 31,
   "id": "2a056c1b",
   "metadata": {},
   "outputs": [
    {
     "data": {
      "application/vnd.jupyter.widget-view+json": {
       "model_id": "7fbaf5009f284ee2a2f40f1847d25e97",
       "version_major": 2,
       "version_minor": 0
      },
      "text/plain": [
       "  0%|          | 0/1573 [00:00<?, ?it/s]"
      ]
     },
     "metadata": {},
     "output_type": "display_data"
    },
    {
     "data": {
      "text/plain": [
       "(232, 98972)"
      ]
     },
     "execution_count": 31,
     "metadata": {},
     "output_type": "execute_result"
    }
   ],
   "source": [
    "sentence_features_chars = [vectorizer_chars.transform(s) for s in tqdm(test.sentences)]\n",
    "sentence_features_chars[0].shape"
   ]
  },
  {
   "cell_type": "code",
   "execution_count": null,
   "id": "3531a3c9",
   "metadata": {},
   "outputs": [],
   "source": [
    "# summary_features_chars = [vectorizer_chars.transform(s) for s in tqdm(test.summary)] \n",
    "# summary_features_chars[0].shape"
   ]
  },
  {
   "cell_type": "code",
   "execution_count": null,
   "id": "3593268b",
   "metadata": {},
   "outputs": [],
   "source": [
    "# scores_chars = [\n",
    "#     (sents @ summ.T).max(1).toarray().squeeze() \n",
    "#     for sents, summ in zip(tqdm(sentence_features_chars), summary_features_chars)\n",
    "# ]\n",
    "# scores_chars[0].shape"
   ]
  },
  {
   "cell_type": "code",
   "execution_count": 32,
   "id": "84668a74",
   "metadata": {},
   "outputs": [
    {
     "data": {
      "application/vnd.jupyter.widget-view+json": {
       "model_id": "edcbdd5fa13c469fa6d40baa1ae6a82a",
       "version_major": 2,
       "version_minor": 0
      },
      "text/plain": [
       "  0%|          | 0/1573 [00:00<?, ?it/s]"
      ]
     },
     "metadata": {},
     "output_type": "display_data"
    },
    {
     "data": {
      "text/plain": [
       "(1, 98972)"
      ]
     },
     "execution_count": 32,
     "metadata": {},
     "output_type": "execute_result"
    }
   ],
   "source": [
    "query_features_chars = [vectorizer_chars.transform([s]) for s in tqdm(test[\"query\"])] \n",
    "query_features_chars[0].shape"
   ]
  },
  {
   "cell_type": "code",
   "execution_count": 34,
   "id": "4eaeda1a",
   "metadata": {},
   "outputs": [
    {
     "data": {
      "application/vnd.jupyter.widget-view+json": {
       "model_id": "9c3365a795cc4ca995e86f2fba15564c",
       "version_major": 2,
       "version_minor": 0
      },
      "text/plain": [
       "  0%|          | 0/1573 [00:00<?, ?it/s]"
      ]
     },
     "metadata": {},
     "output_type": "display_data"
    },
    {
     "data": {
      "text/plain": [
       "(232,)"
      ]
     },
     "execution_count": 34,
     "metadata": {},
     "output_type": "execute_result"
    }
   ],
   "source": [
    "scores_chars = [\n",
    "    (sents @ q.T).toarray().squeeze() \n",
    "    for sents, q in zip(tqdm(sentence_features_chars), query_features_chars)\n",
    "]\n",
    "scores_chars[0].shape"
   ]
  },
  {
   "cell_type": "code",
   "execution_count": 35,
   "id": "8c1299c2",
   "metadata": {},
   "outputs": [
    {
     "data": {
      "text/plain": [
       "557897"
      ]
     },
     "execution_count": 35,
     "metadata": {},
     "output_type": "execute_result"
    }
   ],
   "source": [
    "test.sentences.map(len).sum()"
   ]
  },
  {
   "cell_type": "code",
   "execution_count": 36,
   "id": "0d95060e",
   "metadata": {},
   "outputs": [
    {
     "data": {
      "text/plain": [
       "(557897,)"
      ]
     },
     "execution_count": 36,
     "metadata": {},
     "output_type": "execute_result"
    }
   ],
   "source": [
    "final_scores_chars = np.concatenate(scores_chars)\n",
    "final_scores_chars.shape"
   ]
  },
  {
   "cell_type": "code",
   "execution_count": 37,
   "id": "cd29462e",
   "metadata": {},
   "outputs": [
    {
     "data": {
      "text/plain": [
       "0.024109982269947507"
      ]
     },
     "execution_count": 37,
     "metadata": {},
     "output_type": "execute_result"
    }
   ],
   "source": [
    "average_precision_score(rel, final_scores_chars)"
   ]
  },
  {
   "cell_type": "code",
   "execution_count": 38,
   "id": "f073fc79",
   "metadata": {},
   "outputs": [
    {
     "data": {
      "text/plain": [
       "0.7037490476348061"
      ]
     },
     "execution_count": 38,
     "metadata": {},
     "output_type": "execute_result"
    }
   ],
   "source": [
    "roc_auc_score(rel, final_scores_chars)"
   ]
  },
  {
   "cell_type": "markdown",
   "id": "3a89a35d",
   "metadata": {},
   "source": [
    "# queries"
   ]
  },
  {
   "cell_type": "code",
   "execution_count": 39,
   "id": "0e4d6187",
   "metadata": {
    "scrolled": false
   },
   "outputs": [
    {
     "data": {
      "text/plain": [
       "[(False, 0.19),\n",
       " (False, 0.06),\n",
       " (False, 0.0),\n",
       " (False, 0.03),\n",
       " (False, 0.12),\n",
       " (False, 0.09),\n",
       " (False, 0.13),\n",
       " (False, 0.05),\n",
       " (False, 0.07),\n",
       " (False, 0.02),\n",
       " (False, 0.01),\n",
       " (False, 0.02),\n",
       " (False, 0.03),\n",
       " (False, 0.05),\n",
       " (False, 0.08),\n",
       " (False, 0.05),\n",
       " (False, 0.02),\n",
       " (True, 0.17),\n",
       " (False, 0.15),\n",
       " (False, 0.15),\n",
       " (False, 0.07),\n",
       " (False, 0.13),\n",
       " (False, 0.08),\n",
       " (False, 0.07),\n",
       " (False, 0.18),\n",
       " (False, 0.22),\n",
       " (False, 0.12),\n",
       " (False, 0.26),\n",
       " (False, 0.17),\n",
       " (False, 0.17),\n",
       " (False, 0.12),\n",
       " (False, 0.04),\n",
       " (False, 0.01),\n",
       " (False, 0.02),\n",
       " (False, 0.13),\n",
       " (False, 0.03),\n",
       " (False, 0.04),\n",
       " (False, 0.14),\n",
       " (False, 0.04),\n",
       " (False, 0.04),\n",
       " (False, 0.08),\n",
       " (False, 0.03),\n",
       " (False, 0.09),\n",
       " (False, 0.05),\n",
       " (False, 0.13),\n",
       " (False, 0.06),\n",
       " (False, 0.13),\n",
       " (False, 0.04),\n",
       " (False, 0.2),\n",
       " (False, 0.04),\n",
       " (False, 0.05),\n",
       " (False, 0.12),\n",
       " (False, 0.23),\n",
       " (False, 0.11),\n",
       " (False, 0.13),\n",
       " (False, 0.12),\n",
       " (False, 0.15),\n",
       " (False, 0.04),\n",
       " (False, 0.04),\n",
       " (False, 0.1),\n",
       " (False, 0.11),\n",
       " (False, 0.05),\n",
       " (False, 0.12),\n",
       " (False, 0.13),\n",
       " (False, 0.06),\n",
       " (False, 0.01),\n",
       " (False, 0.04),\n",
       " (False, 0.2),\n",
       " (False, 0.06),\n",
       " (False, 0.12),\n",
       " (False, 0.15),\n",
       " (False, 0.04),\n",
       " (False, 0.15),\n",
       " (False, 0.18),\n",
       " (False, 0.12),\n",
       " (False, 0.04),\n",
       " (False, 0.14),\n",
       " (False, 0.04),\n",
       " (False, 0.11),\n",
       " (False, 0.0),\n",
       " (False, 0.14),\n",
       " (False, 0.07),\n",
       " (False, 0.04),\n",
       " (False, 0.08),\n",
       " (False, 0.03),\n",
       " (False, 0.11),\n",
       " (False, 0.06),\n",
       " (False, 0.1),\n",
       " (False, 0.06),\n",
       " (False, 0.07),\n",
       " (False, 0.09),\n",
       " (False, 0.07),\n",
       " (False, 0.04),\n",
       " (False, 0.03),\n",
       " (False, 0.04),\n",
       " (False, 0.01),\n",
       " (False, 0.09),\n",
       " (False, 0.06),\n",
       " (False, 0.07),\n",
       " (False, 0.15),\n",
       " (False, 0.12),\n",
       " (False, 0.01),\n",
       " (False, 0.06),\n",
       " (False, 0.07),\n",
       " (False, 0.11),\n",
       " (False, 0.09),\n",
       " (False, 0.08),\n",
       " (False, 0.1),\n",
       " (False, 0.07),\n",
       " (False, 0.14),\n",
       " (False, 0.11),\n",
       " (False, 0.04),\n",
       " (False, 0.14),\n",
       " (False, 0.02),\n",
       " (False, 0.05),\n",
       " (False, 0.05),\n",
       " (False, 0.16),\n",
       " (False, 0.14),\n",
       " (False, 0.2),\n",
       " (False, 0.15),\n",
       " (False, 0.09),\n",
       " (False, 0.05),\n",
       " (False, 0.03),\n",
       " (False, 0.03),\n",
       " (False, 0.0),\n",
       " (False, 0.02),\n",
       " (False, 0.09),\n",
       " (False, 0.05),\n",
       " (False, 0.09),\n",
       " (False, 0.05),\n",
       " (False, 0.06),\n",
       " (False, 0.04),\n",
       " (False, 0.05),\n",
       " (False, 0.02),\n",
       " (False, 0.06),\n",
       " (False, 0.06),\n",
       " (False, 0.06),\n",
       " (False, 0.02),\n",
       " (False, 0.06),\n",
       " (False, 0.05),\n",
       " (False, 0.06),\n",
       " (False, 0.01),\n",
       " (False, 0.08),\n",
       " (False, 0.07),\n",
       " (False, 0.05),\n",
       " (False, 0.06),\n",
       " (False, 0.07),\n",
       " (False, 0.04),\n",
       " (False, 0.03),\n",
       " (False, 0.05),\n",
       " (False, 0.07),\n",
       " (False, 0.05),\n",
       " (False, 0.08),\n",
       " (False, 0.03),\n",
       " (False, 0.08),\n",
       " (False, 0.19),\n",
       " (False, 0.1),\n",
       " (False, 0.03),\n",
       " (False, 0.13),\n",
       " (False, 0.06),\n",
       " (False, 0.1),\n",
       " (False, 0.05),\n",
       " (False, 0.22),\n",
       " (False, 0.11),\n",
       " (False, 0.07),\n",
       " (False, 0.02),\n",
       " (False, 0.2),\n",
       " (False, 0.13),\n",
       " (False, 0.01),\n",
       " (False, 0.06),\n",
       " (False, 0.04)]"
      ]
     },
     "execution_count": 39,
     "metadata": {},
     "output_type": "execute_result"
    }
   ],
   "source": [
    "i = 10\n",
    "list(zip(test.relevance.tolist()[i], scores_words[i].round(2)))"
   ]
  },
  {
   "cell_type": "code",
   "execution_count": 40,
   "id": "5ce4785d",
   "metadata": {
    "scrolled": false
   },
   "outputs": [
    {
     "data": {
      "text/plain": [
       "[(False, 0.22),\n",
       " (False, 0.08),\n",
       " (False, 0.15),\n",
       " (False, 0.13),\n",
       " (False, 0.2),\n",
       " (False, 0.09),\n",
       " (False, 0.08),\n",
       " (False, 0.15),\n",
       " (False, 0.06),\n",
       " (False, 0.03),\n",
       " (False, 0.0),\n",
       " (False, 0.05),\n",
       " (False, 0.09),\n",
       " (False, 0.17),\n",
       " (False, 0.11),\n",
       " (False, 0.12),\n",
       " (False, 0.27),\n",
       " (False, 0.0),\n",
       " (False, 0.13),\n",
       " (False, 0.27),\n",
       " (False, 0.14),\n",
       " (False, 0.16),\n",
       " (True, 0.18),\n",
       " (False, 0.19),\n",
       " (False, 0.31),\n",
       " (False, 0.12),\n",
       " (False, 0.02),\n",
       " (False, 0.13),\n",
       " (False, 0.03),\n",
       " (False, 0.15),\n",
       " (False, 0.13),\n",
       " (False, 0.15),\n",
       " (False, 0.06),\n",
       " (False, 0.15),\n",
       " (False, 0.21),\n",
       " (False, 0.05),\n",
       " (False, 0.09),\n",
       " (False, 0.13),\n",
       " (False, 0.17),\n",
       " (False, 0.25),\n",
       " (False, 0.31),\n",
       " (False, 0.13),\n",
       " (False, 0.22),\n",
       " (False, 0.19),\n",
       " (False, 0.04),\n",
       " (False, 0.12),\n",
       " (False, 0.12),\n",
       " (False, 0.09),\n",
       " (False, 0.11),\n",
       " (False, 0.15),\n",
       " (False, 0.17),\n",
       " (False, 0.12),\n",
       " (False, 0.08),\n",
       " (False, 0.02),\n",
       " (False, 0.17),\n",
       " (False, 0.21),\n",
       " (False, 0.16),\n",
       " (False, 0.13),\n",
       " (False, 0.14),\n",
       " (False, 0.13),\n",
       " (False, 0.11),\n",
       " (False, 0.17),\n",
       " (False, 0.17),\n",
       " (False, 0.14),\n",
       " (False, 0.14),\n",
       " (False, 0.26),\n",
       " (False, 0.15),\n",
       " (False, 0.19),\n",
       " (False, 0.15),\n",
       " (False, 0.16),\n",
       " (False, 0.19),\n",
       " (False, 0.13),\n",
       " (False, 0.1),\n",
       " (False, 0.07),\n",
       " (False, 0.18),\n",
       " (False, 0.15),\n",
       " (False, 0.11),\n",
       " (False, 0.12),\n",
       " (False, 0.14),\n",
       " (False, 0.12),\n",
       " (False, 0.09),\n",
       " (False, 0.1),\n",
       " (False, 0.17),\n",
       " (False, 0.03),\n",
       " (False, 0.18),\n",
       " (False, 0.12),\n",
       " (False, 0.06),\n",
       " (False, 0.14),\n",
       " (False, 0.08),\n",
       " (False, 0.08),\n",
       " (False, 0.0),\n",
       " (False, 0.01),\n",
       " (False, 0.03),\n",
       " (False, 0.13),\n",
       " (False, 0.01),\n",
       " (False, 0.02),\n",
       " (False, 0.03),\n",
       " (False, 0.06),\n",
       " (False, 0.15),\n",
       " (False, 0.19),\n",
       " (False, 0.19),\n",
       " (False, 0.09),\n",
       " (False, 0.08),\n",
       " (False, 0.11),\n",
       " (False, 0.06),\n",
       " (False, 0.11),\n",
       " (False, 0.13),\n",
       " (False, 0.08),\n",
       " (False, 0.13),\n",
       " (False, 0.07),\n",
       " (False, 0.16),\n",
       " (False, 0.13),\n",
       " (False, 0.11),\n",
       " (False, 0.12),\n",
       " (False, 0.13),\n",
       " (False, 0.05),\n",
       " (False, 0.06),\n",
       " (False, 0.04),\n",
       " (False, 0.14),\n",
       " (False, 0.13),\n",
       " (False, 0.09),\n",
       " (False, 0.08),\n",
       " (False, 0.1),\n",
       " (False, 0.09),\n",
       " (False, 0.09),\n",
       " (False, 0.09),\n",
       " (False, 0.08),\n",
       " (False, 0.09),\n",
       " (False, 0.19),\n",
       " (False, 0.1),\n",
       " (False, 0.11),\n",
       " (False, 0.08),\n",
       " (False, 0.11),\n",
       " (False, 0.1),\n",
       " (False, 0.09),\n",
       " (False, 0.07),\n",
       " (False, 0.07),\n",
       " (False, 0.13),\n",
       " (False, 0.13),\n",
       " (False, 0.13),\n",
       " (False, 0.17),\n",
       " (False, 0.14),\n",
       " (False, 0.15),\n",
       " (False, 0.11),\n",
       " (False, 0.13),\n",
       " (False, 0.0),\n",
       " (False, 0.07),\n",
       " (False, 0.15),\n",
       " (False, 0.14),\n",
       " (False, 0.13),\n",
       " (False, 0.08),\n",
       " (False, 0.14),\n",
       " (False, 0.13),\n",
       " (False, 0.1),\n",
       " (False, 0.06),\n",
       " (False, 0.08),\n",
       " (False, 0.14),\n",
       " (False, 0.12),\n",
       " (False, 0.14),\n",
       " (False, 0.09),\n",
       " (False, 0.1),\n",
       " (False, 0.15),\n",
       " (False, 0.09),\n",
       " (False, 0.16),\n",
       " (False, 0.16),\n",
       " (False, 0.21),\n",
       " (False, 0.08),\n",
       " (False, 0.12),\n",
       " (False, 0.1),\n",
       " (False, 0.09),\n",
       " (False, 0.09),\n",
       " (False, 0.04),\n",
       " (False, 0.13),\n",
       " (False, 0.16),\n",
       " (False, 0.14),\n",
       " (False, 0.14),\n",
       " (False, 0.14),\n",
       " (False, 0.14),\n",
       " (False, 0.14),\n",
       " (False, 0.11),\n",
       " (False, 0.17),\n",
       " (False, 0.14),\n",
       " (False, 0.14),\n",
       " (False, 0.08),\n",
       " (False, 0.13),\n",
       " (False, 0.1),\n",
       " (False, 0.18),\n",
       " (False, 0.19),\n",
       " (False, 0.22),\n",
       " (False, 0.17),\n",
       " (False, 0.22),\n",
       " (False, 0.09),\n",
       " (False, 0.18),\n",
       " (False, 0.15),\n",
       " (False, 0.04),\n",
       " (False, 0.21),\n",
       " (False, 0.22),\n",
       " (False, 0.22),\n",
       " (False, 0.09),\n",
       " (False, 0.16),\n",
       " (False, 0.08),\n",
       " (False, 0.17),\n",
       " (False, 0.17),\n",
       " (False, 0.16),\n",
       " (False, 0.18),\n",
       " (False, 0.08),\n",
       " (False, 0.15),\n",
       " (False, 0.0),\n",
       " (False, 0.14),\n",
       " (False, 0.17),\n",
       " (False, 0.13),\n",
       " (False, 0.0),\n",
       " (False, 0.18),\n",
       " (False, 0.06),\n",
       " (False, 0.17),\n",
       " (False, 0.13),\n",
       " (False, 0.13),\n",
       " (False, 0.07),\n",
       " (False, 0.13),\n",
       " (False, 0.2),\n",
       " (False, 0.26),\n",
       " (False, 0.0),\n",
       " (False, 0.26),\n",
       " (False, 0.27),\n",
       " (False, 0.16),\n",
       " (False, 0.13),\n",
       " (False, 0.03),\n",
       " (False, 0.11),\n",
       " (False, 0.02),\n",
       " (False, 0.0),\n",
       " (False, 0.03),\n",
       " (False, 0.16),\n",
       " (False, 0.02),\n",
       " (False, 0.0),\n",
       " (False, 0.03),\n",
       " (False, 0.05),\n",
       " (False, 0.02),\n",
       " (False, 0.0),\n",
       " (False, 0.06),\n",
       " (False, 0.06),\n",
       " (False, 0.02),\n",
       " (False, 0.0),\n",
       " (False, 0.02),\n",
       " (False, 0.17),\n",
       " (False, 0.02),\n",
       " (False, 0.01),\n",
       " (False, 0.01),\n",
       " (False, 0.11),\n",
       " (False, 0.02),\n",
       " (False, 0.0),\n",
       " (False, 0.03),\n",
       " (False, 0.2),\n",
       " (False, 0.02),\n",
       " (False, 0.0),\n",
       " (False, 0.03),\n",
       " (False, 0.1),\n",
       " (False, 0.02),\n",
       " (False, 0.0),\n",
       " (False, 0.04),\n",
       " (False, 0.05),\n",
       " (False, 0.05),\n",
       " (False, 0.01),\n",
       " (False, 0.02),\n",
       " (False, 0.13),\n",
       " (False, 0.02),\n",
       " (False, 0.0),\n",
       " (False, 0.03),\n",
       " (False, 0.16),\n",
       " (False, 0.02),\n",
       " (False, 0.0),\n",
       " (False, 0.01),\n",
       " (False, 0.23),\n",
       " (False, 0.13),\n",
       " (False, 0.02),\n",
       " (False, 0.09),\n",
       " (False, 0.05),\n",
       " (False, 0.01),\n",
       " (False, 0.0),\n",
       " (False, 0.14),\n",
       " (False, 0.02),\n",
       " (False, 0.03),\n",
       " (False, 0.1),\n",
       " (False, 0.02),\n",
       " (False, 0.0),\n",
       " (False, 0.04),\n",
       " (False, 0.11),\n",
       " (False, 0.06),\n",
       " (False, 0.05),\n",
       " (False, 0.18),\n",
       " (False, 0.02),\n",
       " (False, 0.01),\n",
       " (False, 0.02),\n",
       " (False, 0.05),\n",
       " (False, 0.0),\n",
       " (False, 0.02),\n",
       " (False, 0.07),\n",
       " (False, 0.02),\n",
       " (False, 0.0),\n",
       " (False, 0.02),\n",
       " (False, 0.07),\n",
       " (False, 0.02),\n",
       " (False, 0.0),\n",
       " (False, 0.03),\n",
       " (False, 0.11),\n",
       " (False, 0.02),\n",
       " (False, 0.02),\n",
       " (False, 0.0),\n",
       " (False, 0.19),\n",
       " (False, 0.02),\n",
       " (False, 0.02),\n",
       " (False, 0.02),\n",
       " (False, 0.09),\n",
       " (False, 0.02),\n",
       " (False, 0.01),\n",
       " (False, 0.0),\n",
       " (False, 0.01),\n",
       " (False, 0.17),\n",
       " (False, 0.02),\n",
       " (False, 0.01),\n",
       " (False, 0.02),\n",
       " (False, 0.11),\n",
       " (False, 0.02),\n",
       " (False, 0.0),\n",
       " (False, 0.03),\n",
       " (False, 0.05),\n",
       " (False, 0.02),\n",
       " (False, 0.0),\n",
       " (False, 0.05),\n",
       " (False, 0.1),\n",
       " (False, 0.02),\n",
       " (False, 0.0),\n",
       " (False, 0.06),\n",
       " (False, 0.22),\n",
       " (False, 0.02),\n",
       " (False, 0.01),\n",
       " (False, 0.01),\n",
       " (False, 0.22),\n",
       " (False, 0.02),\n",
       " (False, 0.0),\n",
       " (False, 0.02),\n",
       " (False, 0.2),\n",
       " (False, 0.02),\n",
       " (False, 0.01),\n",
       " (False, 0.04),\n",
       " (False, 0.06),\n",
       " (False, 0.05),\n",
       " (False, 0.01),\n",
       " (False, 0.01),\n",
       " (False, 0.02),\n",
       " (False, 0.17),\n",
       " (False, 0.02),\n",
       " (False, 0.0),\n",
       " (False, 0.03),\n",
       " (False, 0.1),\n",
       " (False, 0.02),\n",
       " (False, 0.05),\n",
       " (False, 0.08),\n",
       " (False, 0.02),\n",
       " (False, 0.0),\n",
       " (False, 0.04),\n",
       " (False, 0.02),\n",
       " (False, 0.0),\n",
       " (False, 0.0),\n",
       " (False, 0.22),\n",
       " (False, 0.02),\n",
       " (False, 0.0),\n",
       " (False, 0.03),\n",
       " (False, 0.12),\n",
       " (False, 0.0),\n",
       " (False, 0.04),\n",
       " (False, 0.02),\n",
       " (False, 0.0),\n",
       " (False, 0.0),\n",
       " (False, 0.0),\n",
       " (False, 0.04),\n",
       " (False, 0.13),\n",
       " (False, 0.02),\n",
       " (False, 0.0),\n",
       " (False, 0.07),\n",
       " (False, 0.06),\n",
       " (False, 0.02),\n",
       " (False, 0.18),\n",
       " (False, 0.14),\n",
       " (False, 0.02),\n",
       " (False, 0.03),\n",
       " (False, 0.18),\n",
       " (False, 0.02),\n",
       " (False, 0.03),\n",
       " (False, 0.03),\n",
       " (False, 0.12),\n",
       " (False, 0.0),\n",
       " (False, 0.01),\n",
       " (False, 0.02),\n",
       " (False, 0.2),\n",
       " (False, 0.02),\n",
       " (False, 0.0),\n",
       " (False, 0.01),\n",
       " (False, 0.09),\n",
       " (False, 0.05),\n",
       " (False, 0.04),\n",
       " (False, 0.12),\n",
       " (False, 0.02),\n",
       " (False, 0.0),\n",
       " (False, 0.04),\n",
       " (False, 0.11),\n",
       " (False, 0.02),\n",
       " (False, 0.0),\n",
       " (False, 0.02),\n",
       " (False, 0.2),\n",
       " (False, 0.02),\n",
       " (False, 0.0),\n",
       " (False, 0.02),\n",
       " (False, 0.11),\n",
       " (False, 0.02),\n",
       " (False, 0.0),\n",
       " (False, 0.04),\n",
       " (False, 0.19),\n",
       " (False, 0.02),\n",
       " (False, 0.0),\n",
       " (False, 0.02),\n",
       " (False, 0.19),\n",
       " (False, 0.02),\n",
       " (False, 0.03),\n",
       " (False, 0.03),\n",
       " (False, 0.25),\n",
       " (False, 0.02),\n",
       " (False, 0.0),\n",
       " (False, 0.01),\n",
       " (False, 0.07),\n",
       " (False, 0.02),\n",
       " (False, 0.0),\n",
       " (False, 0.03),\n",
       " (False, 0.05),\n",
       " (False, 0.02),\n",
       " (False, 0.0)]"
      ]
     },
     "execution_count": 40,
     "metadata": {},
     "output_type": "execute_result"
    }
   ],
   "source": [
    "i = 30\n",
    "list(zip(test.relevance.tolist()[i], scores_chars[i].round(2)))"
   ]
  },
  {
   "cell_type": "code",
   "execution_count": 41,
   "id": "b307167b",
   "metadata": {},
   "outputs": [
    {
     "data": {
      "text/plain": [
       "False"
      ]
     },
     "execution_count": 41,
     "metadata": {},
     "output_type": "execute_result"
    }
   ],
   "source": [
    "any(relevance[30])"
   ]
  },
  {
   "cell_type": "code",
   "execution_count": null,
   "id": "ab0ef234",
   "metadata": {},
   "outputs": [],
   "source": []
  }
 ],
 "metadata": {
  "kernelspec": {
   "display_name": "Python 3 (ipykernel)",
   "language": "python",
   "name": "python3"
  },
  "language_info": {
   "codemirror_mode": {
    "name": "ipython",
    "version": 3
   },
   "file_extension": ".py",
   "mimetype": "text/x-python",
   "name": "python",
   "nbconvert_exporter": "python",
   "pygments_lexer": "ipython3",
   "version": "3.8.10"
  }
 },
 "nbformat": 4,
 "nbformat_minor": 5
}
