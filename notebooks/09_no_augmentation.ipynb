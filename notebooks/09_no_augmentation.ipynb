{
 "cells": [
  {
   "cell_type": "code",
   "execution_count": 1,
   "id": "43488590",
   "metadata": {},
   "outputs": [],
   "source": [
    "import pandas as pd\n",
    "from malnis import show\n",
    "from nltk.tokenize import sent_tokenize\n",
    "from tqdm.notebook import tqdm\n",
    "import os"
   ]
  },
  {
   "cell_type": "code",
   "execution_count": 2,
   "id": "29bfeeca",
   "metadata": {
    "scrolled": false
   },
   "outputs": [],
   "source": [
    "# data = pd.read_pickle(\"results_bkp.pkl\").sort_values(\"r2\", ascending = False)\n",
    "# show(data)"
   ]
  },
  {
   "cell_type": "code",
   "execution_count": 3,
   "id": "998b8681",
   "metadata": {},
   "outputs": [
    {
     "name": "stdout",
     "output_type": "stream",
     "text": [
      "(8965, 6)\n"
     ]
    },
    {
     "data": {
      "text/html": [
       "<div>\n",
       "<style scoped>\n",
       "    .dataframe tbody tr th:only-of-type {\n",
       "        vertical-align: middle;\n",
       "    }\n",
       "\n",
       "    .dataframe tbody tr th {\n",
       "        vertical-align: top;\n",
       "    }\n",
       "\n",
       "    .dataframe thead th {\n",
       "        text-align: right;\n",
       "    }\n",
       "</style>\n",
       "<table border=\"1\" class=\"dataframe\">\n",
       "  <thead>\n",
       "    <tr style=\"text-align: right;\">\n",
       "      <th></th>\n",
       "      <th>query</th>\n",
       "      <th>document</th>\n",
       "      <th>summary</th>\n",
       "      <th>r1</th>\n",
       "      <th>r2</th>\n",
       "      <th>rl</th>\n",
       "    </tr>\n",
       "  </thead>\n",
       "  <tbody>\n",
       "    <tr>\n",
       "      <th>0</th>\n",
       "      <td>We introduce a new language representation mod...</td>\n",
       "      <td>KEYWORDS cascade ranking, pre-trained language...</td>\n",
       "      <td>[Our approach is mainly based on the BERT lang...</td>\n",
       "      <td>0.237885</td>\n",
       "      <td>0.065359</td>\n",
       "      <td>0.229075</td>\n",
       "    </tr>\n",
       "    <tr>\n",
       "      <th>1</th>\n",
       "      <td>The dominant sequence transduction models are ...</td>\n",
       "      <td>KEYWORDS cascade ranking, pre-trained language...</td>\n",
       "      <td>[BERT [2] is a self-supervised approach for pr...</td>\n",
       "      <td>0.238372</td>\n",
       "      <td>0.063366</td>\n",
       "      <td>0.215116</td>\n",
       "    </tr>\n",
       "    <tr>\n",
       "      <th>2</th>\n",
       "      <td>Language model pretraining has led to signific...</td>\n",
       "      <td>KEYWORDS cascade ranking, pre-trained language...</td>\n",
       "      <td>[Recently, some variants [4, 12] of BERT langu...</td>\n",
       "      <td>0.172727</td>\n",
       "      <td>0.047782</td>\n",
       "      <td>0.172727</td>\n",
       "    </tr>\n",
       "    <tr>\n",
       "      <th>3</th>\n",
       "      <td>With the capability of modeling bidirectional ...</td>\n",
       "      <td>KEYWORDS cascade ranking, pre-trained language...</td>\n",
       "      <td>[Recently, some variants [4, 12] of BERT langu...</td>\n",
       "      <td>0.237838</td>\n",
       "      <td>0.078740</td>\n",
       "      <td>0.227027</td>\n",
       "    </tr>\n",
       "    <tr>\n",
       "      <th>4</th>\n",
       "      <td>Neural sequence-to-sequence models have provid...</td>\n",
       "      <td>KEYWORDS cascade ranking, pre-trained language...</td>\n",
       "      <td>[The proposed model is based on the pointer-ge...</td>\n",
       "      <td>0.215139</td>\n",
       "      <td>0.093023</td>\n",
       "      <td>0.199203</td>\n",
       "    </tr>\n",
       "  </tbody>\n",
       "</table>\n",
       "</div>"
      ],
      "text/plain": [
       "                                               query  \\\n",
       "0  We introduce a new language representation mod...   \n",
       "1  The dominant sequence transduction models are ...   \n",
       "2  Language model pretraining has led to signific...   \n",
       "3  With the capability of modeling bidirectional ...   \n",
       "4  Neural sequence-to-sequence models have provid...   \n",
       "\n",
       "                                            document  \\\n",
       "0  KEYWORDS cascade ranking, pre-trained language...   \n",
       "1  KEYWORDS cascade ranking, pre-trained language...   \n",
       "2  KEYWORDS cascade ranking, pre-trained language...   \n",
       "3  KEYWORDS cascade ranking, pre-trained language...   \n",
       "4  KEYWORDS cascade ranking, pre-trained language...   \n",
       "\n",
       "                                             summary        r1        r2  \\\n",
       "0  [Our approach is mainly based on the BERT lang...  0.237885  0.065359   \n",
       "1  [BERT [2] is a self-supervised approach for pr...  0.238372  0.063366   \n",
       "2  [Recently, some variants [4, 12] of BERT langu...  0.172727  0.047782   \n",
       "3  [Recently, some variants [4, 12] of BERT langu...  0.237838  0.078740   \n",
       "4  [The proposed model is based on the pointer-ge...  0.215139  0.093023   \n",
       "\n",
       "         rl  \n",
       "0  0.229075  \n",
       "1  0.215116  \n",
       "2  0.172727  \n",
       "3  0.227027  \n",
       "4  0.199203  "
      ]
     },
     "execution_count": 3,
     "metadata": {},
     "output_type": "execute_result"
    }
   ],
   "source": [
    "folder = \"../scripts/summaries/temp\"\n",
    "files = os.listdir(folder)\n",
    "files\n",
    "\n",
    "pkl = sorted([f for f in files if f[:8] == \"results_\" and f[8:11] != \"bkp\"])\n",
    "pkl\n",
    "\n",
    "data = pd.concat(\n",
    "    [pd.read_pickle(folder + \"/\" + p) for p in pkl]\n",
    ")\n",
    "show(data)"
   ]
  },
  {
   "cell_type": "code",
   "execution_count": 4,
   "id": "cbe73038",
   "metadata": {},
   "outputs": [
    {
     "data": {
      "text/plain": [
       "<AxesSubplot:ylabel='Frequency'>"
      ]
     },
     "execution_count": 4,
     "metadata": {},
     "output_type": "execute_result"
    },
    {
     "data": {
      "image/png": "[encoded data removed]",
      "text/plain": [
       "<Figure size 640x480 with 1 Axes>"
      ]
     },
     "metadata": {},
     "output_type": "display_data"
    }
   ],
   "source": [
    "data.r2.plot.hist(bins = 30)"
   ]
  },
  {
   "cell_type": "code",
   "execution_count": 5,
   "id": "abc140ad",
   "metadata": {},
   "outputs": [
    {
     "data": {
      "text/plain": [
       "118"
      ]
     },
     "execution_count": 5,
     "metadata": {},
     "output_type": "execute_result"
    }
   ],
   "source": [
    "(data.r2 > 0.2).sum()"
   ]
  },
  {
   "cell_type": "code",
   "execution_count": 6,
   "id": "a3aaa070",
   "metadata": {},
   "outputs": [
    {
     "data": {
      "application/vnd.jupyter.widget-view+json": {
       "model_id": "64ee5583587046a9b308ffef137a448a",
       "version_major": 2,
       "version_minor": 0
      },
      "text/plain": [
       "  0%|          | 0/8965 [00:00<?, ?it/s]"
      ]
     },
     "metadata": {},
     "output_type": "display_data"
    },
    {
     "name": "stdout",
     "output_type": "stream",
     "text": [
      "(8965, 8)\n"
     ]
    },
    {
     "data": {
      "text/html": [
       "<div>\n",
       "<style scoped>\n",
       "    .dataframe tbody tr th:only-of-type {\n",
       "        vertical-align: middle;\n",
       "    }\n",
       "\n",
       "    .dataframe tbody tr th {\n",
       "        vertical-align: top;\n",
       "    }\n",
       "\n",
       "    .dataframe thead th {\n",
       "        text-align: right;\n",
       "    }\n",
       "</style>\n",
       "<table border=\"1\" class=\"dataframe\">\n",
       "  <thead>\n",
       "    <tr style=\"text-align: right;\">\n",
       "      <th></th>\n",
       "      <th>query</th>\n",
       "      <th>document</th>\n",
       "      <th>summary</th>\n",
       "      <th>r1</th>\n",
       "      <th>r2</th>\n",
       "      <th>rl</th>\n",
       "      <th>sentences</th>\n",
       "      <th>relevance</th>\n",
       "    </tr>\n",
       "  </thead>\n",
       "  <tbody>\n",
       "    <tr>\n",
       "      <th>0</th>\n",
       "      <td>We introduce a new language representation mod...</td>\n",
       "      <td>KEYWORDS cascade ranking, pre-trained language...</td>\n",
       "      <td>[Our approach is mainly based on the BERT lang...</td>\n",
       "      <td>0.237885</td>\n",
       "      <td>0.065359</td>\n",
       "      <td>0.229075</td>\n",
       "      <td>[KEYWORDS cascade ranking, pre-trained languag...</td>\n",
       "      <td>[False, False, False, False, False, False, Fal...</td>\n",
       "    </tr>\n",
       "    <tr>\n",
       "      <th>1</th>\n",
       "      <td>The dominant sequence transduction models are ...</td>\n",
       "      <td>KEYWORDS cascade ranking, pre-trained language...</td>\n",
       "      <td>[BERT [2] is a self-supervised approach for pr...</td>\n",
       "      <td>0.238372</td>\n",
       "      <td>0.063366</td>\n",
       "      <td>0.215116</td>\n",
       "      <td>[KEYWORDS cascade ranking, pre-trained languag...</td>\n",
       "      <td>[False, False, False, False, False, True, Fals...</td>\n",
       "    </tr>\n",
       "    <tr>\n",
       "      <th>2</th>\n",
       "      <td>Language model pretraining has led to signific...</td>\n",
       "      <td>KEYWORDS cascade ranking, pre-trained language...</td>\n",
       "      <td>[Recently, some variants [4, 12] of BERT langu...</td>\n",
       "      <td>0.172727</td>\n",
       "      <td>0.047782</td>\n",
       "      <td>0.172727</td>\n",
       "      <td>[KEYWORDS cascade ranking, pre-trained languag...</td>\n",
       "      <td>[False, False, False, False, False, True, Fals...</td>\n",
       "    </tr>\n",
       "    <tr>\n",
       "      <th>3</th>\n",
       "      <td>With the capability of modeling bidirectional ...</td>\n",
       "      <td>KEYWORDS cascade ranking, pre-trained language...</td>\n",
       "      <td>[Recently, some variants [4, 12] of BERT langu...</td>\n",
       "      <td>0.237838</td>\n",
       "      <td>0.078740</td>\n",
       "      <td>0.227027</td>\n",
       "      <td>[KEYWORDS cascade ranking, pre-trained languag...</td>\n",
       "      <td>[False, False, False, False, False, False, Tru...</td>\n",
       "    </tr>\n",
       "    <tr>\n",
       "      <th>4</th>\n",
       "      <td>Neural sequence-to-sequence models have provid...</td>\n",
       "      <td>KEYWORDS cascade ranking, pre-trained language...</td>\n",
       "      <td>[The proposed model is based on the pointer-ge...</td>\n",
       "      <td>0.215139</td>\n",
       "      <td>0.093023</td>\n",
       "      <td>0.199203</td>\n",
       "      <td>[KEYWORDS cascade ranking, pre-trained languag...</td>\n",
       "      <td>[False, False, False, False, False, False, Fal...</td>\n",
       "    </tr>\n",
       "  </tbody>\n",
       "</table>\n",
       "</div>"
      ],
      "text/plain": [
       "                                               query  \\\n",
       "0  We introduce a new language representation mod...   \n",
       "1  The dominant sequence transduction models are ...   \n",
       "2  Language model pretraining has led to signific...   \n",
       "3  With the capability of modeling bidirectional ...   \n",
       "4  Neural sequence-to-sequence models have provid...   \n",
       "\n",
       "                                            document  \\\n",
       "0  KEYWORDS cascade ranking, pre-trained language...   \n",
       "1  KEYWORDS cascade ranking, pre-trained language...   \n",
       "2  KEYWORDS cascade ranking, pre-trained language...   \n",
       "3  KEYWORDS cascade ranking, pre-trained language...   \n",
       "4  KEYWORDS cascade ranking, pre-trained language...   \n",
       "\n",
       "                                             summary        r1        r2  \\\n",
       "0  [Our approach is mainly based on the BERT lang...  0.237885  0.065359   \n",
       "1  [BERT [2] is a self-supervised approach for pr...  0.238372  0.063366   \n",
       "2  [Recently, some variants [4, 12] of BERT langu...  0.172727  0.047782   \n",
       "3  [Recently, some variants [4, 12] of BERT langu...  0.237838  0.078740   \n",
       "4  [The proposed model is based on the pointer-ge...  0.215139  0.093023   \n",
       "\n",
       "         rl                                          sentences  \\\n",
       "0  0.229075  [KEYWORDS cascade ranking, pre-trained languag...   \n",
       "1  0.215116  [KEYWORDS cascade ranking, pre-trained languag...   \n",
       "2  0.172727  [KEYWORDS cascade ranking, pre-trained languag...   \n",
       "3  0.227027  [KEYWORDS cascade ranking, pre-trained languag...   \n",
       "4  0.199203  [KEYWORDS cascade ranking, pre-trained languag...   \n",
       "\n",
       "                                           relevance  \n",
       "0  [False, False, False, False, False, False, Fal...  \n",
       "1  [False, False, False, False, False, True, Fals...  \n",
       "2  [False, False, False, False, False, True, Fals...  \n",
       "3  [False, False, False, False, False, False, Tru...  \n",
       "4  [False, False, False, False, False, False, Fal...  "
      ]
     },
     "execution_count": 6,
     "metadata": {},
     "output_type": "execute_result"
    }
   ],
   "source": [
    "relevance = data\\\n",
    ".assign(sentences = [sent_tokenize(x) for x in tqdm(data.document)])\\\n",
    ".assign(\n",
    "    relevance = lambda df: df.apply(\n",
    "        lambda r: [True if s in r[\"summary\"] else False for s in r[\"sentences\"]], \n",
    "        axis = \"columns\"\n",
    "    )\n",
    ")\n",
    "show(relevance)"
   ]
  },
  {
   "cell_type": "code",
   "execution_count": 7,
   "id": "8f07b59a",
   "metadata": {},
   "outputs": [
    {
     "data": {
      "text/plain": [
       "True"
      ]
     },
     "execution_count": 7,
     "metadata": {},
     "output_type": "execute_result"
    }
   ],
   "source": [
    "all(relevance.sentences.map(len) == relevance.relevance.map(len))"
   ]
  },
  {
   "cell_type": "code",
   "execution_count": 8,
   "id": "ded6df4b",
   "metadata": {},
   "outputs": [],
   "source": [
    "relevance.to_pickle(\"../data/sentence_labels.pkl\")"
   ]
  },
  {
   "cell_type": "code",
   "execution_count": null,
   "id": "c1762f32",
   "metadata": {},
   "outputs": [],
   "source": []
  }
 ],
 "metadata": {
  "kernelspec": {
   "display_name": "Python 3 (ipykernel)",
   "language": "python",
   "name": "python3"
  },
  "language_info": {
   "codemirror_mode": {
    "name": "ipython",
    "version": 3
   },
   "file_extension": ".py",
   "mimetype": "text/x-python",
   "name": "python",
   "nbconvert_exporter": "python",
   "pygments_lexer": "ipython3",
   "version": "3.8.10"
  }
 },
 "nbformat": 4,
 "nbformat_minor": 5
}
