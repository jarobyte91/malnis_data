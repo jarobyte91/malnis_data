{
 "cells": [
  {
   "cell_type": "code",
   "execution_count": 33,
   "id": "78cff1d8",
   "metadata": {},
   "outputs": [],
   "source": [
    "import pandas as pd\n",
    "from nltk.tokenize import sent_tokenize, PunktSentenceTokenizer\n",
    "from sklearn.metrics.pairwise import cosine_similarity\n",
    "from sklearn.feature_extraction.text import CountVectorizer, TfidfVectorizer\n",
    "import matplotlib.pyplot as plt\n",
    "from sentence_transformers import SentenceTransformer\n",
    "import math\n",
    "from rouge import Rouge\n",
    "from tqdm.notebook import tqdm\n",
    "import seaborn as sns\n",
    "import numpy as np\n",
    "import pickle\n",
    "sns.set()"
   ]
  },
  {
   "cell_type": "code",
   "execution_count": 34,
   "id": "fb6dbb67",
   "metadata": {},
   "outputs": [],
   "source": [
    "def show(x):\n",
    "    print(x.shape)\n",
    "    return x.head()"
   ]
  },
  {
   "cell_type": "code",
   "execution_count": 35,
   "id": "e0595f3c",
   "metadata": {},
   "outputs": [
    {
     "name": "stdout",
     "output_type": "stream",
     "text": [
      "(5035, 3)\n"
     ]
    },
    {
     "data": {
      "text/html": [
       "<div>\n",
       "<style scoped>\n",
       "    .dataframe tbody tr th:only-of-type {\n",
       "        vertical-align: middle;\n",
       "    }\n",
       "\n",
       "    .dataframe tbody tr th {\n",
       "        vertical-align: top;\n",
       "    }\n",
       "\n",
       "    .dataframe thead th {\n",
       "        text-align: right;\n",
       "    }\n",
       "</style>\n",
       "<table border=\"1\" class=\"dataframe\">\n",
       "  <thead>\n",
       "    <tr style=\"text-align: right;\">\n",
       "      <th></th>\n",
       "      <th>global_reference_id</th>\n",
       "      <th>title</th>\n",
       "      <th>abstract</th>\n",
       "    </tr>\n",
       "  </thead>\n",
       "  <tbody>\n",
       "    <tr>\n",
       "      <th>0</th>\n",
       "      <td>0</td>\n",
       "      <td>Distributed Representations of Words and Phras...</td>\n",
       "      <td>The recently introduced continuous Skip-gram m...</td>\n",
       "    </tr>\n",
       "    <tr>\n",
       "      <th>1</th>\n",
       "      <td>1</td>\n",
       "      <td>BERT: Pre-training of Deep Bidirectional Trans...</td>\n",
       "      <td>We introduce a new language representation mod...</td>\n",
       "    </tr>\n",
       "    <tr>\n",
       "      <th>2</th>\n",
       "      <td>2</td>\n",
       "      <td>Attention Is All You Need</td>\n",
       "      <td>The dominant sequence transduction models are ...</td>\n",
       "    </tr>\n",
       "    <tr>\n",
       "      <th>3</th>\n",
       "      <td>3</td>\n",
       "      <td>GloVe : Global Vectors for Word Representation</td>\n",
       "      <td>Recent methods for learning vector space repre...</td>\n",
       "    </tr>\n",
       "    <tr>\n",
       "      <th>4</th>\n",
       "      <td>4</td>\n",
       "      <td>Adam: A Method for Stochastic Optimization</td>\n",
       "      <td>We introduce Adam, an algorithm for first-orde...</td>\n",
       "    </tr>\n",
       "    <tr>\n",
       "      <th>6</th>\n",
       "      <td>6</td>\n",
       "      <td>Deep Contextualized Word Representations</td>\n",
       "      <td>We introduce a new type of deep contextualized...</td>\n",
       "    </tr>\n",
       "    <tr>\n",
       "      <th>7</th>\n",
       "      <td>7</td>\n",
       "      <td>Neural Machine Translation By Jointly Learning...</td>\n",
       "      <td>Neural machine translation is a recently propo...</td>\n",
       "    </tr>\n",
       "    <tr>\n",
       "      <th>8</th>\n",
       "      <td>8</td>\n",
       "      <td>Efficient Estimation of Word Representations i...</td>\n",
       "      <td>We propose two novel model architectures for c...</td>\n",
       "    </tr>\n",
       "    <tr>\n",
       "      <th>9</th>\n",
       "      <td>9</td>\n",
       "      <td>Deep Residual Learning for Image Recognition</td>\n",
       "      <td>Deeper neural networks are more difficult to t...</td>\n",
       "    </tr>\n",
       "    <tr>\n",
       "      <th>11</th>\n",
       "      <td>11</td>\n",
       "      <td>Distributed Representations of Sentences and D...</td>\n",
       "      <td>Many machine learning algorithms require the i...</td>\n",
       "    </tr>\n",
       "  </tbody>\n",
       "</table>\n",
       "</div>"
      ],
      "text/plain": [
       "    global_reference_id                                              title  \\\n",
       "0                     0  Distributed Representations of Words and Phras...   \n",
       "1                     1  BERT: Pre-training of Deep Bidirectional Trans...   \n",
       "2                     2                          Attention Is All You Need   \n",
       "3                     3     GloVe : Global Vectors for Word Representation   \n",
       "4                     4         Adam: A Method for Stochastic Optimization   \n",
       "6                     6           Deep Contextualized Word Representations   \n",
       "7                     7  Neural Machine Translation By Jointly Learning...   \n",
       "8                     8  Efficient Estimation of Word Representations i...   \n",
       "9                     9       Deep Residual Learning for Image Recognition   \n",
       "11                   11  Distributed Representations of Sentences and D...   \n",
       "\n",
       "                                             abstract  \n",
       "0   The recently introduced continuous Skip-gram m...  \n",
       "1   We introduce a new language representation mod...  \n",
       "2   The dominant sequence transduction models are ...  \n",
       "3   Recent methods for learning vector space repre...  \n",
       "4   We introduce Adam, an algorithm for first-orde...  \n",
       "6   We introduce a new type of deep contextualized...  \n",
       "7   Neural machine translation is a recently propo...  \n",
       "8   We propose two novel model architectures for c...  \n",
       "9   Deeper neural networks are more difficult to t...  \n",
       "11  Many machine learning algorithms require the i...  "
      ]
     },
     "execution_count": 35,
     "metadata": {},
     "output_type": "execute_result"
    }
   ],
   "source": [
    "references = pd.read_csv(\"../data/references.csv\").dropna()\n",
    "show(references)\n",
    "references.head(10)"
   ]
  },
  {
   "cell_type": "code",
   "execution_count": 36,
   "id": "d3eb55bb",
   "metadata": {},
   "outputs": [
    {
     "name": "stdout",
     "output_type": "stream",
     "text": [
      "(1091, 4)\n"
     ]
    },
    {
     "data": {
      "text/html": [
       "<div>\n",
       "<style scoped>\n",
       "    .dataframe tbody tr th:only-of-type {\n",
       "        vertical-align: middle;\n",
       "    }\n",
       "\n",
       "    .dataframe tbody tr th {\n",
       "        vertical-align: top;\n",
       "    }\n",
       "\n",
       "    .dataframe thead th {\n",
       "        text-align: right;\n",
       "    }\n",
       "</style>\n",
       "<table border=\"1\" class=\"dataframe\">\n",
       "  <thead>\n",
       "    <tr style=\"text-align: right;\">\n",
       "      <th></th>\n",
       "      <th>paper_id</th>\n",
       "      <th>title</th>\n",
       "      <th>abstract</th>\n",
       "      <th>text</th>\n",
       "    </tr>\n",
       "  </thead>\n",
       "  <tbody>\n",
       "    <tr>\n",
       "      <th>0</th>\n",
       "      <td>0</td>\n",
       "      <td>IDST at TREC 2019 Deep Learning Track: Deep Ca...</td>\n",
       "      <td>This paper describes our participation in the ...</td>\n",
       "      <td>KEYWORDS cascade ranking, pre-trained language...</td>\n",
       "    </tr>\n",
       "    <tr>\n",
       "      <th>1</th>\n",
       "      <td>1</td>\n",
       "      <td>BatchBALD: Efficient and Diverse Batch Acquisi...</td>\n",
       "      <td>We develop BatchBALD, a tractable approximatio...</td>\n",
       "      <td>A key problem in deep learning is data efficie...</td>\n",
       "    </tr>\n",
       "    <tr>\n",
       "      <th>2</th>\n",
       "      <td>2</td>\n",
       "      <td>A Sentence Compression Based Framework to Quer...</td>\n",
       "      <td>We consider the problem of using sentence comp...</td>\n",
       "      <td>Proceedings of the 51st Annual Meeting of the ...</td>\n",
       "    </tr>\n",
       "    <tr>\n",
       "      <th>3</th>\n",
       "      <td>3</td>\n",
       "      <td>DR-BiLSTM: Dependent Reading Bidirectional LST...</td>\n",
       "      <td>We present a novel deep learning architecture ...</td>\n",
       "      <td>Natural Language Inference (NLI; a.k.a. Recogn...</td>\n",
       "    </tr>\n",
       "    <tr>\n",
       "      <th>4</th>\n",
       "      <td>4</td>\n",
       "      <td>On Minimizing Cost in Legal Document ReviewWor...</td>\n",
       "      <td>Technology-assisted review (TAR) refers to hum...</td>\n",
       "      <td>CCS CONCEPTS • Information systems → Informati...</td>\n",
       "    </tr>\n",
       "  </tbody>\n",
       "</table>\n",
       "</div>"
      ],
      "text/plain": [
       "   paper_id                                              title  \\\n",
       "0         0  IDST at TREC 2019 Deep Learning Track: Deep Ca...   \n",
       "1         1  BatchBALD: Efficient and Diverse Batch Acquisi...   \n",
       "2         2  A Sentence Compression Based Framework to Quer...   \n",
       "3         3  DR-BiLSTM: Dependent Reading Bidirectional LST...   \n",
       "4         4  On Minimizing Cost in Legal Document ReviewWor...   \n",
       "\n",
       "                                            abstract  \\\n",
       "0  This paper describes our participation in the ...   \n",
       "1  We develop BatchBALD, a tractable approximatio...   \n",
       "2  We consider the problem of using sentence comp...   \n",
       "3  We present a novel deep learning architecture ...   \n",
       "4  Technology-assisted review (TAR) refers to hum...   \n",
       "\n",
       "                                                text  \n",
       "0  KEYWORDS cascade ranking, pre-trained language...  \n",
       "1  A key problem in deep learning is data efficie...  \n",
       "2  Proceedings of the 51st Annual Meeting of the ...  \n",
       "3  Natural Language Inference (NLI; a.k.a. Recogn...  \n",
       "4  CCS CONCEPTS • Information systems → Informati...  "
      ]
     },
     "execution_count": 36,
     "metadata": {},
     "output_type": "execute_result"
    }
   ],
   "source": [
    "papers = pd.read_csv(\"../data/papers.csv\")\n",
    "show(papers)"
   ]
  },
  {
   "cell_type": "code",
   "execution_count": 37,
   "id": "2bb10135",
   "metadata": {},
   "outputs": [
    {
     "name": "stdout",
     "output_type": "stream",
     "text": [
      "(56746, 6)\n"
     ]
    },
    {
     "data": {
      "text/html": [
       "<div>\n",
       "<style scoped>\n",
       "    .dataframe tbody tr th:only-of-type {\n",
       "        vertical-align: middle;\n",
       "    }\n",
       "\n",
       "    .dataframe tbody tr th {\n",
       "        vertical-align: top;\n",
       "    }\n",
       "\n",
       "    .dataframe thead th {\n",
       "        text-align: right;\n",
       "    }\n",
       "</style>\n",
       "<table border=\"1\" class=\"dataframe\">\n",
       "  <thead>\n",
       "    <tr style=\"text-align: right;\">\n",
       "      <th></th>\n",
       "      <th>paper_id</th>\n",
       "      <th>internal_reference_id</th>\n",
       "      <th>global_reference_id</th>\n",
       "      <th>context</th>\n",
       "      <th>start_offset</th>\n",
       "      <th>end_offset</th>\n",
       "    </tr>\n",
       "  </thead>\n",
       "  <tbody>\n",
       "    <tr>\n",
       "      <th>0</th>\n",
       "      <td>0</td>\n",
       "      <td>1</td>\n",
       "      <td>1</td>\n",
       "      <td>Our approach is mainly based on the BERT langu...</td>\n",
       "      <td>56</td>\n",
       "      <td>59</td>\n",
       "    </tr>\n",
       "    <tr>\n",
       "      <th>1</th>\n",
       "      <td>0</td>\n",
       "      <td>8</td>\n",
       "      <td>475</td>\n",
       "      <td>Different from many other ranking methods whic...</td>\n",
       "      <td>216</td>\n",
       "      <td>219</td>\n",
       "    </tr>\n",
       "    <tr>\n",
       "      <th>2</th>\n",
       "      <td>0</td>\n",
       "      <td>5</td>\n",
       "      <td>155</td>\n",
       "      <td>Moreover, for full ranking subtask, we use a s...</td>\n",
       "      <td>78</td>\n",
       "      <td>81</td>\n",
       "    </tr>\n",
       "    <tr>\n",
       "      <th>3</th>\n",
       "      <td>0</td>\n",
       "      <td>6</td>\n",
       "      <td>25</td>\n",
       "      <td>The proposed model is based on the pointer-gen...</td>\n",
       "      <td>59</td>\n",
       "      <td>62</td>\n",
       "    </tr>\n",
       "    <tr>\n",
       "      <th>4</th>\n",
       "      <td>0</td>\n",
       "      <td>6</td>\n",
       "      <td>25</td>\n",
       "      <td>Following [7], we also use a soft switch to ch...</td>\n",
       "      <td>10</td>\n",
       "      <td>13</td>\n",
       "    </tr>\n",
       "  </tbody>\n",
       "</table>\n",
       "</div>"
      ],
      "text/plain": [
       "   paper_id  internal_reference_id  global_reference_id  \\\n",
       "0         0                      1                    1   \n",
       "1         0                      8                  475   \n",
       "2         0                      5                  155   \n",
       "3         0                      6                   25   \n",
       "4         0                      6                   25   \n",
       "\n",
       "                                             context  start_offset  end_offset  \n",
       "0  Our approach is mainly based on the BERT langu...            56          59  \n",
       "1  Different from many other ranking methods whic...           216         219  \n",
       "2  Moreover, for full ranking subtask, we use a s...            78          81  \n",
       "3  The proposed model is based on the pointer-gen...            59          62  \n",
       "4  Following [7], we also use a soft switch to ch...            10          13  "
      ]
     },
     "execution_count": 37,
     "metadata": {},
     "output_type": "execute_result"
    }
   ],
   "source": [
    "citations = pd.read_csv(\"../data/citations.csv\")\n",
    "show(citations)"
   ]
  },
  {
   "cell_type": "markdown",
   "id": "a19513d8",
   "metadata": {},
   "source": [
    "# retrieving sentences"
   ]
  },
  {
   "cell_type": "code",
   "execution_count": 38,
   "id": "12a240b6",
   "metadata": {},
   "outputs": [
    {
     "name": "stdout",
     "output_type": "stream",
     "text": [
      "(1091, 3)\n"
     ]
    },
    {
     "data": {
      "text/html": [
       "<div>\n",
       "<style scoped>\n",
       "    .dataframe tbody tr th:only-of-type {\n",
       "        vertical-align: middle;\n",
       "    }\n",
       "\n",
       "    .dataframe tbody tr th {\n",
       "        vertical-align: top;\n",
       "    }\n",
       "\n",
       "    .dataframe thead th {\n",
       "        text-align: right;\n",
       "    }\n",
       "</style>\n",
       "<table border=\"1\" class=\"dataframe\">\n",
       "  <thead>\n",
       "    <tr style=\"text-align: right;\">\n",
       "      <th></th>\n",
       "      <th>paper_id</th>\n",
       "      <th>references</th>\n",
       "      <th>text</th>\n",
       "    </tr>\n",
       "  </thead>\n",
       "  <tbody>\n",
       "    <tr>\n",
       "      <th>0</th>\n",
       "      <td>482</td>\n",
       "      <td>718</td>\n",
       "      <td>This survey provides a synthesis of existing w...</td>\n",
       "    </tr>\n",
       "    <tr>\n",
       "      <th>1</th>\n",
       "      <td>647</td>\n",
       "      <td>718</td>\n",
       "      <td>This survey provides a synthesis of existing w...</td>\n",
       "    </tr>\n",
       "    <tr>\n",
       "      <th>2</th>\n",
       "      <td>595</td>\n",
       "      <td>599</td>\n",
       "      <td>commercial world. To provide an overview of th...</td>\n",
       "    </tr>\n",
       "    <tr>\n",
       "      <th>3</th>\n",
       "      <td>650</td>\n",
       "      <td>563</td>\n",
       "      <td>1 Interactive Clustering: A Comprehensive Revi...</td>\n",
       "    </tr>\n",
       "    <tr>\n",
       "      <th>4</th>\n",
       "      <td>372</td>\n",
       "      <td>491</td>\n",
       "      <td>In this survey, we provide a synthesis of exis...</td>\n",
       "    </tr>\n",
       "  </tbody>\n",
       "</table>\n",
       "</div>"
      ],
      "text/plain": [
       "   paper_id  references                                               text\n",
       "0       482         718  This survey provides a synthesis of existing w...\n",
       "1       647         718  This survey provides a synthesis of existing w...\n",
       "2       595         599  commercial world. To provide an overview of th...\n",
       "3       650         563  1 Interactive Clustering: A Comprehensive Revi...\n",
       "4       372         491  In this survey, we provide a synthesis of exis..."
      ]
     },
     "execution_count": 38,
     "metadata": {},
     "output_type": "execute_result"
    }
   ],
   "source": [
    "query_papers = citations.paper_id.value_counts().reset_index()\\\n",
    ".rename(columns = {\"index\":\"paper_id\", \"paper_id\":\"references\"})\\\n",
    ".merge(papers.drop(columns = [\"title\", \"abstract\"]))\n",
    "show(query_papers)"
   ]
  },
  {
   "cell_type": "code",
   "execution_count": 39,
   "id": "551f3996",
   "metadata": {},
   "outputs": [
    {
     "data": {
      "text/html": [
       "<div>\n",
       "<style scoped>\n",
       "    .dataframe tbody tr th:only-of-type {\n",
       "        vertical-align: middle;\n",
       "    }\n",
       "\n",
       "    .dataframe tbody tr th {\n",
       "        vertical-align: top;\n",
       "    }\n",
       "\n",
       "    .dataframe thead th {\n",
       "        text-align: right;\n",
       "    }\n",
       "</style>\n",
       "<table border=\"1\" class=\"dataframe\">\n",
       "  <thead>\n",
       "    <tr style=\"text-align: right;\">\n",
       "      <th></th>\n",
       "      <th>paper_id</th>\n",
       "      <th>title</th>\n",
       "      <th>abstract</th>\n",
       "      <th>text</th>\n",
       "    </tr>\n",
       "  </thead>\n",
       "  <tbody>\n",
       "    <tr>\n",
       "      <th>191</th>\n",
       "      <td>191</td>\n",
       "      <td>The Benefits of Word Embeddings Features for A...</td>\n",
       "      <td>This study investigates the use of unsupervise...</td>\n",
       "      <td>Active learning (AL) has recently received con...</td>\n",
       "    </tr>\n",
       "  </tbody>\n",
       "</table>\n",
       "</div>"
      ],
      "text/plain": [
       "     paper_id                                              title  \\\n",
       "191       191  The Benefits of Word Embeddings Features for A...   \n",
       "\n",
       "                                              abstract  \\\n",
       "191  This study investigates the use of unsupervise...   \n",
       "\n",
       "                                                  text  \n",
       "191  Active learning (AL) has recently received con...  "
      ]
     },
     "execution_count": 39,
     "metadata": {},
     "output_type": "execute_result"
    }
   ],
   "source": [
    "papers.query(\"paper_id == 191\")"
   ]
  },
  {
   "cell_type": "code",
   "execution_count": 40,
   "id": "a04589b8",
   "metadata": {},
   "outputs": [
    {
     "name": "stdout",
     "output_type": "stream",
     "text": [
      "(4135, 5)\n"
     ]
    },
    {
     "data": {
      "text/html": [
       "<div>\n",
       "<style scoped>\n",
       "    .dataframe tbody tr th:only-of-type {\n",
       "        vertical-align: middle;\n",
       "    }\n",
       "\n",
       "    .dataframe tbody tr th {\n",
       "        vertical-align: top;\n",
       "    }\n",
       "\n",
       "    .dataframe thead th {\n",
       "        text-align: right;\n",
       "    }\n",
       "</style>\n",
       "<table border=\"1\" class=\"dataframe\">\n",
       "  <thead>\n",
       "    <tr style=\"text-align: right;\">\n",
       "      <th></th>\n",
       "      <th>global_reference_id</th>\n",
       "      <th>global_reference_id_x</th>\n",
       "      <th>citations</th>\n",
       "      <th>global_reference_id_y</th>\n",
       "      <th>abstract</th>\n",
       "    </tr>\n",
       "  </thead>\n",
       "  <tbody>\n",
       "    <tr>\n",
       "      <th>0</th>\n",
       "      <td>1</td>\n",
       "      <td>1</td>\n",
       "      <td>497</td>\n",
       "      <td>1</td>\n",
       "      <td>We introduce a new language representation mod...</td>\n",
       "    </tr>\n",
       "    <tr>\n",
       "      <th>1</th>\n",
       "      <td>2</td>\n",
       "      <td>2</td>\n",
       "      <td>257</td>\n",
       "      <td>2</td>\n",
       "      <td>The dominant sequence transduction models are ...</td>\n",
       "    </tr>\n",
       "    <tr>\n",
       "      <th>2</th>\n",
       "      <td>0</td>\n",
       "      <td>0</td>\n",
       "      <td>247</td>\n",
       "      <td>0</td>\n",
       "      <td>The recently introduced continuous Skip-gram m...</td>\n",
       "    </tr>\n",
       "    <tr>\n",
       "      <th>3</th>\n",
       "      <td>3</td>\n",
       "      <td>3</td>\n",
       "      <td>215</td>\n",
       "      <td>3</td>\n",
       "      <td>Recent methods for learning vector space repre...</td>\n",
       "    </tr>\n",
       "    <tr>\n",
       "      <th>4</th>\n",
       "      <td>8</td>\n",
       "      <td>8</td>\n",
       "      <td>184</td>\n",
       "      <td>8</td>\n",
       "      <td>We propose two novel model architectures for c...</td>\n",
       "    </tr>\n",
       "  </tbody>\n",
       "</table>\n",
       "</div>"
      ],
      "text/plain": [
       "   global_reference_id  global_reference_id_x  citations  \\\n",
       "0                    1                      1        497   \n",
       "1                    2                      2        257   \n",
       "2                    0                      0        247   \n",
       "3                    3                      3        215   \n",
       "4                    8                      8        184   \n",
       "\n",
       "   global_reference_id_y                                           abstract  \n",
       "0                      1  We introduce a new language representation mod...  \n",
       "1                      2  The dominant sequence transduction models are ...  \n",
       "2                      0  The recently introduced continuous Skip-gram m...  \n",
       "3                      3  Recent methods for learning vector space repre...  \n",
       "4                      8  We propose two novel model architectures for c...  "
      ]
     },
     "execution_count": 40,
     "metadata": {},
     "output_type": "execute_result"
    }
   ],
   "source": [
    "query_references = citations.global_reference_id.value_counts()\\\n",
    ".reset_index()\\\n",
    ".rename(columns = {\"index\":\"global_reference_id\", \"global_reference_id\":\"citations\"})\\\n",
    ".merge(references.dropna().drop(columns = \"title\"), right_index = True, left_on = \"global_reference_id\")\n",
    "show(query_references)"
   ]
  },
  {
   "cell_type": "code",
   "execution_count": 41,
   "id": "83b481b2",
   "metadata": {},
   "outputs": [
    {
     "name": "stdout",
     "output_type": "stream",
     "text": [
      "(10984, 2)\n"
     ]
    },
    {
     "data": {
      "text/html": [
       "<div>\n",
       "<style scoped>\n",
       "    .dataframe tbody tr th:only-of-type {\n",
       "        vertical-align: middle;\n",
       "    }\n",
       "\n",
       "    .dataframe tbody tr th {\n",
       "        vertical-align: top;\n",
       "    }\n",
       "\n",
       "    .dataframe thead th {\n",
       "        text-align: right;\n",
       "    }\n",
       "</style>\n",
       "<table border=\"1\" class=\"dataframe\">\n",
       "  <thead>\n",
       "    <tr style=\"text-align: right;\">\n",
       "      <th></th>\n",
       "      <th>paper_id</th>\n",
       "      <th>global_reference_id</th>\n",
       "    </tr>\n",
       "  </thead>\n",
       "  <tbody>\n",
       "    <tr>\n",
       "      <th>0</th>\n",
       "      <td>0</td>\n",
       "      <td>1</td>\n",
       "    </tr>\n",
       "    <tr>\n",
       "      <th>2</th>\n",
       "      <td>7</td>\n",
       "      <td>1</td>\n",
       "    </tr>\n",
       "    <tr>\n",
       "      <th>6</th>\n",
       "      <td>8</td>\n",
       "      <td>1</td>\n",
       "    </tr>\n",
       "    <tr>\n",
       "      <th>12</th>\n",
       "      <td>12</td>\n",
       "      <td>1</td>\n",
       "    </tr>\n",
       "    <tr>\n",
       "      <th>18</th>\n",
       "      <td>17</td>\n",
       "      <td>1</td>\n",
       "    </tr>\n",
       "  </tbody>\n",
       "</table>\n",
       "</div>"
      ],
      "text/plain": [
       "    paper_id  global_reference_id\n",
       "0          0                    1\n",
       "2          7                    1\n",
       "6          8                    1\n",
       "12        12                    1\n",
       "18        17                    1"
      ]
     },
     "execution_count": 41,
     "metadata": {},
     "output_type": "execute_result"
    }
   ],
   "source": [
    "query_citations = citations.merge(query_references)[[\"paper_id\", \"global_reference_id\"]].drop_duplicates()\n",
    "show(query_citations)"
   ]
  },
  {
   "cell_type": "code",
   "execution_count": 42,
   "id": "a81614f9",
   "metadata": {},
   "outputs": [
    {
     "data": {
      "text/plain": [
       "<nltk.tokenize.punkt.PunktSentenceTokenizer at 0x2ae4a31e2f40>"
      ]
     },
     "execution_count": 42,
     "metadata": {},
     "output_type": "execute_result"
    }
   ],
   "source": [
    "# tokenizer = PunktSentenceTokenizer()\n",
    "tokenizer = PunktSentenceTokenizer(train_text = papers.text.sum())\n",
    "tokenizer"
   ]
  },
  {
   "cell_type": "code",
   "execution_count": 43,
   "id": "e1669531",
   "metadata": {},
   "outputs": [
    {
     "data": {
      "text/plain": [
       "TfidfVectorizer()"
      ]
     },
     "execution_count": 43,
     "metadata": {},
     "output_type": "execute_result"
    }
   ],
   "source": [
    "# model = CountVectorizer()\n",
    "model = TfidfVectorizer()\n",
    "model.fit(query_references.abstract)"
   ]
  },
  {
   "cell_type": "code",
   "execution_count": 44,
   "id": "9037b139",
   "metadata": {},
   "outputs": [
    {
     "name": "stdout",
     "output_type": "stream",
     "text": [
      "(4135, 16420)\n"
     ]
    }
   ],
   "source": [
    "query_embeddings = model.transform(query_references.abstract)\n",
    "print(query_embeddings.shape)"
   ]
  },
  {
   "cell_type": "code",
   "execution_count": 45,
   "id": "4db366ee",
   "metadata": {},
   "outputs": [
    {
     "data": {
      "application/vnd.jupyter.widget-view+json": {
       "model_id": "3fe0046204b34c62b46fc02d83eb07a3",
       "version_major": 2,
       "version_minor": 0
      },
      "text/plain": [
       "  0%|          | 0/1091 [00:00<?, ?it/s]"
      ]
     },
     "metadata": {},
     "output_type": "display_data"
    },
    {
     "name": "stdout",
     "output_type": "stream",
     "text": [
      "1091\n",
      "5973 (5973, 16420)\n"
     ]
    }
   ],
   "source": [
    "sentence_embeddings = []\n",
    "for p in tqdm(query_papers.text):\n",
    "    s = tokenizer.tokenize(p)\n",
    "    sentence_embeddings.append((np.array(s), model.transform(s)))\n",
    "print(len(sentence_embeddings))\n",
    "print(len(sentence_embeddings[0][0]), sentence_embeddings[0][1].shape)"
   ]
  },
  {
   "cell_type": "code",
   "execution_count": 46,
   "id": "b4373036",
   "metadata": {},
   "outputs": [
    {
     "name": "stdout",
     "output_type": "stream",
     "text": [
      "(4135,)\n"
     ]
    },
    {
     "data": {
      "text/plain": [
       "global_reference_id\n",
       "1    0\n",
       "2    1\n",
       "0    2\n",
       "3    3\n",
       "8    4\n",
       "Name: index, dtype: int64"
      ]
     },
     "execution_count": 46,
     "metadata": {},
     "output_type": "execute_result"
    }
   ],
   "source": [
    "query_ids = query_references\\\n",
    ".global_reference_id\\\n",
    ".reset_index(drop = True)\\\n",
    ".reset_index()\\\n",
    ".set_index(\"global_reference_id\")[\"index\"]\n",
    "show(query_ids)"
   ]
  },
  {
   "cell_type": "code",
   "execution_count": 47,
   "id": "8e568650",
   "metadata": {},
   "outputs": [
    {
     "name": "stdout",
     "output_type": "stream",
     "text": [
      "(1091,)\n"
     ]
    },
    {
     "data": {
      "text/plain": [
       "paper_id\n",
       "482    0\n",
       "647    1\n",
       "595    2\n",
       "650    3\n",
       "372    4\n",
       "Name: index, dtype: int64"
      ]
     },
     "execution_count": 47,
     "metadata": {},
     "output_type": "execute_result"
    }
   ],
   "source": [
    "paper_ids = query_papers\\\n",
    ".paper_id\\\n",
    ".reset_index(drop = True)\\\n",
    ".reset_index()\\\n",
    ".set_index(\"paper_id\")[\"index\"]\n",
    "show(paper_ids)"
   ]
  },
  {
   "cell_type": "code",
   "execution_count": 48,
   "id": "942a010f",
   "metadata": {},
   "outputs": [
    {
     "data": {
      "application/vnd.jupyter.widget-view+json": {
       "model_id": "5347f5e08bcc44af92cc28255f548ac6",
       "version_major": 2,
       "version_minor": 0
      },
      "text/plain": [
       "  0%|          | 0/10984 [00:00<?, ?it/s]"
      ]
     },
     "metadata": {},
     "output_type": "display_data"
    },
    {
     "name": "stdout",
     "output_type": "stream",
     "text": [
      "(6389984, 4)\n"
     ]
    },
    {
     "data": {
      "text/html": [
       "<div>\n",
       "<style scoped>\n",
       "    .dataframe tbody tr th:only-of-type {\n",
       "        vertical-align: middle;\n",
       "    }\n",
       "\n",
       "    .dataframe tbody tr th {\n",
       "        vertical-align: top;\n",
       "    }\n",
       "\n",
       "    .dataframe thead th {\n",
       "        text-align: right;\n",
       "    }\n",
       "</style>\n",
       "<table border=\"1\" class=\"dataframe\">\n",
       "  <thead>\n",
       "    <tr style=\"text-align: right;\">\n",
       "      <th></th>\n",
       "      <th>text</th>\n",
       "      <th>relevance_to_query</th>\n",
       "      <th>paper_id</th>\n",
       "      <th>global_reference_id</th>\n",
       "    </tr>\n",
       "  </thead>\n",
       "  <tbody>\n",
       "    <tr>\n",
       "      <th>0</th>\n",
       "      <td>KEYWORDS cascade ranking, pre-trained language...</td>\n",
       "      <td>0.042543</td>\n",
       "      <td>0</td>\n",
       "      <td>1</td>\n",
       "    </tr>\n",
       "    <tr>\n",
       "      <th>1</th>\n",
       "      <td>2020.</td>\n",
       "      <td>0.000000</td>\n",
       "      <td>0</td>\n",
       "      <td>1</td>\n",
       "    </tr>\n",
       "    <tr>\n",
       "      <th>2</th>\n",
       "      <td>IDST at TREC 2019 Deep Learning Track: Deep Ca...</td>\n",
       "      <td>0.074697</td>\n",
       "      <td>0</td>\n",
       "      <td>1</td>\n",
       "    </tr>\n",
       "    <tr>\n",
       "      <th>3</th>\n",
       "      <td>In Proceedings of ACM Conference (Conference’17).</td>\n",
       "      <td>0.004005</td>\n",
       "      <td>0</td>\n",
       "      <td>1</td>\n",
       "    </tr>\n",
       "    <tr>\n",
       "      <th>4</th>\n",
       "      <td>ACM, New York, NY, USA, 4 pages.</td>\n",
       "      <td>0.010973</td>\n",
       "      <td>0</td>\n",
       "      <td>1</td>\n",
       "    </tr>\n",
       "  </tbody>\n",
       "</table>\n",
       "</div>"
      ],
      "text/plain": [
       "                                                text  relevance_to_query  \\\n",
       "0  KEYWORDS cascade ranking, pre-trained language...            0.042543   \n",
       "1                                              2020.            0.000000   \n",
       "2  IDST at TREC 2019 Deep Learning Track: Deep Ca...            0.074697   \n",
       "3  In Proceedings of ACM Conference (Conference’17).            0.004005   \n",
       "4                   ACM, New York, NY, USA, 4 pages.            0.010973   \n",
       "\n",
       "   paper_id  global_reference_id  \n",
       "0         0                    1  \n",
       "1         0                    1  \n",
       "2         0                    1  \n",
       "3         0                    1  \n",
       "4         0                    1  "
      ]
     },
     "execution_count": 48,
     "metadata": {},
     "output_type": "execute_result"
    }
   ],
   "source": [
    "data = query_citations.to_dict(\"records\")#[:5]\n",
    "sentence_scores = []\n",
    "for d in tqdm(data):\n",
    "    paper = d[\"paper_id\"]\n",
    "    reference = d[\"global_reference_id\"]\n",
    "    qe = query_embeddings[query_ids[reference]]\n",
    "    sentences, embeddings = sentence_embeddings[paper_ids[paper]]\n",
    "#     print(qe.shape)\n",
    "#     print(embeddings.shape)\n",
    "#     sim = cosine_similarity(qe.toarray(), embeddings.toarray()).flatten()\n",
    "#     sim = (qe.toarray() @ embeddings.toarray().T).flatten()\n",
    "    sim = (qe @ embeddings.T).toarray().flatten()\n",
    "    df = pd.DataFrame({\"text\":sentences, \"relevance_to_query\":sim})\\\n",
    "    .assign(paper_id = paper, global_reference_id = reference)\n",
    "    sentence_scores.append(df)\n",
    "sentence_scores = pd.concat(sentence_scores, axis = 0)\n",
    "show(sentence_scores)"
   ]
  },
  {
   "cell_type": "code",
   "execution_count": 49,
   "id": "92e7bcac",
   "metadata": {},
   "outputs": [
    {
     "data": {
      "image/png": "[encoded data removed]",
      "text/plain": [
       "<Figure size 432x288 with 1 Axes>"
      ]
     },
     "metadata": {},
     "output_type": "display_data"
    }
   ],
   "source": [
    "sentence_scores.groupby([\"paper_id\", \"global_reference_id\"]).relevance_to_query.mean().plot.hist()\n",
    "plt.xlabel(\"Average relevance to query\")\n",
    "plt.show()"
   ]
  },
  {
   "cell_type": "code",
   "execution_count": 50,
   "id": "3d09a9ed",
   "metadata": {},
   "outputs": [
    {
     "name": "stdout",
     "output_type": "stream",
     "text": [
      "(1142, 4)\n"
     ]
    },
    {
     "data": {
      "text/html": [
       "<div>\n",
       "<style scoped>\n",
       "    .dataframe tbody tr th:only-of-type {\n",
       "        vertical-align: middle;\n",
       "    }\n",
       "\n",
       "    .dataframe tbody tr th {\n",
       "        vertical-align: top;\n",
       "    }\n",
       "\n",
       "    .dataframe thead th {\n",
       "        text-align: right;\n",
       "    }\n",
       "</style>\n",
       "<table border=\"1\" class=\"dataframe\">\n",
       "  <thead>\n",
       "    <tr style=\"text-align: right;\">\n",
       "      <th></th>\n",
       "      <th>paper_id</th>\n",
       "      <th>global_reference_id</th>\n",
       "      <th>hypothesis</th>\n",
       "      <th>reference</th>\n",
       "    </tr>\n",
       "  </thead>\n",
       "  <tbody>\n",
       "    <tr>\n",
       "      <th>0</th>\n",
       "      <td>3</td>\n",
       "      <td>914</td>\n",
       "      <td>Natural Language Inference (NLI; a.k.a.</td>\n",
       "      <td>Natural Language Inference (NLI) task requires...</td>\n",
       "    </tr>\n",
       "    <tr>\n",
       "      <th>1</th>\n",
       "      <td>791</td>\n",
       "      <td>914</td>\n",
       "      <td>Natural Language Inference (NLI; a.k.a.</td>\n",
       "      <td>Natural Language Inference (NLI) task requires...</td>\n",
       "    </tr>\n",
       "    <tr>\n",
       "      <th>2</th>\n",
       "      <td>5</td>\n",
       "      <td>1925</td>\n",
       "      <td>The semantic parser converts natural language ...</td>\n",
       "      <td>Suppose we want to build a system that answers...</td>\n",
       "    </tr>\n",
       "    <tr>\n",
       "      <th>3</th>\n",
       "      <td>322</td>\n",
       "      <td>1925</td>\n",
       "      <td>The method does not require labeling sentences...</td>\n",
       "      <td>Suppose we want to build a system that answers...</td>\n",
       "    </tr>\n",
       "    <tr>\n",
       "      <th>4</th>\n",
       "      <td>6</td>\n",
       "      <td>1968</td>\n",
       "      <td>[11] study the maintenance of dense subgraphs ...</td>\n",
       "      <td>Recent years have witnessed an unprecedented p...</td>\n",
       "    </tr>\n",
       "  </tbody>\n",
       "</table>\n",
       "</div>"
      ],
      "text/plain": [
       "   paper_id  global_reference_id  \\\n",
       "0         3                  914   \n",
       "1       791                  914   \n",
       "2         5                 1925   \n",
       "3       322                 1925   \n",
       "4         6                 1968   \n",
       "\n",
       "                                          hypothesis  \\\n",
       "0            Natural Language Inference (NLI; a.k.a.   \n",
       "1            Natural Language Inference (NLI; a.k.a.   \n",
       "2  The semantic parser converts natural language ...   \n",
       "3  The method does not require labeling sentences...   \n",
       "4  [11] study the maintenance of dense subgraphs ...   \n",
       "\n",
       "                                           reference  \n",
       "0  Natural Language Inference (NLI) task requires...  \n",
       "1  Natural Language Inference (NLI) task requires...  \n",
       "2  Suppose we want to build a system that answers...  \n",
       "3  Suppose we want to build a system that answers...  \n",
       "4  Recent years have witnessed an unprecedented p...  "
      ]
     },
     "execution_count": 50,
     "metadata": {},
     "output_type": "execute_result"
    }
   ],
   "source": [
    "queries = sentence_scores.query(\"relevance_to_query > 0.4\")\\\n",
    ".groupby([\"paper_id\", \"global_reference_id\"])\\\n",
    ".text.agg(lambda x: \" \".join(x))\\\n",
    ".to_frame()\\\n",
    ".reset_index()\\\n",
    ".merge(references.drop(columns = [\"title\"]))\\\n",
    ".rename(columns = {\"text\":\"hypothesis\", \"abstract\":\"reference\"})\\\n",
    ".dropna()\\\n",
    ".reset_index(drop = True)\n",
    "\n",
    "show(queries)"
   ]
  },
  {
   "cell_type": "markdown",
   "id": "ccbac6a4",
   "metadata": {},
   "source": [
    "# rouge"
   ]
  },
  {
   "cell_type": "code",
   "execution_count": 51,
   "id": "8049a6b5",
   "metadata": {},
   "outputs": [
    {
     "name": "stdout",
     "output_type": "stream",
     "text": [
      "1142\n"
     ]
    },
    {
     "data": {
      "text/plain": [
       "[{'rouge-1': {'r': 0.04395604395604396,\n",
       "   'p': 0.6666666666666666,\n",
       "   'f': 0.08247422564353281},\n",
       "  'rouge-2': {'r': 0.016666666666666666,\n",
       "   'p': 0.3333333333333333,\n",
       "   'f': 0.03174603083900229},\n",
       "  'rouge-l': {'r': 0.04395604395604396,\n",
       "   'p': 0.6666666666666666,\n",
       "   'f': 0.08247422564353281}},\n",
       " {'rouge-1': {'r': 0.04395604395604396,\n",
       "   'p': 0.6666666666666666,\n",
       "   'f': 0.08247422564353281},\n",
       "  'rouge-2': {'r': 0.016666666666666666,\n",
       "   'p': 0.3333333333333333,\n",
       "   'f': 0.03174603083900229},\n",
       "  'rouge-l': {'r': 0.04395604395604396,\n",
       "   'p': 0.6666666666666666,\n",
       "   'f': 0.08247422564353281}},\n",
       " {'rouge-1': {'r': 0.1875, 'p': 0.35, 'f': 0.24418604196863172},\n",
       "  'rouge-2': {'r': 0.032679738562091505,\n",
       "   'p': 0.06578947368421052,\n",
       "   'f': 0.04366811783604477},\n",
       "  'rouge-l': {'r': 0.16964285714285715,\n",
       "   'p': 0.31666666666666665,\n",
       "   'f': 0.22093022801514342}},\n",
       " {'rouge-1': {'r': 0.11607142857142858,\n",
       "   'p': 0.24074074074074073,\n",
       "   'f': 0.1566265016344899},\n",
       "  'rouge-2': {'r': 0.013071895424836602,\n",
       "   'p': 0.029850746268656716,\n",
       "   'f': 0.018181813945868756},\n",
       "  'rouge-l': {'r': 0.10714285714285714,\n",
       "   'p': 0.2222222222222222,\n",
       "   'f': 0.14457830886340556}},\n",
       " {'rouge-1': {'r': 0.09219858156028368,\n",
       "   'p': 0.5909090909090909,\n",
       "   'f': 0.1595092001189356},\n",
       "  'rouge-2': {'r': 0.046632124352331605,\n",
       "   'p': 0.42857142857142855,\n",
       "   'f': 0.08411214776268673},\n",
       "  'rouge-l': {'r': 0.09219858156028368,\n",
       "   'p': 0.5909090909090909,\n",
       "   'f': 0.1595092001189356}}]"
      ]
     },
     "execution_count": 51,
     "metadata": {},
     "output_type": "execute_result"
    }
   ],
   "source": [
    "rouge = Rouge()\n",
    "scores = rouge.get_scores(hyps = queries.hypothesis, refs = queries.reference)\n",
    "print(len(scores))\n",
    "scores[:5]"
   ]
  },
  {
   "cell_type": "code",
   "execution_count": 52,
   "id": "076ce2d8",
   "metadata": {},
   "outputs": [
    {
     "name": "stdout",
     "output_type": "stream",
     "text": [
      "(1142, 3)\n"
     ]
    },
    {
     "data": {
      "text/html": [
       "<div>\n",
       "<style scoped>\n",
       "    .dataframe tbody tr th:only-of-type {\n",
       "        vertical-align: middle;\n",
       "    }\n",
       "\n",
       "    .dataframe tbody tr th {\n",
       "        vertical-align: top;\n",
       "    }\n",
       "\n",
       "    .dataframe thead th {\n",
       "        text-align: right;\n",
       "    }\n",
       "</style>\n",
       "<table border=\"1\" class=\"dataframe\">\n",
       "  <thead>\n",
       "    <tr style=\"text-align: right;\">\n",
       "      <th></th>\n",
       "      <th>rouge-1</th>\n",
       "      <th>rouge-2</th>\n",
       "      <th>rouge-l</th>\n",
       "    </tr>\n",
       "  </thead>\n",
       "  <tbody>\n",
       "    <tr>\n",
       "      <th>0</th>\n",
       "      <td>{'r': 0.04395604395604396, 'p': 0.666666666666...</td>\n",
       "      <td>{'r': 0.016666666666666666, 'p': 0.33333333333...</td>\n",
       "      <td>{'r': 0.04395604395604396, 'p': 0.666666666666...</td>\n",
       "    </tr>\n",
       "    <tr>\n",
       "      <th>1</th>\n",
       "      <td>{'r': 0.04395604395604396, 'p': 0.666666666666...</td>\n",
       "      <td>{'r': 0.016666666666666666, 'p': 0.33333333333...</td>\n",
       "      <td>{'r': 0.04395604395604396, 'p': 0.666666666666...</td>\n",
       "    </tr>\n",
       "    <tr>\n",
       "      <th>2</th>\n",
       "      <td>{'r': 0.1875, 'p': 0.35, 'f': 0.24418604196863...</td>\n",
       "      <td>{'r': 0.032679738562091505, 'p': 0.06578947368...</td>\n",
       "      <td>{'r': 0.16964285714285715, 'p': 0.316666666666...</td>\n",
       "    </tr>\n",
       "    <tr>\n",
       "      <th>3</th>\n",
       "      <td>{'r': 0.11607142857142858, 'p': 0.240740740740...</td>\n",
       "      <td>{'r': 0.013071895424836602, 'p': 0.02985074626...</td>\n",
       "      <td>{'r': 0.10714285714285714, 'p': 0.222222222222...</td>\n",
       "    </tr>\n",
       "    <tr>\n",
       "      <th>4</th>\n",
       "      <td>{'r': 0.09219858156028368, 'p': 0.590909090909...</td>\n",
       "      <td>{'r': 0.046632124352331605, 'p': 0.42857142857...</td>\n",
       "      <td>{'r': 0.09219858156028368, 'p': 0.590909090909...</td>\n",
       "    </tr>\n",
       "  </tbody>\n",
       "</table>\n",
       "</div>"
      ],
      "text/plain": [
       "                                             rouge-1  \\\n",
       "0  {'r': 0.04395604395604396, 'p': 0.666666666666...   \n",
       "1  {'r': 0.04395604395604396, 'p': 0.666666666666...   \n",
       "2  {'r': 0.1875, 'p': 0.35, 'f': 0.24418604196863...   \n",
       "3  {'r': 0.11607142857142858, 'p': 0.240740740740...   \n",
       "4  {'r': 0.09219858156028368, 'p': 0.590909090909...   \n",
       "\n",
       "                                             rouge-2  \\\n",
       "0  {'r': 0.016666666666666666, 'p': 0.33333333333...   \n",
       "1  {'r': 0.016666666666666666, 'p': 0.33333333333...   \n",
       "2  {'r': 0.032679738562091505, 'p': 0.06578947368...   \n",
       "3  {'r': 0.013071895424836602, 'p': 0.02985074626...   \n",
       "4  {'r': 0.046632124352331605, 'p': 0.42857142857...   \n",
       "\n",
       "                                             rouge-l  \n",
       "0  {'r': 0.04395604395604396, 'p': 0.666666666666...  \n",
       "1  {'r': 0.04395604395604396, 'p': 0.666666666666...  \n",
       "2  {'r': 0.16964285714285715, 'p': 0.316666666666...  \n",
       "3  {'r': 0.10714285714285714, 'p': 0.222222222222...  \n",
       "4  {'r': 0.09219858156028368, 'p': 0.590909090909...  "
      ]
     },
     "execution_count": 52,
     "metadata": {},
     "output_type": "execute_result"
    }
   ],
   "source": [
    "rouge_df = pd.DataFrame.from_records(scores)\n",
    "show(rouge_df)"
   ]
  },
  {
   "cell_type": "code",
   "execution_count": 53,
   "id": "f97ba082",
   "metadata": {},
   "outputs": [
    {
     "name": "stdout",
     "output_type": "stream",
     "text": [
      "(1142, 3)\n"
     ]
    },
    {
     "data": {
      "text/html": [
       "<div>\n",
       "<style scoped>\n",
       "    .dataframe tbody tr th:only-of-type {\n",
       "        vertical-align: middle;\n",
       "    }\n",
       "\n",
       "    .dataframe tbody tr th {\n",
       "        vertical-align: top;\n",
       "    }\n",
       "\n",
       "    .dataframe thead th {\n",
       "        text-align: right;\n",
       "    }\n",
       "</style>\n",
       "<table border=\"1\" class=\"dataframe\">\n",
       "  <thead>\n",
       "    <tr style=\"text-align: right;\">\n",
       "      <th></th>\n",
       "      <th>rouge_1_r</th>\n",
       "      <th>rouge_1_p</th>\n",
       "      <th>rouge_1_f</th>\n",
       "    </tr>\n",
       "  </thead>\n",
       "  <tbody>\n",
       "    <tr>\n",
       "      <th>0</th>\n",
       "      <td>0.043956</td>\n",
       "      <td>0.666667</td>\n",
       "      <td>0.082474</td>\n",
       "    </tr>\n",
       "    <tr>\n",
       "      <th>1</th>\n",
       "      <td>0.043956</td>\n",
       "      <td>0.666667</td>\n",
       "      <td>0.082474</td>\n",
       "    </tr>\n",
       "    <tr>\n",
       "      <th>2</th>\n",
       "      <td>0.187500</td>\n",
       "      <td>0.350000</td>\n",
       "      <td>0.244186</td>\n",
       "    </tr>\n",
       "    <tr>\n",
       "      <th>3</th>\n",
       "      <td>0.116071</td>\n",
       "      <td>0.240741</td>\n",
       "      <td>0.156627</td>\n",
       "    </tr>\n",
       "    <tr>\n",
       "      <th>4</th>\n",
       "      <td>0.092199</td>\n",
       "      <td>0.590909</td>\n",
       "      <td>0.159509</td>\n",
       "    </tr>\n",
       "  </tbody>\n",
       "</table>\n",
       "</div>"
      ],
      "text/plain": [
       "   rouge_1_r  rouge_1_p  rouge_1_f\n",
       "0   0.043956   0.666667   0.082474\n",
       "1   0.043956   0.666667   0.082474\n",
       "2   0.187500   0.350000   0.244186\n",
       "3   0.116071   0.240741   0.156627\n",
       "4   0.092199   0.590909   0.159509"
      ]
     },
     "execution_count": 53,
     "metadata": {},
     "output_type": "execute_result"
    }
   ],
   "source": [
    "rouge_1 = pd.DataFrame.from_records(rouge_df[\"rouge-1\"])\\\n",
    ".rename(columns = {\"f\":\"rouge_1_f\", \"r\":\"rouge_1_r\", \"p\":\"rouge_1_p\"})\n",
    "show(rouge_1)"
   ]
  },
  {
   "cell_type": "code",
   "execution_count": 54,
   "id": "0e5bf379",
   "metadata": {},
   "outputs": [
    {
     "name": "stdout",
     "output_type": "stream",
     "text": [
      "(1142, 3)\n"
     ]
    },
    {
     "data": {
      "text/html": [
       "<div>\n",
       "<style scoped>\n",
       "    .dataframe tbody tr th:only-of-type {\n",
       "        vertical-align: middle;\n",
       "    }\n",
       "\n",
       "    .dataframe tbody tr th {\n",
       "        vertical-align: top;\n",
       "    }\n",
       "\n",
       "    .dataframe thead th {\n",
       "        text-align: right;\n",
       "    }\n",
       "</style>\n",
       "<table border=\"1\" class=\"dataframe\">\n",
       "  <thead>\n",
       "    <tr style=\"text-align: right;\">\n",
       "      <th></th>\n",
       "      <th>rouge_2_r</th>\n",
       "      <th>rouge_2_p</th>\n",
       "      <th>rouge_2_f</th>\n",
       "    </tr>\n",
       "  </thead>\n",
       "  <tbody>\n",
       "    <tr>\n",
       "      <th>0</th>\n",
       "      <td>0.016667</td>\n",
       "      <td>0.333333</td>\n",
       "      <td>0.031746</td>\n",
       "    </tr>\n",
       "    <tr>\n",
       "      <th>1</th>\n",
       "      <td>0.016667</td>\n",
       "      <td>0.333333</td>\n",
       "      <td>0.031746</td>\n",
       "    </tr>\n",
       "    <tr>\n",
       "      <th>2</th>\n",
       "      <td>0.032680</td>\n",
       "      <td>0.065789</td>\n",
       "      <td>0.043668</td>\n",
       "    </tr>\n",
       "    <tr>\n",
       "      <th>3</th>\n",
       "      <td>0.013072</td>\n",
       "      <td>0.029851</td>\n",
       "      <td>0.018182</td>\n",
       "    </tr>\n",
       "    <tr>\n",
       "      <th>4</th>\n",
       "      <td>0.046632</td>\n",
       "      <td>0.428571</td>\n",
       "      <td>0.084112</td>\n",
       "    </tr>\n",
       "  </tbody>\n",
       "</table>\n",
       "</div>"
      ],
      "text/plain": [
       "   rouge_2_r  rouge_2_p  rouge_2_f\n",
       "0   0.016667   0.333333   0.031746\n",
       "1   0.016667   0.333333   0.031746\n",
       "2   0.032680   0.065789   0.043668\n",
       "3   0.013072   0.029851   0.018182\n",
       "4   0.046632   0.428571   0.084112"
      ]
     },
     "execution_count": 54,
     "metadata": {},
     "output_type": "execute_result"
    }
   ],
   "source": [
    "rouge_2 = pd.DataFrame.from_records(rouge_df[\"rouge-2\"])\\\n",
    ".rename(columns = {\"f\":\"rouge_2_f\", \"r\":\"rouge_2_r\", \"p\":\"rouge_2_p\"})\n",
    "show(rouge_2)"
   ]
  },
  {
   "cell_type": "code",
   "execution_count": 55,
   "id": "3128e13d",
   "metadata": {},
   "outputs": [
    {
     "name": "stdout",
     "output_type": "stream",
     "text": [
      "(1142, 3)\n"
     ]
    },
    {
     "data": {
      "text/html": [
       "<div>\n",
       "<style scoped>\n",
       "    .dataframe tbody tr th:only-of-type {\n",
       "        vertical-align: middle;\n",
       "    }\n",
       "\n",
       "    .dataframe tbody tr th {\n",
       "        vertical-align: top;\n",
       "    }\n",
       "\n",
       "    .dataframe thead th {\n",
       "        text-align: right;\n",
       "    }\n",
       "</style>\n",
       "<table border=\"1\" class=\"dataframe\">\n",
       "  <thead>\n",
       "    <tr style=\"text-align: right;\">\n",
       "      <th></th>\n",
       "      <th>rouge_l_r</th>\n",
       "      <th>rouge_l_p</th>\n",
       "      <th>rouge_l_f</th>\n",
       "    </tr>\n",
       "  </thead>\n",
       "  <tbody>\n",
       "    <tr>\n",
       "      <th>0</th>\n",
       "      <td>0.043956</td>\n",
       "      <td>0.666667</td>\n",
       "      <td>0.082474</td>\n",
       "    </tr>\n",
       "    <tr>\n",
       "      <th>1</th>\n",
       "      <td>0.043956</td>\n",
       "      <td>0.666667</td>\n",
       "      <td>0.082474</td>\n",
       "    </tr>\n",
       "    <tr>\n",
       "      <th>2</th>\n",
       "      <td>0.169643</td>\n",
       "      <td>0.316667</td>\n",
       "      <td>0.220930</td>\n",
       "    </tr>\n",
       "    <tr>\n",
       "      <th>3</th>\n",
       "      <td>0.107143</td>\n",
       "      <td>0.222222</td>\n",
       "      <td>0.144578</td>\n",
       "    </tr>\n",
       "    <tr>\n",
       "      <th>4</th>\n",
       "      <td>0.092199</td>\n",
       "      <td>0.590909</td>\n",
       "      <td>0.159509</td>\n",
       "    </tr>\n",
       "  </tbody>\n",
       "</table>\n",
       "</div>"
      ],
      "text/plain": [
       "   rouge_l_r  rouge_l_p  rouge_l_f\n",
       "0   0.043956   0.666667   0.082474\n",
       "1   0.043956   0.666667   0.082474\n",
       "2   0.169643   0.316667   0.220930\n",
       "3   0.107143   0.222222   0.144578\n",
       "4   0.092199   0.590909   0.159509"
      ]
     },
     "execution_count": 55,
     "metadata": {},
     "output_type": "execute_result"
    }
   ],
   "source": [
    "rouge_l = pd.DataFrame.from_records(rouge_df[\"rouge-l\"])\\\n",
    ".rename(columns = {\"f\":\"rouge_l_f\", \"r\":\"rouge_l_r\", \"p\":\"rouge_l_p\"})\n",
    "show(rouge_l)"
   ]
  },
  {
   "cell_type": "code",
   "execution_count": 56,
   "id": "13102fc4",
   "metadata": {},
   "outputs": [
    {
     "name": "stdout",
     "output_type": "stream",
     "text": [
      "(1142, 13)\n"
     ]
    },
    {
     "data": {
      "text/html": [
       "<div>\n",
       "<style scoped>\n",
       "    .dataframe tbody tr th:only-of-type {\n",
       "        vertical-align: middle;\n",
       "    }\n",
       "\n",
       "    .dataframe tbody tr th {\n",
       "        vertical-align: top;\n",
       "    }\n",
       "\n",
       "    .dataframe thead th {\n",
       "        text-align: right;\n",
       "    }\n",
       "</style>\n",
       "<table border=\"1\" class=\"dataframe\">\n",
       "  <thead>\n",
       "    <tr style=\"text-align: right;\">\n",
       "      <th></th>\n",
       "      <th>paper_id</th>\n",
       "      <th>global_reference_id</th>\n",
       "      <th>hypothesis</th>\n",
       "      <th>reference</th>\n",
       "      <th>rouge_1_r</th>\n",
       "      <th>rouge_1_p</th>\n",
       "      <th>rouge_1_f</th>\n",
       "      <th>rouge_2_r</th>\n",
       "      <th>rouge_2_p</th>\n",
       "      <th>rouge_2_f</th>\n",
       "      <th>rouge_l_r</th>\n",
       "      <th>rouge_l_p</th>\n",
       "      <th>rouge_l_f</th>\n",
       "    </tr>\n",
       "  </thead>\n",
       "  <tbody>\n",
       "    <tr>\n",
       "      <th>0</th>\n",
       "      <td>3</td>\n",
       "      <td>914</td>\n",
       "      <td>Natural Language Inference (NLI; a.k.a.</td>\n",
       "      <td>Natural Language Inference (NLI) task requires...</td>\n",
       "      <td>0.043956</td>\n",
       "      <td>0.666667</td>\n",
       "      <td>0.082474</td>\n",
       "      <td>0.016667</td>\n",
       "      <td>0.333333</td>\n",
       "      <td>0.031746</td>\n",
       "      <td>0.043956</td>\n",
       "      <td>0.666667</td>\n",
       "      <td>0.082474</td>\n",
       "    </tr>\n",
       "    <tr>\n",
       "      <th>1</th>\n",
       "      <td>791</td>\n",
       "      <td>914</td>\n",
       "      <td>Natural Language Inference (NLI; a.k.a.</td>\n",
       "      <td>Natural Language Inference (NLI) task requires...</td>\n",
       "      <td>0.043956</td>\n",
       "      <td>0.666667</td>\n",
       "      <td>0.082474</td>\n",
       "      <td>0.016667</td>\n",
       "      <td>0.333333</td>\n",
       "      <td>0.031746</td>\n",
       "      <td>0.043956</td>\n",
       "      <td>0.666667</td>\n",
       "      <td>0.082474</td>\n",
       "    </tr>\n",
       "    <tr>\n",
       "      <th>2</th>\n",
       "      <td>5</td>\n",
       "      <td>1925</td>\n",
       "      <td>The semantic parser converts natural language ...</td>\n",
       "      <td>Suppose we want to build a system that answers...</td>\n",
       "      <td>0.187500</td>\n",
       "      <td>0.350000</td>\n",
       "      <td>0.244186</td>\n",
       "      <td>0.032680</td>\n",
       "      <td>0.065789</td>\n",
       "      <td>0.043668</td>\n",
       "      <td>0.169643</td>\n",
       "      <td>0.316667</td>\n",
       "      <td>0.220930</td>\n",
       "    </tr>\n",
       "    <tr>\n",
       "      <th>3</th>\n",
       "      <td>322</td>\n",
       "      <td>1925</td>\n",
       "      <td>The method does not require labeling sentences...</td>\n",
       "      <td>Suppose we want to build a system that answers...</td>\n",
       "      <td>0.116071</td>\n",
       "      <td>0.240741</td>\n",
       "      <td>0.156627</td>\n",
       "      <td>0.013072</td>\n",
       "      <td>0.029851</td>\n",
       "      <td>0.018182</td>\n",
       "      <td>0.107143</td>\n",
       "      <td>0.222222</td>\n",
       "      <td>0.144578</td>\n",
       "    </tr>\n",
       "    <tr>\n",
       "      <th>4</th>\n",
       "      <td>6</td>\n",
       "      <td>1968</td>\n",
       "      <td>[11] study the maintenance of dense subgraphs ...</td>\n",
       "      <td>Recent years have witnessed an unprecedented p...</td>\n",
       "      <td>0.092199</td>\n",
       "      <td>0.590909</td>\n",
       "      <td>0.159509</td>\n",
       "      <td>0.046632</td>\n",
       "      <td>0.428571</td>\n",
       "      <td>0.084112</td>\n",
       "      <td>0.092199</td>\n",
       "      <td>0.590909</td>\n",
       "      <td>0.159509</td>\n",
       "    </tr>\n",
       "  </tbody>\n",
       "</table>\n",
       "</div>"
      ],
      "text/plain": [
       "   paper_id  global_reference_id  \\\n",
       "0         3                  914   \n",
       "1       791                  914   \n",
       "2         5                 1925   \n",
       "3       322                 1925   \n",
       "4         6                 1968   \n",
       "\n",
       "                                          hypothesis  \\\n",
       "0            Natural Language Inference (NLI; a.k.a.   \n",
       "1            Natural Language Inference (NLI; a.k.a.   \n",
       "2  The semantic parser converts natural language ...   \n",
       "3  The method does not require labeling sentences...   \n",
       "4  [11] study the maintenance of dense subgraphs ...   \n",
       "\n",
       "                                           reference  rouge_1_r  rouge_1_p  \\\n",
       "0  Natural Language Inference (NLI) task requires...   0.043956   0.666667   \n",
       "1  Natural Language Inference (NLI) task requires...   0.043956   0.666667   \n",
       "2  Suppose we want to build a system that answers...   0.187500   0.350000   \n",
       "3  Suppose we want to build a system that answers...   0.116071   0.240741   \n",
       "4  Recent years have witnessed an unprecedented p...   0.092199   0.590909   \n",
       "\n",
       "   rouge_1_f  rouge_2_r  rouge_2_p  rouge_2_f  rouge_l_r  rouge_l_p  rouge_l_f  \n",
       "0   0.082474   0.016667   0.333333   0.031746   0.043956   0.666667   0.082474  \n",
       "1   0.082474   0.016667   0.333333   0.031746   0.043956   0.666667   0.082474  \n",
       "2   0.244186   0.032680   0.065789   0.043668   0.169643   0.316667   0.220930  \n",
       "3   0.156627   0.013072   0.029851   0.018182   0.107143   0.222222   0.144578  \n",
       "4   0.159509   0.046632   0.428571   0.084112   0.092199   0.590909   0.159509  "
      ]
     },
     "execution_count": 56,
     "metadata": {},
     "output_type": "execute_result"
    }
   ],
   "source": [
    "full_rouge = pd.concat((queries, rouge_1, rouge_2, rouge_l), axis = 1)\n",
    "show(full_rouge)"
   ]
  },
  {
   "cell_type": "code",
   "execution_count": 57,
   "id": "38fe5222",
   "metadata": {},
   "outputs": [
    {
     "data": {
      "image/png": "[encoded data removed]",
      "text/plain": [
       "<Figure size 864x432 with 3 Axes>"
      ]
     },
     "metadata": {},
     "output_type": "display_data"
    }
   ],
   "source": [
    "f, ax = plt.subplots(3, 1, sharex = True, constrained_layout=True, figsize = (12, 6))\n",
    "ax[0].hist(full_rouge.rouge_1_f, bins = 50)\n",
    "ax[0].set_title(\"Rouge-1\")\n",
    "ax[1].hist(full_rouge.rouge_2_f, bins = 50, color = \"green\")\n",
    "ax[1].set_title(\"Rouge-2\")\n",
    "ax[2].hist(full_rouge.rouge_l_f, bins = 50, color = \"red\")\n",
    "ax[2].set_title(\"Rouge-L\")\n",
    "\n",
    "plt.show()"
   ]
  },
  {
   "cell_type": "code",
   "execution_count": 58,
   "id": "75292c4d",
   "metadata": {},
   "outputs": [
    {
     "data": {
      "image/png": "[encoded data removed]",
      "text/plain": [
       "<Figure size 864x432 with 3 Axes>"
      ]
     },
     "metadata": {},
     "output_type": "display_data"
    }
   ],
   "source": [
    "data = full_rouge.sort_values(\"rouge_1_f\").reset_index()\n",
    "f, ax = plt.subplots(3, 1, sharex = True, constrained_layout=True, figsize = (12, 6))\n",
    "ax[0].plot(data.rouge_1_f)\n",
    "ax[0].set_title(\"Rouge-1\")\n",
    "ax[1].plot(data.rouge_2_f, color = \"green\")\n",
    "ax[1].set_title(\"Rouge-2\")\n",
    "ax[2].plot(data.rouge_l_f, color = \"red\")\n",
    "ax[2].set_title(\"Rouge-L\")\n",
    "\n",
    "plt.show()"
   ]
  },
  {
   "cell_type": "code",
   "execution_count": 59,
   "id": "8128e6aa",
   "metadata": {},
   "outputs": [
    {
     "data": {
      "image/png": "[encoded data removed]",
      "text/plain": [
       "<Figure size 540x540 with 12 Axes>"
      ]
     },
     "metadata": {},
     "output_type": "display_data"
    }
   ],
   "source": [
    "sns.pairplot(full_rouge, vars = [\"rouge_1_f\",\"rouge_2_f\", \"rouge_l_f\"])\n",
    "plt.show()"
   ]
  },
  {
   "cell_type": "code",
   "execution_count": 60,
   "id": "2b576ebe",
   "metadata": {},
   "outputs": [
    {
     "data": {
      "image/png": "[encoded data removed]",
      "text/plain": [
       "<Figure size 864x432 with 3 Axes>"
      ]
     },
     "metadata": {},
     "output_type": "display_data"
    }
   ],
   "source": [
    "data = full_rouge.sort_values(\"rouge_1_f\").reset_index()\n",
    "f, ax = plt.subplots(3, 1, sharex = True, constrained_layout=True, figsize = (12, 6))\n",
    "ax[0].plot(data.rouge_1_f)\n",
    "ax[0].set_title(\"Rouge-1 F\")\n",
    "ax[1].plot(data.rouge_1_p)\n",
    "ax[1].set_title(\"Rouge-1 P\")\n",
    "ax[2].plot(data.rouge_1_r)\n",
    "ax[2].set_title(\"Rouge-1 R\")\n",
    "\n",
    "plt.show()"
   ]
  },
  {
   "cell_type": "code",
   "execution_count": 61,
   "id": "d2458293",
   "metadata": {},
   "outputs": [
    {
     "data": {
      "image/png": "[encoded data removed]",
      "text/plain": [
       "<Figure size 540x540 with 12 Axes>"
      ]
     },
     "metadata": {},
     "output_type": "display_data"
    }
   ],
   "source": [
    "sns.pairplot(full_rouge, vars = [\"rouge_1_f\",\"rouge_1_p\", \"rouge_1_r\"])\n",
    "plt.show()"
   ]
  },
  {
   "cell_type": "markdown",
   "id": "ccd8cf09",
   "metadata": {},
   "source": [
    "# inspection"
   ]
  },
  {
   "cell_type": "markdown",
   "id": "0424c89f",
   "metadata": {},
   "source": [
    "# worst"
   ]
  },
  {
   "cell_type": "code",
   "execution_count": 62,
   "id": "1b123117",
   "metadata": {},
   "outputs": [
    {
     "name": "stdout",
     "output_type": "stream",
     "text": [
      "paper_id: 692 , global_reference_id: 15938\n",
      "rouge 1 f: 0.0\n",
      "\n",
      "Positive-unlabeled Learning.\n",
      "\n",
      "We develop a classification algorithm for estimating posterior distributions from positive-unlabeled data, that is robust to noise in the positive labels and effective for high-dimensional data. In recent years, several algorithms have been proposed to learn from positive-unlabeled data; however, many of these contributions remain theoretical, performing poorly on real high-dimensional data that is typically contaminated with noise. We build on this previous work to develop two practical classification algorithms that explicitly model the noise in the positive labels and utilize univariate transforms built on discriminative classifiers. We prove that these univariate transforms preserve the class prior, enabling estimation in the univariate space and avoiding kernel density estimation for high-dimensional data. The theoretical development and both parametric and nonparametric algorithms proposed here constitutes an important step towards wide-spread use of robust classification algorithms for positive-unlabeled data.\n",
      "******************************\n",
      "paper_id: 692 , global_reference_id: 179\n",
      "rouge 1 f: 0.0\n",
      "\n",
      "Contrastive Representation Learning.\n",
      "\n",
      "This paper presents SimCLR: a simple framework for contrastive learning of visual representations. We simplify recently proposed contrastive self-supervised learning algorithms without requiring specialized architectures or a memory bank. In order to understand what enables the contrastive prediction tasks to learn useful representations, we systematically study the major components of our framework. We show that (1) composition of data augmentations plays a critical role in defining effective predictive tasks, (2) introducing a learnable nonlinear transformation between the representation and the contrastive loss substantially improves the quality of the learned representations, and (3) contrastive learning benefits from larger batch sizes and more training steps compared to supervised learning. By combining these findings, we are able to considerably outperform previous methods for self-supervised and semi-supervised learning on ImageNet. A linear classifier trained on self-supervised representations learned by SimCLR achieves 76.5% top-1 accuracy, which is a 7% relative improvement over previous state-of-the-art, matching the performance of a supervised ResNet-50. When fine-tuned on only 1% of the labels, we achieve 85.8% top-5 accuracy, outperforming AlexNet with 100X fewer labels.\n",
      "******************************\n",
      "paper_id: 728 , global_reference_id: 1742\n",
      "rouge 1 f: 0.0\n",
      "\n",
      "43 6.7 Stopping Criteria .\n",
      "\n",
      "A survey of existing methods for stopping active learning (AL) reveals the needs for methods that are: more widely applicable; more aggressive in saving annotations; and more stable across changing datasets. A new method for stopping AL based on stabilizing predictions is presented that addresses these needs. Furthermore, stopping methods are required to handle a broad range of different annotation/performance tradeoff valuations. Despite this, the existing body of work is dominated by conservative methods with little (if any) attention paid to providing users with control over the behavior of stopping methods. The proposed method is shown to fill a gap in the level of aggressiveness available for stopping AL and supports providing users with control over stopping behavior.\n",
      "******************************\n",
      "paper_id: 786 , global_reference_id: 23236\n",
      "rouge 1 f: 0.0\n",
      "\n",
      "Model Robustness - Hotel Reviews.\n",
      "\n",
      "Today, recommender systems are an inevitable part of everyone's daily digital routine and are present on most internet platforms. State-of-the-art deep learning-based models require a large number of data to achieve their best performance. Many datasets fulfilling this criterion have been proposed for multiple domains, such as Amazon products, restaurants, or beers. However, works and datasets in the hotel domain are limited: the largest hotel review dataset is below the million samples. Additionally, the hotel domain suffers from a higher data sparsity than traditional recommendation datasets and therefore, traditional collaborative-filtering approaches cannot be applied to such data. In this paper, we propose HotelRec, a very large-scale hotel recommendation dataset, based on TripAdvisor, containing 50 million reviews. To the best of our knowledge, HotelRec is the largest publicly available dataset in the hotel domain (50M versus 0.9M) and additionally, the largest recommendation dataset in a single domain and with textual reviews (50M versus 22M). We release HotelRec for further research: https://github.com/Diego999/HotelRec.\n",
      "******************************\n",
      "paper_id: 995 , global_reference_id: 18979\n",
      "rouge 1 f: 0.0\n",
      "\n",
      "88 1.8.3 dream .\n",
      "\n",
      "We present DREAM, the first dialogue-based multiple-choice reading comprehension dataset. Collected from English-as-a-foreign-language examinations designed by human experts to evaluate the comprehension level of Chinese learners of English, our dataset contains 10,197 multiple-choice questions for 6,444 dialogues. In contrast to existing reading comprehension datasets, DREAM is the first to focus on in-depth multi-turn multi-party dialogue understanding. DREAM is likely to present significant challenges for existing reading comprehension systems: 84% of answers are non-extractive, 85% of questions require reasoning beyond a single sentence, and 34% of questions also involve commonsense knowledge. We apply several popular neural reading comprehension models that primarily exploit surface information within the text and find them to, at best, just barely outperform a rule-based approach. We next investigate the effects of incorporating dialogue structure and different kinds of general world knowledge into both rule-based and (neural and non-neural) machine learning-based reading comprehension models. Experimental results on the DREAM dataset show the effectiveness of dialogue structure and general world knowledge. DREAM will be available at https://dataset.org/dream/.\n",
      "******************************\n"
     ]
    }
   ],
   "source": [
    "for d in full_rouge.sort_values(\"rouge_1_f\").head().to_dict(\"records\"):\n",
    "    print(\"paper_id:\", d[\"paper_id\"], \", global_reference_id:\", d[\"global_reference_id\"])\n",
    "    print(\"rouge 1 f:\", d[\"rouge_1_f\"])\n",
    "    print()\n",
    "    print(d[\"hypothesis\"])\n",
    "    print()\n",
    "    print(d[\"reference\"])\n",
    "    print(\"*\"*30)"
   ]
  },
  {
   "cell_type": "markdown",
   "id": "e893256b",
   "metadata": {},
   "source": [
    "# best"
   ]
  },
  {
   "cell_type": "code",
   "execution_count": 63,
   "id": "7a5ee891",
   "metadata": {
    "scrolled": false
   },
   "outputs": [
    {
     "name": "stdout",
     "output_type": "stream",
     "text": [
      "paper_id: 84 , global_reference_id: 12376\n",
      "rouge 1 f: 0.940476185476899\n",
      "\n",
      "We introduce a vector space representation of concepts using Wikipedia graph structure to calculate semantic relatedness. The proposed method starts from the neighbourhood graph of a concept as the primary form and transfers this graph into a vector space to obtain the final representation. The proposed method achieves state-of-the-art results on various relatedness datasets. We also use a standard coherence model to show that the proposed relatedness method performs successfully in Word Sense Disambiguation (WSD). We then suggest a different formulation for coherence to demonstrate that, in a short enough sentence, there is one key entity that can help disambiguate every other entity. Using this finding, we provide a vector space based method that can outperform the standard coherence model in a significantly shorter computation time.\n",
      "\n",
      "We introduce a vector space representation of concepts using Wikipedia graph structure to calculate semantic relatedness. The proposed method starts from the neighborhood graph of a concept as the primary form and transfers this graph into a vector space to obtain the final representation. The proposed method achieves state of the art results on various relatedness datasets. Combining the vector space representation with standard coherence model, we show that the proposed relatedness method performs successfully in Word Sense Disambiguation (WSD). We then suggest a different formulation for coherence to demonstrate that, in a short enough sentence, there is one key entity that can help disambiguate every other entity. Using this finding, we provide a vector space based method that can outperform the standard coherence model in a significantly shorter computation time.\n",
      "****************************************************************************************************\n",
      "paper_id: 145 , global_reference_id: 11396\n",
      "rouge 1 f: 0.7058823480720156\n",
      "\n",
      "(2018) investigate continual learning of two MRI segmentation tasks with neural networks for countering catastrophic forgetting of the first task when a new one is learned. They investigate elastic weight consolidation, a method based on Fisher information to sequentially learn segmentation of normal brain structures and then segmentation of white matter lesions and demonstrate this method reduces catastrophic forgetting, but acknowledge there is a large room for improvement for the challenging setting of continual learning.\n",
      "\n",
      "This work investigates continual learning of two segmentation tasks in brain MRI with neural networks. To explore in this context the capabilities of current methods for countering catastrophic forgetting of the first task when a new one is learned, we investigate elastic weight consolidation, a recently proposed method based on Fisher information, originally evaluated on reinforcement learning of Atari games. We use it to sequentially learn segmentation of normal brain structures and then segmentation of white matter lesions. Our findings show this recent method reduces catastrophic forgetting, while large room for improvement exists in these challenging settings for continual learning.\n",
      "****************************************************************************************************\n",
      "paper_id: 354 , global_reference_id: 21878\n",
      "rouge 1 f: 0.6621160361318129\n",
      "\n",
      "Characterized by approximate graph pattern matching, these summaries are capable of summarizing entities in terms of their neighborhood similarity up to a certain hop, using small and informative graph patterns. (2) We study a diversified graph summarization problem. Given a knowledge graph, it is to discover top-k summaries that maximize a bi-criteria function, characterized by both informativeness and diversity. We show that diversified summarization is feasible for large graphs, by developing both sequential and parallel summarization algorithms. (a) We show that there exists a 2-approximation algorithm to discover diversified summaries. Using real-world knowledge graphs, we experimentally verify the effectiveness and efficiency of our summarization algorithms, and query processing using summaries. 2) How to discover the summaries in large graphs? This paper studies a novel graph summarization framework to compute diversified summaries, Q. and to evaluate knowledge graph queries with the summaries. Based on the quality function, we introduce the problem of diversified graph summarization. (b) We develop new parallel algorithm for diversified summarization over large graphs (Section 5). (b) The summaries effectively support concise, informative and diversified summarization. Summaries. Knowledge graph, summaries, and graph query. We next introduce a bi-criteria function that captures the quality of knowledge graph summarization in terms of both informativeness and diversity, followed by the formulation of diversified summarization problem. Consider the 2-summaries P1-P3 of the graph G in Fig. Diversified Graph Summarization. That is, the diversified graph summarization is to identify k reduced summaries that are both informative and diversified. Despite the hardness, we show that diversified summarization is feasible over large knowledge graphs, by providing both sequential and parallel diversified summarization algorithms in Section 4 and Section 5, respectively. We develop feasible algorithms to compute diversified summaries. There exists an anytime 2-approximation algorithm that computes a diversified summarization, which takes (1) OðNt bpðbp þ jV jÞðbp þ jEjÞ þ k2N2t Þ time, and (2) Oðk Nt þ jSGjÞ space, where Nt is the number of summaries it verified when interrupted, and jSGj refers to the total size of summaries and their base graphs. Nonetheless, we show that the diversified graph summarization is feasible for large-scale graphs by providing a parallel algorithm, with performance guarantees on both scalability and quality. Parallel Diversified Summarization. We proposed a class of reduced d-summaries, and developed sequential and parallel summarization algorithms for large knowledge graphs.\n",
      "\n",
      "Querying heterogeneous and large-scale knowledge graphs is expensive. This paper studies a graph summarization framework to facilitate knowledge graph search. (1) We introduce a class of reduced summaries. Characterized by approximate graph pattern matching, these summaries are capable of summarizing entities in terms of their neighborhood similarity up to a certain hop, using small and informative graph patterns. (2) We study a diversified graph summarization problem. Given a knowledge graph, it is to discover top-k summaries that maximize a bi-criteria function, characterized by both informativeness and diversity. We show that diversified summarization is feasible for large graphs, by developing both sequential and parallel summarization algorithms. (a) We show that there exists a 2-approximation algorithm to discover diversified summaries. We further develop an anytime sequential algorithm which discovers summaries under resource constraints. (b) We present a new parallel algorithm with quality guarantees. The algorithm is parallel scalable, which ensures its feasibility in distributed graphs. (3) We also develop a summary-based query evaluation scheme, which only refers to a small number of summaries. Using real-world knowledge graphs, we experimentally verify the effectiveness and efficiency of our summarization algorithms, and query processing using summaries.\n",
      "****************************************************************************************************\n",
      "paper_id: 1061 , global_reference_id: 2674\n",
      "rouge 1 f: 0.6547619002409297\n",
      "\n",
      "ReasoNets tasks multiple steps to reason over the relation among queries, documents, and answers. Instead of using a fixed number of steps during inference, ReasoNets introduce a termination state to relax this constraint on the reasoning steps. With the use of RL, ReasoNets can dynamically determine whether to continue the comprehension process after digesting intermediate results, or to terminate reading when it concludes that existing information is adequate to produce an answer.\n",
      "\n",
      "Teaching a computer to read and answer general questions pertaining to a document is a challenging yet unsolved problem. In this paper, we describe a novel neural network architecture called the Reasoning Network (ReasoNet) for machine comprehension tasks. ReasoNets make use of multiple turns to effectively exploit and then reason over the relation among queries, documents, and answers. Different from previous approaches using a fixed number of turns during inference, ReasoNets introduce a termination state to relax this constraint on the reasoning depth. With the use of reinforcement learning, ReasoNets can dynamically determine whether to continue the comprehension process after digesting intermediate results, or to terminate reading when it concludes that existing information is adequate to produce an answer. ReasoNets have achieved exceptional performance in machine comprehension datasets, including unstructured CNN and Daily Mail datasets, the Stanford SQuAD dataset, and a structured Graph Reachability dataset.\n",
      "****************************************************************************************************\n",
      "paper_id: 650 , global_reference_id: 2546\n",
      "rouge 1 f: 0.6341463371326591\n",
      "\n",
      "1 Interactive Clustering: A Comprehensive Review JUHEE BAE and TOVE HELLDIN, University of Skövde, Sweden MARIA RIVEIRO, Jönköping University, Sweden and University of Skövde, Sweden SŁAWOMIR NOWACZYK and MOHAMED-RAFIK BOUGUELIA, University of Halmstad, Sweden GÖRAN FALKMAN, University of Skövde, Sweden In this survey, 105 papers related to interactive clustering were reviewed according to seven perspectives: (1) on what level is the interaction happening, (2) which interactive operations are involved, (3) how user feedback is incorporated, (4) how interactive clustering is evaluated, (5) which data and (6) which clustering methods have been used, and (7) what outlined challenges there are. This article serves as a comprehensive overview of the field and outlines the state of the art within the area as well as identifies challenges and future research needs. Interactive Clustering: A Comprehensive Review. Surprisingly, even though there is a significant number of papers about interactive clustering, the field still lacks a comprehensive survey on different types of interaction and why interactive clustering can be preferred in scenarios where usual (automatic) clustering methods are less helpful. Interactive clustering approaches are then grouped according to three criteria corresponding to a three-dimensional design space: (i) at which stage is the interaction happening (Section 3), (ii) which interactive operations are involved both from the user and the machine perspectives (Section 4), and (iii) how user’s feedback is incorporated to improve the clustering model (Section 5).\n",
      "\n",
      "In this survey, 105 papers related to interactive clustering were reviewed according to seven perspectives: (1) on what level is the interaction happening, (2) which interactive operations are involved, (3) how user feedback is incorporated, (4) how interactive clustering is evaluated, (5) which data and (6) which clustering methods have been used, and (7) what outlined challenges there are. This article serves as a comprehensive overview of the field and outlines the state of the art within the area as well as identifies challenges and future research needs.\n",
      "****************************************************************************************************\n"
     ]
    }
   ],
   "source": [
    "for d in full_rouge.sort_values(\"rouge_1_f\", ascending = False).head().to_dict(\"records\"):\n",
    "    print(\"paper_id:\", d[\"paper_id\"], \", global_reference_id:\", d[\"global_reference_id\"])\n",
    "    print(\"rouge 1 f:\", d[\"rouge_1_f\"])\n",
    "    print()\n",
    "    print(d[\"hypothesis\"])\n",
    "    print()\n",
    "    print(d[\"reference\"])\n",
    "    print(\"*\"*100)"
   ]
  },
  {
   "cell_type": "markdown",
   "id": "e9883292",
   "metadata": {},
   "source": [
    "# final performance"
   ]
  },
  {
   "cell_type": "code",
   "execution_count": 64,
   "id": "b8a68482",
   "metadata": {},
   "outputs": [
    {
     "data": {
      "text/html": [
       "<div>\n",
       "<style scoped>\n",
       "    .dataframe tbody tr th:only-of-type {\n",
       "        vertical-align: middle;\n",
       "    }\n",
       "\n",
       "    .dataframe tbody tr th {\n",
       "        vertical-align: top;\n",
       "    }\n",
       "\n",
       "    .dataframe thead th {\n",
       "        text-align: right;\n",
       "    }\n",
       "</style>\n",
       "<table border=\"1\" class=\"dataframe\">\n",
       "  <thead>\n",
       "    <tr style=\"text-align: right;\">\n",
       "      <th></th>\n",
       "      <th>rouge_1_f</th>\n",
       "      <th>rouge_2_f</th>\n",
       "      <th>rouge_l_f</th>\n",
       "    </tr>\n",
       "  </thead>\n",
       "  <tbody>\n",
       "    <tr>\n",
       "      <th>count</th>\n",
       "      <td>1142.000000</td>\n",
       "      <td>1142.000000</td>\n",
       "      <td>1142.000000</td>\n",
       "    </tr>\n",
       "    <tr>\n",
       "      <th>mean</th>\n",
       "      <td>0.181808</td>\n",
       "      <td>0.058805</td>\n",
       "      <td>0.166262</td>\n",
       "    </tr>\n",
       "    <tr>\n",
       "      <th>std</th>\n",
       "      <td>0.107079</td>\n",
       "      <td>0.078009</td>\n",
       "      <td>0.100987</td>\n",
       "    </tr>\n",
       "    <tr>\n",
       "      <th>min</th>\n",
       "      <td>0.000000</td>\n",
       "      <td>0.000000</td>\n",
       "      <td>0.000000</td>\n",
       "    </tr>\n",
       "    <tr>\n",
       "      <th>0%</th>\n",
       "      <td>0.000000</td>\n",
       "      <td>0.000000</td>\n",
       "      <td>0.000000</td>\n",
       "    </tr>\n",
       "    <tr>\n",
       "      <th>10%</th>\n",
       "      <td>0.048902</td>\n",
       "      <td>0.000000</td>\n",
       "      <td>0.046893</td>\n",
       "    </tr>\n",
       "    <tr>\n",
       "      <th>20%</th>\n",
       "      <td>0.090992</td>\n",
       "      <td>0.010593</td>\n",
       "      <td>0.086249</td>\n",
       "    </tr>\n",
       "    <tr>\n",
       "      <th>30%</th>\n",
       "      <td>0.125295</td>\n",
       "      <td>0.016757</td>\n",
       "      <td>0.112500</td>\n",
       "    </tr>\n",
       "    <tr>\n",
       "      <th>40%</th>\n",
       "      <td>0.150000</td>\n",
       "      <td>0.025707</td>\n",
       "      <td>0.134935</td>\n",
       "    </tr>\n",
       "    <tr>\n",
       "      <th>50%</th>\n",
       "      <td>0.173913</td>\n",
       "      <td>0.035714</td>\n",
       "      <td>0.156028</td>\n",
       "    </tr>\n",
       "    <tr>\n",
       "      <th>60%</th>\n",
       "      <td>0.194242</td>\n",
       "      <td>0.046875</td>\n",
       "      <td>0.173913</td>\n",
       "    </tr>\n",
       "    <tr>\n",
       "      <th>70%</th>\n",
       "      <td>0.222222</td>\n",
       "      <td>0.063492</td>\n",
       "      <td>0.202171</td>\n",
       "    </tr>\n",
       "    <tr>\n",
       "      <th>80%</th>\n",
       "      <td>0.260072</td>\n",
       "      <td>0.086957</td>\n",
       "      <td>0.231884</td>\n",
       "    </tr>\n",
       "    <tr>\n",
       "      <th>90%</th>\n",
       "      <td>0.312443</td>\n",
       "      <td>0.136618</td>\n",
       "      <td>0.287135</td>\n",
       "    </tr>\n",
       "    <tr>\n",
       "      <th>100%</th>\n",
       "      <td>0.940476</td>\n",
       "      <td>0.888889</td>\n",
       "      <td>0.940476</td>\n",
       "    </tr>\n",
       "    <tr>\n",
       "      <th>max</th>\n",
       "      <td>0.940476</td>\n",
       "      <td>0.888889</td>\n",
       "      <td>0.940476</td>\n",
       "    </tr>\n",
       "  </tbody>\n",
       "</table>\n",
       "</div>"
      ],
      "text/plain": [
       "         rouge_1_f    rouge_2_f    rouge_l_f\n",
       "count  1142.000000  1142.000000  1142.000000\n",
       "mean      0.181808     0.058805     0.166262\n",
       "std       0.107079     0.078009     0.100987\n",
       "min       0.000000     0.000000     0.000000\n",
       "0%        0.000000     0.000000     0.000000\n",
       "10%       0.048902     0.000000     0.046893\n",
       "20%       0.090992     0.010593     0.086249\n",
       "30%       0.125295     0.016757     0.112500\n",
       "40%       0.150000     0.025707     0.134935\n",
       "50%       0.173913     0.035714     0.156028\n",
       "60%       0.194242     0.046875     0.173913\n",
       "70%       0.222222     0.063492     0.202171\n",
       "80%       0.260072     0.086957     0.231884\n",
       "90%       0.312443     0.136618     0.287135\n",
       "100%      0.940476     0.888889     0.940476\n",
       "max       0.940476     0.888889     0.940476"
      ]
     },
     "execution_count": 64,
     "metadata": {},
     "output_type": "execute_result"
    }
   ],
   "source": [
    "full_rouge[[\"rouge_1_f\", \"rouge_2_f\", \"rouge_l_f\"]].describe(percentiles = np.linspace(0, 1, 11))"
   ]
  }
 ],
 "metadata": {
  "kernelspec": {
   "display_name": "Python 3 (ipykernel)",
   "language": "python",
   "name": "python3"
  },
  "language_info": {
   "codemirror_mode": {
    "name": "ipython",
    "version": 3
   },
   "file_extension": ".py",
   "mimetype": "text/x-python",
   "name": "python",
   "nbconvert_exporter": "python",
   "pygments_lexer": "ipython3",
   "version": "3.8.10"
  }
 },
 "nbformat": 4,
 "nbformat_minor": 5
}
