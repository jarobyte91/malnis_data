{
 "cells": [
  {
   "cell_type": "code",
   "execution_count": 1,
   "id": "04306868",
   "metadata": {},
   "outputs": [
    {
     "name": "stderr",
     "output_type": "stream",
     "text": [
      "/home/jarobyte/envs/malnis/lib/python3.8/site-packages/huggingface_hub/snapshot_download.py:6: FutureWarning: snapshot_download.py has been made private and will no longer be available from version 0.11. Please use `from huggingface_hub import snapshot_download` to import the only public function in this module. Other members of the file may be changed without a deprecation notice.\n",
      "  warnings.warn(\n"
     ]
    }
   ],
   "source": [
    "import pandas as pd\n",
    "import numpy as np\n",
    "import matplotlib.pyplot as plt\n",
    "plt.style.use('seaborn-whitegrid')\n",
    "from sklearn.feature_extraction.text import TfidfVectorizer\n",
    "from tqdm.notebook import tqdm\n",
    "from nltk.tokenize import sent_tokenize\n",
    "from rouge import Rouge\n",
    "from sklearn.model_selection import train_test_split\n",
    "from sentence_transformers import SentenceTransformer\n",
    "from sklearn.metrics import log_loss, PrecisionRecallDisplay, RocCurveDisplay\n",
    "from malnis import show"
   ]
  },
  {
   "cell_type": "code",
   "execution_count": 2,
   "id": "aa4e655f",
   "metadata": {},
   "outputs": [
    {
     "name": "stdout",
     "output_type": "stream",
     "text": [
      "(6723, 9)\n"
     ]
    },
    {
     "data": {
      "text/html": [
       "<div>\n",
       "<style scoped>\n",
       "    .dataframe tbody tr th:only-of-type {\n",
       "        vertical-align: middle;\n",
       "    }\n",
       "\n",
       "    .dataframe tbody tr th {\n",
       "        vertical-align: top;\n",
       "    }\n",
       "\n",
       "    .dataframe thead th {\n",
       "        text-align: right;\n",
       "    }\n",
       "</style>\n",
       "<table border=\"1\" class=\"dataframe\">\n",
       "  <thead>\n",
       "    <tr style=\"text-align: right;\">\n",
       "      <th></th>\n",
       "      <th>query</th>\n",
       "      <th>document</th>\n",
       "      <th>summary</th>\n",
       "      <th>r1</th>\n",
       "      <th>r2</th>\n",
       "      <th>rl</th>\n",
       "      <th>sentences</th>\n",
       "      <th>relevance</th>\n",
       "      <th>n_sentences</th>\n",
       "    </tr>\n",
       "  </thead>\n",
       "  <tbody>\n",
       "    <tr>\n",
       "      <th>1081</th>\n",
       "      <td>Recent work by Zellers et al. (2018) introduce...</td>\n",
       "      <td>Transformer-based models have pushed state of ...</td>\n",
       "      <td>[In particular, they were shown to rely on sha...</td>\n",
       "      <td>0.258675</td>\n",
       "      <td>0.089412</td>\n",
       "      <td>0.246057</td>\n",
       "      <td>[Transformer-based models have pushed state of...</td>\n",
       "      <td>[False, False, False, False, False, False, Fal...</td>\n",
       "      <td>436</td>\n",
       "    </tr>\n",
       "    <tr>\n",
       "      <th>1302</th>\n",
       "      <td>Inductive transfer learning has greatly impact...</td>\n",
       "      <td>We experiment on real world invoice and resume...</td>\n",
       "      <td>[After pre-training frommassive text data with...</td>\n",
       "      <td>0.321101</td>\n",
       "      <td>0.108696</td>\n",
       "      <td>0.302752</td>\n",
       "      <td>[We experiment on real world invoice and resum...</td>\n",
       "      <td>[False, False, False, False, False, False, Fal...</td>\n",
       "      <td>301</td>\n",
       "    </tr>\n",
       "    <tr>\n",
       "      <th>7921</th>\n",
       "      <td>Traditional approaches to extractive summariza...</td>\n",
       "      <td>The increasing online information has necessit...</td>\n",
       "      <td>[(Cheng and Lapata 2016) treated single docume...</td>\n",
       "      <td>0.327684</td>\n",
       "      <td>0.144068</td>\n",
       "      <td>0.305085</td>\n",
       "      <td>[The increasing online information has necessi...</td>\n",
       "      <td>[False, False, False, False, False, False, Fal...</td>\n",
       "      <td>241</td>\n",
       "    </tr>\n",
       "    <tr>\n",
       "      <th>1752</th>\n",
       "      <td>Transformer architectures show significant pro...</td>\n",
       "      <td>Contextualized word representations such as th...</td>\n",
       "      <td>[There has already been evidence that token-le...</td>\n",
       "      <td>0.285714</td>\n",
       "      <td>0.104348</td>\n",
       "      <td>0.262548</td>\n",
       "      <td>[Contextualized word representations such as t...</td>\n",
       "      <td>[True, False, False, False, False, False, Fals...</td>\n",
       "      <td>239</td>\n",
       "    </tr>\n",
       "    <tr>\n",
       "      <th>7860</th>\n",
       "      <td>Gender bias is an increasingly important issue...</td>\n",
       "      <td>Gender bias is the preference or prejudice tow...</td>\n",
       "      <td>[A few interdisciplinary studies (Herbelot et ...</td>\n",
       "      <td>0.273128</td>\n",
       "      <td>0.101911</td>\n",
       "      <td>0.255507</td>\n",
       "      <td>[Gender bias is the preference or prejudice to...</td>\n",
       "      <td>[False, False, False, False, False, False, Fal...</td>\n",
       "      <td>227</td>\n",
       "    </tr>\n",
       "  </tbody>\n",
       "</table>\n",
       "</div>"
      ],
      "text/plain": [
       "                                                  query  \\\n",
       "1081  Recent work by Zellers et al. (2018) introduce...   \n",
       "1302  Inductive transfer learning has greatly impact...   \n",
       "7921  Traditional approaches to extractive summariza...   \n",
       "1752  Transformer architectures show significant pro...   \n",
       "7860  Gender bias is an increasingly important issue...   \n",
       "\n",
       "                                               document  \\\n",
       "1081  Transformer-based models have pushed state of ...   \n",
       "1302  We experiment on real world invoice and resume...   \n",
       "7921  The increasing online information has necessit...   \n",
       "1752  Contextualized word representations such as th...   \n",
       "7860  Gender bias is the preference or prejudice tow...   \n",
       "\n",
       "                                                summary        r1        r2  \\\n",
       "1081  [In particular, they were shown to rely on sha...  0.258675  0.089412   \n",
       "1302  [After pre-training frommassive text data with...  0.321101  0.108696   \n",
       "7921  [(Cheng and Lapata 2016) treated single docume...  0.327684  0.144068   \n",
       "1752  [There has already been evidence that token-le...  0.285714  0.104348   \n",
       "7860  [A few interdisciplinary studies (Herbelot et ...  0.273128  0.101911   \n",
       "\n",
       "            rl                                          sentences  \\\n",
       "1081  0.246057  [Transformer-based models have pushed state of...   \n",
       "1302  0.302752  [We experiment on real world invoice and resum...   \n",
       "7921  0.305085  [The increasing online information has necessi...   \n",
       "1752  0.262548  [Contextualized word representations such as t...   \n",
       "7860  0.255507  [Gender bias is the preference or prejudice to...   \n",
       "\n",
       "                                              relevance  n_sentences  \n",
       "1081  [False, False, False, False, False, False, Fal...          436  \n",
       "1302  [False, False, False, False, False, False, Fal...          301  \n",
       "7921  [False, False, False, False, False, False, Fal...          241  \n",
       "1752  [True, False, False, False, False, False, Fals...          239  \n",
       "7860  [False, False, False, False, False, False, Fal...          227  "
      ]
     },
     "execution_count": 2,
     "metadata": {},
     "output_type": "execute_result"
    }
   ],
   "source": [
    "train = pd.read_pickle(\"../data/split/labels_train.pkl\")\n",
    "show(train)"
   ]
  },
  {
   "cell_type": "code",
   "execution_count": 3,
   "id": "66090898",
   "metadata": {},
   "outputs": [
    {
     "name": "stdout",
     "output_type": "stream",
     "text": [
      "(2242, 9)\n"
     ]
    },
    {
     "data": {
      "text/html": [
       "<div>\n",
       "<style scoped>\n",
       "    .dataframe tbody tr th:only-of-type {\n",
       "        vertical-align: middle;\n",
       "    }\n",
       "\n",
       "    .dataframe tbody tr th {\n",
       "        vertical-align: top;\n",
       "    }\n",
       "\n",
       "    .dataframe thead th {\n",
       "        text-align: right;\n",
       "    }\n",
       "</style>\n",
       "<table border=\"1\" class=\"dataframe\">\n",
       "  <thead>\n",
       "    <tr style=\"text-align: right;\">\n",
       "      <th></th>\n",
       "      <th>query</th>\n",
       "      <th>document</th>\n",
       "      <th>summary</th>\n",
       "      <th>r1</th>\n",
       "      <th>r2</th>\n",
       "      <th>rl</th>\n",
       "      <th>sentences</th>\n",
       "      <th>relevance</th>\n",
       "      <th>n_sentences</th>\n",
       "    </tr>\n",
       "  </thead>\n",
       "  <tbody>\n",
       "    <tr>\n",
       "      <th>4595</th>\n",
       "      <td>Neural ranking models for information retrieva...</td>\n",
       "      <td>CCS CONCEPTS • Information systems→ Learning t...</td>\n",
       "      <td>[power in end-to-end learning relevance matchi...</td>\n",
       "      <td>0.301587</td>\n",
       "      <td>0.130790</td>\n",
       "      <td>0.285714</td>\n",
       "      <td>[CCS CONCEPTS • Information systems→ Learning ...</td>\n",
       "      <td>[False, False, False, False, False, False, Fal...</td>\n",
       "      <td>312</td>\n",
       "    </tr>\n",
       "    <tr>\n",
       "      <th>962</th>\n",
       "      <td>The dominant sequence transduction models are ...</td>\n",
       "      <td>Large pre-trained language models achieve very...</td>\n",
       "      <td>[, 2019), a large pre-trained Transformer (Vas...</td>\n",
       "      <td>0.268456</td>\n",
       "      <td>0.067797</td>\n",
       "      <td>0.255034</td>\n",
       "      <td>[Large pre-trained language models achieve ver...</td>\n",
       "      <td>[False, False, False, False, False, False, Fal...</td>\n",
       "      <td>199</td>\n",
       "    </tr>\n",
       "    <tr>\n",
       "      <th>4456</th>\n",
       "      <td>We present JEC-QA, the largest question answer...</td>\n",
       "      <td>Legal Artificial Intelligence (LegalAI) mainly...</td>\n",
       "      <td>[Moreover, the bar exam is a professional qual...</td>\n",
       "      <td>0.338346</td>\n",
       "      <td>0.152672</td>\n",
       "      <td>0.293233</td>\n",
       "      <td>[Legal Artificial Intelligence (LegalAI) mainl...</td>\n",
       "      <td>[False, False, False, True, False, False, Fals...</td>\n",
       "      <td>254</td>\n",
       "    </tr>\n",
       "    <tr>\n",
       "      <th>5362</th>\n",
       "      <td>Deep convolutional neural networks (CNNs) have...</td>\n",
       "      <td>Index Terms—Deep learning, visual analytics, i...</td>\n",
       "      <td>[incorporated into the model understanding pro...</td>\n",
       "      <td>0.292398</td>\n",
       "      <td>0.125475</td>\n",
       "      <td>0.274854</td>\n",
       "      <td>[Index Terms—Deep learning, visual analytics, ...</td>\n",
       "      <td>[False, False, False, False, False, False, Fal...</td>\n",
       "      <td>497</td>\n",
       "    </tr>\n",
       "    <tr>\n",
       "      <th>3437</th>\n",
       "      <td>Machine learning algorithms frequently require...</td>\n",
       "      <td>ar X iv :1 90 6. 02 24 3v 1 [ cs .C L ] 5 J un...</td>\n",
       "      <td>[Analysis of hyperparameter tuning has been pe...</td>\n",
       "      <td>0.224256</td>\n",
       "      <td>0.069767</td>\n",
       "      <td>0.187643</td>\n",
       "      <td>[ar X iv :1 90 6., 02 24 3v 1 [ cs .C L ] 5 J ...</td>\n",
       "      <td>[False, False, False, False, False, True, Fals...</td>\n",
       "      <td>130</td>\n",
       "    </tr>\n",
       "  </tbody>\n",
       "</table>\n",
       "</div>"
      ],
      "text/plain": [
       "                                                  query  \\\n",
       "4595  Neural ranking models for information retrieva...   \n",
       "962   The dominant sequence transduction models are ...   \n",
       "4456  We present JEC-QA, the largest question answer...   \n",
       "5362  Deep convolutional neural networks (CNNs) have...   \n",
       "3437  Machine learning algorithms frequently require...   \n",
       "\n",
       "                                               document  \\\n",
       "4595  CCS CONCEPTS • Information systems→ Learning t...   \n",
       "962   Large pre-trained language models achieve very...   \n",
       "4456  Legal Artificial Intelligence (LegalAI) mainly...   \n",
       "5362  Index Terms—Deep learning, visual analytics, i...   \n",
       "3437  ar X iv :1 90 6. 02 24 3v 1 [ cs .C L ] 5 J un...   \n",
       "\n",
       "                                                summary        r1        r2  \\\n",
       "4595  [power in end-to-end learning relevance matchi...  0.301587  0.130790   \n",
       "962   [, 2019), a large pre-trained Transformer (Vas...  0.268456  0.067797   \n",
       "4456  [Moreover, the bar exam is a professional qual...  0.338346  0.152672   \n",
       "5362  [incorporated into the model understanding pro...  0.292398  0.125475   \n",
       "3437  [Analysis of hyperparameter tuning has been pe...  0.224256  0.069767   \n",
       "\n",
       "            rl                                          sentences  \\\n",
       "4595  0.285714  [CCS CONCEPTS • Information systems→ Learning ...   \n",
       "962   0.255034  [Large pre-trained language models achieve ver...   \n",
       "4456  0.293233  [Legal Artificial Intelligence (LegalAI) mainl...   \n",
       "5362  0.274854  [Index Terms—Deep learning, visual analytics, ...   \n",
       "3437  0.187643  [ar X iv :1 90 6., 02 24 3v 1 [ cs .C L ] 5 J ...   \n",
       "\n",
       "                                              relevance  n_sentences  \n",
       "4595  [False, False, False, False, False, False, Fal...          312  \n",
       "962   [False, False, False, False, False, False, Fal...          199  \n",
       "4456  [False, False, False, True, False, False, Fals...          254  \n",
       "5362  [False, False, False, False, False, False, Fal...          497  \n",
       "3437  [False, False, False, False, False, True, Fals...          130  "
      ]
     },
     "execution_count": 3,
     "metadata": {},
     "output_type": "execute_result"
    }
   ],
   "source": [
    "test = pd.read_pickle(\"../data/split/labels_test.pkl\")\n",
    "show(test)"
   ]
  },
  {
   "cell_type": "code",
   "execution_count": 4,
   "id": "db591d25",
   "metadata": {},
   "outputs": [
    {
     "name": "stdout",
     "output_type": "stream",
     "text": [
      "true targets (646033,)\n"
     ]
    }
   ],
   "source": [
    "true_targets = np.concatenate(test.relevance.to_list())\n",
    "print(\"true targets\", true_targets.shape)"
   ]
  },
  {
   "cell_type": "code",
   "execution_count": 5,
   "id": "f8945895",
   "metadata": {},
   "outputs": [
    {
     "data": {
      "text/plain": [
       "2242"
      ]
     },
     "execution_count": 5,
     "metadata": {},
     "output_type": "execute_result"
    }
   ],
   "source": [
    "records = test.to_dict(\"records\")\n",
    "len(records)"
   ]
  },
  {
   "cell_type": "markdown",
   "id": "0c64f084",
   "metadata": {},
   "source": [
    "# TFIDF"
   ]
  },
  {
   "cell_type": "code",
   "execution_count": 6,
   "id": "7283e646",
   "metadata": {
    "scrolled": false
   },
   "outputs": [
    {
     "data": {
      "application/vnd.jupyter.widget-view+json": {
       "model_id": "da9f398b559d403ebb524101526c6a53",
       "version_major": 2,
       "version_minor": 0
      },
      "text/plain": [
       "  0%|          | 0/2242 [00:00<?, ?it/s]"
      ]
     },
     "metadata": {},
     "output_type": "display_data"
    },
    {
     "name": "stdout",
     "output_type": "stream",
     "text": [
      "true predictions (646033,)\n"
     ]
    }
   ],
   "source": [
    "# words\n",
    "\n",
    "predictions = []\n",
    "for d in tqdm(records):\n",
    "    vectorizer = TfidfVectorizer()\n",
    "    sentences = d[\"sentences\"]\n",
    "#     print(len(sentences))\n",
    "    features = vectorizer.fit_transform(sentences)\n",
    "#     print(features.shape)\n",
    "    query_emb = vectorizer.transform([d[\"query\"]])\n",
    "#     print(query_emb.shape)\n",
    "    relevance = (query_emb @ features.T).toarray().squeeze()\n",
    "#     print(relevance.shape)\n",
    "    predictions.append(relevance)\n",
    "\n",
    "true_predictions = np.concatenate(predictions)\n",
    "print(\"true predictions\", true_predictions.shape)\n",
    "\n",
    "np.save(\"evaluation/tfidf_words.npy\", true_predictions)\n",
    "\n",
    "# fig, axes = plt.subplots(1, 2, figsize = (12, 6))\n",
    "\n",
    "# display = PrecisionRecallDisplay.from_predictions(\n",
    "#     true_targets, true_predictions, name = \"TFIDF Words\",\n",
    "#     ax = axes[0]\n",
    "# )\n",
    "\n",
    "# display = RocCurveDisplay.from_predictions(\n",
    "#     true_targets, true_predictions, name = \"TFIDF Words\",\n",
    "#     ax = axes[1]\n",
    "# )"
   ]
  },
  {
   "cell_type": "code",
   "execution_count": 7,
   "id": "1fcaaea5",
   "metadata": {
    "scrolled": false
   },
   "outputs": [
    {
     "data": {
      "application/vnd.jupyter.widget-view+json": {
       "model_id": "890fc1adb4864a5e8dd75faafeed40a9",
       "version_major": 2,
       "version_minor": 0
      },
      "text/plain": [
       "  0%|          | 0/2242 [00:00<?, ?it/s]"
      ]
     },
     "metadata": {},
     "output_type": "display_data"
    },
    {
     "name": "stdout",
     "output_type": "stream",
     "text": [
      "true predictions (646033,)\n"
     ]
    }
   ],
   "source": [
    "# chars\n",
    "\n",
    "predictions = []\n",
    "for d in tqdm(records):\n",
    "    vectorizer = TfidfVectorizer(\n",
    "        analyzer = \"char\",\n",
    "        ngram_range = (3, 3)\n",
    "    )    \n",
    "    sentences = d[\"sentences\"]\n",
    "#     print(len(sentences))\n",
    "    features = vectorizer.fit_transform(sentences)\n",
    "#     print(features.shape)\n",
    "    query_emb = vectorizer.transform([d[\"query\"]])\n",
    "#     print(query_emb.shape)\n",
    "    relevance = (query_emb @ features.T).toarray().squeeze()\n",
    "#     print(relevance.shape)\n",
    "    predictions.append(relevance)\n",
    "\n",
    "true_predictions = np.concatenate(predictions)\n",
    "print(\"true predictions\", true_predictions.shape)\n",
    "\n",
    "np.save(\"evaluation/tfidf_chars.npy\", true_predictions)\n",
    "\n",
    "# fig, axes = plt.subplots(1, 2, figsize = (12, 6))\n",
    "\n",
    "# display = PrecisionRecallDisplay.from_predictions(\n",
    "#     true_targets, true_predictions, name = \"TFIDF Chars\",\n",
    "#     ax = axes[0]\n",
    "# )\n",
    "\n",
    "# display = RocCurveDisplay.from_predictions(\n",
    "#     true_targets, true_predictions, name = \"TFIDF Chars\",\n",
    "#     ax = axes[1]\n",
    "# )"
   ]
  },
  {
   "cell_type": "markdown",
   "id": "c4c72a37",
   "metadata": {},
   "source": [
    "# Sentence-BERT"
   ]
  },
  {
   "cell_type": "code",
   "execution_count": 8,
   "id": "b82754c3",
   "metadata": {},
   "outputs": [
    {
     "data": {
      "text/plain": [
       "SentenceTransformer(\n",
       "  (0): Transformer({'max_seq_length': 256, 'do_lower_case': False}) with Transformer model: BertModel \n",
       "  (1): Pooling({'word_embedding_dimension': 384, 'pooling_mode_cls_token': False, 'pooling_mode_mean_tokens': True, 'pooling_mode_max_tokens': False, 'pooling_mode_mean_sqrt_len_tokens': False})\n",
       "  (2): Normalize()\n",
       ")"
      ]
     },
     "execution_count": 8,
     "metadata": {},
     "output_type": "execute_result"
    }
   ],
   "source": [
    "model = SentenceTransformer(\n",
    "    \"sbert\"\n",
    "#     'all-MiniLM-L6-v2', \n",
    "#     cache_folder = \"../assets\"\n",
    "#     \"../cache/huggingface/transformers/\"\n",
    "#     cache_folder = \"../cache/huggingface/transformers\"\n",
    ")\n",
    "model"
   ]
  },
  {
   "cell_type": "code",
   "execution_count": 9,
   "id": "925ed918",
   "metadata": {
    "scrolled": false
   },
   "outputs": [
    {
     "data": {
      "application/vnd.jupyter.widget-view+json": {
       "model_id": "f976b137f3ca41e0ba62789fbd5847aa",
       "version_major": 2,
       "version_minor": 0
      },
      "text/plain": [
       "  0%|          | 0/2242 [00:00<?, ?it/s]"
      ]
     },
     "metadata": {},
     "output_type": "display_data"
    },
    {
     "name": "stdout",
     "output_type": "stream",
     "text": [
      "true predictions (646033,)\n"
     ]
    }
   ],
   "source": [
    "# sentence-bert\n",
    "\n",
    "predictions = []\n",
    "for d in tqdm(records):\n",
    "#     vectorizer = TfidfVectorizer(\n",
    "#         analyzer = \"char\",\n",
    "#         ngram_range = (3, 3)\n",
    "#     )    \n",
    "    sentences = d[\"sentences\"]\n",
    "#     print(len(sentences))\n",
    "#     features = vectorizer.fit_transform(sentences)\n",
    "#     print(features.shape)\n",
    "    features = model.encode(sentences)\n",
    "    query_emb = model.encode([d[\"query\"]])\n",
    "#     query_emb = vectorizer.transform([d[\"query\"]])\n",
    "#     print(query_emb.shape)\n",
    "    relevance = (query_emb @ features.T).squeeze()\n",
    "#     print(relevance.shape)\n",
    "    predictions.append(relevance)\n",
    "\n",
    "true_predictions = np.concatenate(predictions)\n",
    "print(\"true predictions\", true_predictions.shape)\n",
    "\n",
    "np.save(\"evaluation/sentence_bert.npy\", true_predictions)\n",
    "\n",
    "# fig, axes = plt.subplots(1, 2, figsize = (12, 6))\n",
    "\n",
    "# display = PrecisionRecallDisplay.from_predictions(\n",
    "#     true_targets, true_predictions, name = \"Sentence-BERT\",\n",
    "#     ax = axes[0]\n",
    "# )\n",
    "\n",
    "# display = RocCurveDisplay.from_predictions(\n",
    "#     true_targets, true_predictions, name = \"Sentence-BERT\",\n",
    "#     ax = axes[1]\n",
    "# )"
   ]
  }
 ],
 "metadata": {
  "kernelspec": {
   "display_name": "Python 3 (ipykernel)",
   "language": "python",
   "name": "python3"
  },
  "language_info": {
   "codemirror_mode": {
    "name": "ipython",
    "version": 3
   },
   "file_extension": ".py",
   "mimetype": "text/x-python",
   "name": "python",
   "nbconvert_exporter": "python",
   "pygments_lexer": "ipython3",
   "version": "3.8.10"
  }
 },
 "nbformat": 4,
 "nbformat_minor": 5
}
