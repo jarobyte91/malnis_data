{
 "cells": [
  {
   "cell_type": "code",
   "execution_count": 2,
   "id": "04306868",
   "metadata": {},
   "outputs": [
    {
     "name": "stderr",
     "output_type": "stream",
     "text": [
      "/home/jarobyte/envs/malnis/lib/python3.8/site-packages/huggingface_hub/snapshot_download.py:6: FutureWarning: snapshot_download.py has been made private and will no longer be available from version 0.11. Please use `from huggingface_hub import snapshot_download` to import the only public function in this module. Other members of the file may be changed without a deprecation notice.\n",
      "  warnings.warn(\n"
     ]
    }
   ],
   "source": [
    "import pandas as pd\n",
    "import numpy as np\n",
    "import matplotlib.pyplot as plt\n",
    "plt.style.use('seaborn-whitegrid')\n",
    "from sklearn.feature_extraction.text import TfidfVectorizer\n",
    "from tqdm.notebook import tqdm\n",
    "from nltk.tokenize import sent_tokenize\n",
    "from rouge import Rouge\n",
    "# from sklearn.model_selection import train_test_split\n",
    "from sentence_transformers import SentenceTransformer\n",
    "from sklearn.metrics import log_loss, PrecisionRecallDisplay, RocCurveDisplay, average_precision_score, roc_auc_score\n",
    "from malnis import show"
   ]
  },
  {
   "cell_type": "code",
   "execution_count": 3,
   "id": "a9b58f81",
   "metadata": {},
   "outputs": [],
   "source": [
    "data_folder = \"/home/jarobyte/scratch/malnis_dataset/data/\""
   ]
  },
  {
   "cell_type": "code",
   "execution_count": 4,
   "id": "66090898",
   "metadata": {},
   "outputs": [
    {
     "name": "stdout",
     "output_type": "stream",
     "text": [
      "(897, 9)\n"
     ]
    },
    {
     "data": {
      "text/html": [
       "<div>\n",
       "<style scoped>\n",
       "    .dataframe tbody tr th:only-of-type {\n",
       "        vertical-align: middle;\n",
       "    }\n",
       "\n",
       "    .dataframe tbody tr th {\n",
       "        vertical-align: top;\n",
       "    }\n",
       "\n",
       "    .dataframe thead th {\n",
       "        text-align: right;\n",
       "    }\n",
       "</style>\n",
       "<table border=\"1\" class=\"dataframe\">\n",
       "  <thead>\n",
       "    <tr style=\"text-align: right;\">\n",
       "      <th></th>\n",
       "      <th>query</th>\n",
       "      <th>document</th>\n",
       "      <th>summary</th>\n",
       "      <th>r1</th>\n",
       "      <th>r2</th>\n",
       "      <th>rl</th>\n",
       "      <th>sentences</th>\n",
       "      <th>relevance</th>\n",
       "      <th>original_sentences</th>\n",
       "    </tr>\n",
       "  </thead>\n",
       "  <tbody>\n",
       "    <tr>\n",
       "      <th>2718</th>\n",
       "      <td>In this paper, we propose a novel neural netwo...</td>\n",
       "      <td>Index Terms—Deep Learning, Graph Neural Networ...</td>\n",
       "      <td>[There are several works attempting to use the...</td>\n",
       "      <td>0.276680</td>\n",
       "      <td>0.121053</td>\n",
       "      <td>0.260870</td>\n",
       "      <td>[Index Terms—Deep Learning, Graph Neural Netwo...</td>\n",
       "      <td>[False, False, False, False, False, False, Fal...</td>\n",
       "      <td>622</td>\n",
       "    </tr>\n",
       "    <tr>\n",
       "      <th>3198</th>\n",
       "      <td>LSTMs and other RNN variants have shown strong...</td>\n",
       "      <td>Machine learning systems now excel (in expecta...</td>\n",
       "      <td>[(2015), current byte-level LMs are not compet...</td>\n",
       "      <td>0.278351</td>\n",
       "      <td>0.120968</td>\n",
       "      <td>0.268041</td>\n",
       "      <td>[Machine learning systems now excel (in expect...</td>\n",
       "      <td>[False, False, False, False, False, False, Fal...</td>\n",
       "      <td>257</td>\n",
       "    </tr>\n",
       "    <tr>\n",
       "      <th>4793</th>\n",
       "      <td>We propose a deep learning framework for model...</td>\n",
       "      <td>In this work we consider the task of solving g...</td>\n",
       "      <td>[With recent advance in the normalizing flow c...</td>\n",
       "      <td>0.259366</td>\n",
       "      <td>0.105675</td>\n",
       "      <td>0.247839</td>\n",
       "      <td>[In this work we consider the task of solving ...</td>\n",
       "      <td>[False, False, False, False, False, False, Fal...</td>\n",
       "      <td>216</td>\n",
       "    </tr>\n",
       "    <tr>\n",
       "      <th>6978</th>\n",
       "      <td>Inspired by recent work in machine translation...</td>\n",
       "      <td>1077-2626 2017 IEEE. Personal use is permitted...</td>\n",
       "      <td>[[32] use attention to identify important aspe...</td>\n",
       "      <td>0.248588</td>\n",
       "      <td>0.110169</td>\n",
       "      <td>0.248588</td>\n",
       "      <td>[1077-2626 2017 IEEE., Personal use is permitt...</td>\n",
       "      <td>[False, False, False, False, False, False, Fal...</td>\n",
       "      <td>1031</td>\n",
       "    </tr>\n",
       "    <tr>\n",
       "      <th>1773</th>\n",
       "      <td>Continuous word representations, trained on la...</td>\n",
       "      <td>‘Nested Entities’ are named entities containin...</td>\n",
       "      <td>[To encode words, we use both BERTLarge and fa...</td>\n",
       "      <td>0.315789</td>\n",
       "      <td>0.105882</td>\n",
       "      <td>0.289474</td>\n",
       "      <td>[‘Nested Entities’ are named entities containi...</td>\n",
       "      <td>[False, False, False, False, False, True, Fals...</td>\n",
       "      <td>136</td>\n",
       "    </tr>\n",
       "  </tbody>\n",
       "</table>\n",
       "</div>"
      ],
      "text/plain": [
       "                                                  query  \\\n",
       "2718  In this paper, we propose a novel neural netwo...   \n",
       "3198  LSTMs and other RNN variants have shown strong...   \n",
       "4793  We propose a deep learning framework for model...   \n",
       "6978  Inspired by recent work in machine translation...   \n",
       "1773  Continuous word representations, trained on la...   \n",
       "\n",
       "                                               document  \\\n",
       "2718  Index Terms—Deep Learning, Graph Neural Networ...   \n",
       "3198  Machine learning systems now excel (in expecta...   \n",
       "4793  In this work we consider the task of solving g...   \n",
       "6978  1077-2626 2017 IEEE. Personal use is permitted...   \n",
       "1773  ‘Nested Entities’ are named entities containin...   \n",
       "\n",
       "                                                summary        r1        r2  \\\n",
       "2718  [There are several works attempting to use the...  0.276680  0.121053   \n",
       "3198  [(2015), current byte-level LMs are not compet...  0.278351  0.120968   \n",
       "4793  [With recent advance in the normalizing flow c...  0.259366  0.105675   \n",
       "6978  [[32] use attention to identify important aspe...  0.248588  0.110169   \n",
       "1773  [To encode words, we use both BERTLarge and fa...  0.315789  0.105882   \n",
       "\n",
       "            rl                                          sentences  \\\n",
       "2718  0.260870  [Index Terms—Deep Learning, Graph Neural Netwo...   \n",
       "3198  0.268041  [Machine learning systems now excel (in expect...   \n",
       "4793  0.247839  [In this work we consider the task of solving ...   \n",
       "6978  0.248588  [1077-2626 2017 IEEE., Personal use is permitt...   \n",
       "1773  0.289474  [‘Nested Entities’ are named entities containi...   \n",
       "\n",
       "                                              relevance  original_sentences  \n",
       "2718  [False, False, False, False, False, False, Fal...                 622  \n",
       "3198  [False, False, False, False, False, False, Fal...                 257  \n",
       "4793  [False, False, False, False, False, False, Fal...                 216  \n",
       "6978  [False, False, False, False, False, False, Fal...                1031  \n",
       "1773  [False, False, False, False, False, True, Fals...                 136  "
      ]
     },
     "execution_count": 4,
     "metadata": {},
     "output_type": "execute_result"
    }
   ],
   "source": [
    "test = pd.read_pickle(data_folder + \"data_test.pkl\")\n",
    "show(test)"
   ]
  },
  {
   "cell_type": "code",
   "execution_count": 5,
   "id": "db591d25",
   "metadata": {},
   "outputs": [
    {
     "name": "stdout",
     "output_type": "stream",
     "text": [
      "true targets (261439,)\n"
     ]
    }
   ],
   "source": [
    "true_targets = np.concatenate(test.relevance.to_list())\n",
    "print(\"true targets\", true_targets.shape)"
   ]
  },
  {
   "cell_type": "code",
   "execution_count": 6,
   "id": "f8945895",
   "metadata": {},
   "outputs": [
    {
     "data": {
      "text/plain": [
       "897"
      ]
     },
     "execution_count": 6,
     "metadata": {},
     "output_type": "execute_result"
    }
   ],
   "source": [
    "records = test.to_dict(\"records\")\n",
    "len(records)"
   ]
  },
  {
   "cell_type": "code",
   "execution_count": 7,
   "id": "32cf377c",
   "metadata": {},
   "outputs": [],
   "source": [
    "output_folder = \"/home/jarobyte/scratch/malnis_dataset/data/classical_models_test/\""
   ]
  },
  {
   "cell_type": "markdown",
   "id": "0c64f084",
   "metadata": {},
   "source": [
    "# TFIDF"
   ]
  },
  {
   "cell_type": "code",
   "execution_count": 8,
   "id": "7283e646",
   "metadata": {
    "scrolled": false
   },
   "outputs": [
    {
     "data": {
      "application/vnd.jupyter.widget-view+json": {
       "model_id": "009876edb38c4b76b583b8d632cd9df4",
       "version_major": 2,
       "version_minor": 0
      },
      "text/plain": [
       "  0%|          | 0/897 [00:00<?, ?it/s]"
      ]
     },
     "metadata": {},
     "output_type": "display_data"
    },
    {
     "name": "stdout",
     "output_type": "stream",
     "text": [
      "true predictions (261439,)\n",
      "CPU times: user 5.41 s, sys: 24.3 ms, total: 5.43 s\n",
      "Wall time: 5.49 s\n"
     ]
    }
   ],
   "source": [
    "%%time\n",
    "\n",
    "predictions = []\n",
    "for d in tqdm(records):\n",
    "    vectorizer = TfidfVectorizer()\n",
    "    sentences = d[\"sentences\"]\n",
    "#     print(len(sentences))\n",
    "    features = vectorizer.fit_transform(sentences)\n",
    "#     print(features.shape)\n",
    "    query_emb = vectorizer.transform([d[\"query\"]])\n",
    "#     print(query_emb.shape)\n",
    "    relevance = (query_emb @ features.T).toarray().squeeze()\n",
    "#     print(relevance.shape)\n",
    "    predictions.append(relevance)\n",
    "\n",
    "true_predictions = np.concatenate(predictions)\n",
    "print(\"true predictions\", true_predictions.shape)\n",
    "\n",
    "np.save(output_folder + \"tfidf_words.npy\", true_predictions)\n",
    "\n",
    "# fig, axes = plt.subplots(1, 2, figsize = (12, 6))\n",
    "\n",
    "# display = PrecisionRecallDisplay.from_predictions(\n",
    "#     true_targets, true_predictions, name = \"TFIDF Words\",\n",
    "#     ax = axes[0]\n",
    "# )\n",
    "\n",
    "# display = RocCurveDisplay.from_predictions(\n",
    "#     true_targets, true_predictions, name = \"TFIDF Words\",\n",
    "#     ax = axes[1]\n",
    "# )"
   ]
  },
  {
   "cell_type": "code",
   "execution_count": 9,
   "id": "1fcaaea5",
   "metadata": {
    "scrolled": false
   },
   "outputs": [
    {
     "data": {
      "application/vnd.jupyter.widget-view+json": {
       "model_id": "e3334f328ede4ad88a08e543104ba0c0",
       "version_major": 2,
       "version_minor": 0
      },
      "text/plain": [
       "  0%|          | 0/897 [00:00<?, ?it/s]"
      ]
     },
     "metadata": {},
     "output_type": "display_data"
    },
    {
     "name": "stdout",
     "output_type": "stream",
     "text": [
      "true predictions (261439,)\n",
      "CPU times: user 17.3 s, sys: 41.3 ms, total: 17.4 s\n",
      "Wall time: 17.4 s\n"
     ]
    }
   ],
   "source": [
    "%%time\n",
    "\n",
    "#chars\n",
    "\n",
    "predictions = []\n",
    "for d in tqdm(records):\n",
    "    vectorizer = TfidfVectorizer(\n",
    "        analyzer = \"char\",\n",
    "        ngram_range = (3, 3)\n",
    "    )    \n",
    "    sentences = d[\"sentences\"]\n",
    "#     print(len(sentences))\n",
    "    features = vectorizer.fit_transform(sentences)\n",
    "#     print(features.shape)\n",
    "    query_emb = vectorizer.transform([d[\"query\"]])\n",
    "#     print(query_emb.shape)\n",
    "    relevance = (query_emb @ features.T).toarray().squeeze()\n",
    "#     print(relevance.shape)\n",
    "    predictions.append(relevance)\n",
    "\n",
    "true_predictions = np.concatenate(predictions)\n",
    "print(\"true predictions\", true_predictions.shape)\n",
    "\n",
    "np.save(output_folder + \"tfidf_chars.npy\", true_predictions)\n",
    "\n",
    "# fig, axes = plt.subplots(1, 2, figsize = (12, 6))\n",
    "\n",
    "# display = PrecisionRecallDisplay.from_predictions(\n",
    "#     true_targets, true_predictions, name = \"TFIDF Chars\",\n",
    "#     ax = axes[0]\n",
    "# )\n",
    "\n",
    "# display = RocCurveDisplay.from_predictions(\n",
    "#     true_targets, true_predictions, name = \"TFIDF Chars\",\n",
    "#     ax = axes[1]\n",
    "# )"
   ]
  },
  {
   "cell_type": "markdown",
   "id": "c4c72a37",
   "metadata": {},
   "source": [
    "# Sentence-BERT"
   ]
  },
  {
   "cell_type": "code",
   "execution_count": 10,
   "id": "796bfa18",
   "metadata": {},
   "outputs": [
    {
     "data": {
      "text/plain": [
       "(897, 512, 768)"
      ]
     },
     "execution_count": 10,
     "metadata": {},
     "output_type": "execute_result"
    }
   ],
   "source": [
    "X_test = np.load(data_folder + \"embeddings/sbert/X_test.npy\")\n",
    "X_test.shape"
   ]
  },
  {
   "cell_type": "code",
   "execution_count": 11,
   "id": "01841963",
   "metadata": {},
   "outputs": [
    {
     "data": {
      "text/plain": [
       "(897, 512)"
      ]
     },
     "execution_count": 11,
     "metadata": {},
     "output_type": "execute_result"
    }
   ],
   "source": [
    "Y_test = np.load(data_folder + \"embeddings/sbert/Y_test.npy\")\n",
    "Y_test.shape"
   ]
  },
  {
   "cell_type": "code",
   "execution_count": 12,
   "id": "278abf91",
   "metadata": {},
   "outputs": [
    {
     "data": {
      "text/plain": [
       "(897, 512, 384)"
      ]
     },
     "execution_count": 12,
     "metadata": {},
     "output_type": "execute_result"
    }
   ],
   "source": [
    "queries = X_test[:, :, :384]\n",
    "queries.shape"
   ]
  },
  {
   "cell_type": "code",
   "execution_count": 13,
   "id": "0ca1b63f",
   "metadata": {},
   "outputs": [
    {
     "data": {
      "text/plain": [
       "(897, 512, 384)"
      ]
     },
     "execution_count": 13,
     "metadata": {},
     "output_type": "execute_result"
    }
   ],
   "source": [
    "sentences = X_test[:, :, 384:]\n",
    "sentences.shape"
   ]
  },
  {
   "cell_type": "code",
   "execution_count": 14,
   "id": "99512f0d",
   "metadata": {},
   "outputs": [
    {
     "data": {
      "text/plain": [
       "(897, 512)"
      ]
     },
     "execution_count": 14,
     "metadata": {},
     "output_type": "execute_result"
    }
   ],
   "source": [
    "product = (queries * sentences).sum(-1)\n",
    "product.shape"
   ]
  },
  {
   "cell_type": "code",
   "execution_count": 15,
   "id": "f6cb647d",
   "metadata": {},
   "outputs": [
    {
     "data": {
      "text/plain": [
       "(-0.20886484, 0.86291116)"
      ]
     },
     "execution_count": 15,
     "metadata": {},
     "output_type": "execute_result"
    }
   ],
   "source": [
    "product.min(), product.max()"
   ]
  },
  {
   "cell_type": "code",
   "execution_count": 16,
   "id": "3c3c1c5c",
   "metadata": {},
   "outputs": [
    {
     "data": {
      "text/plain": [
       "(0.0, 0.86291116)"
      ]
     },
     "execution_count": 16,
     "metadata": {},
     "output_type": "execute_result"
    }
   ],
   "source": [
    "product[product < 0] = 0\n",
    "\n",
    "product.min(), product.max()"
   ]
  },
  {
   "cell_type": "code",
   "execution_count": 17,
   "id": "00498032",
   "metadata": {},
   "outputs": [
    {
     "data": {
      "application/vnd.jupyter.widget-view+json": {
       "model_id": "96fff1cc64f74432bcf0659704a87b15",
       "version_major": 2,
       "version_minor": 0
      },
      "text/plain": [
       "  0%|          | 0/897 [00:00<?, ?it/s]"
      ]
     },
     "metadata": {},
     "output_type": "display_data"
    },
    {
     "data": {
      "text/plain": [
       "(261439,)"
      ]
     },
     "execution_count": 17,
     "metadata": {},
     "output_type": "execute_result"
    }
   ],
   "source": [
    "true_predictions = np.concatenate([p[:l] for l, p in zip(tqdm(test.original_sentences), product)])\n",
    "true_predictions.shape"
   ]
  },
  {
   "cell_type": "code",
   "execution_count": 18,
   "id": "ebb53637",
   "metadata": {},
   "outputs": [
    {
     "data": {
      "image/png": "[encoded data removed]",
      "text/plain": [
       "<Figure size 640x480 with 1 Axes>"
      ]
     },
     "metadata": {},
     "output_type": "display_data"
    }
   ],
   "source": [
    "plt.hist(\n",
    "    true_predictions,\n",
    "    bins = 50\n",
    ")\n",
    "plt.xlim(0, 1)\n",
    "plt.show()"
   ]
  },
  {
   "cell_type": "code",
   "execution_count": 19,
   "id": "3d21f517",
   "metadata": {},
   "outputs": [],
   "source": [
    "np.save(output_folder + \"sbert.npy\", true_predictions)"
   ]
  },
  {
   "cell_type": "code",
   "execution_count": 20,
   "id": "a6ca5e71",
   "metadata": {},
   "outputs": [
    {
     "name": "stdout",
     "output_type": "stream",
     "text": [
      "targets (261439,)\n"
     ]
    }
   ],
   "source": [
    "targets = np.concatenate(test.relevance.to_list())\n",
    "print(\"targets\", targets.shape)"
   ]
  },
  {
   "cell_type": "code",
   "execution_count": 21,
   "id": "d4806e68",
   "metadata": {},
   "outputs": [
    {
     "data": {
      "image/png": "[encoded data removed]",
      "text/plain": [
       "<Figure size 640x480 with 1 Axes>"
      ]
     },
     "metadata": {},
     "output_type": "display_data"
    }
   ],
   "source": [
    "PrecisionRecallDisplay.from_predictions(targets, true_predictions)\n",
    "plt.show()"
   ]
  },
  {
   "cell_type": "code",
   "execution_count": 22,
   "id": "d4b8d626",
   "metadata": {},
   "outputs": [
    {
     "data": {
      "image/png": "[encoded data removed]",
      "text/plain": [
       "<Figure size 640x480 with 1 Axes>"
      ]
     },
     "metadata": {},
     "output_type": "display_data"
    }
   ],
   "source": [
    "RocCurveDisplay.from_predictions(targets, true_predictions)\n",
    "plt.show()"
   ]
  },
  {
   "cell_type": "markdown",
   "id": "86e8cadb",
   "metadata": {},
   "source": [
    "# SPECTER"
   ]
  },
  {
   "cell_type": "code",
   "execution_count": 23,
   "id": "ba0bcee5",
   "metadata": {},
   "outputs": [
    {
     "data": {
      "text/plain": [
       "(897, 512, 1536)"
      ]
     },
     "execution_count": 23,
     "metadata": {},
     "output_type": "execute_result"
    }
   ],
   "source": [
    "X_test = np.load(data_folder + \"embeddings/specter/X_test.npy\")\n",
    "X_test.shape"
   ]
  },
  {
   "cell_type": "code",
   "execution_count": 24,
   "id": "3016b265",
   "metadata": {},
   "outputs": [
    {
     "data": {
      "text/plain": [
       "(897, 512)"
      ]
     },
     "execution_count": 24,
     "metadata": {},
     "output_type": "execute_result"
    }
   ],
   "source": [
    "Y_test = np.load(data_folder + \"embeddings/specter/Y_test.npy\")\n",
    "Y_test.shape"
   ]
  },
  {
   "cell_type": "code",
   "execution_count": 25,
   "id": "5ed3a7b0",
   "metadata": {},
   "outputs": [
    {
     "data": {
      "text/plain": [
       "(897, 512, 768)"
      ]
     },
     "execution_count": 25,
     "metadata": {},
     "output_type": "execute_result"
    }
   ],
   "source": [
    "queries = X_test[:, :, :768]\n",
    "queries.shape"
   ]
  },
  {
   "cell_type": "code",
   "execution_count": 26,
   "id": "8b629700",
   "metadata": {},
   "outputs": [
    {
     "data": {
      "text/plain": [
       "(897, 512, 768)"
      ]
     },
     "execution_count": 26,
     "metadata": {},
     "output_type": "execute_result"
    }
   ],
   "source": [
    "sentences = X_test[:, :, 768:]\n",
    "sentences.shape"
   ]
  },
  {
   "cell_type": "code",
   "execution_count": 27,
   "id": "4af3e56c",
   "metadata": {},
   "outputs": [
    {
     "data": {
      "text/plain": [
       "(897, 512)"
      ]
     },
     "execution_count": 27,
     "metadata": {},
     "output_type": "execute_result"
    }
   ],
   "source": [
    "distances = ((queries - sentences) ** 2).sum(-1)\n",
    "distances.shape"
   ]
  },
  {
   "cell_type": "code",
   "execution_count": 28,
   "id": "956ac8bc",
   "metadata": {},
   "outputs": [
    {
     "data": {
      "text/plain": [
       "(0.0, 139.08423, 680.1081)"
      ]
     },
     "execution_count": 28,
     "metadata": {},
     "output_type": "execute_result"
    }
   ],
   "source": [
    "distances.min(), distances.mean(), distances.max()"
   ]
  },
  {
   "cell_type": "code",
   "execution_count": 29,
   "id": "c064ee9d",
   "metadata": {},
   "outputs": [
    {
     "data": {
      "application/vnd.jupyter.widget-view+json": {
       "model_id": "bc0e8833444746119e9cd9801e11b5a4",
       "version_major": 2,
       "version_minor": 0
      },
      "text/plain": [
       "  0%|          | 0/897 [00:00<?, ?it/s]"
      ]
     },
     "metadata": {},
     "output_type": "display_data"
    },
    {
     "data": {
      "image/png": "[encoded data removed]",
      "text/plain": [
       "<Figure size 1200x400 with 2 Axes>"
      ]
     },
     "metadata": {},
     "output_type": "display_data"
    }
   ],
   "source": [
    "unpadded_distances = np.concatenate([p[:l] for l, p in zip(tqdm(test.original_sentences), distances)])\n",
    "unpadded_distances = unpadded_distances / 200\n",
    "\n",
    "# true_predictions = 1 / (1 + (10**-3) * unpadded_distances)\n",
    "# true_predictions = 1 / (1 + (10**-2.5) * unpadded_distances)\n",
    "true_predictions = 2 / (1 + np.exp(unpadded_distances))\n",
    "\n",
    "# true_predictions.shape\n",
    "\n",
    "f, axes = plt.subplots(1, 2, figsize = (12, 4))\n",
    "axes[0].hist(unpadded_distances, bins = 50)\n",
    "axes[1].hist(true_predictions, bins = 50)\n",
    "axes[1].set_xlim(0, 1)\n",
    "plt.show()"
   ]
  },
  {
   "cell_type": "code",
   "execution_count": 30,
   "id": "93a53fc6",
   "metadata": {},
   "outputs": [
    {
     "data": {
      "text/plain": [
       "array([0.63987786, 0.5366538 , 0.51754326, ..., 0.37346303, 0.39332628,\n",
       "       0.416088  ], dtype=float32)"
      ]
     },
     "execution_count": 30,
     "metadata": {},
     "output_type": "execute_result"
    }
   ],
   "source": [
    "true_predictions"
   ]
  },
  {
   "cell_type": "code",
   "execution_count": 31,
   "id": "c52c21f3",
   "metadata": {},
   "outputs": [
    {
     "data": {
      "text/plain": [
       "array([0.9998115 , 0.99974924, 0.99973685, ..., 0.9996321 , 0.9996482 ,\n",
       "       0.99966586], dtype=float32)"
      ]
     },
     "execution_count": 31,
     "metadata": {},
     "output_type": "execute_result"
    }
   ],
   "source": [
    "2 / (1 + np.exp(unpadded_distances / 2000))"
   ]
  },
  {
   "cell_type": "markdown",
   "id": "02efa764",
   "metadata": {},
   "source": [
    "# $\\frac{1}{\\beta + \\alpha x}$"
   ]
  },
  {
   "cell_type": "code",
   "execution_count": 32,
   "id": "f9f331d7",
   "metadata": {},
   "outputs": [],
   "source": [
    "alpha = np.linspace(0.1, 3, 30)\n",
    "beta = np.linspace(0.5, 5, 40)"
   ]
  },
  {
   "cell_type": "code",
   "execution_count": 33,
   "id": "d329d9ef",
   "metadata": {},
   "outputs": [
    {
     "data": {
      "text/plain": [
       "(40, 30, 261439)"
      ]
     },
     "execution_count": 33,
     "metadata": {},
     "output_type": "execute_result"
    }
   ],
   "source": [
    "predictions = 1 / (beta.reshape(-1, 1, 1) + alpha.reshape(-1, 1) * unpadded_distances)\n",
    "predictions.shape"
   ]
  },
  {
   "cell_type": "code",
   "execution_count": 34,
   "id": "52484135",
   "metadata": {},
   "outputs": [
    {
     "data": {
      "application/vnd.jupyter.widget-view+json": {
       "model_id": "a0fe6e794e524144b84047e9490c39d6",
       "version_major": 2,
       "version_minor": 0
      },
      "text/plain": [
       "  0%|          | 0/40 [00:00<?, ?it/s]"
      ]
     },
     "metadata": {},
     "output_type": "display_data"
    },
    {
     "data": {
      "text/plain": [
       "count    1.200000e+03\n",
       "mean     5.127130e-02\n",
       "std      2.082536e-17\n",
       "min      5.127130e-02\n",
       "25%      5.127130e-02\n",
       "50%      5.127130e-02\n",
       "75%      5.127130e-02\n",
       "max      5.127130e-02\n",
       "dtype: float64"
      ]
     },
     "execution_count": 34,
     "metadata": {},
     "output_type": "execute_result"
    }
   ],
   "source": [
    "scores = [average_precision_score(targets, a) for b in tqdm(predictions) for a in b]\n",
    "scores = pd.Series(scores)\n",
    "scores.describe()"
   ]
  },
  {
   "cell_type": "code",
   "execution_count": 35,
   "id": "b71f0f54",
   "metadata": {},
   "outputs": [
    {
     "data": {
      "application/vnd.jupyter.widget-view+json": {
       "model_id": "4d4a4f8f228647eba93c1c7fdbb7d921",
       "version_major": 2,
       "version_minor": 0
      },
      "text/plain": [
       "  0%|          | 0/40 [00:00<?, ?it/s]"
      ]
     },
     "metadata": {},
     "output_type": "display_data"
    },
    {
     "data": {
      "text/plain": [
       "count    1.200000e+03\n",
       "mean     5.787240e-01\n",
       "std      1.110686e-16\n",
       "min      5.787240e-01\n",
       "25%      5.787240e-01\n",
       "50%      5.787240e-01\n",
       "75%      5.787240e-01\n",
       "max      5.787240e-01\n",
       "dtype: float64"
      ]
     },
     "execution_count": 35,
     "metadata": {},
     "output_type": "execute_result"
    }
   ],
   "source": [
    "scores = [roc_auc_score(targets, a) for b in tqdm(predictions) for a in b]\n",
    "scores = pd.Series(scores)\n",
    "scores.describe()"
   ]
  },
  {
   "cell_type": "markdown",
   "id": "08e24c64",
   "metadata": {},
   "source": [
    "# $\\frac{2}{1 + e ^ {a + b x}}$"
   ]
  },
  {
   "cell_type": "code",
   "execution_count": 36,
   "id": "4e84161b",
   "metadata": {},
   "outputs": [],
   "source": [
    "A = np.linspace(0.1, 10, 12)\n",
    "B = np.linspace(0.1, 10, 13)\n",
    "# C = np.linspace(0.1, 10, 14)"
   ]
  },
  {
   "cell_type": "code",
   "execution_count": 37,
   "id": "213c6497",
   "metadata": {},
   "outputs": [
    {
     "data": {
      "text/plain": [
       "(13, 12, 261439)"
      ]
     },
     "execution_count": 37,
     "metadata": {},
     "output_type": "execute_result"
    }
   ],
   "source": [
    "predictions = 2 / (1 + np.exp((B.reshape(-1, 1, 1) + A.reshape(-1, 1) * unpadded_distances)))\n",
    "predictions.shape"
   ]
  },
  {
   "cell_type": "code",
   "execution_count": 38,
   "id": "58fa86c3",
   "metadata": {},
   "outputs": [
    {
     "data": {
      "text/plain": [
       "(1.5478400280431062e-19,\n",
       " 0.02177643415171314,\n",
       " 3.7544723891876114e-05,\n",
       " 0.9447737674593716)"
      ]
     },
     "execution_count": 38,
     "metadata": {},
     "output_type": "execute_result"
    }
   ],
   "source": [
    "predictions.min(), predictions.mean(), np.median(predictions), predictions.max()"
   ]
  },
  {
   "cell_type": "code",
   "execution_count": 39,
   "id": "27829c04",
   "metadata": {},
   "outputs": [
    {
     "data": {
      "application/vnd.jupyter.widget-view+json": {
       "model_id": "3fe4bcab13854914836c69ccac0790d3",
       "version_major": 2,
       "version_minor": 0
      },
      "text/plain": [
       "  0%|          | 0/13 [00:00<?, ?it/s]"
      ]
     },
     "metadata": {},
     "output_type": "display_data"
    },
    {
     "data": {
      "text/plain": [
       "count    1.560000e+02\n",
       "mean     5.127130e-02\n",
       "std      1.392248e-17\n",
       "min      5.127130e-02\n",
       "25%      5.127130e-02\n",
       "50%      5.127130e-02\n",
       "75%      5.127130e-02\n",
       "max      5.127130e-02\n",
       "dtype: float64"
      ]
     },
     "execution_count": 39,
     "metadata": {},
     "output_type": "execute_result"
    }
   ],
   "source": [
    "scores = [average_precision_score(targets, a) for b in tqdm(predictions) for a in b]\n",
    "scores = pd.Series(scores)\n",
    "scores.describe()"
   ]
  },
  {
   "cell_type": "code",
   "execution_count": 40,
   "id": "754d4d02",
   "metadata": {},
   "outputs": [
    {
     "data": {
      "application/vnd.jupyter.widget-view+json": {
       "model_id": "d553d67ee50c43e89d94b415dc123e1d",
       "version_major": 2,
       "version_minor": 0
      },
      "text/plain": [
       "  0%|          | 0/13 [00:00<?, ?it/s]"
      ]
     },
     "metadata": {},
     "output_type": "display_data"
    },
    {
     "data": {
      "text/plain": [
       "count    1.560000e+02\n",
       "mean     5.787240e-01\n",
       "std      2.227597e-16\n",
       "min      5.787240e-01\n",
       "25%      5.787240e-01\n",
       "50%      5.787240e-01\n",
       "75%      5.787240e-01\n",
       "max      5.787240e-01\n",
       "dtype: float64"
      ]
     },
     "execution_count": 40,
     "metadata": {},
     "output_type": "execute_result"
    }
   ],
   "source": [
    "scores = [roc_auc_score(targets, a) for b in tqdm(predictions) for a in b]\n",
    "scores = pd.Series(scores)\n",
    "scores.describe()"
   ]
  },
  {
   "cell_type": "markdown",
   "id": "b2eca7aa",
   "metadata": {},
   "source": [
    "# plots"
   ]
  },
  {
   "cell_type": "code",
   "execution_count": 41,
   "id": "1455f243",
   "metadata": {},
   "outputs": [
    {
     "data": {
      "image/png": "[encoded data removed]",
      "text/plain": [
       "<Figure size 640x480 with 1 Axes>"
      ]
     },
     "metadata": {},
     "output_type": "display_data"
    }
   ],
   "source": [
    "PrecisionRecallDisplay.from_predictions(targets, true_predictions)\n",
    "plt.show()"
   ]
  },
  {
   "cell_type": "code",
   "execution_count": 42,
   "id": "d154ea76",
   "metadata": {},
   "outputs": [
    {
     "data": {
      "image/png": "[encoded data removed]",
      "text/plain": [
       "<Figure size 640x480 with 1 Axes>"
      ]
     },
     "metadata": {},
     "output_type": "display_data"
    }
   ],
   "source": [
    "RocCurveDisplay.from_predictions(targets, true_predictions)\n",
    "plt.show()"
   ]
  },
  {
   "cell_type": "code",
   "execution_count": 43,
   "id": "27acf27b",
   "metadata": {},
   "outputs": [],
   "source": [
    "np.save(output_folder + \"specter.npy\", true_predictions)"
   ]
  },
  {
   "cell_type": "code",
   "execution_count": null,
   "id": "2da548f8",
   "metadata": {},
   "outputs": [],
   "source": []
  }
 ],
 "metadata": {
  "kernelspec": {
   "display_name": "Python 3 (ipykernel)",
   "language": "python",
   "name": "python3"
  },
  "language_info": {
   "codemirror_mode": {
    "name": "ipython",
    "version": 3
   },
   "file_extension": ".py",
   "mimetype": "text/x-python",
   "name": "python",
   "nbconvert_exporter": "python",
   "pygments_lexer": "ipython3",
   "version": "3.8.10"
  }
 },
 "nbformat": 4,
 "nbformat_minor": 5
}
