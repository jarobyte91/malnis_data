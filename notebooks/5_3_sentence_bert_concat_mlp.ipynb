{
 "cells": [
  {
   "cell_type": "code",
   "execution_count": 5,
   "id": "52f865c2",
   "metadata": {},
   "outputs": [],
   "source": [
    "import pandas as pd\n",
    "import numpy as np\n",
    "import torch\n",
    "from torch import nn\n",
    "import torch.utils.data as tud\n",
    "import malnis\n",
    "from random import randint\n",
    "from sklearn.metrics import average_precision_score, roc_auc_score\n",
    "from timeit import default_timer as timer\n",
    "import importlib"
   ]
  },
  {
   "cell_type": "code",
   "execution_count": 2,
   "id": "fcc3b98d",
   "metadata": {},
   "outputs": [],
   "source": [
    "data_folder = \"/home/jarobyte/scratch/malnis_dataset/data/\"\n",
    "\n",
    "X_train = torch.tensor(np.load(data_folder + \"embeddings/specter/X_train.npy\"))#.cuda()\n",
    "Y_train = torch.tensor(np.load(data_folder + \"embeddings/specter/Y_train.npy\"))#.cuda()\n",
    "\n",
    "X_dev = torch.tensor(np.load(data_folder + \"embeddings/specter/X_dev.npy\"))\n",
    "Y_dev = torch.tensor(np.load(data_folder + \"embeddings/specter/Y_dev.npy\"))\n",
    "\n",
    "data_train = pd.read_pickle(data_folder + \"data_train.pkl\")\n",
    "data_dev = pd.read_pickle(data_folder + \"data_dev.pkl\")"
   ]
  },
  {
   "cell_type": "code",
   "execution_count": 17,
   "id": "83277bfc",
   "metadata": {},
   "outputs": [
    {
     "name": "stdout",
     "output_type": "stream",
     "text": [
      "MLP Classfier\n",
      "Parameters: 174,001\n"
     ]
    }
   ],
   "source": [
    "importlib.reload(malnis)\n",
    "importlib.reload(malnis.models)\n",
    "\n",
    "clf = malnis.models.MLP(input_size = 1536)"
   ]
  },
  {
   "cell_type": "code",
   "execution_count": 18,
   "id": "a0f4798e",
   "metadata": {},
   "outputs": [
    {
     "data": {
      "text/plain": [
       "(torch.Size([5, 512, 1]),\n",
       " tensor(0.4585, grad_fn=<MinBackward1>),\n",
       " tensor(0.5035, grad_fn=<MaxBackward1>))"
      ]
     },
     "execution_count": 18,
     "metadata": {},
     "output_type": "execute_result"
    }
   ],
   "source": [
    "test = clf(X_train[:5])\n",
    "test.shape, test.min(), test.max()"
   ]
  },
  {
   "cell_type": "code",
   "execution_count": 21,
   "id": "39fba879",
   "metadata": {},
   "outputs": [
    {
     "name": "stdout",
     "output_type": "stream",
     "text": [
      "  epoch 1, loss 0.307668\n",
      "  epoch 2, loss 0.294655\n",
      "  epoch 3, loss 0.276127\n",
      "  epoch 4, loss 0.258889\n",
      "  epoch 5, loss 0.240241\n",
      "  epoch 6, loss 0.222724\n",
      "  epoch 7, loss 0.203510\n",
      "  epoch 8, loss 0.188885\n",
      "  epoch 9, loss 0.172153\n",
      "  epoch 10, loss 0.157542\n",
      "  epoch 11, loss 0.146300\n",
      "  epoch 12, loss 0.135748\n",
      "  epoch 13, loss 0.126532\n",
      "  epoch 14, loss 0.117416\n",
      "  epoch 15, loss 0.110844\n",
      "  epoch 16, loss 0.106018\n",
      "  epoch 17, loss 0.102462\n",
      "  epoch 18, loss 0.100001\n",
      "  epoch 19, loss 0.095587\n",
      "  epoch 20, loss 0.093440\n",
      "  epoch 21, loss 0.091407\n",
      "  epoch 22, loss 0.088859\n",
      "  epoch 23, loss 0.090453\n",
      "  epoch 24, loss 0.088311\n",
      "  epoch 25, loss 0.084854\n",
      "  epoch 26, loss 0.083602\n",
      "  epoch 27, loss 0.083166\n",
      "  epoch 28, loss 0.083566\n",
      "  epoch 29, loss 0.083020\n",
      "  epoch 30, loss 0.081503\n",
      "  epoch 31, loss 0.081078\n",
      "  epoch 32, loss 0.081343\n",
      "  epoch 33, loss 0.080348\n",
      "  epoch 34, loss 0.080772\n",
      "  epoch 35, loss 0.079340\n",
      "  epoch 36, loss 0.078962\n",
      "  epoch 37, loss 0.080112\n",
      "  epoch 38, loss 0.080247\n",
      "  epoch 39, loss 0.082566\n",
      "  epoch 40, loss 0.081880\n",
      "  epoch 41, loss 0.079835\n",
      "  epoch 42, loss 0.078754\n",
      "  epoch 43, loss 0.077977\n",
      "  epoch 44, loss 0.078778\n",
      "  epoch 45, loss 0.079248\n",
      "  epoch 46, loss 0.079309\n"
     ]
    },
    {
     "ename": "KeyboardInterrupt",
     "evalue": "",
     "output_type": "error",
     "traceback": [
      "\u001b[0;31m---------------------------------------------------------------------------\u001b[0m",
      "\u001b[0;31mKeyboardInterrupt\u001b[0m                         Traceback (most recent call last)",
      "Cell \u001b[0;32mIn [21], line 1\u001b[0m\n\u001b[0;32m----> 1\u001b[0m \u001b[43mclf\u001b[49m\u001b[38;5;241;43m.\u001b[39;49m\u001b[43mfit\u001b[49m\u001b[43m(\u001b[49m\u001b[43mX_train\u001b[49m\u001b[43m[\u001b[49m\u001b[43m:\u001b[49m\u001b[38;5;241;43m100\u001b[39;49m\u001b[43m]\u001b[49m\u001b[43m,\u001b[49m\u001b[43m \u001b[49m\u001b[43mY_train\u001b[49m\u001b[43m[\u001b[49m\u001b[43m:\u001b[49m\u001b[38;5;241;43m100\u001b[39;49m\u001b[43m]\u001b[49m\u001b[43m,\u001b[49m\u001b[43m \u001b[49m\u001b[43mepochs\u001b[49m\u001b[43m \u001b[49m\u001b[38;5;241;43m=\u001b[39;49m\u001b[43m \u001b[49m\u001b[38;5;241;43m100\u001b[39;49m\u001b[43m)\u001b[49m\n",
      "File \u001b[0;32m~/malnis_dataset/library/malnis/models.py:39\u001b[0m, in \u001b[0;36mModel.fit\u001b[0;34m(self, X, Y, batch_size, epochs, learning_rate, weight_decay)\u001b[0m\n\u001b[1;32m     37\u001b[0m losses \u001b[38;5;241m=\u001b[39m []\n\u001b[1;32m     38\u001b[0m \u001b[38;5;28;01mfor\u001b[39;00m x, y \u001b[38;5;129;01min\u001b[39;00m (\u001b[38;5;28miter\u001b[39m(loader)):\n\u001b[0;32m---> 39\u001b[0m     preds \u001b[38;5;241m=\u001b[39m \u001b[38;5;28;43mself\u001b[39;49m\u001b[38;5;241;43m.\u001b[39;49m\u001b[43mforward\u001b[49m\u001b[43m(\u001b[49m\u001b[43mx\u001b[49m\u001b[43m)\u001b[49m\u001b[38;5;241m.\u001b[39msqueeze()\n\u001b[1;32m     40\u001b[0m     loss \u001b[38;5;241m=\u001b[39m criterion(preds, y\u001b[38;5;241m.\u001b[39mfloat())\n\u001b[1;32m     41\u001b[0m     optimizer\u001b[38;5;241m.\u001b[39mzero_grad()\n",
      "File \u001b[0;32m~/malnis_dataset/library/malnis/models.py:82\u001b[0m, in \u001b[0;36mMLP.forward\u001b[0;34m(self, X)\u001b[0m\n\u001b[1;32m     81\u001b[0m \u001b[38;5;28;01mdef\u001b[39;00m \u001b[38;5;21mforward\u001b[39m(\u001b[38;5;28mself\u001b[39m, X):\n\u001b[0;32m---> 82\u001b[0m     X \u001b[38;5;241m=\u001b[39m \u001b[38;5;28;43mself\u001b[39;49m\u001b[38;5;241;43m.\u001b[39;49m\u001b[43minput_layer\u001b[49m\u001b[43m(\u001b[49m\u001b[43mX\u001b[49m\u001b[43m)\u001b[49m\n\u001b[1;32m     83\u001b[0m     \u001b[38;5;28;01mfor\u001b[39;00m l \u001b[38;5;129;01min\u001b[39;00m \u001b[38;5;28mself\u001b[39m\u001b[38;5;241m.\u001b[39mlayers:\n\u001b[1;32m     84\u001b[0m         X \u001b[38;5;241m=\u001b[39m l(X)\n",
      "File \u001b[0;32m~/envs/malnis/lib/python3.8/site-packages/torch/nn/modules/module.py:1130\u001b[0m, in \u001b[0;36mModule._call_impl\u001b[0;34m(self, *input, **kwargs)\u001b[0m\n\u001b[1;32m   1126\u001b[0m \u001b[38;5;66;03m# If we don't have any hooks, we want to skip the rest of the logic in\u001b[39;00m\n\u001b[1;32m   1127\u001b[0m \u001b[38;5;66;03m# this function, and just call forward.\u001b[39;00m\n\u001b[1;32m   1128\u001b[0m \u001b[38;5;28;01mif\u001b[39;00m \u001b[38;5;129;01mnot\u001b[39;00m (\u001b[38;5;28mself\u001b[39m\u001b[38;5;241m.\u001b[39m_backward_hooks \u001b[38;5;129;01mor\u001b[39;00m \u001b[38;5;28mself\u001b[39m\u001b[38;5;241m.\u001b[39m_forward_hooks \u001b[38;5;129;01mor\u001b[39;00m \u001b[38;5;28mself\u001b[39m\u001b[38;5;241m.\u001b[39m_forward_pre_hooks \u001b[38;5;129;01mor\u001b[39;00m _global_backward_hooks\n\u001b[1;32m   1129\u001b[0m         \u001b[38;5;129;01mor\u001b[39;00m _global_forward_hooks \u001b[38;5;129;01mor\u001b[39;00m _global_forward_pre_hooks):\n\u001b[0;32m-> 1130\u001b[0m     \u001b[38;5;28;01mreturn\u001b[39;00m \u001b[43mforward_call\u001b[49m\u001b[43m(\u001b[49m\u001b[38;5;241;43m*\u001b[39;49m\u001b[38;5;28;43minput\u001b[39;49m\u001b[43m,\u001b[49m\u001b[43m \u001b[49m\u001b[38;5;241;43m*\u001b[39;49m\u001b[38;5;241;43m*\u001b[39;49m\u001b[43mkwargs\u001b[49m\u001b[43m)\u001b[49m\n\u001b[1;32m   1131\u001b[0m \u001b[38;5;66;03m# Do not call functions when jit is used\u001b[39;00m\n\u001b[1;32m   1132\u001b[0m full_backward_hooks, non_full_backward_hooks \u001b[38;5;241m=\u001b[39m [], []\n",
      "File \u001b[0;32m~/envs/malnis/lib/python3.8/site-packages/torch/nn/modules/linear.py:114\u001b[0m, in \u001b[0;36mLinear.forward\u001b[0;34m(self, input)\u001b[0m\n\u001b[1;32m    113\u001b[0m \u001b[38;5;28;01mdef\u001b[39;00m \u001b[38;5;21mforward\u001b[39m(\u001b[38;5;28mself\u001b[39m, \u001b[38;5;28minput\u001b[39m: Tensor) \u001b[38;5;241m-\u001b[39m\u001b[38;5;241m>\u001b[39m Tensor:\n\u001b[0;32m--> 114\u001b[0m     \u001b[38;5;28;01mreturn\u001b[39;00m \u001b[43mF\u001b[49m\u001b[38;5;241;43m.\u001b[39;49m\u001b[43mlinear\u001b[49m\u001b[43m(\u001b[49m\u001b[38;5;28;43minput\u001b[39;49m\u001b[43m,\u001b[49m\u001b[43m \u001b[49m\u001b[38;5;28;43mself\u001b[39;49m\u001b[38;5;241;43m.\u001b[39;49m\u001b[43mweight\u001b[49m\u001b[43m,\u001b[49m\u001b[43m \u001b[49m\u001b[38;5;28;43mself\u001b[39;49m\u001b[38;5;241;43m.\u001b[39;49m\u001b[43mbias\u001b[49m\u001b[43m)\u001b[49m\n",
      "\u001b[0;31mKeyboardInterrupt\u001b[0m: "
     ]
    }
   ],
   "source": [
    "clf.fit(X_train[:100], Y_train[:100], epochs = 100)"
   ]
  },
  {
   "cell_type": "code",
   "execution_count": 22,
   "id": "41794570",
   "metadata": {},
   "outputs": [
    {
     "data": {
      "text/plain": [
       "(torch.Size([5, 512, 1]),\n",
       " tensor(4.7537e-05, grad_fn=<MinBackward1>),\n",
       " tensor(0.2323, grad_fn=<MaxBackward1>))"
      ]
     },
     "execution_count": 22,
     "metadata": {},
     "output_type": "execute_result"
    }
   ],
   "source": [
    "test = clf(X_train[:5])\n",
    "test.shape, test.min(), test.max()"
   ]
  },
  {
   "cell_type": "code",
   "execution_count": null,
   "id": "2a2105bf",
   "metadata": {},
   "outputs": [],
   "source": []
  }
 ],
 "metadata": {
  "kernelspec": {
   "display_name": "Python 3 (ipykernel)",
   "language": "python",
   "name": "python3"
  },
  "language_info": {
   "codemirror_mode": {
    "name": "ipython",
    "version": 3
   },
   "file_extension": ".py",
   "mimetype": "text/x-python",
   "name": "python",
   "nbconvert_exporter": "python",
   "pygments_lexer": "ipython3",
   "version": "3.8.10"
  }
 },
 "nbformat": 4,
 "nbformat_minor": 5
}
