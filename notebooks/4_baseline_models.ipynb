{
 "cells": [
  {
   "cell_type": "code",
   "execution_count": 1,
   "id": "04306868",
   "metadata": {},
   "outputs": [
    {
     "name": "stderr",
     "output_type": "stream",
     "text": [
      "/home/jarobyte/envs/malnis/lib/python3.8/site-packages/huggingface_hub/snapshot_download.py:6: FutureWarning: snapshot_download.py has been made private and will no longer be available from version 0.11. Please use `from huggingface_hub import snapshot_download` to import the only public function in this module. Other members of the file may be changed without a deprecation notice.\n",
      "  warnings.warn(\n"
     ]
    }
   ],
   "source": [
    "import pandas as pd\n",
    "import numpy as np\n",
    "import matplotlib.pyplot as plt\n",
    "plt.style.use('seaborn-whitegrid')\n",
    "from sklearn.feature_extraction.text import TfidfVectorizer\n",
    "from tqdm.notebook import tqdm\n",
    "from nltk.tokenize import sent_tokenize\n",
    "from rouge import Rouge\n",
    "from sentence_transformers import SentenceTransformer"
   ]
  },
  {
   "cell_type": "code",
   "execution_count": 2,
   "id": "6e8f01e6",
   "metadata": {},
   "outputs": [],
   "source": [
    "def show(x):\n",
    "    print(x.shape)\n",
    "    return x.head()"
   ]
  },
  {
   "cell_type": "code",
   "execution_count": 3,
   "id": "1faf406c",
   "metadata": {},
   "outputs": [
    {
     "name": "stdout",
     "output_type": "stream",
     "text": [
      "(86, 4)\n"
     ]
    },
    {
     "data": {
      "text/html": [
       "<div>\n",
       "<style scoped>\n",
       "    .dataframe tbody tr th:only-of-type {\n",
       "        vertical-align: middle;\n",
       "    }\n",
       "\n",
       "    .dataframe tbody tr th {\n",
       "        vertical-align: top;\n",
       "    }\n",
       "\n",
       "    .dataframe thead th {\n",
       "        text-align: right;\n",
       "    }\n",
       "</style>\n",
       "<table border=\"1\" class=\"dataframe\">\n",
       "  <thead>\n",
       "    <tr style=\"text-align: right;\">\n",
       "      <th></th>\n",
       "      <th>reference_id</th>\n",
       "      <th>text</th>\n",
       "      <th>query</th>\n",
       "      <th>reference_summary</th>\n",
       "    </tr>\n",
       "    <tr>\n",
       "      <th>paper_id</th>\n",
       "      <th></th>\n",
       "      <th></th>\n",
       "      <th></th>\n",
       "      <th></th>\n",
       "    </tr>\n",
       "  </thead>\n",
       "  <tbody>\n",
       "    <tr>\n",
       "      <th>204</th>\n",
       "      <td>1</td>\n",
       "      <td>BERT fine-tuning; multi-document summarization...</td>\n",
       "      <td>We introduce a new language representation mod...</td>\n",
       "      <td>For instance, pre-trained sentence embedding m...</td>\n",
       "    </tr>\n",
       "    <tr>\n",
       "      <th>204</th>\n",
       "      <td>643</td>\n",
       "      <td>BERT fine-tuning; multi-document summarization...</td>\n",
       "      <td>Transfer and multi-task learning have traditio...</td>\n",
       "      <td>[45] have presented a joint many-task model wi...</td>\n",
       "    </tr>\n",
       "    <tr>\n",
       "      <th>204</th>\n",
       "      <td>233</td>\n",
       "      <td>BERT fine-tuning; multi-document summarization...</td>\n",
       "      <td>Bidirectional Encoder Representations from Tra...</td>\n",
       "      <td>Recently, Liu and Lapata [43] have developed a...</td>\n",
       "    </tr>\n",
       "    <tr>\n",
       "      <th>855</th>\n",
       "      <td>20</td>\n",
       "      <td>Text classification (Korde and Mahender, 2012;...</td>\n",
       "      <td>With the capability of modeling bidirectional ...</td>\n",
       "      <td>XLNet (Yang et al., 2019) learns bidirectional...</td>\n",
       "    </tr>\n",
       "    <tr>\n",
       "      <th>855</th>\n",
       "      <td>1751</td>\n",
       "      <td>Text classification (Korde and Mahender, 2012;...</td>\n",
       "      <td>Recently, pre-trained models have achieved sta...</td>\n",
       "      <td>0 (Sun et al., 2019) proposed a continual pret...</td>\n",
       "    </tr>\n",
       "  </tbody>\n",
       "</table>\n",
       "</div>"
      ],
      "text/plain": [
       "          reference_id                                               text  \\\n",
       "paper_id                                                                    \n",
       "204                  1  BERT fine-tuning; multi-document summarization...   \n",
       "204                643  BERT fine-tuning; multi-document summarization...   \n",
       "204                233  BERT fine-tuning; multi-document summarization...   \n",
       "855                 20  Text classification (Korde and Mahender, 2012;...   \n",
       "855               1751  Text classification (Korde and Mahender, 2012;...   \n",
       "\n",
       "                                                      query  \\\n",
       "paper_id                                                      \n",
       "204       We introduce a new language representation mod...   \n",
       "204       Transfer and multi-task learning have traditio...   \n",
       "204       Bidirectional Encoder Representations from Tra...   \n",
       "855       With the capability of modeling bidirectional ...   \n",
       "855       Recently, pre-trained models have achieved sta...   \n",
       "\n",
       "                                          reference_summary  \n",
       "paper_id                                                     \n",
       "204       For instance, pre-trained sentence embedding m...  \n",
       "204       [45] have presented a joint many-task model wi...  \n",
       "204       Recently, Liu and Lapata [43] have developed a...  \n",
       "855       XLNet (Yang et al., 2019) learns bidirectional...  \n",
       "855       0 (Sun et al., 2019) proposed a continual pret...  "
      ]
     },
     "execution_count": 3,
     "metadata": {},
     "output_type": "execute_result"
    }
   ],
   "source": [
    "data = pd.read_csv(\"../data/clean_examples.csv\", index_col = 0)\n",
    "show(data)"
   ]
  },
  {
   "cell_type": "code",
   "execution_count": 4,
   "id": "15eb78d5",
   "metadata": {},
   "outputs": [
    {
     "data": {
      "image/png": "[encoded data removed]",
      "text/plain": [
       "<Figure size 640x480 with 1 Axes>"
      ]
     },
     "metadata": {},
     "output_type": "display_data"
    }
   ],
   "source": [
    "data.text.map(lambda x: len(x.split(\" \"))).plot.hist()\n",
    "# t = plt.xticks()\n",
    "# # print(t)\n",
    "# plt.xticks(t[0], [f\"{x:,.0f}\" for x in t[0]])\n",
    "plt.xlabel(\"Text Length in Words\")\n",
    "plt.show()"
   ]
  },
  {
   "cell_type": "code",
   "execution_count": 5,
   "id": "14b49875",
   "metadata": {},
   "outputs": [
    {
     "data": {
      "text/plain": [
       "86"
      ]
     },
     "execution_count": 5,
     "metadata": {},
     "output_type": "execute_result"
    }
   ],
   "source": [
    "records = data.to_dict(\"records\")\n",
    "len(records)"
   ]
  },
  {
   "cell_type": "code",
   "execution_count": 6,
   "id": "b1b6381c",
   "metadata": {},
   "outputs": [
    {
     "data": {
      "text/plain": [
       "dict_keys(['reference_id', 'text', 'query', 'reference_summary'])"
      ]
     },
     "execution_count": 6,
     "metadata": {},
     "output_type": "execute_result"
    }
   ],
   "source": [
    "records[0].keys()"
   ]
  },
  {
   "cell_type": "code",
   "execution_count": 7,
   "id": "b8b2cd57",
   "metadata": {},
   "outputs": [],
   "source": [
    "results = {}"
   ]
  },
  {
   "cell_type": "markdown",
   "id": "0c64f084",
   "metadata": {},
   "source": [
    "# TFIDF words"
   ]
  },
  {
   "cell_type": "code",
   "execution_count": 8,
   "id": "7283e646",
   "metadata": {
    "scrolled": false
   },
   "outputs": [
    {
     "data": {
      "application/vnd.jupyter.widget-view+json": {
       "model_id": "50876e43b7c642fdbbaeba33131604d8",
       "version_major": 2,
       "version_minor": 0
      },
      "text/plain": [
       "  0%|          | 0/86 [00:00<?, ?it/s]"
      ]
     },
     "metadata": {},
     "output_type": "display_data"
    },
    {
     "name": "stdout",
     "output_type": "stream",
     "text": [
      "zero rate:         0.70\n",
      "mean f:            0.23\n",
      "mean precision:    0.28\n",
      "mean recall:       0.20\n"
     ]
    }
   ],
   "source": [
    "rouge = Rouge()\n",
    "f = []\n",
    "p = []\n",
    "r = []\n",
    "for d in tqdm(records):\n",
    "    vectorizer = TfidfVectorizer()\n",
    "    sentences = sent_tokenize(d[\"text\"])\n",
    "#     print(len(sentences))\n",
    "    features = vectorizer.fit_transform(sentences)\n",
    "#     print(features.shape)\n",
    "    query_emb = vectorizer.transform([d[\"query\"]])\n",
    "#     print(query_emb.shape)\n",
    "    relevant = (query_emb @ features.T).toarray().squeeze()\n",
    "#     print(relevant.shape)\n",
    "    retrieved = np.array(sentences)[relevant > 0.5]\n",
    "    hypothesis = \" \".join(retrieved)\n",
    "    if len(retrieved) > 0:\n",
    "        scores = rouge.get_scores(\n",
    "            refs = d[\"reference_summary\"], \n",
    "            hyps = hypothesis\n",
    "        )\n",
    "        s = scores[0][\"rouge-1\"]\n",
    "#         print(s)\n",
    "        f.append(s[\"f\"])\n",
    "        p.append(s[\"p\"])\n",
    "        r.append(s[\"r\"])\n",
    "    else:\n",
    "        f.append(0)\n",
    "        p.append(0)\n",
    "        r.append(0)\n",
    "#         print(None)\n",
    "#     print(\"Query:\")\n",
    "#     print(d[\"query\"])\n",
    "#     print(\"Reference:\")\n",
    "#     print(d[\"reference\"])\n",
    "#     print(\"Hypothesis:\")\n",
    "#     print(hypothesis)\n",
    "    \n",
    "#     print()\n",
    "print(f\"zero rate:         {np.mean([x == 0 for x in f]):.2f}\")\n",
    "print(f\"mean f:            {np.mean(f):.2f}\")\n",
    "print(f\"mean precision:    {np.mean(p):.2f}\")\n",
    "print(f\"mean recall:       {np.mean(r):.2f}\")\n",
    "\n",
    "results[\"tfidf_words\"] = dict(\n",
    "    zero_rate = np.mean([x == 0 for x in f]),\n",
    "    f_measure = np.mean(f),\n",
    "    precision = np.mean(p),\n",
    "    recall = np.mean(r)\n",
    ")\n",
    "\n",
    "# print(results)"
   ]
  },
  {
   "cell_type": "markdown",
   "id": "6d81fd1c",
   "metadata": {},
   "source": [
    "# TFIDF chars"
   ]
  },
  {
   "cell_type": "code",
   "execution_count": 9,
   "id": "44e23eec",
   "metadata": {
    "scrolled": false
   },
   "outputs": [
    {
     "data": {
      "application/vnd.jupyter.widget-view+json": {
       "model_id": "829072b8e28c4359b77546994c0c9136",
       "version_major": 2,
       "version_minor": 0
      },
      "text/plain": [
       "  0%|          | 0/86 [00:00<?, ?it/s]"
      ]
     },
     "metadata": {},
     "output_type": "display_data"
    },
    {
     "name": "stdout",
     "output_type": "stream",
     "text": [
      "zero rate:         0.63\n",
      "mean f:            0.26\n",
      "mean precision:    0.33\n",
      "mean recall:       0.24\n"
     ]
    }
   ],
   "source": [
    "rouge = Rouge()\n",
    "f = []\n",
    "p = []\n",
    "r = []\n",
    "for d in tqdm(records):\n",
    "    vectorizer = TfidfVectorizer(\n",
    "        analyzer = \"char\",\n",
    "        ngram_range = (3, 3)\n",
    "    )\n",
    "    sentences = sent_tokenize(d[\"text\"])\n",
    "#     print(len(sentences))\n",
    "    features = vectorizer.fit_transform(sentences)\n",
    "#     print(features.shape)\n",
    "    query_emb = vectorizer.transform([d[\"query\"]])\n",
    "#     print(query_emb.shape)\n",
    "    relevant = (query_emb @ features.T).toarray().squeeze()\n",
    "#     print(relevant.shape)\n",
    "    retrieved = np.array(sentences)[relevant > 0.5]\n",
    "    hypothesis = \" \".join(retrieved)\n",
    "    if len(retrieved) > 0:\n",
    "        scores = rouge.get_scores(\n",
    "            refs = d[\"reference_summary\"], \n",
    "            hyps = hypothesis\n",
    "        )\n",
    "        s = scores[0][\"rouge-1\"]\n",
    "#         print(s)\n",
    "        f.append(s[\"f\"])\n",
    "        p.append(s[\"p\"])\n",
    "        r.append(s[\"r\"])\n",
    "    else:\n",
    "        f.append(0)\n",
    "        p.append(0)\n",
    "        r.append(0)\n",
    "#         print(None)\n",
    "#     print(\"Query:\")\n",
    "#     print(d[\"query\"])\n",
    "#     print(\"Reference:\")\n",
    "#     print(d[\"reference\"])\n",
    "#     print(\"Hypothesis:\")\n",
    "#     print(hypothesis)\n",
    "    \n",
    "#     print()\n",
    "print(f\"zero rate:         {np.mean([x == 0 for x in f]):.2f}\")\n",
    "print(f\"mean f:            {np.mean(f):.2f}\")\n",
    "print(f\"mean precision:    {np.mean(p):.2f}\")\n",
    "print(f\"mean recall:       {np.mean(r):.2f}\")\n",
    "\n",
    "results[\"tfidf_chars\"] = dict(\n",
    "    zero_rate = np.mean([x == 0 for x in f]),\n",
    "    f_measure = np.mean(f),\n",
    "    precision = np.mean(p),\n",
    "    recall = np.mean(r)\n",
    ")\n",
    "\n",
    "# print(results)"
   ]
  },
  {
   "cell_type": "markdown",
   "id": "c4c72a37",
   "metadata": {},
   "source": [
    "# Sentence-BERT"
   ]
  },
  {
   "cell_type": "code",
   "execution_count": 10,
   "id": "89500a07",
   "metadata": {},
   "outputs": [],
   "source": [
    "rouge = Rouge()\n",
    "f = []\n",
    "p = []\n",
    "r = []"
   ]
  },
  {
   "cell_type": "code",
   "execution_count": 11,
   "id": "ee13a430",
   "metadata": {},
   "outputs": [
    {
     "name": "stdout",
     "output_type": "stream",
     "text": [
      "\u001b[0m\u001b[38;5;33m1_Pooling\u001b[0m/                         README.md\r\n",
      "\u001b[38;5;33m2_Normalize\u001b[0m/                       sentence_bert_config.json\r\n",
      "config.json                        special_tokens_map.json\r\n",
      "config_sentence_transformers.json  tokenizer_config.json\r\n",
      "modules.json                       tokenizer.json\r\n",
      "pytorch_model.bin                  vocab.txt\r\n"
     ]
    }
   ],
   "source": [
    "ls ../assets"
   ]
  },
  {
   "cell_type": "code",
   "execution_count": 12,
   "id": "feddb9e6",
   "metadata": {},
   "outputs": [
    {
     "name": "stdout",
     "output_type": "stream",
     "text": [
      "\u001b[0m\u001b[38;5;33m1_Pooling\u001b[0m/                         README.md\r\n",
      "\u001b[38;5;33m2_Normalize\u001b[0m/                       sentence_bert_config.json\r\n",
      "config.json                        special_tokens_map.json\r\n",
      "config_sentence_transformers.json  tokenizer_config.json\r\n",
      "modules.json                       tokenizer.json\r\n",
      "pytorch_model.bin                  vocab.txt\r\n"
     ]
    }
   ],
   "source": [
    "ls sbert"
   ]
  },
  {
   "cell_type": "code",
   "execution_count": 13,
   "id": "b82754c3",
   "metadata": {},
   "outputs": [
    {
     "data": {
      "text/plain": [
       "SentenceTransformer(\n",
       "  (0): Transformer({'max_seq_length': 256, 'do_lower_case': False}) with Transformer model: BertModel \n",
       "  (1): Pooling({'word_embedding_dimension': 384, 'pooling_mode_cls_token': False, 'pooling_mode_mean_tokens': True, 'pooling_mode_max_tokens': False, 'pooling_mode_mean_sqrt_len_tokens': False})\n",
       "  (2): Normalize()\n",
       ")"
      ]
     },
     "execution_count": 13,
     "metadata": {},
     "output_type": "execute_result"
    }
   ],
   "source": [
    "model = SentenceTransformer(\n",
    "    \"sbert\"\n",
    "#     'all-MiniLM-L6-v2', \n",
    "#     cache_folder = \"../assets\"\n",
    "#     \"../cache/huggingface/transformers/\"\n",
    "#     cache_folder = \"../cache/huggingface/transformers\"\n",
    ")\n",
    "model"
   ]
  },
  {
   "cell_type": "code",
   "execution_count": 14,
   "id": "08a3a6a4",
   "metadata": {
    "scrolled": false
   },
   "outputs": [
    {
     "data": {
      "application/vnd.jupyter.widget-view+json": {
       "model_id": "deb6d2d7fabe49af97f2c177f709fb3b",
       "version_major": 2,
       "version_minor": 0
      },
      "text/plain": [
       "  0%|          | 0/86 [00:00<?, ?it/s]"
      ]
     },
     "metadata": {},
     "output_type": "display_data"
    },
    {
     "name": "stdout",
     "output_type": "stream",
     "text": [
      "zero rate:         0.00\n",
      "mean f:            0.32\n",
      "mean precision:    0.23\n",
      "mean recall:       0.80\n"
     ]
    }
   ],
   "source": [
    "for d in tqdm(records):\n",
    "#     vectorizer = TfidfVectorizer()\n",
    "    sentences = sent_tokenize(d[\"text\"])\n",
    "#     print(len(sentences))\n",
    "#     features = vectorizer.fit_transform(sentences)\n",
    "#     print(features.shape)\n",
    "#     query_emb = vectorizer.transform([d[\"query\"]])\n",
    "#     print(query_emb.shape)\n",
    "    features = model.encode(sentences)\n",
    "    query_emb = model.encode([d[\"query\"]])\n",
    "    relevant = (query_emb @ features.T).squeeze()\n",
    "#     print(relevant.shape)\n",
    "    retrieved = np.array(sentences)[relevant > 0.5]\n",
    "    hypothesis = \" \".join(retrieved)\n",
    "    if len(retrieved) > 0:\n",
    "        scores = rouge.get_scores(\n",
    "            refs = d[\"reference_summary\"], \n",
    "            hyps = hypothesis\n",
    "        )\n",
    "        s = scores[0][\"rouge-1\"]\n",
    "#         print(s)\n",
    "        f.append(s[\"f\"])\n",
    "        p.append(s[\"p\"])\n",
    "        r.append(s[\"r\"])\n",
    "    else:\n",
    "        f.append(0)\n",
    "        p.append(0)\n",
    "        r.append(0)\n",
    "#         print(None)\n",
    "#     print(\"Query:\")\n",
    "#     print(d[\"query\"])\n",
    "#     print(\"Reference:\")\n",
    "#     print(d[\"reference\"])\n",
    "#     print(\"Hypothesis:\")\n",
    "#     print(hypothesis)\n",
    "    \n",
    "#     print()\n",
    "print(f\"zero rate:         {np.mean([x == 0 for x in f]):.2f}\")\n",
    "print(f\"mean f:            {np.mean(f):.2f}\")\n",
    "print(f\"mean precision:    {np.mean(p):.2f}\")\n",
    "print(f\"mean recall:       {np.mean(r):.2f}\")\n",
    "\n",
    "results[\"sentence_bert\"] = dict(\n",
    "    zero_rate = np.mean([x == 0 for x in f]),\n",
    "    f_measure = np.mean(f),\n",
    "    precision = np.mean(p),\n",
    "    recall = np.mean(r)\n",
    ")\n",
    "\n",
    "# print(results)"
   ]
  },
  {
   "cell_type": "code",
   "execution_count": 15,
   "id": "944c9bce",
   "metadata": {},
   "outputs": [
    {
     "data": {
      "text/html": [
       "<div>\n",
       "<style scoped>\n",
       "    .dataframe tbody tr th:only-of-type {\n",
       "        vertical-align: middle;\n",
       "    }\n",
       "\n",
       "    .dataframe tbody tr th {\n",
       "        vertical-align: top;\n",
       "    }\n",
       "\n",
       "    .dataframe thead th {\n",
       "        text-align: right;\n",
       "    }\n",
       "</style>\n",
       "<table border=\"1\" class=\"dataframe\">\n",
       "  <thead>\n",
       "    <tr style=\"text-align: right;\">\n",
       "      <th></th>\n",
       "      <th>zero_rate</th>\n",
       "      <th>f_measure</th>\n",
       "      <th>precision</th>\n",
       "      <th>recall</th>\n",
       "    </tr>\n",
       "  </thead>\n",
       "  <tbody>\n",
       "    <tr>\n",
       "      <th>tfidf_words</th>\n",
       "      <td>0.70</td>\n",
       "      <td>0.23</td>\n",
       "      <td>0.28</td>\n",
       "      <td>0.20</td>\n",
       "    </tr>\n",
       "    <tr>\n",
       "      <th>tfidf_chars</th>\n",
       "      <td>0.63</td>\n",
       "      <td>0.26</td>\n",
       "      <td>0.33</td>\n",
       "      <td>0.24</td>\n",
       "    </tr>\n",
       "    <tr>\n",
       "      <th>sentence_bert</th>\n",
       "      <td>0.00</td>\n",
       "      <td>0.32</td>\n",
       "      <td>0.23</td>\n",
       "      <td>0.80</td>\n",
       "    </tr>\n",
       "  </tbody>\n",
       "</table>\n",
       "</div>"
      ],
      "text/plain": [
       "               zero_rate  f_measure  precision  recall\n",
       "tfidf_words         0.70       0.23       0.28    0.20\n",
       "tfidf_chars         0.63       0.26       0.33    0.24\n",
       "sentence_bert       0.00       0.32       0.23    0.80"
      ]
     },
     "execution_count": 15,
     "metadata": {},
     "output_type": "execute_result"
    }
   ],
   "source": [
    "pd.DataFrame(results).T.round(2)"
   ]
  },
  {
   "cell_type": "code",
   "execution_count": null,
   "id": "9842421c",
   "metadata": {},
   "outputs": [],
   "source": []
  }
 ],
 "metadata": {
  "kernelspec": {
   "display_name": "Python 3 (ipykernel)",
   "language": "python",
   "name": "python3"
  },
  "language_info": {
   "codemirror_mode": {
    "name": "ipython",
    "version": 3
   },
   "file_extension": ".py",
   "mimetype": "text/x-python",
   "name": "python",
   "nbconvert_exporter": "python",
   "pygments_lexer": "ipython3",
   "version": "3.8.10"
  }
 },
 "nbformat": 4,
 "nbformat_minor": 5
}
