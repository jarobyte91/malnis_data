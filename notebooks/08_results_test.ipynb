{
 "cells": [
  {
   "cell_type": "code",
   "execution_count": 57,
   "id": "364064ed",
   "metadata": {},
   "outputs": [],
   "source": [
    "import numpy as np\n",
    "import pandas as pd\n",
    "import matplotlib.pyplot as plt\n",
    "import os\n",
    "from sklearn.metrics import average_precision_score, roc_auc_score\n",
    "from malnis import show\n",
    "import torch\n",
    "import malnis\n",
    "import pickle\n",
    "from sklearn.feature_extraction.text import TfidfVectorizer\n",
    "# plt.style.use('seaborn-whitegrid')\n",
    "import seaborn as sns\n",
    "sns.set(style = \"whitegrid\")\n",
    "from itertools import accumulate\n",
    "from tqdm.notebook import tqdm"
   ]
  },
  {
   "cell_type": "markdown",
   "id": "fafcc7d4",
   "metadata": {},
   "source": [
    "# classical models"
   ]
  },
  {
   "cell_type": "code",
   "execution_count": 2,
   "id": "bf0a623d",
   "metadata": {},
   "outputs": [],
   "source": [
    "data_folder = \"/home/jarobyte/scratch/malnis_dataset/data/\""
   ]
  },
  {
   "cell_type": "code",
   "execution_count": 3,
   "id": "1cdb4723",
   "metadata": {},
   "outputs": [
    {
     "data": {
      "text/plain": [
       "4"
      ]
     },
     "execution_count": 3,
     "metadata": {},
     "output_type": "execute_result"
    }
   ],
   "source": [
    "names = os.listdir(data_folder + \"classical_models_test\")\n",
    "len(names)"
   ]
  },
  {
   "cell_type": "code",
   "execution_count": 4,
   "id": "71048590",
   "metadata": {},
   "outputs": [
    {
     "data": {
      "text/plain": [
       "4"
      ]
     },
     "execution_count": 4,
     "metadata": {},
     "output_type": "execute_result"
    }
   ],
   "source": [
    "predictions = [np.load(data_folder + \"classical_models_test/\" + m) for m in names]\n",
    "len(predictions)"
   ]
  },
  {
   "cell_type": "markdown",
   "id": "194c24c9",
   "metadata": {},
   "source": [
    "# data"
   ]
  },
  {
   "cell_type": "code",
   "execution_count": 5,
   "id": "0f25c02f",
   "metadata": {},
   "outputs": [
    {
     "data": {
      "text/plain": [
       "torch.Size([897, 512, 768])"
      ]
     },
     "execution_count": 5,
     "metadata": {},
     "output_type": "execute_result"
    }
   ],
   "source": [
    "X_sbert = torch.tensor(np.load(data_folder + \"embeddings/sbert/X_test.npy\")).cuda()\n",
    "X_sbert.shape"
   ]
  },
  {
   "cell_type": "code",
   "execution_count": 6,
   "id": "b21a01cc",
   "metadata": {},
   "outputs": [
    {
     "data": {
      "text/plain": [
       "torch.Size([897, 512, 1536])"
      ]
     },
     "execution_count": 6,
     "metadata": {},
     "output_type": "execute_result"
    }
   ],
   "source": [
    "X_specter = torch.tensor(np.load(data_folder + \"embeddings/specter/X_test.npy\")).cuda()\n",
    "X_specter.shape"
   ]
  },
  {
   "cell_type": "code",
   "execution_count": 7,
   "id": "8fcccddf",
   "metadata": {},
   "outputs": [
    {
     "name": "stdout",
     "output_type": "stream",
     "text": [
      "train (7172, 9)\n",
      "train_targets (2089747,)\n"
     ]
    }
   ],
   "source": [
    "train = pd.read_pickle(\"/home/jarobyte/scratch/malnis_dataset/data/data_train.pkl\")\n",
    "\n",
    "train_targets = np.concatenate(train.relevance.to_list())\n",
    "print(\"train\", train.shape)\n",
    "print(\"train_targets\", train_targets.shape)"
   ]
  },
  {
   "cell_type": "code",
   "execution_count": 8,
   "id": "cbc4766e",
   "metadata": {},
   "outputs": [
    {
     "name": "stdout",
     "output_type": "stream",
     "text": [
      "test (897, 9)\n",
      "test_targets (261439,)\n"
     ]
    }
   ],
   "source": [
    "test = pd.read_pickle(\"/home/jarobyte/scratch/malnis_dataset/data/data_test.pkl\")\n",
    "\n",
    "test_targets = np.concatenate(test.relevance.to_list())\n",
    "print(\"test\", test.shape)\n",
    "print(\"test_targets\", test_targets.shape)"
   ]
  },
  {
   "cell_type": "markdown",
   "id": "573a6e58",
   "metadata": {},
   "source": [
    "# deep models"
   ]
  },
  {
   "cell_type": "code",
   "execution_count": 9,
   "id": "397f50fa",
   "metadata": {},
   "outputs": [],
   "source": [
    "# lstm_sbert = np.load(\"/home/jarobyte/scratch/malnis_dataset/lstm/sbert/predictions/13932670_9.npy\")\n",
    "# names.append(\"lstm_sbert.npy\")\n",
    "# predictions.append(lstm_sbert)"
   ]
  },
  {
   "cell_type": "code",
   "execution_count": 10,
   "id": "69117790",
   "metadata": {},
   "outputs": [
    {
     "name": "stdout",
     "output_type": "stream",
     "text": [
      "LSTM Classfier\n",
      "Parameters: 17,097,001\n"
     ]
    },
    {
     "data": {
      "text/plain": [
       "(5, 5)"
      ]
     },
     "execution_count": 10,
     "metadata": {},
     "output_type": "execute_result"
    }
   ],
   "source": [
    "lstm_sbert = malnis.models.LSTM(\n",
    "#     input_size = 1536,\n",
    "    hidden_size = 500,\n",
    "    num_layers = 3\n",
    ")\n",
    "lstm_sbert.load_state_dict(torch.load(\"/home/jarobyte/scratch/malnis_dataset/lstm/sbert/models/13932670_9.pt\"))\n",
    "lstm_sbert.cuda()\n",
    "lstm_sbert_preds = lstm_sbert.predict(X_sbert)\n",
    "lstm_sbert_preds = np.concatenate(\n",
    "    [p[:len(l)] for p, l in zip(lstm_sbert_preds, test.relevance)]\n",
    ")\n",
    "# lstm_sbert_preds.shape\n",
    "names.append(\"lstm_sbert.npy\")\n",
    "predictions.append(lstm_sbert_preds)\n",
    "len(names), len(predictions)"
   ]
  },
  {
   "cell_type": "code",
   "execution_count": 11,
   "id": "42a08e40",
   "metadata": {},
   "outputs": [],
   "source": [
    "# lstm_specter = np.load(\"/home/jarobyte/scratch/malnis_dataset/lstm/specter/predictions/13925873_9.npy\")\n",
    "# names.append(\"lstm_specter.npy\")\n",
    "# predictions.append(lstm_specter)"
   ]
  },
  {
   "cell_type": "code",
   "execution_count": 12,
   "id": "c0a5faf7",
   "metadata": {},
   "outputs": [
    {
     "name": "stdout",
     "output_type": "stream",
     "text": [
      "LSTM Classfier\n",
      "Parameters: 8,153,001\n"
     ]
    },
    {
     "data": {
      "text/plain": [
       "(6, 6)"
      ]
     },
     "execution_count": 12,
     "metadata": {},
     "output_type": "execute_result"
    }
   ],
   "source": [
    "lstm_specter = malnis.models.LSTM(\n",
    "    input_size = 1536,\n",
    "    hidden_size = 500,\n",
    "    num_layers = 1\n",
    ")\n",
    "lstm_specter.load_state_dict(torch.load(\"/home/jarobyte/scratch/malnis_dataset/lstm/specter/models/13925873_9.pt\"))\n",
    "lstm_specter.cuda()\n",
    "lstm_specter_preds = lstm_specter.predict(X_specter)\n",
    "lstm_specter_preds = np.concatenate(\n",
    "    [p[:len(l)] for p, l in zip(lstm_specter_preds, test.relevance)]\n",
    ")\n",
    "names.append(\"lstm_specter.npy\")\n",
    "predictions.append(lstm_specter_preds)\n",
    "len(names), len(predictions)"
   ]
  },
  {
   "cell_type": "code",
   "execution_count": 13,
   "id": "6a7634dc",
   "metadata": {},
   "outputs": [],
   "source": [
    "# transformer_sbert = np.load(\"/home/jarobyte/scratch/malnis_dataset/transformer/sbert/predictions/13932680_10.npy\")\n",
    "# names.append(\"transformer_sbert.npy\")\n",
    "# predictions.append(transformer_sbert)"
   ]
  },
  {
   "cell_type": "code",
   "execution_count": 14,
   "id": "189ada18",
   "metadata": {},
   "outputs": [
    {
     "name": "stdout",
     "output_type": "stream",
     "text": [
      "Transformer Classfier\n",
      "Parameters: 11,395,817\n"
     ]
    },
    {
     "data": {
      "text/plain": [
       "(7, 7)"
      ]
     },
     "execution_count": 14,
     "metadata": {},
     "output_type": "execute_result"
    }
   ],
   "source": [
    "transformer_sbert = malnis.models.Transformer(\n",
    "    dim_feedforward = 250,\n",
    "    attention_heads = 4,\n",
    "    num_layers = 3\n",
    ")\n",
    "transformer_sbert.load_state_dict(\n",
    "    torch.load(\"/home/jarobyte/scratch/malnis_dataset/transformer/sbert/models/13932680_10.pt\")\n",
    ")\n",
    "transformer_sbert.cuda()\n",
    "transformer_sbert_preds = transformer_sbert.predict(X_sbert)\n",
    "transformer_sbert_preds = np.concatenate(\n",
    "    [p[:len(l)] for p, l in zip(transformer_sbert_preds, test.relevance)]\n",
    ")\n",
    "names.append(\"transformer_sbert.npy\")\n",
    "predictions.append(transformer_sbert_preds)\n",
    "len(names), len(predictions)"
   ]
  },
  {
   "cell_type": "code",
   "execution_count": 15,
   "id": "df8e42f5",
   "metadata": {},
   "outputs": [],
   "source": [
    "# transformer_specter = np.load(\"/home/jarobyte/scratch/malnis_dataset/transformer/specter/predictions/14158104_4.npy\")\n",
    "# names.append(\"transformer_specter.npy\")\n",
    "# predictions.append(transformer_specter)"
   ]
  },
  {
   "cell_type": "code",
   "execution_count": 16,
   "id": "aa7d6f01",
   "metadata": {},
   "outputs": [
    {
     "name": "stdout",
     "output_type": "stream",
     "text": [
      "Transformer Classfier\n",
      "Parameters: 42,894,201\n"
     ]
    },
    {
     "data": {
      "text/plain": [
       "(8, 8)"
      ]
     },
     "execution_count": 16,
     "metadata": {},
     "output_type": "execute_result"
    }
   ],
   "source": [
    "transformer_specter = malnis.models.Transformer(\n",
    "    dim_feedforward = 350,\n",
    "    attention_heads = 4,\n",
    "    num_layers = 3,\n",
    "    d_model = 1536\n",
    ")\n",
    "transformer_specter.load_state_dict(\n",
    "    torch.load(\"/home/jarobyte/scratch/malnis_dataset/transformer/specter/models/14158104_4.pt\")\n",
    ")\n",
    "transformer_specter.cuda()\n",
    "transformer_specter_preds = transformer_specter.predict(X_specter)\n",
    "transformer_specter_preds = np.concatenate(\n",
    "    [p[:len(l)] for p, l in zip(transformer_specter_preds, test.relevance)]\n",
    ")\n",
    "names.append(\"transformer_specter.npy\")\n",
    "predictions.append(transformer_specter_preds)\n",
    "len(names), len(predictions)"
   ]
  },
  {
   "cell_type": "code",
   "execution_count": 17,
   "id": "31293212",
   "metadata": {},
   "outputs": [],
   "source": [
    "# mlp_sbert = np.load(\"/home/jarobyte/scratch/malnis_dataset/mlp_pytorch/sbert/predictions/14628727_2.npy\")\n",
    "# names.append(\"mlp_sbert.npy\")\n",
    "# predictions.append(mlp_sbert)"
   ]
  },
  {
   "cell_type": "code",
   "execution_count": 18,
   "id": "d4e058bc",
   "metadata": {},
   "outputs": [
    {
     "name": "stdout",
     "output_type": "stream",
     "text": [
      "MLP Classfier\n",
      "Parameters: 501,901\n"
     ]
    },
    {
     "data": {
      "text/plain": [
       "(9, 9)"
      ]
     },
     "execution_count": 18,
     "metadata": {},
     "output_type": "execute_result"
    }
   ],
   "source": [
    "mlp_sbert = malnis.models.MLP(\n",
    "    hidden_size = 300,\n",
    "#     attention_heads = 4,\n",
    "    num_layers = 3,\n",
    "#     d_model = 1536\n",
    ")\n",
    "mlp_sbert.load_state_dict(\n",
    "    torch.load(\"/home/jarobyte/scratch/malnis_dataset/mlp_pytorch/sbert/models/14628727_2.pt\")\n",
    ")\n",
    "mlp_sbert.cuda()\n",
    "mlp_sbert_preds = mlp_sbert.predict(X_sbert)\n",
    "mlp_sbert_preds = np.concatenate(\n",
    "    [p[:len(l)] for p, l in zip(mlp_sbert_preds, test.relevance)]\n",
    ")\n",
    "names.append(\"mlp_sbert.npy\")\n",
    "predictions.append(mlp_sbert_preds)\n",
    "len(names), len(predictions)"
   ]
  },
  {
   "cell_type": "code",
   "execution_count": 19,
   "id": "51466042",
   "metadata": {},
   "outputs": [],
   "source": [
    "# mlp_specter = np.load(\"/home/jarobyte/scratch/malnis_dataset/mlp_pytorch/specter/predictions/14678619_2.npy\")\n",
    "# names.append(\"mlp_specter.npy\")\n",
    "# predictions.append(mlp_specter)"
   ]
  },
  {
   "cell_type": "code",
   "execution_count": 20,
   "id": "3ef51a8c",
   "metadata": {},
   "outputs": [
    {
     "name": "stdout",
     "output_type": "stream",
     "text": [
      "MLP Classfier\n",
      "Parameters: 1,503,901\n"
     ]
    },
    {
     "data": {
      "text/plain": [
       "(10, 10)"
      ]
     },
     "execution_count": 20,
     "metadata": {},
     "output_type": "execute_result"
    }
   ],
   "source": [
    "mlp_specter = malnis.models.MLP(\n",
    "    hidden_size = 450,\n",
    "#     attention_heads = 4,\n",
    "    num_layers = 4,\n",
    "    input_size = 1536\n",
    ")\n",
    "mlp_specter.load_state_dict(\n",
    "    torch.load(\"/home/jarobyte/scratch/malnis_dataset/mlp_pytorch/specter/models/14678619_2.pt\")\n",
    ")\n",
    "mlp_specter.cuda()\n",
    "mlp_specter_preds = mlp_specter.predict(X_specter)\n",
    "mlp_specter_preds = np.concatenate(\n",
    "    [p[:len(l)] for p, l in zip(mlp_specter_preds, test.relevance)]\n",
    ")\n",
    "names.append(\"mlp_specter.npy\")\n",
    "predictions.append(mlp_specter_preds)\n",
    "len(names), len(predictions)"
   ]
  },
  {
   "cell_type": "markdown",
   "id": "a84f774a",
   "metadata": {},
   "source": [
    "## mlp words"
   ]
  },
  {
   "cell_type": "code",
   "execution_count": 21,
   "id": "aff02c8c",
   "metadata": {},
   "outputs": [],
   "source": [
    "with open(\"/home/jarobyte/scratch/malnis_dataset/mlp_tfidf/words/models/15010241_7.pkl\", \"rb\") as file:\n",
    "    mlp_words = pickle.load(file)"
   ]
  },
  {
   "cell_type": "code",
   "execution_count": 22,
   "id": "7a729e64",
   "metadata": {},
   "outputs": [
    {
     "name": "stdout",
     "output_type": "stream",
     "text": [
      "Vectorizer: TfidfVectorizer()\n"
     ]
    }
   ],
   "source": [
    "corpus = train.sentences.sum()\n",
    "vectorizer = TfidfVectorizer(\n",
    "    analyzer = \"word\",\n",
    "    ngram_range = (1, 1)\n",
    ")\n",
    "print(\"Vectorizer:\", vectorizer)"
   ]
  },
  {
   "cell_type": "code",
   "execution_count": 23,
   "id": "a183119f",
   "metadata": {},
   "outputs": [
    {
     "data": {
      "text/html": [
       "<style>#sk-container-id-1 {color: black;background-color: white;}#sk-container-id-1 pre{padding: 0;}#sk-container-id-1 div.sk-toggleable {background-color: white;}#sk-container-id-1 label.sk-toggleable__label {cursor: pointer;display: block;width: 100%;margin-bottom: 0;padding: 0.3em;box-sizing: border-box;text-align: center;}#sk-container-id-1 label.sk-toggleable__label-arrow:before {content: \"▸\";float: left;margin-right: 0.25em;color: #696969;}#sk-container-id-1 label.sk-toggleable__label-arrow:hover:before {color: black;}#sk-container-id-1 div.sk-estimator:hover label.sk-toggleable__label-arrow:before {color: black;}#sk-container-id-1 div.sk-toggleable__content {max-height: 0;max-width: 0;overflow: hidden;text-align: left;background-color: #f0f8ff;}#sk-container-id-1 div.sk-toggleable__content pre {margin: 0.2em;color: black;border-radius: 0.25em;background-color: #f0f8ff;}#sk-container-id-1 input.sk-toggleable__control:checked~div.sk-toggleable__content {max-height: 200px;max-width: 100%;overflow: auto;}#sk-container-id-1 input.sk-toggleable__control:checked~label.sk-toggleable__label-arrow:before {content: \"▾\";}#sk-container-id-1 div.sk-estimator input.sk-toggleable__control:checked~label.sk-toggleable__label {background-color: #d4ebff;}#sk-container-id-1 div.sk-label input.sk-toggleable__control:checked~label.sk-toggleable__label {background-color: #d4ebff;}#sk-container-id-1 input.sk-hidden--visually {border: 0;clip: rect(1px 1px 1px 1px);clip: rect(1px, 1px, 1px, 1px);height: 1px;margin: -1px;overflow: hidden;padding: 0;position: absolute;width: 1px;}#sk-container-id-1 div.sk-estimator {font-family: monospace;background-color: #f0f8ff;border: 1px dotted black;border-radius: 0.25em;box-sizing: border-box;margin-bottom: 0.5em;}#sk-container-id-1 div.sk-estimator:hover {background-color: #d4ebff;}#sk-container-id-1 div.sk-parallel-item::after {content: \"\";width: 100%;border-bottom: 1px solid gray;flex-grow: 1;}#sk-container-id-1 div.sk-label:hover label.sk-toggleable__label {background-color: #d4ebff;}#sk-container-id-1 div.sk-serial::before {content: \"\";position: absolute;border-left: 1px solid gray;box-sizing: border-box;top: 0;bottom: 0;left: 50%;z-index: 0;}#sk-container-id-1 div.sk-serial {display: flex;flex-direction: column;align-items: center;background-color: white;padding-right: 0.2em;padding-left: 0.2em;position: relative;}#sk-container-id-1 div.sk-item {position: relative;z-index: 1;}#sk-container-id-1 div.sk-parallel {display: flex;align-items: stretch;justify-content: center;background-color: white;position: relative;}#sk-container-id-1 div.sk-item::before, #sk-container-id-1 div.sk-parallel-item::before {content: \"\";position: absolute;border-left: 1px solid gray;box-sizing: border-box;top: 0;bottom: 0;left: 50%;z-index: -1;}#sk-container-id-1 div.sk-parallel-item {display: flex;flex-direction: column;z-index: 1;position: relative;background-color: white;}#sk-container-id-1 div.sk-parallel-item:first-child::after {align-self: flex-end;width: 50%;}#sk-container-id-1 div.sk-parallel-item:last-child::after {align-self: flex-start;width: 50%;}#sk-container-id-1 div.sk-parallel-item:only-child::after {width: 0;}#sk-container-id-1 div.sk-dashed-wrapped {border: 1px dashed gray;margin: 0 0.4em 0.5em 0.4em;box-sizing: border-box;padding-bottom: 0.4em;background-color: white;}#sk-container-id-1 div.sk-label label {font-family: monospace;font-weight: bold;display: inline-block;line-height: 1.2em;}#sk-container-id-1 div.sk-label-container {text-align: center;}#sk-container-id-1 div.sk-container {/* jupyter's `normalize.less` sets `[hidden] { display: none; }` but bootstrap.min.css set `[hidden] { display: none !important; }` so we also need the `!important` here to be able to override the default hidden behavior on the sphinx rendered scikit-learn.org. See: https://github.com/scikit-learn/scikit-learn/issues/21755 */display: inline-block !important;position: relative;}#sk-container-id-1 div.sk-text-repr-fallback {display: none;}</style><div id=\"sk-container-id-1\" class=\"sk-top-container\"><div class=\"sk-text-repr-fallback\"><pre>TfidfVectorizer()</pre><b>In a Jupyter environment, please rerun this cell to show the HTML representation or trust the notebook. <br />On GitHub, the HTML representation is unable to render, please try loading this page with nbviewer.org.</b></div><div class=\"sk-container\" hidden><div class=\"sk-item\"><div class=\"sk-estimator sk-toggleable\"><input class=\"sk-toggleable__control sk-hidden--visually\" id=\"sk-estimator-id-1\" type=\"checkbox\" checked><label for=\"sk-estimator-id-1\" class=\"sk-toggleable__label sk-toggleable__label-arrow\">TfidfVectorizer</label><div class=\"sk-toggleable__content\"><pre>TfidfVectorizer()</pre></div></div></div></div></div>"
      ],
      "text/plain": [
       "TfidfVectorizer()"
      ]
     },
     "execution_count": 23,
     "metadata": {},
     "output_type": "execute_result"
    }
   ],
   "source": [
    "# print(\"Examples:\", n)\n",
    "vectorizer.fit(corpus)\n",
    "# print(\"train_features:\", train_features.shape)"
   ]
  },
  {
   "cell_type": "code",
   "execution_count": 24,
   "id": "2852e40f",
   "metadata": {},
   "outputs": [],
   "source": [
    "# print(\"Fitting classfier...\")\n",
    "# X = train_features\n",
    "# Y = train_targets\n",
    "\n",
    "test_features = [vectorizer.transform(l) for l in test.sentences]\n",
    "test_preds = [mlp_words.predict_proba(f) for f in test_features]\n",
    "test_targets = np.concatenate(test.relevance.to_list())\n",
    "test_preds_flat = np.concatenate(test_preds)[:, 1]"
   ]
  },
  {
   "cell_type": "code",
   "execution_count": 25,
   "id": "4085f687",
   "metadata": {},
   "outputs": [],
   "source": [
    "names.append(\"mlp_words.npy\")\n",
    "predictions.append(test_preds_flat)"
   ]
  },
  {
   "cell_type": "code",
   "execution_count": 26,
   "id": "e71001e1",
   "metadata": {},
   "outputs": [
    {
     "data": {
      "text/plain": [
       "(11, 11)"
      ]
     },
     "execution_count": 26,
     "metadata": {},
     "output_type": "execute_result"
    }
   ],
   "source": [
    "len(names), len(predictions)"
   ]
  },
  {
   "cell_type": "markdown",
   "id": "36c9592b",
   "metadata": {},
   "source": [
    "## mlp chars"
   ]
  },
  {
   "cell_type": "code",
   "execution_count": 27,
   "id": "51b37c42",
   "metadata": {},
   "outputs": [],
   "source": [
    "with open(\"/home/jarobyte/scratch/malnis_dataset/mlp_tfidf/chars/models/14986643_2.pkl\", \"rb\") as file:\n",
    "    mlp_chars = pickle.load(file)"
   ]
  },
  {
   "cell_type": "code",
   "execution_count": 28,
   "id": "ff91dc2d",
   "metadata": {},
   "outputs": [
    {
     "name": "stdout",
     "output_type": "stream",
     "text": [
      "Vectorizer: TfidfVectorizer(analyzer='char', ngram_range=(3, 3))\n"
     ]
    }
   ],
   "source": [
    "# corpus = train.sentences.sum()\n",
    "vectorizer = TfidfVectorizer(\n",
    "    analyzer = \"char\",\n",
    "    ngram_range = (3, 3)\n",
    ")\n",
    "print(\"Vectorizer:\", vectorizer)"
   ]
  },
  {
   "cell_type": "code",
   "execution_count": 29,
   "id": "b74aa774",
   "metadata": {},
   "outputs": [
    {
     "data": {
      "text/html": [
       "<style>#sk-container-id-2 {color: black;background-color: white;}#sk-container-id-2 pre{padding: 0;}#sk-container-id-2 div.sk-toggleable {background-color: white;}#sk-container-id-2 label.sk-toggleable__label {cursor: pointer;display: block;width: 100%;margin-bottom: 0;padding: 0.3em;box-sizing: border-box;text-align: center;}#sk-container-id-2 label.sk-toggleable__label-arrow:before {content: \"▸\";float: left;margin-right: 0.25em;color: #696969;}#sk-container-id-2 label.sk-toggleable__label-arrow:hover:before {color: black;}#sk-container-id-2 div.sk-estimator:hover label.sk-toggleable__label-arrow:before {color: black;}#sk-container-id-2 div.sk-toggleable__content {max-height: 0;max-width: 0;overflow: hidden;text-align: left;background-color: #f0f8ff;}#sk-container-id-2 div.sk-toggleable__content pre {margin: 0.2em;color: black;border-radius: 0.25em;background-color: #f0f8ff;}#sk-container-id-2 input.sk-toggleable__control:checked~div.sk-toggleable__content {max-height: 200px;max-width: 100%;overflow: auto;}#sk-container-id-2 input.sk-toggleable__control:checked~label.sk-toggleable__label-arrow:before {content: \"▾\";}#sk-container-id-2 div.sk-estimator input.sk-toggleable__control:checked~label.sk-toggleable__label {background-color: #d4ebff;}#sk-container-id-2 div.sk-label input.sk-toggleable__control:checked~label.sk-toggleable__label {background-color: #d4ebff;}#sk-container-id-2 input.sk-hidden--visually {border: 0;clip: rect(1px 1px 1px 1px);clip: rect(1px, 1px, 1px, 1px);height: 1px;margin: -1px;overflow: hidden;padding: 0;position: absolute;width: 1px;}#sk-container-id-2 div.sk-estimator {font-family: monospace;background-color: #f0f8ff;border: 1px dotted black;border-radius: 0.25em;box-sizing: border-box;margin-bottom: 0.5em;}#sk-container-id-2 div.sk-estimator:hover {background-color: #d4ebff;}#sk-container-id-2 div.sk-parallel-item::after {content: \"\";width: 100%;border-bottom: 1px solid gray;flex-grow: 1;}#sk-container-id-2 div.sk-label:hover label.sk-toggleable__label {background-color: #d4ebff;}#sk-container-id-2 div.sk-serial::before {content: \"\";position: absolute;border-left: 1px solid gray;box-sizing: border-box;top: 0;bottom: 0;left: 50%;z-index: 0;}#sk-container-id-2 div.sk-serial {display: flex;flex-direction: column;align-items: center;background-color: white;padding-right: 0.2em;padding-left: 0.2em;position: relative;}#sk-container-id-2 div.sk-item {position: relative;z-index: 1;}#sk-container-id-2 div.sk-parallel {display: flex;align-items: stretch;justify-content: center;background-color: white;position: relative;}#sk-container-id-2 div.sk-item::before, #sk-container-id-2 div.sk-parallel-item::before {content: \"\";position: absolute;border-left: 1px solid gray;box-sizing: border-box;top: 0;bottom: 0;left: 50%;z-index: -1;}#sk-container-id-2 div.sk-parallel-item {display: flex;flex-direction: column;z-index: 1;position: relative;background-color: white;}#sk-container-id-2 div.sk-parallel-item:first-child::after {align-self: flex-end;width: 50%;}#sk-container-id-2 div.sk-parallel-item:last-child::after {align-self: flex-start;width: 50%;}#sk-container-id-2 div.sk-parallel-item:only-child::after {width: 0;}#sk-container-id-2 div.sk-dashed-wrapped {border: 1px dashed gray;margin: 0 0.4em 0.5em 0.4em;box-sizing: border-box;padding-bottom: 0.4em;background-color: white;}#sk-container-id-2 div.sk-label label {font-family: monospace;font-weight: bold;display: inline-block;line-height: 1.2em;}#sk-container-id-2 div.sk-label-container {text-align: center;}#sk-container-id-2 div.sk-container {/* jupyter's `normalize.less` sets `[hidden] { display: none; }` but bootstrap.min.css set `[hidden] { display: none !important; }` so we also need the `!important` here to be able to override the default hidden behavior on the sphinx rendered scikit-learn.org. See: https://github.com/scikit-learn/scikit-learn/issues/21755 */display: inline-block !important;position: relative;}#sk-container-id-2 div.sk-text-repr-fallback {display: none;}</style><div id=\"sk-container-id-2\" class=\"sk-top-container\"><div class=\"sk-text-repr-fallback\"><pre>TfidfVectorizer(analyzer=&#x27;char&#x27;, ngram_range=(3, 3))</pre><b>In a Jupyter environment, please rerun this cell to show the HTML representation or trust the notebook. <br />On GitHub, the HTML representation is unable to render, please try loading this page with nbviewer.org.</b></div><div class=\"sk-container\" hidden><div class=\"sk-item\"><div class=\"sk-estimator sk-toggleable\"><input class=\"sk-toggleable__control sk-hidden--visually\" id=\"sk-estimator-id-2\" type=\"checkbox\" checked><label for=\"sk-estimator-id-2\" class=\"sk-toggleable__label sk-toggleable__label-arrow\">TfidfVectorizer</label><div class=\"sk-toggleable__content\"><pre>TfidfVectorizer(analyzer=&#x27;char&#x27;, ngram_range=(3, 3))</pre></div></div></div></div></div>"
      ],
      "text/plain": [
       "TfidfVectorizer(analyzer='char', ngram_range=(3, 3))"
      ]
     },
     "execution_count": 29,
     "metadata": {},
     "output_type": "execute_result"
    }
   ],
   "source": [
    "# print(\"Examples:\", n)\n",
    "vectorizer.fit(corpus)\n",
    "# print(\"train_features:\", train_features.shape)"
   ]
  },
  {
   "cell_type": "code",
   "execution_count": 30,
   "id": "90fe9544",
   "metadata": {},
   "outputs": [],
   "source": [
    "# print(\"Fitting classfier...\")\n",
    "# X = train_features\n",
    "# Y = train_targets\n",
    "\n",
    "test_features = [vectorizer.transform(l) for l in test.sentences]\n",
    "test_preds = [mlp_chars.predict_proba(f) for f in test_features]\n",
    "test_targets = np.concatenate(test.relevance.to_list())\n",
    "test_preds_flat = np.concatenate(test_preds)[:, 1]"
   ]
  },
  {
   "cell_type": "code",
   "execution_count": 31,
   "id": "0116ad51",
   "metadata": {},
   "outputs": [],
   "source": [
    "names.append(\"mlp_chars.npy\")\n",
    "predictions.append(test_preds_flat)"
   ]
  },
  {
   "cell_type": "code",
   "execution_count": 32,
   "id": "a60bcbd9",
   "metadata": {},
   "outputs": [
    {
     "data": {
      "text/plain": [
       "(12, 12)"
      ]
     },
     "execution_count": 32,
     "metadata": {},
     "output_type": "execute_result"
    }
   ],
   "source": [
    "len(names), len(predictions)"
   ]
  },
  {
   "cell_type": "code",
   "execution_count": 33,
   "id": "2645336e",
   "metadata": {},
   "outputs": [
    {
     "data": {
      "text/plain": [
       "[(261439,),\n",
       " (261439,),\n",
       " (261439,),\n",
       " (261439,),\n",
       " (261439,),\n",
       " (261439,),\n",
       " (261439,),\n",
       " (261439,),\n",
       " (261439,),\n",
       " (261439,),\n",
       " (261439,),\n",
       " (261439,)]"
      ]
     },
     "execution_count": 33,
     "metadata": {},
     "output_type": "execute_result"
    }
   ],
   "source": [
    "[x.shape for x in predictions]"
   ]
  },
  {
   "cell_type": "code",
   "execution_count": 34,
   "id": "a2e95872",
   "metadata": {},
   "outputs": [
    {
     "data": {
      "text/plain": [
       "[0.0,\n",
       " 0.0,\n",
       " 0.0,\n",
       " 0.06455716,\n",
       " 5.39709e-37,\n",
       " 0.0,\n",
       " 1.8227209e-07,\n",
       " 1.1354432e-20,\n",
       " 0.00027344306,\n",
       " 7.147733e-06,\n",
       " 1.6760275991150592e-41,\n",
       " 1.391110881760358e-19]"
      ]
     },
     "execution_count": 34,
     "metadata": {},
     "output_type": "execute_result"
    }
   ],
   "source": [
    "[x.min() for x in predictions]"
   ]
  },
  {
   "cell_type": "code",
   "execution_count": 35,
   "id": "144b34ab",
   "metadata": {},
   "outputs": [
    {
     "data": {
      "text/plain": [
       "[0.728180912178179,\n",
       " 0.86291116,\n",
       " 0.7578950304924801,\n",
       " 0.9472242,\n",
       " 1.0,\n",
       " 1.0,\n",
       " 0.9999999,\n",
       " 1.0,\n",
       " 0.3858643,\n",
       " 0.3893571,\n",
       " 0.9420363719769442,\n",
       " 0.48493222346083753]"
      ]
     },
     "execution_count": 35,
     "metadata": {},
     "output_type": "execute_result"
    }
   ],
   "source": [
    "[x.max() for x in predictions]"
   ]
  },
  {
   "cell_type": "code",
   "execution_count": 103,
   "id": "b5cc8fd1",
   "metadata": {},
   "outputs": [
    {
     "data": {
      "text/plain": [
       "897"
      ]
     },
     "execution_count": 103,
     "metadata": {},
     "output_type": "execute_result"
    }
   ],
   "source": [
    "labels = test.relevance.to_list()\n",
    "len(labels)"
   ]
  },
  {
   "cell_type": "code",
   "execution_count": 104,
   "id": "62042315",
   "metadata": {},
   "outputs": [
    {
     "data": {
      "text/plain": [
       "897"
      ]
     },
     "execution_count": 104,
     "metadata": {},
     "output_type": "execute_result"
    }
   ],
   "source": [
    "labels_lens = [len(x) for x in labels]\n",
    "len(labels_lens)"
   ]
  },
  {
   "cell_type": "code",
   "execution_count": 105,
   "id": "3d9fb847",
   "metadata": {},
   "outputs": [
    {
     "data": {
      "text/plain": [
       "897"
      ]
     },
     "execution_count": 105,
     "metadata": {},
     "output_type": "execute_result"
    }
   ],
   "source": [
    "accum = list(accumulate(labels_lens))\n",
    "len(accum)"
   ]
  },
  {
   "cell_type": "code",
   "execution_count": 106,
   "id": "707e6219",
   "metadata": {},
   "outputs": [
    {
     "data": {
      "text/plain": [
       "897"
      ]
     },
     "execution_count": 106,
     "metadata": {},
     "output_type": "execute_result"
    }
   ],
   "source": [
    "idx = list(zip([0] + accum[:-1], accum))\n",
    "len(idx)"
   ]
  },
  {
   "cell_type": "code",
   "execution_count": 107,
   "id": "964bffe8",
   "metadata": {},
   "outputs": [],
   "source": [
    "def extract_original(flattened_preds):\n",
    "    return [flattened_preds[a:b] for a, b in idx]"
   ]
  },
  {
   "cell_type": "code",
   "execution_count": 122,
   "id": "a708edb4",
   "metadata": {},
   "outputs": [
    {
     "data": {
      "text/plain": [
       "12"
      ]
     },
     "execution_count": 122,
     "metadata": {},
     "output_type": "execute_result"
    }
   ],
   "source": [
    "original_predictions = [extract_original(p) for p in predictions]\n",
    "len(original_predictions)"
   ]
  },
  {
   "cell_type": "code",
   "execution_count": 123,
   "id": "b2d0b602",
   "metadata": {},
   "outputs": [
    {
     "data": {
      "application/vnd.jupyter.widget-view+json": {
       "model_id": "d15d84b93bc94ba0aa8a3319d24c7d4f",
       "version_major": 2,
       "version_minor": 0
      },
      "text/plain": [
       "  0%|          | 0/12 [00:00<?, ?it/s]"
      ]
     },
     "metadata": {},
     "output_type": "display_data"
    }
   ],
   "source": [
    "ap = []\n",
    "ap_std = []\n",
    "ra = []\n",
    "ra_std = []\n",
    "for p in tqdm(original_predictions):\n",
    "    a, r = list(zip(*[(average_precision_score(a, b), roc_auc_score(a, b)) for a, b in zip(labels, p)]))\n",
    "    ap.append(np.mean(a))\n",
    "    ap_std.append(2 * np.std(a) / np.sqrt(897))\n",
    "    ra.append(np.mean(r))\n",
    "    ra_std.append(2 * np.std(r) / np.sqrt(897))"
   ]
  },
  {
   "cell_type": "code",
   "execution_count": 137,
   "id": "0f570581",
   "metadata": {
    "scrolled": false
   },
   "outputs": [
    {
     "name": "stdout",
     "output_type": "stream",
     "text": [
      "(12, 6)\n"
     ]
    },
    {
     "data": {
      "text/html": [
       "<div>\n",
       "<style scoped>\n",
       "    .dataframe tbody tr th:only-of-type {\n",
       "        vertical-align: middle;\n",
       "    }\n",
       "\n",
       "    .dataframe tbody tr th {\n",
       "        vertical-align: top;\n",
       "    }\n",
       "\n",
       "    .dataframe thead th {\n",
       "        text-align: right;\n",
       "    }\n",
       "</style>\n",
       "<table border=\"1\" class=\"dataframe\">\n",
       "  <thead>\n",
       "    <tr style=\"text-align: right;\">\n",
       "      <th></th>\n",
       "      <th>global_ap</th>\n",
       "      <th>global_roc_auc</th>\n",
       "      <th>ap</th>\n",
       "      <th>ap_std</th>\n",
       "      <th>roc_auc</th>\n",
       "      <th>roc_auc_std</th>\n",
       "    </tr>\n",
       "    <tr>\n",
       "      <th>name</th>\n",
       "      <th></th>\n",
       "      <th></th>\n",
       "      <th></th>\n",
       "      <th></th>\n",
       "      <th></th>\n",
       "      <th></th>\n",
       "    </tr>\n",
       "  </thead>\n",
       "  <tbody>\n",
       "    <tr>\n",
       "      <th>TFIDF Words</th>\n",
       "      <td>0.129</td>\n",
       "      <td>0.775</td>\n",
       "      <td>0.197</td>\n",
       "      <td>0.008</td>\n",
       "      <td>0.765</td>\n",
       "      <td>0.006</td>\n",
       "    </tr>\n",
       "    <tr>\n",
       "      <th>MLP Chars</th>\n",
       "      <td>0.099</td>\n",
       "      <td>0.734</td>\n",
       "      <td>0.148</td>\n",
       "      <td>0.006</td>\n",
       "      <td>0.712</td>\n",
       "      <td>0.007</td>\n",
       "    </tr>\n",
       "    <tr>\n",
       "      <th>MLP Words</th>\n",
       "      <td>0.096</td>\n",
       "      <td>0.726</td>\n",
       "      <td>0.145</td>\n",
       "      <td>0.006</td>\n",
       "      <td>0.703</td>\n",
       "      <td>0.007</td>\n",
       "    </tr>\n",
       "    <tr>\n",
       "      <th>TFIDF Chars</th>\n",
       "      <td>0.092</td>\n",
       "      <td>0.712</td>\n",
       "      <td>0.152</td>\n",
       "      <td>0.007</td>\n",
       "      <td>0.701</td>\n",
       "      <td>0.006</td>\n",
       "    </tr>\n",
       "    <tr>\n",
       "      <th>LSTM SPECTER</th>\n",
       "      <td>0.179</td>\n",
       "      <td>0.708</td>\n",
       "      <td>0.208</td>\n",
       "      <td>0.018</td>\n",
       "      <td>0.691</td>\n",
       "      <td>0.009</td>\n",
       "    </tr>\n",
       "    <tr>\n",
       "      <th>Transformer SPECTER</th>\n",
       "      <td>0.130</td>\n",
       "      <td>0.681</td>\n",
       "      <td>0.193</td>\n",
       "      <td>0.017</td>\n",
       "      <td>0.685</td>\n",
       "      <td>0.010</td>\n",
       "    </tr>\n",
       "    <tr>\n",
       "      <th>LSTM SBERT</th>\n",
       "      <td>0.130</td>\n",
       "      <td>0.699</td>\n",
       "      <td>0.202</td>\n",
       "      <td>0.018</td>\n",
       "      <td>0.684</td>\n",
       "      <td>0.009</td>\n",
       "    </tr>\n",
       "    <tr>\n",
       "      <th>MLP SPECTER</th>\n",
       "      <td>0.071</td>\n",
       "      <td>0.693</td>\n",
       "      <td>0.115</td>\n",
       "      <td>0.005</td>\n",
       "      <td>0.678</td>\n",
       "      <td>0.006</td>\n",
       "    </tr>\n",
       "    <tr>\n",
       "      <th>MLP SBERT</th>\n",
       "      <td>0.060</td>\n",
       "      <td>0.660</td>\n",
       "      <td>0.103</td>\n",
       "      <td>0.005</td>\n",
       "      <td>0.654</td>\n",
       "      <td>0.007</td>\n",
       "    </tr>\n",
       "    <tr>\n",
       "      <th>SBERT</th>\n",
       "      <td>0.065</td>\n",
       "      <td>0.636</td>\n",
       "      <td>0.125</td>\n",
       "      <td>0.006</td>\n",
       "      <td>0.633</td>\n",
       "      <td>0.007</td>\n",
       "    </tr>\n",
       "    <tr>\n",
       "      <th>Transformer SBERT</th>\n",
       "      <td>0.131</td>\n",
       "      <td>0.648</td>\n",
       "      <td>0.160</td>\n",
       "      <td>0.016</td>\n",
       "      <td>0.628</td>\n",
       "      <td>0.010</td>\n",
       "    </tr>\n",
       "    <tr>\n",
       "      <th>SPECTER</th>\n",
       "      <td>0.051</td>\n",
       "      <td>0.579</td>\n",
       "      <td>0.114</td>\n",
       "      <td>0.006</td>\n",
       "      <td>0.600</td>\n",
       "      <td>0.008</td>\n",
       "    </tr>\n",
       "  </tbody>\n",
       "</table>\n",
       "</div>"
      ],
      "text/plain": [
       "                     global_ap  global_roc_auc     ap  ap_std  roc_auc  \\\n",
       "name                                                                     \n",
       "TFIDF Words              0.129           0.775  0.197   0.008    0.765   \n",
       "MLP Chars                0.099           0.734  0.148   0.006    0.712   \n",
       "MLP Words                0.096           0.726  0.145   0.006    0.703   \n",
       "TFIDF Chars              0.092           0.712  0.152   0.007    0.701   \n",
       "LSTM SPECTER             0.179           0.708  0.208   0.018    0.691   \n",
       "Transformer SPECTER      0.130           0.681  0.193   0.017    0.685   \n",
       "LSTM SBERT               0.130           0.699  0.202   0.018    0.684   \n",
       "MLP SPECTER              0.071           0.693  0.115   0.005    0.678   \n",
       "MLP SBERT                0.060           0.660  0.103   0.005    0.654   \n",
       "SBERT                    0.065           0.636  0.125   0.006    0.633   \n",
       "Transformer SBERT        0.131           0.648  0.160   0.016    0.628   \n",
       "SPECTER                  0.051           0.579  0.114   0.006    0.600   \n",
       "\n",
       "                     roc_auc_std  \n",
       "name                              \n",
       "TFIDF Words                0.006  \n",
       "MLP Chars                  0.007  \n",
       "MLP Words                  0.007  \n",
       "TFIDF Chars                0.006  \n",
       "LSTM SPECTER               0.009  \n",
       "Transformer SPECTER        0.010  \n",
       "LSTM SBERT                 0.009  \n",
       "MLP SPECTER                0.006  \n",
       "MLP SBERT                  0.007  \n",
       "SBERT                      0.007  \n",
       "Transformer SBERT          0.010  \n",
       "SPECTER                    0.008  "
      ]
     },
     "execution_count": 137,
     "metadata": {},
     "output_type": "execute_result"
    }
   ],
   "source": [
    "results = pd.DataFrame({\"name\":names})\\\n",
    ".assign(\n",
    "    name = lambda df: df.name.map(\n",
    "        lambda x: x[:-4].replace(\"_\", \" \")\\\n",
    "        .replace(\"tfidf\", \"TFIDF\")\\\n",
    "        .replace(\"lstm\", \"LSTM\")\\\n",
    "        .replace(\"transformer\", \"Transformer\")\\\n",
    "        .replace(\"sbert\", \"SBERT\")\\\n",
    "        .replace(\"specter\", \"SPECTER\")\n",
    "        .replace(\"mlp\", \"MLP\")\\\n",
    "        .replace(\"words\", \"Words\")\\\n",
    "        .replace(\"chars\", \"Chars\")\n",
    "    ),\n",
    "    global_ap = [average_precision_score(test_targets, p) for p in predictions],\n",
    "    global_roc_auc = [roc_auc_score(test_targets, p) for p in predictions],\n",
    "    ap = ap,\n",
    "    ap_std = ap_std,\n",
    "    roc_auc = ra,\n",
    "    roc_auc_std = ra_std,\n",
    ")\\\n",
    ".sort_values(\"roc_auc\", ascending = False)\\\n",
    ".set_index(\"name\")\\\n",
    ".round(3)\n",
    "\n",
    "show(results, 20)"
   ]
  },
  {
   "cell_type": "code",
   "execution_count": 138,
   "id": "26011b51",
   "metadata": {},
   "outputs": [],
   "source": [
    "results.to_pickle(\"final_results.pkl\")"
   ]
  },
  {
   "cell_type": "code",
   "execution_count": 139,
   "id": "06394ed4",
   "metadata": {},
   "outputs": [
    {
     "data": {
      "text/plain": [
       "<AxesSubplot:ylabel='name'>"
      ]
     },
     "execution_count": 139,
     "metadata": {},
     "output_type": "execute_result"
    },
    {
     "data": {
      "image/png": "[encoded data removed]",
      "text/plain": [
       "<Figure size 640x480 with 1 Axes>"
      ]
     },
     "metadata": {},
     "output_type": "display_data"
    }
   ],
   "source": [
    "results.plot.barh(y = \"roc_auc\", xerr = \"roc_auc_std\")"
   ]
  },
  {
   "cell_type": "code",
   "execution_count": 140,
   "id": "68168f22",
   "metadata": {},
   "outputs": [
    {
     "data": {
      "text/plain": [
       "<AxesSubplot:ylabel='name'>"
      ]
     },
     "execution_count": 140,
     "metadata": {},
     "output_type": "execute_result"
    },
    {
     "data": {
      "image/png": "[encoded data removed]",
      "text/plain": [
       "<Figure size 640x480 with 1 Axes>"
      ]
     },
     "metadata": {},
     "output_type": "display_data"
    }
   ],
   "source": [
    "results.plot.barh(y = \"ap\", xerr = \"ap_std\")"
   ]
  },
  {
   "cell_type": "code",
   "execution_count": 141,
   "id": "8a9ceae0",
   "metadata": {},
   "outputs": [
    {
     "name": "stdout",
     "output_type": "stream",
     "text": [
      "\\begin{tabular}{lrrrrrr}\n",
      "\\toprule\n",
      "{} &  global\\_ap &  global\\_roc\\_auc &     ap &  ap\\_std &  roc\\_auc &  roc\\_auc\\_std \\\\\n",
      "name                &            &                 &        &         &          &              \\\\\n",
      "\\midrule\n",
      "TFIDF Words         &      0.129 &           0.775 &  0.197 &   0.008 &    0.765 &        0.006 \\\\\n",
      "MLP Chars           &      0.099 &           0.734 &  0.148 &   0.006 &    0.712 &        0.007 \\\\\n",
      "MLP Words           &      0.096 &           0.726 &  0.145 &   0.006 &    0.703 &        0.007 \\\\\n",
      "TFIDF Chars         &      0.092 &           0.712 &  0.152 &   0.007 &    0.701 &        0.006 \\\\\n",
      "LSTM SPECTER        &      0.179 &           0.708 &  0.208 &   0.018 &    0.691 &        0.009 \\\\\n",
      "Transformer SPECTER &      0.130 &           0.681 &  0.193 &   0.017 &    0.685 &        0.010 \\\\\n",
      "LSTM SBERT          &      0.130 &           0.699 &  0.202 &   0.018 &    0.684 &        0.009 \\\\\n",
      "MLP SPECTER         &      0.071 &           0.693 &  0.115 &   0.005 &    0.678 &        0.006 \\\\\n",
      "MLP SBERT           &      0.060 &           0.660 &  0.103 &   0.005 &    0.654 &        0.007 \\\\\n",
      "SBERT               &      0.065 &           0.636 &  0.125 &   0.006 &    0.633 &        0.007 \\\\\n",
      "Transformer SBERT   &      0.131 &           0.648 &  0.160 &   0.016 &    0.628 &        0.010 \\\\\n",
      "SPECTER             &      0.051 &           0.579 &  0.114 &   0.006 &    0.600 &        0.008 \\\\\n",
      "\\bottomrule\n",
      "\\end{tabular}\n",
      "\n"
     ]
    },
    {
     "name": "stderr",
     "output_type": "stream",
     "text": [
      "/tmp/ipykernel_1969890/1169217371.py:1: FutureWarning: In future versions `DataFrame.to_latex` is expected to utilise the base implementation of `Styler.to_latex` for formatting and rendering. The arguments signature may therefore change. It is recommended instead to use `DataFrame.style.to_latex` which also contains additional functionality.\n",
      "  print(results.sort_values(\"roc_auc\", ascending = False).round(3).to_latex())\n"
     ]
    }
   ],
   "source": [
    "print(results.sort_values(\"roc_auc\", ascending = False).round(3).to_latex())"
   ]
  },
  {
   "cell_type": "code",
   "execution_count": 142,
   "id": "4d02ec8c",
   "metadata": {},
   "outputs": [
    {
     "data": {
      "image/png": "[encoded data removed]",
      "text/plain": [
       "<Figure size 640x480 with 1 Axes>"
      ]
     },
     "metadata": {},
     "output_type": "display_data"
    }
   ],
   "source": [
    "df.plot.barh()\n",
    "plt.legend(\n",
    "    bbox_to_anchor=(0.5, 1.125), \n",
    "    loc=\"upper center\",\n",
    "    ncol = 2,\n",
    "#     title = \"Metric\"\n",
    ")\n",
    "plt.xlim(0, 1)\n",
    "plt.xticks(np.linspace(0, 1, 11))\n",
    "plt.ylabel(\"Model\", fontsize = \"x-large\")\n",
    "plt.minorticks_on()\n",
    "# plt.tick_params(axis = \"x\", which = \"minor\", length = 20)\n",
    "plt.grid(visible = True, which = 'minor', color='#999999', linestyle='-', alpha=0.2)\n",
    "plt.show()"
   ]
  },
  {
   "cell_type": "code",
   "execution_count": null,
   "id": "849ca3ce",
   "metadata": {},
   "outputs": [],
   "source": []
  },
  {
   "cell_type": "code",
   "execution_count": null,
   "id": "d6c4719e",
   "metadata": {},
   "outputs": [],
   "source": []
  }
 ],
 "metadata": {
  "kernelspec": {
   "display_name": "Python 3 (ipykernel)",
   "language": "python",
   "name": "python3"
  },
  "language_info": {
   "codemirror_mode": {
    "name": "ipython",
    "version": 3
   },
   "file_extension": ".py",
   "mimetype": "text/x-python",
   "name": "python",
   "nbconvert_exporter": "python",
   "pygments_lexer": "ipython3",
   "version": "3.8.10"
  }
 },
 "nbformat": 4,
 "nbformat_minor": 5
}
