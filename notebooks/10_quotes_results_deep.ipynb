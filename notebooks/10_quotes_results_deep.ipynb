{
 "cells": [
  {
   "cell_type": "code",
   "execution_count": 1,
   "id": "7e15fd27",
   "metadata": {},
   "outputs": [
    {
     "name": "stderr",
     "output_type": "stream",
     "text": [
      "/home/jarobyte/envs/malnis/lib/python3.8/site-packages/huggingface_hub/snapshot_download.py:6: FutureWarning: snapshot_download.py has been made private and will no longer be available from version 0.11. Please use `from huggingface_hub import snapshot_download` to import the only public function in this module. Other members of the file may be changed without a deprecation notice.\n",
      "  warnings.warn(\n"
     ]
    }
   ],
   "source": [
    "import pandas as pd\n",
    "import numpy as np\n",
    "from malnis import show\n",
    "import malnis\n",
    "from sklearn.metrics import average_precision_score, roc_auc_score\n",
    "from sentence_transformers import SentenceTransformer\n",
    "from tqdm.notebook import tqdm\n",
    "import torch"
   ]
  },
  {
   "cell_type": "code",
   "execution_count": 2,
   "id": "a01e2dac",
   "metadata": {},
   "outputs": [
    {
     "name": "stdout",
     "output_type": "stream",
     "text": [
      "(23, 3)\n"
     ]
    },
    {
     "data": {
      "text/html": [
       "<div>\n",
       "<style scoped>\n",
       "    .dataframe tbody tr th:only-of-type {\n",
       "        vertical-align: middle;\n",
       "    }\n",
       "\n",
       "    .dataframe tbody tr th {\n",
       "        vertical-align: top;\n",
       "    }\n",
       "\n",
       "    .dataframe thead th {\n",
       "        text-align: right;\n",
       "    }\n",
       "</style>\n",
       "<table border=\"1\" class=\"dataframe\">\n",
       "  <thead>\n",
       "    <tr style=\"text-align: right;\">\n",
       "      <th></th>\n",
       "      <th>text</th>\n",
       "      <th>query</th>\n",
       "      <th>relevance</th>\n",
       "    </tr>\n",
       "  </thead>\n",
       "  <tbody>\n",
       "    <tr>\n",
       "      <th>0</th>\n",
       "      <td>[29, R425–R473 Forum Using Soundscapes to Asse...</td>\n",
       "      <td>Hydrothermal vents are unique deep-sea structu...</td>\n",
       "      <td>[0, 0, 0, 1, 0, 0, 1, 1, 0, 0, 0, 0, 0, 0, 0]</td>\n",
       "    </tr>\n",
       "    <tr>\n",
       "      <th>1</th>\n",
       "      <td>[Therefore, using daily SEL to describe sounds...</td>\n",
       "      <td>Hydrothermal vents are unique deep-sea structu...</td>\n",
       "      <td>[1, 1, 1, 0, 0, 0, 0, 0, 0, 0, 0, 0, 1, 1, 0, ...</td>\n",
       "    </tr>\n",
       "    <tr>\n",
       "      <th>2</th>\n",
       "      <td>[TECHNOLOGY AND CODE published: 19 August 2021...</td>\n",
       "      <td>Hydrothermal vents are unique deep-sea structu...</td>\n",
       "      <td>[0, 0, 0, 0, 0, 0, 1, 0, 0, 0, 0, 0, 0, 0, 0, ...</td>\n",
       "    </tr>\n",
       "    <tr>\n",
       "      <th>3</th>\n",
       "      <td>[ORIGINAL RESEARCH published: 05 August 2021 d...</td>\n",
       "      <td>Hydrothermal vents are unique deep-sea structu...</td>\n",
       "      <td>[0, 0, 1, 1, 0, 0, 1, 0, 1, 1, 0, 1, 0, 0, 1, ...</td>\n",
       "    </tr>\n",
       "    <tr>\n",
       "      <th>4</th>\n",
       "      <td>[A brief overview of current approaches for un...</td>\n",
       "      <td>Hydrothermal vents are unique deep-sea structu...</td>\n",
       "      <td>[0, 0, 1, 0, 0, 0, 1, 0, 1, 1, 1, 1, 0, 0, 0, ...</td>\n",
       "    </tr>\n",
       "    <tr>\n",
       "      <th>5</th>\n",
       "      <td>[Due to its tremendous advantages this technol...</td>\n",
       "      <td>Cloud computing provides a shared pool of comp...</td>\n",
       "      <td>[0, 0, 1, 0, 0, 0, 0, 0, 1, 0, 0, 1, 0, 0, 0]</td>\n",
       "    </tr>\n",
       "    <tr>\n",
       "      <th>6</th>\n",
       "      <td>[Interpretable &amp; Explorable Approximations of ...</td>\n",
       "      <td>Prognostic modelling using machine learning te...</td>\n",
       "      <td>[1, 0, 1, 0, 1, 0]</td>\n",
       "    </tr>\n",
       "    <tr>\n",
       "      <th>7</th>\n",
       "      <td>[Introduction Over the past decade, there has ...</td>\n",
       "      <td>Prognostic modelling using machine learning te...</td>\n",
       "      <td>[1, 1, 1, 0, 1, 1, 0, 0]</td>\n",
       "    </tr>\n",
       "    <tr>\n",
       "      <th>9</th>\n",
       "      <td>[To gain insight into the black-box model, we ...</td>\n",
       "      <td>Prognostic modelling using machine learning te...</td>\n",
       "      <td>[1, 0, 1, 1, 1, 1, 0, 1, 0, 0, 1, 1]</td>\n",
       "    </tr>\n",
       "    <tr>\n",
       "      <th>11</th>\n",
       "      <td>[Next, three techniques, Bayesian networks, Lo...</td>\n",
       "      <td>Obesity is a significant problem in population...</td>\n",
       "      <td>[1, 1, 1, 0, 0, 0, 1, 1, 0]</td>\n",
       "    </tr>\n",
       "    <tr>\n",
       "      <th>12</th>\n",
       "      <td>[Finally, a software was built to use and trai...</td>\n",
       "      <td>Obesity is a significant problem in population...</td>\n",
       "      <td>[1, 1, 0, 1, 0, 1]</td>\n",
       "    </tr>\n",
       "    <tr>\n",
       "      <th>16</th>\n",
       "      <td>[International Conference on Advances in Compu...</td>\n",
       "      <td>A Scenario-based Trust management\\nApproach wi...</td>\n",
       "      <td>[0, 1, 0]</td>\n",
       "    </tr>\n",
       "    <tr>\n",
       "      <th>17</th>\n",
       "      <td>[This is what gives the VANET a high level of ...</td>\n",
       "      <td>A Scenario-based Trust management\\nApproach wi...</td>\n",
       "      <td>[1, 0]</td>\n",
       "    </tr>\n",
       "    <tr>\n",
       "      <th>18</th>\n",
       "      <td>[The proposed framework is expected to improve...</td>\n",
       "      <td>A Scenario-based Trust management\\nApproach wi...</td>\n",
       "      <td>[1, 1, 1, 1, 1, 0, 0]</td>\n",
       "    </tr>\n",
       "    <tr>\n",
       "      <th>19</th>\n",
       "      <td>[VANET provides safety and traffic analysis me...</td>\n",
       "      <td>A Scenario-based Trust management\\nApproach wi...</td>\n",
       "      <td>[1, 0, 0]</td>\n",
       "    </tr>\n",
       "    <tr>\n",
       "      <th>20</th>\n",
       "      <td>[A video event detection system usually consis...</td>\n",
       "      <td>Video Captioning is a task of automatic captio...</td>\n",
       "      <td>[0, 1]</td>\n",
       "    </tr>\n",
       "    <tr>\n",
       "      <th>21</th>\n",
       "      <td>[To approach this problem, we propose a novel ...</td>\n",
       "      <td>Video Captioning is a task of automatic captio...</td>\n",
       "      <td>[0, 0, 1, 1, 1, 1, 1, 0, 1, 0, 0, 0, 0, 1, 1, ...</td>\n",
       "    </tr>\n",
       "    <tr>\n",
       "      <th>22</th>\n",
       "      <td>[Participating teams built language topic mode...</td>\n",
       "      <td>Current methods of assessing dementia Alzheime...</td>\n",
       "      <td>[1, 1, 0, 0, 0, 0, 0, 0, 0, 0, 0, 0, 0, 0]</td>\n",
       "    </tr>\n",
       "    <tr>\n",
       "      <th>23</th>\n",
       "      <td>[Our approach is based on the character n-gram...</td>\n",
       "      <td>Current methods of assessing dementia Alzheime...</td>\n",
       "      <td>[1, 0]</td>\n",
       "    </tr>\n",
       "    <tr>\n",
       "      <th>24</th>\n",
       "      <td>[Character n-gram based methods have been succ...</td>\n",
       "      <td>Current methods of assessing dementia Alzheime...</td>\n",
       "      <td>[1, 0, 0, 0]</td>\n",
       "    </tr>\n",
       "    <tr>\n",
       "      <th>25</th>\n",
       "      <td>[9 RELATED WORK Several major solutions were p...</td>\n",
       "      <td>In recent years, we have seen a surge on the n...</td>\n",
       "      <td>[0, 1, 0]</td>\n",
       "    </tr>\n",
       "    <tr>\n",
       "      <th>26</th>\n",
       "      <td>[Since we have provided two platforms to the u...</td>\n",
       "      <td>In recent years, we have seen a surge on the n...</td>\n",
       "      <td>[0, 0, 1, 1, 0, 0]</td>\n",
       "    </tr>\n",
       "    <tr>\n",
       "      <th>27</th>\n",
       "      <td>[Consequently, a number of distributed stream ...</td>\n",
       "      <td>In recent years, we have seen a surge on the n...</td>\n",
       "      <td>[0, 1, 1, 0, 0, 0]</td>\n",
       "    </tr>\n",
       "  </tbody>\n",
       "</table>\n",
       "</div>"
      ],
      "text/plain": [
       "                                                 text  \\\n",
       "0   [29, R425–R473 Forum Using Soundscapes to Asse...   \n",
       "1   [Therefore, using daily SEL to describe sounds...   \n",
       "2   [TECHNOLOGY AND CODE published: 19 August 2021...   \n",
       "3   [ORIGINAL RESEARCH published: 05 August 2021 d...   \n",
       "4   [A brief overview of current approaches for un...   \n",
       "5   [Due to its tremendous advantages this technol...   \n",
       "6   [Interpretable & Explorable Approximations of ...   \n",
       "7   [Introduction Over the past decade, there has ...   \n",
       "9   [To gain insight into the black-box model, we ...   \n",
       "11  [Next, three techniques, Bayesian networks, Lo...   \n",
       "12  [Finally, a software was built to use and trai...   \n",
       "16  [International Conference on Advances in Compu...   \n",
       "17  [This is what gives the VANET a high level of ...   \n",
       "18  [The proposed framework is expected to improve...   \n",
       "19  [VANET provides safety and traffic analysis me...   \n",
       "20  [A video event detection system usually consis...   \n",
       "21  [To approach this problem, we propose a novel ...   \n",
       "22  [Participating teams built language topic mode...   \n",
       "23  [Our approach is based on the character n-gram...   \n",
       "24  [Character n-gram based methods have been succ...   \n",
       "25  [9 RELATED WORK Several major solutions were p...   \n",
       "26  [Since we have provided two platforms to the u...   \n",
       "27  [Consequently, a number of distributed stream ...   \n",
       "\n",
       "                                                query  \\\n",
       "0   Hydrothermal vents are unique deep-sea structu...   \n",
       "1   Hydrothermal vents are unique deep-sea structu...   \n",
       "2   Hydrothermal vents are unique deep-sea structu...   \n",
       "3   Hydrothermal vents are unique deep-sea structu...   \n",
       "4   Hydrothermal vents are unique deep-sea structu...   \n",
       "5   Cloud computing provides a shared pool of comp...   \n",
       "6   Prognostic modelling using machine learning te...   \n",
       "7   Prognostic modelling using machine learning te...   \n",
       "9   Prognostic modelling using machine learning te...   \n",
       "11  Obesity is a significant problem in population...   \n",
       "12  Obesity is a significant problem in population...   \n",
       "16  A Scenario-based Trust management\\nApproach wi...   \n",
       "17  A Scenario-based Trust management\\nApproach wi...   \n",
       "18  A Scenario-based Trust management\\nApproach wi...   \n",
       "19  A Scenario-based Trust management\\nApproach wi...   \n",
       "20  Video Captioning is a task of automatic captio...   \n",
       "21  Video Captioning is a task of automatic captio...   \n",
       "22  Current methods of assessing dementia Alzheime...   \n",
       "23  Current methods of assessing dementia Alzheime...   \n",
       "24  Current methods of assessing dementia Alzheime...   \n",
       "25  In recent years, we have seen a surge on the n...   \n",
       "26  In recent years, we have seen a surge on the n...   \n",
       "27  In recent years, we have seen a surge on the n...   \n",
       "\n",
       "                                            relevance  \n",
       "0       [0, 0, 0, 1, 0, 0, 1, 1, 0, 0, 0, 0, 0, 0, 0]  \n",
       "1   [1, 1, 1, 0, 0, 0, 0, 0, 0, 0, 0, 0, 1, 1, 0, ...  \n",
       "2   [0, 0, 0, 0, 0, 0, 1, 0, 0, 0, 0, 0, 0, 0, 0, ...  \n",
       "3   [0, 0, 1, 1, 0, 0, 1, 0, 1, 1, 0, 1, 0, 0, 1, ...  \n",
       "4   [0, 0, 1, 0, 0, 0, 1, 0, 1, 1, 1, 1, 0, 0, 0, ...  \n",
       "5       [0, 0, 1, 0, 0, 0, 0, 0, 1, 0, 0, 1, 0, 0, 0]  \n",
       "6                                  [1, 0, 1, 0, 1, 0]  \n",
       "7                            [1, 1, 1, 0, 1, 1, 0, 0]  \n",
       "9                [1, 0, 1, 1, 1, 1, 0, 1, 0, 0, 1, 1]  \n",
       "11                        [1, 1, 1, 0, 0, 0, 1, 1, 0]  \n",
       "12                                 [1, 1, 0, 1, 0, 1]  \n",
       "16                                          [0, 1, 0]  \n",
       "17                                             [1, 0]  \n",
       "18                              [1, 1, 1, 1, 1, 0, 0]  \n",
       "19                                          [1, 0, 0]  \n",
       "20                                             [0, 1]  \n",
       "21  [0, 0, 1, 1, 1, 1, 1, 0, 1, 0, 0, 0, 0, 1, 1, ...  \n",
       "22         [1, 1, 0, 0, 0, 0, 0, 0, 0, 0, 0, 0, 0, 0]  \n",
       "23                                             [1, 0]  \n",
       "24                                       [1, 0, 0, 0]  \n",
       "25                                          [0, 1, 0]  \n",
       "26                                 [0, 0, 1, 1, 0, 0]  \n",
       "27                                 [0, 1, 1, 0, 0, 0]  "
      ]
     },
     "execution_count": 2,
     "metadata": {},
     "output_type": "execute_result"
    }
   ],
   "source": [
    "data = pd.read_pickle(\"quotes.pkl\")\n",
    "show(data, 30)"
   ]
  },
  {
   "cell_type": "code",
   "execution_count": 3,
   "id": "fcff3e08",
   "metadata": {},
   "outputs": [],
   "source": [
    "results = []"
   ]
  },
  {
   "cell_type": "markdown",
   "id": "8d838999",
   "metadata": {},
   "source": [
    "# sentence-bert\n"
   ]
  },
  {
   "cell_type": "code",
   "execution_count": 4,
   "id": "b513f708",
   "metadata": {},
   "outputs": [],
   "source": [
    "model = SentenceTransformer(\n",
    "    \"sbert\"\n",
    "#     'all-MiniLM-L6-v2', \n",
    "#     cache_folder = \"../assets\"\n",
    "#     \"../cache/huggingface/transformers/\"\n",
    "#     cache_folder = \"../cache/huggingface/transformers\"\n",
    ")"
   ]
  },
  {
   "cell_type": "code",
   "execution_count": 5,
   "id": "d0e4db0c",
   "metadata": {},
   "outputs": [
    {
     "data": {
      "application/vnd.jupyter.widget-view+json": {
       "model_id": "f0fcdead10194be5b49835c9efccc38f",
       "version_major": 2,
       "version_minor": 0
      },
      "text/plain": [
       "  0%|          | 0/23 [00:00<?, ?it/s]"
      ]
     },
     "metadata": {},
     "output_type": "display_data"
    }
   ],
   "source": [
    "sbert_queries = [model.encode(t) for t in tqdm(data[\"query\"])]"
   ]
  },
  {
   "cell_type": "code",
   "execution_count": 6,
   "id": "5344784d",
   "metadata": {},
   "outputs": [
    {
     "data": {
      "application/vnd.jupyter.widget-view+json": {
       "model_id": "d38f6db289c1477981d048cf234601d2",
       "version_major": 2,
       "version_minor": 0
      },
      "text/plain": [
       "  0%|          | 0/23 [00:00<?, ?it/s]"
      ]
     },
     "metadata": {},
     "output_type": "display_data"
    }
   ],
   "source": [
    "sbert_sents = [model.encode(t) for t in tqdm(data.text)]"
   ]
  },
  {
   "cell_type": "code",
   "execution_count": 7,
   "id": "95d2acf4",
   "metadata": {},
   "outputs": [
    {
     "data": {
      "text/plain": [
       "(23, (15, 768))"
      ]
     },
     "execution_count": 7,
     "metadata": {},
     "output_type": "execute_result"
    }
   ],
   "source": [
    "sbert_features = [\n",
    "    np.concatenate([np.tile(q, (l.shape[0], 1)), l], axis = 1)\n",
    "    for q, l in zip(sbert_queries, sbert_sents)\n",
    "]\n",
    "\n",
    "len(sbert_features), sbert_features[0].shape"
   ]
  },
  {
   "cell_type": "code",
   "execution_count": 8,
   "id": "4a77656e",
   "metadata": {},
   "outputs": [],
   "source": [
    "sbert_features = [torch.tensor(x).cuda() for x in sbert_features]"
   ]
  },
  {
   "cell_type": "markdown",
   "id": "0551bef4",
   "metadata": {},
   "source": [
    "### cosine similarity"
   ]
  },
  {
   "cell_type": "code",
   "execution_count": 9,
   "id": "ceeaa191",
   "metadata": {},
   "outputs": [
    {
     "data": {
      "application/vnd.jupyter.widget-view+json": {
       "model_id": "39d7ecbe142f4a73b8f78c44e24e6aa1",
       "version_major": 2,
       "version_minor": 0
      },
      "text/plain": [
       "  0%|          | 0/23 [00:00<?, ?it/s]"
      ]
     },
     "metadata": {},
     "output_type": "display_data"
    }
   ],
   "source": [
    "sbert_cosine_scores = [s @ q.T for s, q in zip(tqdm(sbert_sents), sbert_queries)]"
   ]
  },
  {
   "cell_type": "code",
   "execution_count": 10,
   "id": "e66b2baf",
   "metadata": {},
   "outputs": [
    {
     "data": {
      "application/vnd.jupyter.widget-view+json": {
       "model_id": "f1e42f8b8e8d43a58a5a7f93c14f574a",
       "version_major": 2,
       "version_minor": 0
      },
      "text/plain": [
       "  0%|          | 0/23 [00:00<?, ?it/s]"
      ]
     },
     "metadata": {},
     "output_type": "display_data"
    },
    {
     "data": {
      "text/plain": [
       "23"
      ]
     },
     "execution_count": 10,
     "metadata": {},
     "output_type": "execute_result"
    }
   ],
   "source": [
    "sbert_cosine_ap = [average_precision_score(l, s) for l, s in zip(tqdm(data.relevance), sbert_cosine_scores)]\n",
    "len(sbert_cosine_ap)"
   ]
  },
  {
   "cell_type": "code",
   "execution_count": 11,
   "id": "192e3b59",
   "metadata": {},
   "outputs": [
    {
     "data": {
      "application/vnd.jupyter.widget-view+json": {
       "model_id": "65341129153b47cbb284e4603ddf5638",
       "version_major": 2,
       "version_minor": 0
      },
      "text/plain": [
       "  0%|          | 0/23 [00:00<?, ?it/s]"
      ]
     },
     "metadata": {},
     "output_type": "display_data"
    },
    {
     "data": {
      "text/plain": [
       "23"
      ]
     },
     "execution_count": 11,
     "metadata": {},
     "output_type": "execute_result"
    }
   ],
   "source": [
    "sbert_cosine_ra = [roc_auc_score(l, s) for l, s in zip(tqdm(data.relevance), sbert_cosine_scores)]\n",
    "len(sbert_cosine_ra)"
   ]
  },
  {
   "cell_type": "code",
   "execution_count": 12,
   "id": "3734e580",
   "metadata": {},
   "outputs": [
    {
     "data": {
      "text/plain": [
       "[{'model': 'sbert_cosine',\n",
       "  'ap_mean': 0.5257125870061516,\n",
       "  'ap_std': 0.09476285761725348,\n",
       "  'ra_mean': 0.42043224651520683,\n",
       "  'ra_std': 0.12152907549366028}]"
      ]
     },
     "execution_count": 12,
     "metadata": {},
     "output_type": "execute_result"
    }
   ],
   "source": [
    "results.append(\n",
    "    dict(\n",
    "        model = \"sbert_cosine\",\n",
    "        ap_mean = np.mean(sbert_cosine_ap), \n",
    "        ap_std = 2 * np.std(sbert_cosine_ap)/np.sqrt(len(sbert_cosine_ap)),\n",
    "        ra_mean = np.mean(sbert_cosine_ra), \n",
    "        ra_std = 2 * np.std(sbert_cosine_ra)/np.sqrt(len(sbert_cosine_ra))\n",
    "    )\n",
    ")\n",
    "results"
   ]
  },
  {
   "cell_type": "markdown",
   "id": "cdaf65b7",
   "metadata": {},
   "source": [
    "### mlp"
   ]
  },
  {
   "cell_type": "code",
   "execution_count": 13,
   "id": "21f84c08",
   "metadata": {},
   "outputs": [
    {
     "name": "stdout",
     "output_type": "stream",
     "text": [
      "MLP Classfier\n",
      "Parameters: 501,901\n"
     ]
    },
    {
     "data": {
      "text/plain": [
       "MLP(\n",
       "  (input_layer): Linear(in_features=768, out_features=300, bias=True)\n",
       "  (layers): ModuleList(\n",
       "    (0): Linear(in_features=300, out_features=300, bias=True)\n",
       "    (1): Linear(in_features=300, out_features=300, bias=True)\n",
       "    (2): Linear(in_features=300, out_features=300, bias=True)\n",
       "  )\n",
       "  (output_layer): Linear(in_features=300, out_features=1, bias=True)\n",
       ")"
      ]
     },
     "execution_count": 13,
     "metadata": {},
     "output_type": "execute_result"
    }
   ],
   "source": [
    "mlp_sbert = malnis.models.MLP(\n",
    "    hidden_size = 300,\n",
    "#     attention_heads = 4,\n",
    "    num_layers = 3,\n",
    "#     d_model = 1536\n",
    ")\n",
    "mlp_sbert.load_state_dict(\n",
    "    torch.load(\"/home/jarobyte/scratch/malnis_dataset/mlp_pytorch/sbert/models/14628727_2.pt\")\n",
    ")\n",
    "mlp_sbert.cuda()"
   ]
  },
  {
   "cell_type": "code",
   "execution_count": 14,
   "id": "dc6fb28b",
   "metadata": {},
   "outputs": [
    {
     "data": {
      "text/plain": [
       "(23, (15,))"
      ]
     },
     "execution_count": 14,
     "metadata": {},
     "output_type": "execute_result"
    }
   ],
   "source": [
    "mlp_sbert_scores = [mlp_sbert.predict(x) for x in sbert_features]\n",
    "len(mlp_sbert_scores), mlp_sbert_scores[0].shape"
   ]
  },
  {
   "cell_type": "code",
   "execution_count": 15,
   "id": "7ae0ab25",
   "metadata": {},
   "outputs": [
    {
     "data": {
      "application/vnd.jupyter.widget-view+json": {
       "model_id": "410d3806893c44d09af70d1e6e6ef9e5",
       "version_major": 2,
       "version_minor": 0
      },
      "text/plain": [
       "  0%|          | 0/23 [00:00<?, ?it/s]"
      ]
     },
     "metadata": {},
     "output_type": "display_data"
    },
    {
     "data": {
      "text/plain": [
       "23"
      ]
     },
     "execution_count": 15,
     "metadata": {},
     "output_type": "execute_result"
    }
   ],
   "source": [
    "mlp_sbert_ap = [average_precision_score(l, s) for l, s in zip(tqdm(data.relevance), mlp_sbert_scores)]\n",
    "len(mlp_sbert_ap)"
   ]
  },
  {
   "cell_type": "code",
   "execution_count": 16,
   "id": "dbcde636",
   "metadata": {},
   "outputs": [
    {
     "data": {
      "application/vnd.jupyter.widget-view+json": {
       "model_id": "332a5e7a1e2b4c7882753e71b1d3e95b",
       "version_major": 2,
       "version_minor": 0
      },
      "text/plain": [
       "  0%|          | 0/23 [00:00<?, ?it/s]"
      ]
     },
     "metadata": {},
     "output_type": "display_data"
    },
    {
     "data": {
      "text/plain": [
       "23"
      ]
     },
     "execution_count": 16,
     "metadata": {},
     "output_type": "execute_result"
    }
   ],
   "source": [
    "mlp_sbert_ra = [roc_auc_score(l, s) for l, s in zip(tqdm(data.relevance), mlp_sbert_scores)]\n",
    "len(mlp_sbert_ra)"
   ]
  },
  {
   "cell_type": "code",
   "execution_count": 17,
   "id": "ca5909c8",
   "metadata": {},
   "outputs": [
    {
     "data": {
      "text/plain": [
       "[{'model': 'sbert_cosine',\n",
       "  'ap_mean': 0.5257125870061516,\n",
       "  'ap_std': 0.09476285761725348,\n",
       "  'ra_mean': 0.42043224651520683,\n",
       "  'ra_std': 0.12152907549366028},\n",
       " {'model': 'mlp_sbert',\n",
       "  'ap_mean': 0.5998024056534895,\n",
       "  'ap_std': 0.12209525351711967,\n",
       "  'ra_mean': 0.5400809277927244,\n",
       "  'ra_std': 0.13652664562175304}]"
      ]
     },
     "execution_count": 17,
     "metadata": {},
     "output_type": "execute_result"
    }
   ],
   "source": [
    "results.append(\n",
    "    dict(\n",
    "        model = \"mlp_sbert\",\n",
    "        ap_mean = np.mean(mlp_sbert_ap), \n",
    "        ap_std = 2 * np.std(mlp_sbert_ap)/np.sqrt(len(mlp_sbert_ap)),\n",
    "        ra_mean = np.mean(mlp_sbert_ra), \n",
    "        ra_std = 2 * np.std(mlp_sbert_ra)/np.sqrt(len(mlp_sbert_ra))\n",
    "    )\n",
    ")\n",
    "results"
   ]
  },
  {
   "cell_type": "markdown",
   "id": "aa007c13",
   "metadata": {},
   "source": [
    "### lstm"
   ]
  },
  {
   "cell_type": "code",
   "execution_count": 18,
   "id": "c41c6e56",
   "metadata": {},
   "outputs": [
    {
     "name": "stdout",
     "output_type": "stream",
     "text": [
      "LSTM Classfier\n",
      "Parameters: 17,097,001\n"
     ]
    },
    {
     "data": {
      "text/plain": [
       "LSTM(\n",
       "  (lstm): LSTM(768, 500, num_layers=3, bidirectional=True)\n",
       "  (out_layer): Linear(in_features=1000, out_features=1, bias=True)\n",
       ")"
      ]
     },
     "execution_count": 18,
     "metadata": {},
     "output_type": "execute_result"
    }
   ],
   "source": [
    "lstm_sbert = malnis.models.LSTM(\n",
    "#     input_size = 1536,\n",
    "    hidden_size = 500,\n",
    "    num_layers = 3\n",
    ")\n",
    "lstm_sbert.load_state_dict(torch.load(\"/home/jarobyte/scratch/malnis_dataset/lstm/sbert/models/13932670_9.pt\"))\n",
    "lstm_sbert.cuda()"
   ]
  },
  {
   "cell_type": "code",
   "execution_count": 19,
   "id": "de578457",
   "metadata": {},
   "outputs": [
    {
     "data": {
      "text/plain": [
       "(23, (15,))"
      ]
     },
     "execution_count": 19,
     "metadata": {},
     "output_type": "execute_result"
    }
   ],
   "source": [
    "lstm_sbert_scores = [lstm_sbert.predict(x) for x in sbert_features]\n",
    "len(lstm_sbert_scores), lstm_sbert_scores[0].shape"
   ]
  },
  {
   "cell_type": "code",
   "execution_count": 20,
   "id": "cd3866da",
   "metadata": {},
   "outputs": [
    {
     "data": {
      "application/vnd.jupyter.widget-view+json": {
       "model_id": "abe1b225d4ea46bbaac0349e2b30a649",
       "version_major": 2,
       "version_minor": 0
      },
      "text/plain": [
       "  0%|          | 0/23 [00:00<?, ?it/s]"
      ]
     },
     "metadata": {},
     "output_type": "display_data"
    },
    {
     "data": {
      "text/plain": [
       "23"
      ]
     },
     "execution_count": 20,
     "metadata": {},
     "output_type": "execute_result"
    }
   ],
   "source": [
    "lstm_sbert_ap = [average_precision_score(l, s) for l, s in zip(tqdm(data.relevance), lstm_sbert_scores)]\n",
    "len(lstm_sbert_ap)"
   ]
  },
  {
   "cell_type": "code",
   "execution_count": 21,
   "id": "e47d0c21",
   "metadata": {},
   "outputs": [
    {
     "data": {
      "application/vnd.jupyter.widget-view+json": {
       "model_id": "4057a82c0b3446a5a778925c038cb35e",
       "version_major": 2,
       "version_minor": 0
      },
      "text/plain": [
       "  0%|          | 0/23 [00:00<?, ?it/s]"
      ]
     },
     "metadata": {},
     "output_type": "display_data"
    },
    {
     "data": {
      "text/plain": [
       "23"
      ]
     },
     "execution_count": 21,
     "metadata": {},
     "output_type": "execute_result"
    }
   ],
   "source": [
    "lstm_sbert_ra = [roc_auc_score(l, s) for l, s in zip(tqdm(data.relevance), lstm_sbert_scores)]\n",
    "len(lstm_sbert_ra)"
   ]
  },
  {
   "cell_type": "code",
   "execution_count": 22,
   "id": "850ceca6",
   "metadata": {},
   "outputs": [
    {
     "data": {
      "text/plain": [
       "[{'model': 'sbert_cosine',\n",
       "  'ap_mean': 0.5257125870061516,\n",
       "  'ap_std': 0.09476285761725348,\n",
       "  'ra_mean': 0.42043224651520683,\n",
       "  'ra_std': 0.12152907549366028},\n",
       " {'model': 'mlp_sbert',\n",
       "  'ap_mean': 0.5998024056534895,\n",
       "  'ap_std': 0.12209525351711967,\n",
       "  'ra_mean': 0.5400809277927244,\n",
       "  'ra_std': 0.13652664562175304},\n",
       " {'model': 'lstm_sbert',\n",
       "  'ap_mean': 0.6000311710746817,\n",
       "  'ap_std': 0.11428589417682086,\n",
       "  'ra_mean': 0.6308190572836513,\n",
       "  'ra_std': 0.09576566024337917}]"
      ]
     },
     "execution_count": 22,
     "metadata": {},
     "output_type": "execute_result"
    }
   ],
   "source": [
    "results.append(\n",
    "    dict(\n",
    "        model = \"lstm_sbert\",\n",
    "        ap_mean = np.mean(lstm_sbert_ap), \n",
    "        ap_std = 2 * np.std(lstm_sbert_ap)/np.sqrt(len(lstm_sbert_ap)),\n",
    "        ra_mean = np.mean(lstm_sbert_ra), \n",
    "        ra_std = 2 * np.std(lstm_sbert_ra)/np.sqrt(len(lstm_sbert_ra))\n",
    "    )\n",
    ")\n",
    "results"
   ]
  },
  {
   "cell_type": "markdown",
   "id": "ec36423c",
   "metadata": {},
   "source": [
    "### transformer"
   ]
  },
  {
   "cell_type": "code",
   "execution_count": 23,
   "id": "b940e3ee",
   "metadata": {},
   "outputs": [
    {
     "name": "stdout",
     "output_type": "stream",
     "text": [
      "Transformer Classfier\n",
      "Parameters: 11,395,817\n"
     ]
    },
    {
     "data": {
      "text/plain": [
       "Transformer(\n",
       "  (positional_embeddings): Embedding(512, 768)\n",
       "  (transformer_layer): TransformerEncoderLayer(\n",
       "    (self_attn): MultiheadAttention(\n",
       "      (out_proj): NonDynamicallyQuantizableLinear(in_features=768, out_features=768, bias=True)\n",
       "    )\n",
       "    (linear1): Linear(in_features=768, out_features=250, bias=True)\n",
       "    (dropout): Dropout(p=0.1, inplace=False)\n",
       "    (linear2): Linear(in_features=250, out_features=768, bias=True)\n",
       "    (norm1): LayerNorm((768,), eps=1e-05, elementwise_affine=True)\n",
       "    (norm2): LayerNorm((768,), eps=1e-05, elementwise_affine=True)\n",
       "    (dropout1): Dropout(p=0.1, inplace=False)\n",
       "    (dropout2): Dropout(p=0.1, inplace=False)\n",
       "  )\n",
       "  (encoder): TransformerEncoder(\n",
       "    (layers): ModuleList(\n",
       "      (0): TransformerEncoderLayer(\n",
       "        (self_attn): MultiheadAttention(\n",
       "          (out_proj): NonDynamicallyQuantizableLinear(in_features=768, out_features=768, bias=True)\n",
       "        )\n",
       "        (linear1): Linear(in_features=768, out_features=250, bias=True)\n",
       "        (dropout): Dropout(p=0.1, inplace=False)\n",
       "        (linear2): Linear(in_features=250, out_features=768, bias=True)\n",
       "        (norm1): LayerNorm((768,), eps=1e-05, elementwise_affine=True)\n",
       "        (norm2): LayerNorm((768,), eps=1e-05, elementwise_affine=True)\n",
       "        (dropout1): Dropout(p=0.1, inplace=False)\n",
       "        (dropout2): Dropout(p=0.1, inplace=False)\n",
       "      )\n",
       "      (1): TransformerEncoderLayer(\n",
       "        (self_attn): MultiheadAttention(\n",
       "          (out_proj): NonDynamicallyQuantizableLinear(in_features=768, out_features=768, bias=True)\n",
       "        )\n",
       "        (linear1): Linear(in_features=768, out_features=250, bias=True)\n",
       "        (dropout): Dropout(p=0.1, inplace=False)\n",
       "        (linear2): Linear(in_features=250, out_features=768, bias=True)\n",
       "        (norm1): LayerNorm((768,), eps=1e-05, elementwise_affine=True)\n",
       "        (norm2): LayerNorm((768,), eps=1e-05, elementwise_affine=True)\n",
       "        (dropout1): Dropout(p=0.1, inplace=False)\n",
       "        (dropout2): Dropout(p=0.1, inplace=False)\n",
       "      )\n",
       "      (2): TransformerEncoderLayer(\n",
       "        (self_attn): MultiheadAttention(\n",
       "          (out_proj): NonDynamicallyQuantizableLinear(in_features=768, out_features=768, bias=True)\n",
       "        )\n",
       "        (linear1): Linear(in_features=768, out_features=250, bias=True)\n",
       "        (dropout): Dropout(p=0.1, inplace=False)\n",
       "        (linear2): Linear(in_features=250, out_features=768, bias=True)\n",
       "        (norm1): LayerNorm((768,), eps=1e-05, elementwise_affine=True)\n",
       "        (norm2): LayerNorm((768,), eps=1e-05, elementwise_affine=True)\n",
       "        (dropout1): Dropout(p=0.1, inplace=False)\n",
       "        (dropout2): Dropout(p=0.1, inplace=False)\n",
       "      )\n",
       "    )\n",
       "  )\n",
       "  (out_layer): Linear(in_features=768, out_features=1, bias=True)\n",
       ")"
      ]
     },
     "execution_count": 23,
     "metadata": {},
     "output_type": "execute_result"
    }
   ],
   "source": [
    "transformer_sbert = malnis.models.Transformer(\n",
    "    dim_feedforward = 250,\n",
    "    attention_heads = 4,\n",
    "    num_layers = 3\n",
    ")\n",
    "transformer_sbert.load_state_dict(\n",
    "    torch.load(\"/home/jarobyte/scratch/malnis_dataset/transformer/sbert/models/13932680_10.pt\")\n",
    ")\n",
    "transformer_sbert.cuda()"
   ]
  },
  {
   "cell_type": "code",
   "execution_count": 24,
   "id": "db86425f",
   "metadata": {},
   "outputs": [
    {
     "data": {
      "text/plain": [
       "(23, (15,))"
      ]
     },
     "execution_count": 24,
     "metadata": {},
     "output_type": "execute_result"
    }
   ],
   "source": [
    "transformer_sbert_scores = [transformer_sbert.predict(x.unsqueeze(0)) for x in sbert_features]\n",
    "len(transformer_sbert_scores), transformer_sbert_scores[0].shape"
   ]
  },
  {
   "cell_type": "code",
   "execution_count": 25,
   "id": "9574f1e7",
   "metadata": {},
   "outputs": [
    {
     "data": {
      "application/vnd.jupyter.widget-view+json": {
       "model_id": "cc9446c4589f41a0a4bb0a4b5c0f2d72",
       "version_major": 2,
       "version_minor": 0
      },
      "text/plain": [
       "  0%|          | 0/23 [00:00<?, ?it/s]"
      ]
     },
     "metadata": {},
     "output_type": "display_data"
    },
    {
     "data": {
      "text/plain": [
       "23"
      ]
     },
     "execution_count": 25,
     "metadata": {},
     "output_type": "execute_result"
    }
   ],
   "source": [
    "transformer_sbert_ap = [average_precision_score(l, s) for l, s in zip(tqdm(data.relevance), transformer_sbert_scores)]\n",
    "len(transformer_sbert_ap)"
   ]
  },
  {
   "cell_type": "code",
   "execution_count": 26,
   "id": "5b8c0b22",
   "metadata": {},
   "outputs": [
    {
     "data": {
      "application/vnd.jupyter.widget-view+json": {
       "model_id": "fac621c81421430d95691766e5f40667",
       "version_major": 2,
       "version_minor": 0
      },
      "text/plain": [
       "  0%|          | 0/23 [00:00<?, ?it/s]"
      ]
     },
     "metadata": {},
     "output_type": "display_data"
    },
    {
     "data": {
      "text/plain": [
       "23"
      ]
     },
     "execution_count": 26,
     "metadata": {},
     "output_type": "execute_result"
    }
   ],
   "source": [
    "transformer_sbert_ra = [roc_auc_score(l, s) for l, s in zip(tqdm(data.relevance), transformer_sbert_scores)]\n",
    "len(transformer_sbert_ra)"
   ]
  },
  {
   "cell_type": "code",
   "execution_count": 27,
   "id": "8ed27269",
   "metadata": {},
   "outputs": [
    {
     "data": {
      "text/plain": [
       "[{'model': 'sbert_cosine',\n",
       "  'ap_mean': 0.5257125870061516,\n",
       "  'ap_std': 0.09476285761725348,\n",
       "  'ra_mean': 0.42043224651520683,\n",
       "  'ra_std': 0.12152907549366028},\n",
       " {'model': 'mlp_sbert',\n",
       "  'ap_mean': 0.5998024056534895,\n",
       "  'ap_std': 0.12209525351711967,\n",
       "  'ra_mean': 0.5400809277927244,\n",
       "  'ra_std': 0.13652664562175304},\n",
       " {'model': 'lstm_sbert',\n",
       "  'ap_mean': 0.6000311710746817,\n",
       "  'ap_std': 0.11428589417682086,\n",
       "  'ra_mean': 0.6308190572836513,\n",
       "  'ra_std': 0.09576566024337917},\n",
       " {'model': 'transformer_sbert',\n",
       "  'ap_mean': 0.5628612696690114,\n",
       "  'ap_std': 0.11371952729894613,\n",
       "  'ra_mean': 0.5100305207722087,\n",
       "  'ra_std': 0.14347869983106168}]"
      ]
     },
     "execution_count": 27,
     "metadata": {},
     "output_type": "execute_result"
    }
   ],
   "source": [
    "results.append(\n",
    "    dict(\n",
    "        model = \"transformer_sbert\",\n",
    "        ap_mean = np.mean(transformer_sbert_ap), \n",
    "        ap_std = 2 * np.std(transformer_sbert_ap)/np.sqrt(len(transformer_sbert_ap)),\n",
    "        ra_mean = np.mean(transformer_sbert_ra), \n",
    "        ra_std = 2 * np.std(transformer_sbert_ra)/np.sqrt(len(transformer_sbert_ra))\n",
    "    )\n",
    ")\n",
    "results"
   ]
  },
  {
   "cell_type": "markdown",
   "id": "d6403d9a",
   "metadata": {},
   "source": [
    "## specter"
   ]
  },
  {
   "cell_type": "code",
   "execution_count": 28,
   "id": "43a8baf2",
   "metadata": {},
   "outputs": [],
   "source": [
    "model = SentenceTransformer(\n",
    "    \"specter\"\n",
    "#     'all-MiniLM-L6-v2', \n",
    "#     cache_folder = \"../assets\"\n",
    "#     \"../cache/huggingface/transformers/\"\n",
    "#     cache_folder = \"../cache/huggingface/transformers\"\n",
    ")"
   ]
  },
  {
   "cell_type": "code",
   "execution_count": 29,
   "id": "16a7bcdf",
   "metadata": {},
   "outputs": [
    {
     "data": {
      "application/vnd.jupyter.widget-view+json": {
       "model_id": "6f1a06c726e84620aa1f666d7c853315",
       "version_major": 2,
       "version_minor": 0
      },
      "text/plain": [
       "  0%|          | 0/23 [00:00<?, ?it/s]"
      ]
     },
     "metadata": {},
     "output_type": "display_data"
    }
   ],
   "source": [
    "specter_queries = [model.encode(t) for t in tqdm(data[\"query\"])]"
   ]
  },
  {
   "cell_type": "code",
   "execution_count": 30,
   "id": "078b9925",
   "metadata": {},
   "outputs": [
    {
     "data": {
      "application/vnd.jupyter.widget-view+json": {
       "model_id": "1f6e689a10d94928913844eebda57ca9",
       "version_major": 2,
       "version_minor": 0
      },
      "text/plain": [
       "  0%|          | 0/23 [00:00<?, ?it/s]"
      ]
     },
     "metadata": {},
     "output_type": "display_data"
    }
   ],
   "source": [
    "specter_sents = [model.encode(t) for t in tqdm(data.text)]"
   ]
  },
  {
   "cell_type": "code",
   "execution_count": 31,
   "id": "38303385",
   "metadata": {},
   "outputs": [
    {
     "data": {
      "text/plain": [
       "(23, (15, 1536))"
      ]
     },
     "execution_count": 31,
     "metadata": {},
     "output_type": "execute_result"
    }
   ],
   "source": [
    "specter_features = [\n",
    "    np.concatenate([np.tile(q, (l.shape[0], 1)), l], axis = 1)\n",
    "    for q, l in zip(specter_queries, specter_sents)\n",
    "]\n",
    "\n",
    "len(specter_features), specter_features[0].shape"
   ]
  },
  {
   "cell_type": "code",
   "execution_count": 32,
   "id": "46c97645",
   "metadata": {},
   "outputs": [],
   "source": [
    "specter_features = [torch.tensor(x).cuda() for x in specter_features]"
   ]
  },
  {
   "cell_type": "markdown",
   "id": "f8f6e2b7",
   "metadata": {},
   "source": [
    "### euclidean distance"
   ]
  },
  {
   "cell_type": "code",
   "execution_count": 33,
   "id": "51a91b8c",
   "metadata": {},
   "outputs": [
    {
     "data": {
      "application/vnd.jupyter.widget-view+json": {
       "model_id": "68f43c43afb04ca4821faabee3bcbe5f",
       "version_major": 2,
       "version_minor": 0
      },
      "text/plain": [
       "  0%|          | 0/23 [00:00<?, ?it/s]"
      ]
     },
     "metadata": {},
     "output_type": "display_data"
    }
   ],
   "source": [
    "specter_euclidean_scores = [2 / (1 + np.exp((s-q)**2).sum(1)) for s, q in zip(tqdm(specter_sents), specter_queries)]"
   ]
  },
  {
   "cell_type": "code",
   "execution_count": 34,
   "id": "c30afe1f",
   "metadata": {},
   "outputs": [
    {
     "data": {
      "application/vnd.jupyter.widget-view+json": {
       "model_id": "6159a5c0200a4a93a709f71d1638b411",
       "version_major": 2,
       "version_minor": 0
      },
      "text/plain": [
       "  0%|          | 0/23 [00:00<?, ?it/s]"
      ]
     },
     "metadata": {},
     "output_type": "display_data"
    },
    {
     "data": {
      "text/plain": [
       "23"
      ]
     },
     "execution_count": 34,
     "metadata": {},
     "output_type": "execute_result"
    }
   ],
   "source": [
    "specter_euclidean_ap = [average_precision_score(l, s) for l, s in zip(tqdm(data.relevance), specter_euclidean_scores)]\n",
    "len(specter_euclidean_ap)"
   ]
  },
  {
   "cell_type": "code",
   "execution_count": 35,
   "id": "339e8ea9",
   "metadata": {},
   "outputs": [
    {
     "data": {
      "application/vnd.jupyter.widget-view+json": {
       "model_id": "0b347a624ef14b1b8a74bcb5659bb270",
       "version_major": 2,
       "version_minor": 0
      },
      "text/plain": [
       "  0%|          | 0/23 [00:00<?, ?it/s]"
      ]
     },
     "metadata": {},
     "output_type": "display_data"
    },
    {
     "data": {
      "text/plain": [
       "23"
      ]
     },
     "execution_count": 35,
     "metadata": {},
     "output_type": "execute_result"
    }
   ],
   "source": [
    "specter_euclidean_ra = [roc_auc_score(l, s) for l, s in zip(tqdm(data.relevance), specter_euclidean_scores)]\n",
    "len(specter_euclidean_ra)"
   ]
  },
  {
   "cell_type": "code",
   "execution_count": 36,
   "id": "6a1d1dd5",
   "metadata": {},
   "outputs": [
    {
     "data": {
      "text/plain": [
       "[{'model': 'sbert_cosine',\n",
       "  'ap_mean': 0.5257125870061516,\n",
       "  'ap_std': 0.09476285761725348,\n",
       "  'ra_mean': 0.42043224651520683,\n",
       "  'ra_std': 0.12152907549366028},\n",
       " {'model': 'mlp_sbert',\n",
       "  'ap_mean': 0.5998024056534895,\n",
       "  'ap_std': 0.12209525351711967,\n",
       "  'ra_mean': 0.5400809277927244,\n",
       "  'ra_std': 0.13652664562175304},\n",
       " {'model': 'lstm_sbert',\n",
       "  'ap_mean': 0.6000311710746817,\n",
       "  'ap_std': 0.11428589417682086,\n",
       "  'ra_mean': 0.6308190572836513,\n",
       "  'ra_std': 0.09576566024337917},\n",
       " {'model': 'transformer_sbert',\n",
       "  'ap_mean': 0.5628612696690114,\n",
       "  'ap_std': 0.11371952729894613,\n",
       "  'ra_mean': 0.5100305207722087,\n",
       "  'ra_std': 0.14347869983106168},\n",
       " {'model': 'specter_euclidean',\n",
       "  'ap_mean': 0.531631446041713,\n",
       "  'ap_std': 0.11548072630416334,\n",
       "  'ra_mean': 0.5047756174274717,\n",
       "  'ra_std': 0.12595320382763603}]"
      ]
     },
     "execution_count": 36,
     "metadata": {},
     "output_type": "execute_result"
    }
   ],
   "source": [
    "results.append(\n",
    "    dict(\n",
    "        model = \"specter_euclidean\",\n",
    "        ap_mean = np.mean(specter_euclidean_ap), \n",
    "        ap_std = 2 * np.std(specter_euclidean_ap)/np.sqrt(len(specter_euclidean_ap)),\n",
    "        ra_mean = np.mean(specter_euclidean_ra), \n",
    "        ra_std = 2 * np.std(specter_euclidean_ra)/np.sqrt(len(specter_euclidean_ra))\n",
    "    )\n",
    ")\n",
    "results"
   ]
  },
  {
   "cell_type": "markdown",
   "id": "ef49a1f3",
   "metadata": {},
   "source": [
    "### mlp"
   ]
  },
  {
   "cell_type": "code",
   "execution_count": 37,
   "id": "e6440435",
   "metadata": {},
   "outputs": [
    {
     "name": "stdout",
     "output_type": "stream",
     "text": [
      "MLP Classfier\n",
      "Parameters: 1,503,901\n"
     ]
    },
    {
     "data": {
      "text/plain": [
       "MLP(\n",
       "  (input_layer): Linear(in_features=1536, out_features=450, bias=True)\n",
       "  (layers): ModuleList(\n",
       "    (0): Linear(in_features=450, out_features=450, bias=True)\n",
       "    (1): Linear(in_features=450, out_features=450, bias=True)\n",
       "    (2): Linear(in_features=450, out_features=450, bias=True)\n",
       "    (3): Linear(in_features=450, out_features=450, bias=True)\n",
       "  )\n",
       "  (output_layer): Linear(in_features=450, out_features=1, bias=True)\n",
       ")"
      ]
     },
     "execution_count": 37,
     "metadata": {},
     "output_type": "execute_result"
    }
   ],
   "source": [
    "mlp_specter = malnis.models.MLP(\n",
    "    hidden_size = 450,\n",
    "#     attention_heads = 4,\n",
    "    num_layers = 4,\n",
    "    input_size = 1536\n",
    ")\n",
    "mlp_specter.load_state_dict(\n",
    "    torch.load(\"/home/jarobyte/scratch/malnis_dataset/mlp_pytorch/specter/models/14678619_2.pt\")\n",
    ")\n",
    "mlp_specter.cuda()"
   ]
  },
  {
   "cell_type": "code",
   "execution_count": 38,
   "id": "7a024018",
   "metadata": {},
   "outputs": [
    {
     "data": {
      "text/plain": [
       "(23, (15,))"
      ]
     },
     "execution_count": 38,
     "metadata": {},
     "output_type": "execute_result"
    }
   ],
   "source": [
    "mlp_specter_scores = [mlp_specter.predict(x) for x in specter_features]\n",
    "len(mlp_specter_scores), mlp_specter_scores[0].shape"
   ]
  },
  {
   "cell_type": "code",
   "execution_count": 39,
   "id": "9bb215ad",
   "metadata": {},
   "outputs": [
    {
     "data": {
      "application/vnd.jupyter.widget-view+json": {
       "model_id": "521d7c9d6ce24c8bb8f218b13a30b0d6",
       "version_major": 2,
       "version_minor": 0
      },
      "text/plain": [
       "  0%|          | 0/23 [00:00<?, ?it/s]"
      ]
     },
     "metadata": {},
     "output_type": "display_data"
    },
    {
     "data": {
      "text/plain": [
       "23"
      ]
     },
     "execution_count": 39,
     "metadata": {},
     "output_type": "execute_result"
    }
   ],
   "source": [
    "mlp_specter_ap = [average_precision_score(l, s) for l, s in zip(tqdm(data.relevance), mlp_specter_scores)]\n",
    "len(mlp_specter_ap)"
   ]
  },
  {
   "cell_type": "code",
   "execution_count": 40,
   "id": "2f21faa8",
   "metadata": {},
   "outputs": [
    {
     "data": {
      "application/vnd.jupyter.widget-view+json": {
       "model_id": "71ed137ab7d44e779f40b68daca3c8b5",
       "version_major": 2,
       "version_minor": 0
      },
      "text/plain": [
       "  0%|          | 0/23 [00:00<?, ?it/s]"
      ]
     },
     "metadata": {},
     "output_type": "display_data"
    },
    {
     "data": {
      "text/plain": [
       "23"
      ]
     },
     "execution_count": 40,
     "metadata": {},
     "output_type": "execute_result"
    }
   ],
   "source": [
    "mlp_specter_ra = [roc_auc_score(l, s) for l, s in zip(tqdm(data.relevance), mlp_specter_scores)]\n",
    "len(mlp_specter_ra)"
   ]
  },
  {
   "cell_type": "code",
   "execution_count": 41,
   "id": "2e0c76b0",
   "metadata": {},
   "outputs": [
    {
     "data": {
      "text/plain": [
       "[{'model': 'sbert_cosine',\n",
       "  'ap_mean': 0.5257125870061516,\n",
       "  'ap_std': 0.09476285761725348,\n",
       "  'ra_mean': 0.42043224651520683,\n",
       "  'ra_std': 0.12152907549366028},\n",
       " {'model': 'mlp_sbert',\n",
       "  'ap_mean': 0.5998024056534895,\n",
       "  'ap_std': 0.12209525351711967,\n",
       "  'ra_mean': 0.5400809277927244,\n",
       "  'ra_std': 0.13652664562175304},\n",
       " {'model': 'lstm_sbert',\n",
       "  'ap_mean': 0.6000311710746817,\n",
       "  'ap_std': 0.11428589417682086,\n",
       "  'ra_mean': 0.6308190572836513,\n",
       "  'ra_std': 0.09576566024337917},\n",
       " {'model': 'transformer_sbert',\n",
       "  'ap_mean': 0.5628612696690114,\n",
       "  'ap_std': 0.11371952729894613,\n",
       "  'ra_mean': 0.5100305207722087,\n",
       "  'ra_std': 0.14347869983106168},\n",
       " {'model': 'specter_euclidean',\n",
       "  'ap_mean': 0.531631446041713,\n",
       "  'ap_std': 0.11548072630416334,\n",
       "  'ra_mean': 0.5047756174274717,\n",
       "  'ra_std': 0.12595320382763603},\n",
       " {'model': 'mlp_specter',\n",
       "  'ap_mean': 0.6519329492485555,\n",
       "  'ap_std': 0.11413645829468397,\n",
       "  'ra_mean': 0.6544953785203146,\n",
       "  'ra_std': 0.11705000120405035}]"
      ]
     },
     "execution_count": 41,
     "metadata": {},
     "output_type": "execute_result"
    }
   ],
   "source": [
    "results.append(\n",
    "    dict(\n",
    "        model = \"mlp_specter\",\n",
    "        ap_mean = np.mean(mlp_specter_ap), \n",
    "        ap_std = 2 * np.std(mlp_specter_ap)/np.sqrt(len(mlp_specter_ap)),\n",
    "        ra_mean = np.mean(mlp_specter_ra), \n",
    "        ra_std = 2 * np.std(mlp_specter_ra)/np.sqrt(len(mlp_specter_ra))\n",
    "    )\n",
    ")\n",
    "results"
   ]
  },
  {
   "cell_type": "markdown",
   "id": "0d4781df",
   "metadata": {},
   "source": [
    "### lstm"
   ]
  },
  {
   "cell_type": "code",
   "execution_count": 42,
   "id": "14825a64",
   "metadata": {},
   "outputs": [
    {
     "name": "stdout",
     "output_type": "stream",
     "text": [
      "LSTM Classfier\n",
      "Parameters: 8,153,001\n"
     ]
    },
    {
     "data": {
      "text/plain": [
       "LSTM(\n",
       "  (lstm): LSTM(1536, 500, bidirectional=True)\n",
       "  (out_layer): Linear(in_features=1000, out_features=1, bias=True)\n",
       ")"
      ]
     },
     "execution_count": 42,
     "metadata": {},
     "output_type": "execute_result"
    }
   ],
   "source": [
    "lstm_specter = malnis.models.LSTM(\n",
    "    input_size = 1536,\n",
    "    hidden_size = 500,\n",
    "    num_layers = 1\n",
    ")\n",
    "lstm_specter.load_state_dict(torch.load(\"/home/jarobyte/scratch/malnis_dataset/lstm/specter/models/13925873_9.pt\"))\n",
    "lstm_specter.cuda()"
   ]
  },
  {
   "cell_type": "code",
   "execution_count": 43,
   "id": "f860c45b",
   "metadata": {},
   "outputs": [
    {
     "data": {
      "text/plain": [
       "(23, (15,))"
      ]
     },
     "execution_count": 43,
     "metadata": {},
     "output_type": "execute_result"
    }
   ],
   "source": [
    "lstm_specter_scores = [lstm_specter.predict(x) for x in specter_features]\n",
    "len(lstm_specter_scores), lstm_specter_scores[0].shape"
   ]
  },
  {
   "cell_type": "code",
   "execution_count": 44,
   "id": "2502cf98",
   "metadata": {},
   "outputs": [
    {
     "data": {
      "application/vnd.jupyter.widget-view+json": {
       "model_id": "207d2d8a0729451e980787e7dd7cef7e",
       "version_major": 2,
       "version_minor": 0
      },
      "text/plain": [
       "  0%|          | 0/23 [00:00<?, ?it/s]"
      ]
     },
     "metadata": {},
     "output_type": "display_data"
    },
    {
     "data": {
      "text/plain": [
       "23"
      ]
     },
     "execution_count": 44,
     "metadata": {},
     "output_type": "execute_result"
    }
   ],
   "source": [
    "lstm_specter_ap = [average_precision_score(l, s) for l, s in zip(tqdm(data.relevance), lstm_specter_scores)]\n",
    "len(lstm_specter_ap)"
   ]
  },
  {
   "cell_type": "code",
   "execution_count": 45,
   "id": "db2953b1",
   "metadata": {},
   "outputs": [
    {
     "data": {
      "application/vnd.jupyter.widget-view+json": {
       "model_id": "34d60a3e4dee44e38b54bbc80edd6580",
       "version_major": 2,
       "version_minor": 0
      },
      "text/plain": [
       "  0%|          | 0/23 [00:00<?, ?it/s]"
      ]
     },
     "metadata": {},
     "output_type": "display_data"
    },
    {
     "data": {
      "text/plain": [
       "23"
      ]
     },
     "execution_count": 45,
     "metadata": {},
     "output_type": "execute_result"
    }
   ],
   "source": [
    "lstm_specter_ra = [roc_auc_score(l, s) for l, s in zip(tqdm(data.relevance), lstm_specter_scores)]\n",
    "len(lstm_specter_ra)"
   ]
  },
  {
   "cell_type": "code",
   "execution_count": 46,
   "id": "b8b9a6eb",
   "metadata": {},
   "outputs": [
    {
     "data": {
      "text/plain": [
       "[{'model': 'sbert_cosine',\n",
       "  'ap_mean': 0.5257125870061516,\n",
       "  'ap_std': 0.09476285761725348,\n",
       "  'ra_mean': 0.42043224651520683,\n",
       "  'ra_std': 0.12152907549366028},\n",
       " {'model': 'mlp_sbert',\n",
       "  'ap_mean': 0.5998024056534895,\n",
       "  'ap_std': 0.12209525351711967,\n",
       "  'ra_mean': 0.5400809277927244,\n",
       "  'ra_std': 0.13652664562175304},\n",
       " {'model': 'lstm_sbert',\n",
       "  'ap_mean': 0.6000311710746817,\n",
       "  'ap_std': 0.11428589417682086,\n",
       "  'ra_mean': 0.6308190572836513,\n",
       "  'ra_std': 0.09576566024337917},\n",
       " {'model': 'transformer_sbert',\n",
       "  'ap_mean': 0.5628612696690114,\n",
       "  'ap_std': 0.11371952729894613,\n",
       "  'ra_mean': 0.5100305207722087,\n",
       "  'ra_std': 0.14347869983106168},\n",
       " {'model': 'specter_euclidean',\n",
       "  'ap_mean': 0.531631446041713,\n",
       "  'ap_std': 0.11548072630416334,\n",
       "  'ra_mean': 0.5047756174274717,\n",
       "  'ra_std': 0.12595320382763603},\n",
       " {'model': 'mlp_specter',\n",
       "  'ap_mean': 0.6519329492485555,\n",
       "  'ap_std': 0.11413645829468397,\n",
       "  'ra_mean': 0.6544953785203146,\n",
       "  'ra_std': 0.11705000120405035},\n",
       " {'model': 'lstm_specter',\n",
       "  'ap_mean': 0.637445785814331,\n",
       "  'ap_std': 0.10745820869901637,\n",
       "  'ra_mean': 0.6271244424976842,\n",
       "  'ra_std': 0.10884166167691021}]"
      ]
     },
     "execution_count": 46,
     "metadata": {},
     "output_type": "execute_result"
    }
   ],
   "source": [
    "results.append(\n",
    "    dict(\n",
    "        model = \"lstm_specter\",\n",
    "        ap_mean = np.mean(lstm_specter_ap), \n",
    "        ap_std = 2 * np.std(lstm_specter_ap)/np.sqrt(len(lstm_specter_ap)),\n",
    "        ra_mean = np.mean(lstm_specter_ra), \n",
    "        ra_std = 2 * np.std(lstm_specter_ra)/np.sqrt(len(lstm_specter_ra))\n",
    "    )\n",
    ")\n",
    "results"
   ]
  },
  {
   "cell_type": "markdown",
   "id": "6e5416e0",
   "metadata": {},
   "source": [
    "### transformer"
   ]
  },
  {
   "cell_type": "code",
   "execution_count": 47,
   "id": "33648b7d",
   "metadata": {},
   "outputs": [
    {
     "name": "stdout",
     "output_type": "stream",
     "text": [
      "Transformer Classfier\n",
      "Parameters: 42,894,201\n"
     ]
    },
    {
     "data": {
      "text/plain": [
       "Transformer(\n",
       "  (positional_embeddings): Embedding(512, 1536)\n",
       "  (transformer_layer): TransformerEncoderLayer(\n",
       "    (self_attn): MultiheadAttention(\n",
       "      (out_proj): NonDynamicallyQuantizableLinear(in_features=1536, out_features=1536, bias=True)\n",
       "    )\n",
       "    (linear1): Linear(in_features=1536, out_features=350, bias=True)\n",
       "    (dropout): Dropout(p=0.1, inplace=False)\n",
       "    (linear2): Linear(in_features=350, out_features=1536, bias=True)\n",
       "    (norm1): LayerNorm((1536,), eps=1e-05, elementwise_affine=True)\n",
       "    (norm2): LayerNorm((1536,), eps=1e-05, elementwise_affine=True)\n",
       "    (dropout1): Dropout(p=0.1, inplace=False)\n",
       "    (dropout2): Dropout(p=0.1, inplace=False)\n",
       "  )\n",
       "  (encoder): TransformerEncoder(\n",
       "    (layers): ModuleList(\n",
       "      (0): TransformerEncoderLayer(\n",
       "        (self_attn): MultiheadAttention(\n",
       "          (out_proj): NonDynamicallyQuantizableLinear(in_features=1536, out_features=1536, bias=True)\n",
       "        )\n",
       "        (linear1): Linear(in_features=1536, out_features=350, bias=True)\n",
       "        (dropout): Dropout(p=0.1, inplace=False)\n",
       "        (linear2): Linear(in_features=350, out_features=1536, bias=True)\n",
       "        (norm1): LayerNorm((1536,), eps=1e-05, elementwise_affine=True)\n",
       "        (norm2): LayerNorm((1536,), eps=1e-05, elementwise_affine=True)\n",
       "        (dropout1): Dropout(p=0.1, inplace=False)\n",
       "        (dropout2): Dropout(p=0.1, inplace=False)\n",
       "      )\n",
       "      (1): TransformerEncoderLayer(\n",
       "        (self_attn): MultiheadAttention(\n",
       "          (out_proj): NonDynamicallyQuantizableLinear(in_features=1536, out_features=1536, bias=True)\n",
       "        )\n",
       "        (linear1): Linear(in_features=1536, out_features=350, bias=True)\n",
       "        (dropout): Dropout(p=0.1, inplace=False)\n",
       "        (linear2): Linear(in_features=350, out_features=1536, bias=True)\n",
       "        (norm1): LayerNorm((1536,), eps=1e-05, elementwise_affine=True)\n",
       "        (norm2): LayerNorm((1536,), eps=1e-05, elementwise_affine=True)\n",
       "        (dropout1): Dropout(p=0.1, inplace=False)\n",
       "        (dropout2): Dropout(p=0.1, inplace=False)\n",
       "      )\n",
       "      (2): TransformerEncoderLayer(\n",
       "        (self_attn): MultiheadAttention(\n",
       "          (out_proj): NonDynamicallyQuantizableLinear(in_features=1536, out_features=1536, bias=True)\n",
       "        )\n",
       "        (linear1): Linear(in_features=1536, out_features=350, bias=True)\n",
       "        (dropout): Dropout(p=0.1, inplace=False)\n",
       "        (linear2): Linear(in_features=350, out_features=1536, bias=True)\n",
       "        (norm1): LayerNorm((1536,), eps=1e-05, elementwise_affine=True)\n",
       "        (norm2): LayerNorm((1536,), eps=1e-05, elementwise_affine=True)\n",
       "        (dropout1): Dropout(p=0.1, inplace=False)\n",
       "        (dropout2): Dropout(p=0.1, inplace=False)\n",
       "      )\n",
       "    )\n",
       "  )\n",
       "  (out_layer): Linear(in_features=1536, out_features=1, bias=True)\n",
       ")"
      ]
     },
     "execution_count": 47,
     "metadata": {},
     "output_type": "execute_result"
    }
   ],
   "source": [
    "transformer_specter = malnis.models.Transformer(\n",
    "    dim_feedforward = 350,\n",
    "    attention_heads = 4,\n",
    "    num_layers = 3,\n",
    "    d_model = 1536\n",
    ")\n",
    "transformer_specter.load_state_dict(\n",
    "    torch.load(\"/home/jarobyte/scratch/malnis_dataset/transformer/specter/models/14158104_4.pt\")\n",
    ")\n",
    "transformer_specter.cuda()"
   ]
  },
  {
   "cell_type": "code",
   "execution_count": 48,
   "id": "f28ed7ca",
   "metadata": {},
   "outputs": [
    {
     "data": {
      "text/plain": [
       "(23, (15,))"
      ]
     },
     "execution_count": 48,
     "metadata": {},
     "output_type": "execute_result"
    }
   ],
   "source": [
    "transformer_specter_scores = [transformer_specter.predict(x.unsqueeze(0)) for x in specter_features]\n",
    "len(transformer_specter_scores), transformer_specter_scores[0].shape"
   ]
  },
  {
   "cell_type": "code",
   "execution_count": 49,
   "id": "2b5aa48c",
   "metadata": {},
   "outputs": [
    {
     "data": {
      "application/vnd.jupyter.widget-view+json": {
       "model_id": "8424bedacbc042d0850dac072b404494",
       "version_major": 2,
       "version_minor": 0
      },
      "text/plain": [
       "  0%|          | 0/23 [00:00<?, ?it/s]"
      ]
     },
     "metadata": {},
     "output_type": "display_data"
    },
    {
     "data": {
      "text/plain": [
       "23"
      ]
     },
     "execution_count": 49,
     "metadata": {},
     "output_type": "execute_result"
    }
   ],
   "source": [
    "transformer_specter_ap = [average_precision_score(l, s) for l, s in zip(tqdm(data.relevance), transformer_specter_scores)]\n",
    "len(transformer_specter_ap)"
   ]
  },
  {
   "cell_type": "code",
   "execution_count": 50,
   "id": "c0836174",
   "metadata": {},
   "outputs": [
    {
     "data": {
      "application/vnd.jupyter.widget-view+json": {
       "model_id": "9f87aa052a5744448e22001a768309e1",
       "version_major": 2,
       "version_minor": 0
      },
      "text/plain": [
       "  0%|          | 0/23 [00:00<?, ?it/s]"
      ]
     },
     "metadata": {},
     "output_type": "display_data"
    },
    {
     "data": {
      "text/plain": [
       "23"
      ]
     },
     "execution_count": 50,
     "metadata": {},
     "output_type": "execute_result"
    }
   ],
   "source": [
    "transformer_specter_ra = [roc_auc_score(l, s) for l, s in zip(tqdm(data.relevance), transformer_specter_scores)]\n",
    "len(transformer_specter_ra)"
   ]
  },
  {
   "cell_type": "code",
   "execution_count": 51,
   "id": "9f9b331f",
   "metadata": {},
   "outputs": [
    {
     "data": {
      "text/plain": [
       "[{'model': 'sbert_cosine',\n",
       "  'ap_mean': 0.5257125870061516,\n",
       "  'ap_std': 0.09476285761725348,\n",
       "  'ra_mean': 0.42043224651520683,\n",
       "  'ra_std': 0.12152907549366028},\n",
       " {'model': 'mlp_sbert',\n",
       "  'ap_mean': 0.5998024056534895,\n",
       "  'ap_std': 0.12209525351711967,\n",
       "  'ra_mean': 0.5400809277927244,\n",
       "  'ra_std': 0.13652664562175304},\n",
       " {'model': 'lstm_sbert',\n",
       "  'ap_mean': 0.6000311710746817,\n",
       "  'ap_std': 0.11428589417682086,\n",
       "  'ra_mean': 0.6308190572836513,\n",
       "  'ra_std': 0.09576566024337917},\n",
       " {'model': 'transformer_sbert',\n",
       "  'ap_mean': 0.5628612696690114,\n",
       "  'ap_std': 0.11371952729894613,\n",
       "  'ra_mean': 0.5100305207722087,\n",
       "  'ra_std': 0.14347869983106168},\n",
       " {'model': 'specter_euclidean',\n",
       "  'ap_mean': 0.531631446041713,\n",
       "  'ap_std': 0.11548072630416334,\n",
       "  'ra_mean': 0.5047756174274717,\n",
       "  'ra_std': 0.12595320382763603},\n",
       " {'model': 'mlp_specter',\n",
       "  'ap_mean': 0.6519329492485555,\n",
       "  'ap_std': 0.11413645829468397,\n",
       "  'ra_mean': 0.6544953785203146,\n",
       "  'ra_std': 0.11705000120405035},\n",
       " {'model': 'lstm_specter',\n",
       "  'ap_mean': 0.637445785814331,\n",
       "  'ap_std': 0.10745820869901637,\n",
       "  'ra_mean': 0.6271244424976842,\n",
       "  'ra_std': 0.10884166167691021},\n",
       " {'model': 'transformer_specter',\n",
       "  'ap_mean': 0.6227991758880049,\n",
       "  'ap_std': 0.104147188342563,\n",
       "  'ra_mean': 0.5898840547417913,\n",
       "  'ra_std': 0.11847039844175221}]"
      ]
     },
     "execution_count": 51,
     "metadata": {},
     "output_type": "execute_result"
    }
   ],
   "source": [
    "results.append(\n",
    "    dict(\n",
    "        model = \"transformer_specter\",\n",
    "        ap_mean = np.mean(transformer_specter_ap), \n",
    "        ap_std = 2 * np.std(transformer_specter_ap)/np.sqrt(len(transformer_specter_ap)),\n",
    "        ra_mean = np.mean(transformer_specter_ra), \n",
    "        ra_std = 2 * np.std(transformer_specter_ra)/np.sqrt(len(transformer_specter_ra))\n",
    "    )\n",
    ")\n",
    "results"
   ]
  },
  {
   "cell_type": "code",
   "execution_count": 52,
   "id": "6342805a",
   "metadata": {},
   "outputs": [
    {
     "name": "stdout",
     "output_type": "stream",
     "text": [
      "(8, 5)\n"
     ]
    },
    {
     "data": {
      "text/html": [
       "<div>\n",
       "<style scoped>\n",
       "    .dataframe tbody tr th:only-of-type {\n",
       "        vertical-align: middle;\n",
       "    }\n",
       "\n",
       "    .dataframe tbody tr th {\n",
       "        vertical-align: top;\n",
       "    }\n",
       "\n",
       "    .dataframe thead th {\n",
       "        text-align: right;\n",
       "    }\n",
       "</style>\n",
       "<table border=\"1\" class=\"dataframe\">\n",
       "  <thead>\n",
       "    <tr style=\"text-align: right;\">\n",
       "      <th></th>\n",
       "      <th>model</th>\n",
       "      <th>ap_mean</th>\n",
       "      <th>ap_std</th>\n",
       "      <th>ra_mean</th>\n",
       "      <th>ra_std</th>\n",
       "    </tr>\n",
       "  </thead>\n",
       "  <tbody>\n",
       "    <tr>\n",
       "      <th>0</th>\n",
       "      <td>sbert_cosine</td>\n",
       "      <td>0.525713</td>\n",
       "      <td>0.094763</td>\n",
       "      <td>0.420432</td>\n",
       "      <td>0.121529</td>\n",
       "    </tr>\n",
       "    <tr>\n",
       "      <th>1</th>\n",
       "      <td>mlp_sbert</td>\n",
       "      <td>0.599802</td>\n",
       "      <td>0.122095</td>\n",
       "      <td>0.540081</td>\n",
       "      <td>0.136527</td>\n",
       "    </tr>\n",
       "    <tr>\n",
       "      <th>2</th>\n",
       "      <td>lstm_sbert</td>\n",
       "      <td>0.600031</td>\n",
       "      <td>0.114286</td>\n",
       "      <td>0.630819</td>\n",
       "      <td>0.095766</td>\n",
       "    </tr>\n",
       "    <tr>\n",
       "      <th>3</th>\n",
       "      <td>transformer_sbert</td>\n",
       "      <td>0.562861</td>\n",
       "      <td>0.113720</td>\n",
       "      <td>0.510031</td>\n",
       "      <td>0.143479</td>\n",
       "    </tr>\n",
       "    <tr>\n",
       "      <th>4</th>\n",
       "      <td>specter_euclidean</td>\n",
       "      <td>0.531631</td>\n",
       "      <td>0.115481</td>\n",
       "      <td>0.504776</td>\n",
       "      <td>0.125953</td>\n",
       "    </tr>\n",
       "  </tbody>\n",
       "</table>\n",
       "</div>"
      ],
      "text/plain": [
       "               model   ap_mean    ap_std   ra_mean    ra_std\n",
       "0       sbert_cosine  0.525713  0.094763  0.420432  0.121529\n",
       "1          mlp_sbert  0.599802  0.122095  0.540081  0.136527\n",
       "2         lstm_sbert  0.600031  0.114286  0.630819  0.095766\n",
       "3  transformer_sbert  0.562861  0.113720  0.510031  0.143479\n",
       "4  specter_euclidean  0.531631  0.115481  0.504776  0.125953"
      ]
     },
     "execution_count": 52,
     "metadata": {},
     "output_type": "execute_result"
    }
   ],
   "source": [
    "results_df = pd.DataFrame(results)\n",
    "show(results_df)"
   ]
  },
  {
   "cell_type": "code",
   "execution_count": 53,
   "id": "f3a09724",
   "metadata": {},
   "outputs": [
    {
     "name": "stdout",
     "output_type": "stream",
     "text": [
      "\\begin{tabular}{llrrrr}\n",
      "\\toprule\n",
      "{} &                model &  ap\\_mean &  ap\\_std &  ra\\_mean &  ra\\_std \\\\\n",
      "\\midrule\n",
      "0 &         sbert\\_cosine &    0.526 &   0.095 &    0.420 &   0.122 \\\\\n",
      "1 &            mlp\\_sbert &    0.600 &   0.122 &    0.540 &   0.137 \\\\\n",
      "2 &           lstm\\_sbert &    0.600 &   0.114 &    0.631 &   0.096 \\\\\n",
      "3 &    transformer\\_sbert &    0.563 &   0.114 &    0.510 &   0.143 \\\\\n",
      "4 &    specter\\_euclidean &    0.532 &   0.115 &    0.505 &   0.126 \\\\\n",
      "5 &          mlp\\_specter &    0.652 &   0.114 &    0.654 &   0.117 \\\\\n",
      "6 &         lstm\\_specter &    0.637 &   0.107 &    0.627 &   0.109 \\\\\n",
      "7 &  transformer\\_specter &    0.623 &   0.104 &    0.590 &   0.118 \\\\\n",
      "\\bottomrule\n",
      "\\end{tabular}\n",
      "\n"
     ]
    },
    {
     "name": "stderr",
     "output_type": "stream",
     "text": [
      "/tmp/ipykernel_3702160/2842510611.py:1: FutureWarning: In future versions `DataFrame.to_latex` is expected to utilise the base implementation of `Styler.to_latex` for formatting and rendering. The arguments signature may therefore change. It is recommended instead to use `DataFrame.style.to_latex` which also contains additional functionality.\n",
      "  print(results_df.round(3).to_latex())\n"
     ]
    }
   ],
   "source": [
    "print(results_df.round(3).to_latex())"
   ]
  },
  {
   "cell_type": "code",
   "execution_count": 54,
   "id": "6a11be8d",
   "metadata": {},
   "outputs": [],
   "source": [
    "results_df.to_pickle(\"quotes_results_deep.pkl\")"
   ]
  }
 ],
 "metadata": {
  "kernelspec": {
   "display_name": "Python 3 (ipykernel)",
   "language": "python",
   "name": "python3"
  },
  "language_info": {
   "codemirror_mode": {
    "name": "ipython",
    "version": 3
   },
   "file_extension": ".py",
   "mimetype": "text/x-python",
   "name": "python",
   "nbconvert_exporter": "python",
   "pygments_lexer": "ipython3",
   "version": "3.8.10"
  }
 },
 "nbformat": 4,
 "nbformat_minor": 5
}
