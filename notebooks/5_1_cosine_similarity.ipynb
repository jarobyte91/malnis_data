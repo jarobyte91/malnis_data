{
 "cells": [
  {
   "cell_type": "code",
   "execution_count": 1,
   "id": "04306868",
   "metadata": {},
   "outputs": [
    {
     "name": "stderr",
     "output_type": "stream",
     "text": [
      "/home/jarobyte/envs/malnis/lib/python3.8/site-packages/huggingface_hub/snapshot_download.py:6: FutureWarning: snapshot_download.py has been made private and will no longer be available from version 0.11. Please use `from huggingface_hub import snapshot_download` to import the only public function in this module. Other members of the file may be changed without a deprecation notice.\n",
      "  warnings.warn(\n"
     ]
    }
   ],
   "source": [
    "import pandas as pd\n",
    "import numpy as np\n",
    "import matplotlib.pyplot as plt\n",
    "plt.style.use('seaborn-whitegrid')\n",
    "from sklearn.feature_extraction.text import TfidfVectorizer\n",
    "from tqdm.notebook import tqdm\n",
    "from nltk.tokenize import sent_tokenize\n",
    "from rouge import Rouge\n",
    "from sklearn.model_selection import train_test_split\n",
    "from sentence_transformers import SentenceTransformer\n",
    "from sklearn.metrics import log_loss, PrecisionRecallDisplay, RocCurveDisplay, average_precision_score, roc_auc_score\n",
    "from malnis import show"
   ]
  },
  {
   "cell_type": "code",
   "execution_count": 2,
   "id": "a9b58f81",
   "metadata": {},
   "outputs": [],
   "source": [
    "data_folder = \"/home/jarobyte/scratch/malnis_dataset/data/\""
   ]
  },
  {
   "cell_type": "code",
   "execution_count": 3,
   "id": "aa4e655f",
   "metadata": {},
   "outputs": [
    {
     "name": "stdout",
     "output_type": "stream",
     "text": [
      "(7172, 9)\n"
     ]
    },
    {
     "data": {
      "text/html": [
       "<div>\n",
       "<style scoped>\n",
       "    .dataframe tbody tr th:only-of-type {\n",
       "        vertical-align: middle;\n",
       "    }\n",
       "\n",
       "    .dataframe tbody tr th {\n",
       "        vertical-align: top;\n",
       "    }\n",
       "\n",
       "    .dataframe thead th {\n",
       "        text-align: right;\n",
       "    }\n",
       "</style>\n",
       "<table border=\"1\" class=\"dataframe\">\n",
       "  <thead>\n",
       "    <tr style=\"text-align: right;\">\n",
       "      <th></th>\n",
       "      <th>query</th>\n",
       "      <th>document</th>\n",
       "      <th>summary</th>\n",
       "      <th>r1</th>\n",
       "      <th>r2</th>\n",
       "      <th>rl</th>\n",
       "      <th>sentences</th>\n",
       "      <th>relevance</th>\n",
       "      <th>original_sentences</th>\n",
       "    </tr>\n",
       "  </thead>\n",
       "  <tbody>\n",
       "    <tr>\n",
       "      <th>7593</th>\n",
       "      <td>Due to the lack of structured knowledge applie...</td>\n",
       "      <td>Index Terms—Machine learning, knowledge discov...</td>\n",
       "      <td>[Text classification [226], text clustering [2...</td>\n",
       "      <td>0.278846</td>\n",
       "      <td>0.095941</td>\n",
       "      <td>0.259615</td>\n",
       "      <td>[Index Terms—Machine learning, knowledge disco...</td>\n",
       "      <td>[False, False, False, False, False, False, Fal...</td>\n",
       "      <td>685</td>\n",
       "    </tr>\n",
       "    <tr>\n",
       "      <th>7554</th>\n",
       "      <td>Obtaining enough labeled data to robustly trai...</td>\n",
       "      <td>One of the greatest roadblocks to using modern...</td>\n",
       "      <td>[“Lawyer”); moreover, these sources might be c...</td>\n",
       "      <td>0.295455</td>\n",
       "      <td>0.104247</td>\n",
       "      <td>0.272727</td>\n",
       "      <td>[One of the greatest roadblocks to using moder...</td>\n",
       "      <td>[True, False, True, False, False, False, False...</td>\n",
       "      <td>246</td>\n",
       "    </tr>\n",
       "    <tr>\n",
       "      <th>4892</th>\n",
       "      <td>Word embeddings, i.e., low-dimensional vector ...</td>\n",
       "      <td>Recently some studies have shown that text cla...</td>\n",
       "      <td>[A recent work (Schuster et al., 2020) showed ...</td>\n",
       "      <td>0.407018</td>\n",
       "      <td>0.186364</td>\n",
       "      <td>0.385965</td>\n",
       "      <td>[Recently some studies have shown that text cl...</td>\n",
       "      <td>[False, False, True, False, False, False, Fals...</td>\n",
       "      <td>202</td>\n",
       "    </tr>\n",
       "    <tr>\n",
       "      <th>4169</th>\n",
       "      <td>In this paper our objectives are, first, netwo...</td>\n",
       "      <td>It is commonsense that how you look at an obje...</td>\n",
       "      <td>[Views are commonly different sensory signals,...</td>\n",
       "      <td>0.257143</td>\n",
       "      <td>0.090909</td>\n",
       "      <td>0.250000</td>\n",
       "      <td>[It is commonsense that how you look at an obj...</td>\n",
       "      <td>[False, False, False, False, False, False, Fal...</td>\n",
       "      <td>240</td>\n",
       "    </tr>\n",
       "    <tr>\n",
       "      <th>6690</th>\n",
       "      <td>This paper describes TextTiling, an algorithm ...</td>\n",
       "      <td>Accurately representing the distance between t...</td>\n",
       "      <td>[Most similar to our method is that of Wan (20...</td>\n",
       "      <td>0.206349</td>\n",
       "      <td>0.037975</td>\n",
       "      <td>0.158730</td>\n",
       "      <td>[Accurately representing the distance between ...</td>\n",
       "      <td>[False, False, False, False, False, False, Fal...</td>\n",
       "      <td>246</td>\n",
       "    </tr>\n",
       "  </tbody>\n",
       "</table>\n",
       "</div>"
      ],
      "text/plain": [
       "                                                  query  \\\n",
       "7593  Due to the lack of structured knowledge applie...   \n",
       "7554  Obtaining enough labeled data to robustly trai...   \n",
       "4892  Word embeddings, i.e., low-dimensional vector ...   \n",
       "4169  In this paper our objectives are, first, netwo...   \n",
       "6690  This paper describes TextTiling, an algorithm ...   \n",
       "\n",
       "                                               document  \\\n",
       "7593  Index Terms—Machine learning, knowledge discov...   \n",
       "7554  One of the greatest roadblocks to using modern...   \n",
       "4892  Recently some studies have shown that text cla...   \n",
       "4169  It is commonsense that how you look at an obje...   \n",
       "6690  Accurately representing the distance between t...   \n",
       "\n",
       "                                                summary        r1        r2  \\\n",
       "7593  [Text classification [226], text clustering [2...  0.278846  0.095941   \n",
       "7554  [“Lawyer”); moreover, these sources might be c...  0.295455  0.104247   \n",
       "4892  [A recent work (Schuster et al., 2020) showed ...  0.407018  0.186364   \n",
       "4169  [Views are commonly different sensory signals,...  0.257143  0.090909   \n",
       "6690  [Most similar to our method is that of Wan (20...  0.206349  0.037975   \n",
       "\n",
       "            rl                                          sentences  \\\n",
       "7593  0.259615  [Index Terms—Machine learning, knowledge disco...   \n",
       "7554  0.272727  [One of the greatest roadblocks to using moder...   \n",
       "4892  0.385965  [Recently some studies have shown that text cl...   \n",
       "4169  0.250000  [It is commonsense that how you look at an obj...   \n",
       "6690  0.158730  [Accurately representing the distance between ...   \n",
       "\n",
       "                                              relevance  original_sentences  \n",
       "7593  [False, False, False, False, False, False, Fal...                 685  \n",
       "7554  [True, False, True, False, False, False, False...                 246  \n",
       "4892  [False, False, True, False, False, False, Fals...                 202  \n",
       "4169  [False, False, False, False, False, False, Fal...                 240  \n",
       "6690  [False, False, False, False, False, False, Fal...                 246  "
      ]
     },
     "execution_count": 3,
     "metadata": {},
     "output_type": "execute_result"
    }
   ],
   "source": [
    "train = pd.read_pickle(data_folder + \"data_train.pkl\")\n",
    "show(train)"
   ]
  },
  {
   "cell_type": "code",
   "execution_count": 4,
   "id": "66090898",
   "metadata": {},
   "outputs": [
    {
     "name": "stdout",
     "output_type": "stream",
     "text": [
      "(896, 9)\n"
     ]
    },
    {
     "data": {
      "text/html": [
       "<div>\n",
       "<style scoped>\n",
       "    .dataframe tbody tr th:only-of-type {\n",
       "        vertical-align: middle;\n",
       "    }\n",
       "\n",
       "    .dataframe tbody tr th {\n",
       "        vertical-align: top;\n",
       "    }\n",
       "\n",
       "    .dataframe thead th {\n",
       "        text-align: right;\n",
       "    }\n",
       "</style>\n",
       "<table border=\"1\" class=\"dataframe\">\n",
       "  <thead>\n",
       "    <tr style=\"text-align: right;\">\n",
       "      <th></th>\n",
       "      <th>query</th>\n",
       "      <th>document</th>\n",
       "      <th>summary</th>\n",
       "      <th>r1</th>\n",
       "      <th>r2</th>\n",
       "      <th>rl</th>\n",
       "      <th>sentences</th>\n",
       "      <th>relevance</th>\n",
       "      <th>original_sentences</th>\n",
       "    </tr>\n",
       "  </thead>\n",
       "  <tbody>\n",
       "    <tr>\n",
       "      <th>5367</th>\n",
       "      <td>We propose the task of free-form and open-ende...</td>\n",
       "      <td>Index Terms—Deep learning, visual analytics, i...</td>\n",
       "      <td>[Research combining both image and text data h...</td>\n",
       "      <td>0.249240</td>\n",
       "      <td>0.117400</td>\n",
       "      <td>0.218845</td>\n",
       "      <td>[Index Terms—Deep learning, visual analytics, ...</td>\n",
       "      <td>[False, False, False, False, True, False, Fals...</td>\n",
       "      <td>497</td>\n",
       "    </tr>\n",
       "    <tr>\n",
       "      <th>4278</th>\n",
       "      <td>In this paper, we propose a novel neural netwo...</td>\n",
       "      <td>Document summarization aims to produce fluent ...</td>\n",
       "      <td>[For each sentence, we apply an RNN with Gated...</td>\n",
       "      <td>0.281407</td>\n",
       "      <td>0.112281</td>\n",
       "      <td>0.281407</td>\n",
       "      <td>[Document summarization aims to produce fluent...</td>\n",
       "      <td>[False, False, False, False, False, False, Fal...</td>\n",
       "      <td>238</td>\n",
       "    </tr>\n",
       "    <tr>\n",
       "      <th>307</th>\n",
       "      <td>Learning to rank with biased click data is a w...</td>\n",
       "      <td>CCS CONCEPTS • Information systems→ Learning t...</td>\n",
       "      <td>[Most recently, a new approach for de-biasing ...</td>\n",
       "      <td>0.321716</td>\n",
       "      <td>0.160558</td>\n",
       "      <td>0.289544</td>\n",
       "      <td>[CCS CONCEPTS • Information systems→ Learning ...</td>\n",
       "      <td>[True, False, False, False, False, False, Fals...</td>\n",
       "      <td>401</td>\n",
       "    </tr>\n",
       "    <tr>\n",
       "      <th>4413</th>\n",
       "      <td>We present the Compressive Transformer, an att...</td>\n",
       "      <td>Transformers (Vaswani et al., 2017) have achie...</td>\n",
       "      <td>[on this task as their primary evaluation (Dai...</td>\n",
       "      <td>0.254144</td>\n",
       "      <td>0.075314</td>\n",
       "      <td>0.232044</td>\n",
       "      <td>[Transformers (Vaswani et al., 2017) have achi...</td>\n",
       "      <td>[False, False, False, False, False, False, Fal...</td>\n",
       "      <td>357</td>\n",
       "    </tr>\n",
       "    <tr>\n",
       "      <th>2963</th>\n",
       "      <td>We propose a method for online news stream clu...</td>\n",
       "      <td>ACM Reference Format: Doug Beeferman and Hang ...</td>\n",
       "      <td>[[17] is the first to include BERT contextual ...</td>\n",
       "      <td>0.255102</td>\n",
       "      <td>0.094203</td>\n",
       "      <td>0.255102</td>\n",
       "      <td>[ACM Reference Format: Doug Beeferman and Hang...</td>\n",
       "      <td>[False, False, False, False, False, False, Fal...</td>\n",
       "      <td>185</td>\n",
       "    </tr>\n",
       "  </tbody>\n",
       "</table>\n",
       "</div>"
      ],
      "text/plain": [
       "                                                  query  \\\n",
       "5367  We propose the task of free-form and open-ende...   \n",
       "4278  In this paper, we propose a novel neural netwo...   \n",
       "307   Learning to rank with biased click data is a w...   \n",
       "4413  We present the Compressive Transformer, an att...   \n",
       "2963  We propose a method for online news stream clu...   \n",
       "\n",
       "                                               document  \\\n",
       "5367  Index Terms—Deep learning, visual analytics, i...   \n",
       "4278  Document summarization aims to produce fluent ...   \n",
       "307   CCS CONCEPTS • Information systems→ Learning t...   \n",
       "4413  Transformers (Vaswani et al., 2017) have achie...   \n",
       "2963  ACM Reference Format: Doug Beeferman and Hang ...   \n",
       "\n",
       "                                                summary        r1        r2  \\\n",
       "5367  [Research combining both image and text data h...  0.249240  0.117400   \n",
       "4278  [For each sentence, we apply an RNN with Gated...  0.281407  0.112281   \n",
       "307   [Most recently, a new approach for de-biasing ...  0.321716  0.160558   \n",
       "4413  [on this task as their primary evaluation (Dai...  0.254144  0.075314   \n",
       "2963  [[17] is the first to include BERT contextual ...  0.255102  0.094203   \n",
       "\n",
       "            rl                                          sentences  \\\n",
       "5367  0.218845  [Index Terms—Deep learning, visual analytics, ...   \n",
       "4278  0.281407  [Document summarization aims to produce fluent...   \n",
       "307   0.289544  [CCS CONCEPTS • Information systems→ Learning ...   \n",
       "4413  0.232044  [Transformers (Vaswani et al., 2017) have achi...   \n",
       "2963  0.255102  [ACM Reference Format: Doug Beeferman and Hang...   \n",
       "\n",
       "                                              relevance  original_sentences  \n",
       "5367  [False, False, False, False, True, False, Fals...                 497  \n",
       "4278  [False, False, False, False, False, False, Fal...                 238  \n",
       "307   [True, False, False, False, False, False, Fals...                 401  \n",
       "4413  [False, False, False, False, False, False, Fal...                 357  \n",
       "2963  [False, False, False, False, False, False, Fal...                 185  "
      ]
     },
     "execution_count": 4,
     "metadata": {},
     "output_type": "execute_result"
    }
   ],
   "source": [
    "dev = pd.read_pickle(data_folder + \"data_dev.pkl\")\n",
    "show(dev)"
   ]
  },
  {
   "cell_type": "code",
   "execution_count": 5,
   "id": "db591d25",
   "metadata": {},
   "outputs": [
    {
     "name": "stdout",
     "output_type": "stream",
     "text": [
      "true targets (264918,)\n"
     ]
    }
   ],
   "source": [
    "true_targets = np.concatenate(dev.relevance.to_list())\n",
    "print(\"true targets\", true_targets.shape)"
   ]
  },
  {
   "cell_type": "code",
   "execution_count": 6,
   "id": "f8945895",
   "metadata": {},
   "outputs": [
    {
     "data": {
      "text/plain": [
       "896"
      ]
     },
     "execution_count": 6,
     "metadata": {},
     "output_type": "execute_result"
    }
   ],
   "source": [
    "records = dev.to_dict(\"records\")\n",
    "len(records)"
   ]
  },
  {
   "cell_type": "code",
   "execution_count": 7,
   "id": "32cf377c",
   "metadata": {},
   "outputs": [],
   "source": [
    "output_folder = \"/home/jarobyte/scratch/malnis_dataset/data/classical_models/\""
   ]
  },
  {
   "cell_type": "markdown",
   "id": "0c64f084",
   "metadata": {},
   "source": [
    "# TFIDF"
   ]
  },
  {
   "cell_type": "code",
   "execution_count": 8,
   "id": "7283e646",
   "metadata": {
    "scrolled": false
   },
   "outputs": [
    {
     "data": {
      "application/vnd.jupyter.widget-view+json": {
       "model_id": "7edb6011d2f5440096737a4e159b92bf",
       "version_major": 2,
       "version_minor": 0
      },
      "text/plain": [
       "  0%|          | 0/896 [00:00<?, ?it/s]"
      ]
     },
     "metadata": {},
     "output_type": "display_data"
    },
    {
     "name": "stdout",
     "output_type": "stream",
     "text": [
      "true predictions (264918,)\n",
      "CPU times: user 7.21 s, sys: 0 ns, total: 7.21 s\n",
      "Wall time: 7.43 s\n"
     ]
    }
   ],
   "source": [
    "%%time\n",
    "\n",
    "predictions = []\n",
    "for d in tqdm(records):\n",
    "    vectorizer = TfidfVectorizer()\n",
    "    sentences = d[\"sentences\"]\n",
    "#     print(len(sentences))\n",
    "    features = vectorizer.fit_transform(sentences)\n",
    "#     print(features.shape)\n",
    "    query_emb = vectorizer.transform([d[\"query\"]])\n",
    "#     print(query_emb.shape)\n",
    "    relevance = (query_emb @ features.T).toarray().squeeze()\n",
    "#     print(relevance.shape)\n",
    "    predictions.append(relevance)\n",
    "\n",
    "true_predictions = np.concatenate(predictions)\n",
    "print(\"true predictions\", true_predictions.shape)\n",
    "\n",
    "np.save(output_folder + \"tfidf_words.npy\", true_predictions)\n",
    "\n",
    "# fig, axes = plt.subplots(1, 2, figsize = (12, 6))\n",
    "\n",
    "# display = PrecisionRecallDisplay.from_predictions(\n",
    "#     true_targets, true_predictions, name = \"TFIDF Words\",\n",
    "#     ax = axes[0]\n",
    "# )\n",
    "\n",
    "# display = RocCurveDisplay.from_predictions(\n",
    "#     true_targets, true_predictions, name = \"TFIDF Words\",\n",
    "#     ax = axes[1]\n",
    "# )"
   ]
  },
  {
   "cell_type": "code",
   "execution_count": 9,
   "id": "1fcaaea5",
   "metadata": {
    "scrolled": false
   },
   "outputs": [
    {
     "data": {
      "application/vnd.jupyter.widget-view+json": {
       "model_id": "385647ab42954e6fb796d65015edef99",
       "version_major": 2,
       "version_minor": 0
      },
      "text/plain": [
       "  0%|          | 0/896 [00:00<?, ?it/s]"
      ]
     },
     "metadata": {},
     "output_type": "display_data"
    },
    {
     "name": "stdout",
     "output_type": "stream",
     "text": [
      "true predictions (264918,)\n",
      "CPU times: user 23.5 s, sys: 52.1 ms, total: 23.6 s\n",
      "Wall time: 24.2 s\n"
     ]
    }
   ],
   "source": [
    "%%time\n",
    "\n",
    "#chars\n",
    "\n",
    "predictions = []\n",
    "for d in tqdm(records):\n",
    "    vectorizer = TfidfVectorizer(\n",
    "        analyzer = \"char\",\n",
    "        ngram_range = (3, 3)\n",
    "    )    \n",
    "    sentences = d[\"sentences\"]\n",
    "#     print(len(sentences))\n",
    "    features = vectorizer.fit_transform(sentences)\n",
    "#     print(features.shape)\n",
    "    query_emb = vectorizer.transform([d[\"query\"]])\n",
    "#     print(query_emb.shape)\n",
    "    relevance = (query_emb @ features.T).toarray().squeeze()\n",
    "#     print(relevance.shape)\n",
    "    predictions.append(relevance)\n",
    "\n",
    "true_predictions = np.concatenate(predictions)\n",
    "print(\"true predictions\", true_predictions.shape)\n",
    "\n",
    "np.save(output_folder + \"tfidf_chars.npy\", true_predictions)\n",
    "\n",
    "# fig, axes = plt.subplots(1, 2, figsize = (12, 6))\n",
    "\n",
    "# display = PrecisionRecallDisplay.from_predictions(\n",
    "#     true_targets, true_predictions, name = \"TFIDF Chars\",\n",
    "#     ax = axes[0]\n",
    "# )\n",
    "\n",
    "# display = RocCurveDisplay.from_predictions(\n",
    "#     true_targets, true_predictions, name = \"TFIDF Chars\",\n",
    "#     ax = axes[1]\n",
    "# )"
   ]
  },
  {
   "cell_type": "markdown",
   "id": "c4c72a37",
   "metadata": {},
   "source": [
    "# Sentence-BERT"
   ]
  },
  {
   "cell_type": "code",
   "execution_count": 10,
   "id": "796bfa18",
   "metadata": {},
   "outputs": [
    {
     "data": {
      "text/plain": [
       "(896, 512, 768)"
      ]
     },
     "execution_count": 10,
     "metadata": {},
     "output_type": "execute_result"
    }
   ],
   "source": [
    "X_dev = np.load(data_folder + \"embeddings/sbert/X_dev.npy\")\n",
    "X_dev.shape"
   ]
  },
  {
   "cell_type": "code",
   "execution_count": 11,
   "id": "01841963",
   "metadata": {},
   "outputs": [
    {
     "data": {
      "text/plain": [
       "(896, 512)"
      ]
     },
     "execution_count": 11,
     "metadata": {},
     "output_type": "execute_result"
    }
   ],
   "source": [
    "Y_dev = np.load(data_folder + \"embeddings/sbert/Y_dev.npy\")\n",
    "Y_dev.shape"
   ]
  },
  {
   "cell_type": "code",
   "execution_count": 12,
   "id": "278abf91",
   "metadata": {},
   "outputs": [
    {
     "data": {
      "text/plain": [
       "(896, 512, 384)"
      ]
     },
     "execution_count": 12,
     "metadata": {},
     "output_type": "execute_result"
    }
   ],
   "source": [
    "queries = X_dev[:, :, :384]\n",
    "queries.shape"
   ]
  },
  {
   "cell_type": "code",
   "execution_count": 13,
   "id": "0ca1b63f",
   "metadata": {},
   "outputs": [
    {
     "data": {
      "text/plain": [
       "(896, 512, 384)"
      ]
     },
     "execution_count": 13,
     "metadata": {},
     "output_type": "execute_result"
    }
   ],
   "source": [
    "sentences = X_dev[:, :, 384:]\n",
    "sentences.shape"
   ]
  },
  {
   "cell_type": "code",
   "execution_count": 14,
   "id": "99512f0d",
   "metadata": {},
   "outputs": [
    {
     "data": {
      "text/plain": [
       "(896, 512)"
      ]
     },
     "execution_count": 14,
     "metadata": {},
     "output_type": "execute_result"
    }
   ],
   "source": [
    "product = (queries * sentences).sum(-1)\n",
    "product.shape"
   ]
  },
  {
   "cell_type": "code",
   "execution_count": 15,
   "id": "f6cb647d",
   "metadata": {},
   "outputs": [
    {
     "data": {
      "text/plain": [
       "(-0.20736787, 0.8849211)"
      ]
     },
     "execution_count": 15,
     "metadata": {},
     "output_type": "execute_result"
    }
   ],
   "source": [
    "product.min(), product.max()"
   ]
  },
  {
   "cell_type": "code",
   "execution_count": 16,
   "id": "3c3c1c5c",
   "metadata": {},
   "outputs": [
    {
     "data": {
      "text/plain": [
       "(0.0, 0.8849211)"
      ]
     },
     "execution_count": 16,
     "metadata": {},
     "output_type": "execute_result"
    }
   ],
   "source": [
    "product[product < 0] = 0\n",
    "\n",
    "product.min(), product.max()"
   ]
  },
  {
   "cell_type": "code",
   "execution_count": 17,
   "id": "00498032",
   "metadata": {},
   "outputs": [
    {
     "data": {
      "application/vnd.jupyter.widget-view+json": {
       "model_id": "d00bd9ebb90b4008bc4e064faa13e759",
       "version_major": 2,
       "version_minor": 0
      },
      "text/plain": [
       "  0%|          | 0/896 [00:00<?, ?it/s]"
      ]
     },
     "metadata": {},
     "output_type": "display_data"
    },
    {
     "data": {
      "text/plain": [
       "(264918,)"
      ]
     },
     "execution_count": 17,
     "metadata": {},
     "output_type": "execute_result"
    }
   ],
   "source": [
    "true_predictions = np.concatenate([p[:l] for l, p in zip(tqdm(dev.original_sentences), product)])\n",
    "true_predictions.shape"
   ]
  },
  {
   "cell_type": "code",
   "execution_count": 18,
   "id": "ebb53637",
   "metadata": {},
   "outputs": [
    {
     "data": {
      "image/png": "[encoded data removed]",
      "text/plain": [
       "<Figure size 640x480 with 1 Axes>"
      ]
     },
     "metadata": {},
     "output_type": "display_data"
    }
   ],
   "source": [
    "plt.hist(\n",
    "    true_predictions,\n",
    "    bins = 50\n",
    ")\n",
    "plt.xlim(0, 1)\n",
    "plt.show()"
   ]
  },
  {
   "cell_type": "code",
   "execution_count": 19,
   "id": "3d21f517",
   "metadata": {},
   "outputs": [],
   "source": [
    "np.save(output_folder + \"sbert.npy\", true_predictions)"
   ]
  },
  {
   "cell_type": "code",
   "execution_count": 20,
   "id": "a6ca5e71",
   "metadata": {},
   "outputs": [
    {
     "name": "stdout",
     "output_type": "stream",
     "text": [
      "targets (264918,)\n"
     ]
    }
   ],
   "source": [
    "targets = np.concatenate(dev.relevance.to_list())\n",
    "print(\"targets\", targets.shape)"
   ]
  },
  {
   "cell_type": "code",
   "execution_count": 21,
   "id": "d4806e68",
   "metadata": {},
   "outputs": [
    {
     "data": {
      "image/png": "[encoded data removed]",
      "text/plain": [
       "<Figure size 640x480 with 1 Axes>"
      ]
     },
     "metadata": {},
     "output_type": "display_data"
    }
   ],
   "source": [
    "PrecisionRecallDisplay.from_predictions(targets, true_predictions)\n",
    "plt.show()"
   ]
  },
  {
   "cell_type": "code",
   "execution_count": 22,
   "id": "d4b8d626",
   "metadata": {},
   "outputs": [
    {
     "data": {
      "image/png": "[encoded data removed]",
      "text/plain": [
       "<Figure size 640x480 with 1 Axes>"
      ]
     },
     "metadata": {},
     "output_type": "display_data"
    }
   ],
   "source": [
    "RocCurveDisplay.from_predictions(targets, true_predictions)\n",
    "plt.show()"
   ]
  },
  {
   "cell_type": "markdown",
   "id": "86e8cadb",
   "metadata": {},
   "source": [
    "# SPECTER"
   ]
  },
  {
   "cell_type": "code",
   "execution_count": 23,
   "id": "ba0bcee5",
   "metadata": {},
   "outputs": [
    {
     "data": {
      "text/plain": [
       "(896, 512, 1536)"
      ]
     },
     "execution_count": 23,
     "metadata": {},
     "output_type": "execute_result"
    }
   ],
   "source": [
    "X_dev = np.load(data_folder + \"embeddings/specter/X_dev.npy\")\n",
    "X_dev.shape"
   ]
  },
  {
   "cell_type": "code",
   "execution_count": 24,
   "id": "3016b265",
   "metadata": {},
   "outputs": [
    {
     "data": {
      "text/plain": [
       "(896, 512)"
      ]
     },
     "execution_count": 24,
     "metadata": {},
     "output_type": "execute_result"
    }
   ],
   "source": [
    "Y_dev = np.load(data_folder + \"embeddings/specter/Y_dev.npy\")\n",
    "Y_dev.shape"
   ]
  },
  {
   "cell_type": "code",
   "execution_count": 25,
   "id": "5ed3a7b0",
   "metadata": {},
   "outputs": [
    {
     "data": {
      "text/plain": [
       "(896, 512, 768)"
      ]
     },
     "execution_count": 25,
     "metadata": {},
     "output_type": "execute_result"
    }
   ],
   "source": [
    "queries = X_dev[:, :, :768]\n",
    "queries.shape"
   ]
  },
  {
   "cell_type": "code",
   "execution_count": 26,
   "id": "8b629700",
   "metadata": {},
   "outputs": [
    {
     "data": {
      "text/plain": [
       "(896, 512, 768)"
      ]
     },
     "execution_count": 26,
     "metadata": {},
     "output_type": "execute_result"
    }
   ],
   "source": [
    "sentences = X_dev[:, :, 768:]\n",
    "sentences.shape"
   ]
  },
  {
   "cell_type": "code",
   "execution_count": 27,
   "id": "4af3e56c",
   "metadata": {},
   "outputs": [
    {
     "data": {
      "text/plain": [
       "(896, 512)"
      ]
     },
     "execution_count": 27,
     "metadata": {},
     "output_type": "execute_result"
    }
   ],
   "source": [
    "distances = ((queries - sentences) ** 2).sum(-1)\n",
    "distances.shape"
   ]
  },
  {
   "cell_type": "code",
   "execution_count": 28,
   "id": "956ac8bc",
   "metadata": {},
   "outputs": [
    {
     "data": {
      "text/plain": [
       "(0.0, 142.18779, 694.8766)"
      ]
     },
     "execution_count": 28,
     "metadata": {},
     "output_type": "execute_result"
    }
   ],
   "source": [
    "distances.min(), distances.mean(), distances.max()"
   ]
  },
  {
   "cell_type": "code",
   "execution_count": 29,
   "id": "c064ee9d",
   "metadata": {},
   "outputs": [
    {
     "data": {
      "application/vnd.jupyter.widget-view+json": {
       "model_id": "2cfda61167c34c2486fb11e47da2c68b",
       "version_major": 2,
       "version_minor": 0
      },
      "text/plain": [
       "  0%|          | 0/896 [00:00<?, ?it/s]"
      ]
     },
     "metadata": {},
     "output_type": "display_data"
    },
    {
     "data": {
      "image/png": "[encoded data removed]",
      "text/plain": [
       "<Figure size 1200x400 with 2 Axes>"
      ]
     },
     "metadata": {},
     "output_type": "display_data"
    }
   ],
   "source": [
    "unpadded_distances = np.concatenate([p[:l] for l, p in zip(tqdm(dev.original_sentences), distances)])\n",
    "unpadded_distances = unpadded_distances / 200\n",
    "\n",
    "# true_predictions = 1 / (1 + (10**-3) * unpadded_distances)\n",
    "# true_predictions = 1 / (1 + (10**-2.5) * unpadded_distances)\n",
    "true_predictions = 2 / (1 + np.exp(unpadded_distances))\n",
    "\n",
    "# true_predictions.shape\n",
    "\n",
    "f, axes = plt.subplots(1, 2, figsize = (12, 4))\n",
    "axes[0].hist(unpadded_distances, bins = 50)\n",
    "axes[1].hist(true_predictions, bins = 50)\n",
    "axes[1].set_xlim(0, 1)\n",
    "plt.show()"
   ]
  },
  {
   "cell_type": "code",
   "execution_count": 30,
   "id": "93a53fc6",
   "metadata": {},
   "outputs": [
    {
     "data": {
      "text/plain": [
       "array([0.38911125, 0.40271607, 0.38083205, ..., 0.39817068, 0.3027502 ,\n",
       "       0.48780653], dtype=float32)"
      ]
     },
     "execution_count": 30,
     "metadata": {},
     "output_type": "execute_result"
    }
   ],
   "source": [
    "true_predictions"
   ]
  },
  {
   "cell_type": "code",
   "execution_count": 31,
   "id": "c52c21f3",
   "metadata": {},
   "outputs": [
    {
     "data": {
      "text/plain": [
       "array([0.9996449 , 0.9996556 , 0.9996382 , ..., 0.999652  , 0.9995691 ,\n",
       "       0.99971706], dtype=float32)"
      ]
     },
     "execution_count": 31,
     "metadata": {},
     "output_type": "execute_result"
    }
   ],
   "source": [
    "2 / (1 + np.exp(unpadded_distances / 2000))"
   ]
  },
  {
   "cell_type": "markdown",
   "id": "02efa764",
   "metadata": {},
   "source": [
    "# $\\frac{1}{\\beta + \\alpha x}$"
   ]
  },
  {
   "cell_type": "code",
   "execution_count": 32,
   "id": "f9f331d7",
   "metadata": {},
   "outputs": [],
   "source": [
    "alpha = np.linspace(0.1, 3, 30)\n",
    "beta = np.linspace(0.5, 5, 40)"
   ]
  },
  {
   "cell_type": "code",
   "execution_count": 33,
   "id": "d329d9ef",
   "metadata": {},
   "outputs": [
    {
     "data": {
      "text/plain": [
       "(40, 30, 264918)"
      ]
     },
     "execution_count": 33,
     "metadata": {},
     "output_type": "execute_result"
    }
   ],
   "source": [
    "predictions = 1 / (beta.reshape(-1, 1, 1) + alpha.reshape(-1, 1) * unpadded_distances)\n",
    "predictions.shape"
   ]
  },
  {
   "cell_type": "code",
   "execution_count": 34,
   "id": "52484135",
   "metadata": {},
   "outputs": [
    {
     "data": {
      "application/vnd.jupyter.widget-view+json": {
       "model_id": "dde05563c6ed48a49715b043ce57f612",
       "version_major": 2,
       "version_minor": 0
      },
      "text/plain": [
       "  0%|          | 0/40 [00:00<?, ?it/s]"
      ]
     },
     "metadata": {},
     "output_type": "display_data"
    },
    {
     "data": {
      "text/plain": [
       "count    1.200000e+03\n",
       "mean     5.053350e-02\n",
       "std      1.388357e-17\n",
       "min      5.053350e-02\n",
       "25%      5.053350e-02\n",
       "50%      5.053350e-02\n",
       "75%      5.053350e-02\n",
       "max      5.053350e-02\n",
       "dtype: float64"
      ]
     },
     "execution_count": 34,
     "metadata": {},
     "output_type": "execute_result"
    }
   ],
   "source": [
    "scores = [average_precision_score(targets, a) for b in tqdm(predictions) for a in b]\n",
    "scores = pd.Series(scores)\n",
    "scores.describe()"
   ]
  },
  {
   "cell_type": "code",
   "execution_count": 35,
   "id": "b71f0f54",
   "metadata": {},
   "outputs": [
    {
     "data": {
      "application/vnd.jupyter.widget-view+json": {
       "model_id": "3ee13a56276d4740a6beb26214fdcb45",
       "version_major": 2,
       "version_minor": 0
      },
      "text/plain": [
       "  0%|          | 0/40 [00:00<?, ?it/s]"
      ]
     },
     "metadata": {},
     "output_type": "display_data"
    },
    {
     "data": {
      "text/plain": [
       "count    1200.000000\n",
       "mean        0.584287\n",
       "std         0.000000\n",
       "min         0.584287\n",
       "25%         0.584287\n",
       "50%         0.584287\n",
       "75%         0.584287\n",
       "max         0.584287\n",
       "dtype: float64"
      ]
     },
     "execution_count": 35,
     "metadata": {},
     "output_type": "execute_result"
    }
   ],
   "source": [
    "scores = [roc_auc_score(targets, a) for b in tqdm(predictions) for a in b]\n",
    "scores = pd.Series(scores)\n",
    "scores.describe()"
   ]
  },
  {
   "cell_type": "markdown",
   "id": "08e24c64",
   "metadata": {},
   "source": [
    "# $\\frac{2}{1 + e ^ {a + b x}}$"
   ]
  },
  {
   "cell_type": "code",
   "execution_count": 46,
   "id": "4e84161b",
   "metadata": {},
   "outputs": [],
   "source": [
    "A = np.linspace(0.1, 10, 12)\n",
    "B = np.linspace(0.1, 10, 13)\n",
    "# C = np.linspace(0.1, 10, 14)"
   ]
  },
  {
   "cell_type": "code",
   "execution_count": 52,
   "id": "213c6497",
   "metadata": {},
   "outputs": [
    {
     "data": {
      "text/plain": [
       "(13, 12, 264918)"
      ]
     },
     "execution_count": 52,
     "metadata": {},
     "output_type": "execute_result"
    }
   ],
   "source": [
    "predictions = 2 / (1 + np.exp((B.reshape(-1, 1, 1) + A.reshape(-1, 1) * unpadded_distances)))\n",
    "predictions.shape"
   ]
  },
  {
   "cell_type": "code",
   "execution_count": 53,
   "id": "58fa86c3",
   "metadata": {},
   "outputs": [
    {
     "data": {
      "text/plain": [
       "(7.39659875571076e-20,\n",
       " 0.021698481129944394,\n",
       " 3.6168194278146844e-05,\n",
       " 0.9470506075938715)"
      ]
     },
     "execution_count": 53,
     "metadata": {},
     "output_type": "execute_result"
    }
   ],
   "source": [
    "predictions.min(), predictions.mean(), np.median(predictions), predictions.max()"
   ]
  },
  {
   "cell_type": "code",
   "execution_count": 54,
   "id": "27829c04",
   "metadata": {},
   "outputs": [
    {
     "data": {
      "application/vnd.jupyter.widget-view+json": {
       "model_id": "f64de0c7aff945118134147ad5516f97",
       "version_major": 2,
       "version_minor": 0
      },
      "text/plain": [
       "  0%|          | 0/13 [00:00<?, ?it/s]"
      ]
     },
     "metadata": {},
     "output_type": "display_data"
    },
    {
     "data": {
      "text/plain": [
       "count    1.560000e+02\n",
       "mean     5.053350e-02\n",
       "std      2.088372e-17\n",
       "min      5.053350e-02\n",
       "25%      5.053350e-02\n",
       "50%      5.053350e-02\n",
       "75%      5.053350e-02\n",
       "max      5.053350e-02\n",
       "dtype: float64"
      ]
     },
     "execution_count": 54,
     "metadata": {},
     "output_type": "execute_result"
    }
   ],
   "source": [
    "scores = [average_precision_score(targets, a) for b in tqdm(predictions) for a in b]\n",
    "scores = pd.Series(scores)\n",
    "scores.describe()"
   ]
  },
  {
   "cell_type": "code",
   "execution_count": 55,
   "id": "754d4d02",
   "metadata": {},
   "outputs": [
    {
     "data": {
      "application/vnd.jupyter.widget-view+json": {
       "model_id": "06ba4b1de97547e0bf8174dac8710f09",
       "version_major": 2,
       "version_minor": 0
      },
      "text/plain": [
       "  0%|          | 0/13 [00:00<?, ?it/s]"
      ]
     },
     "metadata": {},
     "output_type": "display_data"
    },
    {
     "data": {
      "text/plain": [
       "count    1.560000e+02\n",
       "mean     5.842875e-01\n",
       "std      1.113799e-16\n",
       "min      5.842875e-01\n",
       "25%      5.842875e-01\n",
       "50%      5.842875e-01\n",
       "75%      5.842875e-01\n",
       "max      5.842875e-01\n",
       "dtype: float64"
      ]
     },
     "execution_count": 55,
     "metadata": {},
     "output_type": "execute_result"
    }
   ],
   "source": [
    "scores = [roc_auc_score(targets, a) for b in tqdm(predictions) for a in b]\n",
    "scores = pd.Series(scores)\n",
    "scores.describe()"
   ]
  },
  {
   "cell_type": "markdown",
   "id": "b2eca7aa",
   "metadata": {},
   "source": [
    "# plots"
   ]
  },
  {
   "cell_type": "code",
   "execution_count": 41,
   "id": "1455f243",
   "metadata": {},
   "outputs": [
    {
     "data": {
      "image/png": "[encoded data removed]",
      "text/plain": [
       "<Figure size 640x480 with 1 Axes>"
      ]
     },
     "metadata": {},
     "output_type": "display_data"
    }
   ],
   "source": [
    "PrecisionRecallDisplay.from_predictions(targets, true_predictions)\n",
    "plt.show()"
   ]
  },
  {
   "cell_type": "code",
   "execution_count": 42,
   "id": "d154ea76",
   "metadata": {},
   "outputs": [
    {
     "data": {
      "image/png": "[encoded data removed]",
      "text/plain": [
       "<Figure size 640x480 with 1 Axes>"
      ]
     },
     "metadata": {},
     "output_type": "display_data"
    }
   ],
   "source": [
    "RocCurveDisplay.from_predictions(targets, true_predictions)\n",
    "plt.show()"
   ]
  },
  {
   "cell_type": "code",
   "execution_count": 43,
   "id": "27acf27b",
   "metadata": {},
   "outputs": [],
   "source": [
    "np.save(output_folder + \"specter.npy\", true_predictions)"
   ]
  },
  {
   "cell_type": "code",
   "execution_count": null,
   "id": "2da548f8",
   "metadata": {},
   "outputs": [],
   "source": []
  }
 ],
 "metadata": {
  "kernelspec": {
   "display_name": "Python 3 (ipykernel)",
   "language": "python",
   "name": "python3"
  },
  "language_info": {
   "codemirror_mode": {
    "name": "ipython",
    "version": 3
   },
   "file_extension": ".py",
   "mimetype": "text/x-python",
   "name": "python",
   "nbconvert_exporter": "python",
   "pygments_lexer": "ipython3",
   "version": "3.8.10"
  }
 },
 "nbformat": 4,
 "nbformat_minor": 5
}
