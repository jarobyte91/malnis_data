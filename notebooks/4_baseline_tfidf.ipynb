{
 "cells": [
  {
   "cell_type": "code",
   "execution_count": 1,
   "id": "8ae054c6",
   "metadata": {},
   "outputs": [],
   "source": [
    "import pandas as pd\n",
    "import matplotlib.pyplot as plt\n",
    "from sklearn.feature_extraction.text import TfidfVectorizer\n",
    "from malnis import show\n",
    "from nltk.tokenize import word_tokenize\n",
    "from tqdm.auto import tqdm\n",
    "import scipy.sparse as sp\n",
    "from sklearn.linear_model import LogisticRegression \n",
    "from sklearn.ensemble import RandomForestClassifier\n",
    "from sklearn.svm import SVC\n",
    "from sklearn.decomposition import PCA, SparsePCA\n",
    "from sklearn.metrics import accuracy_score, f1_score, auc, roc_auc_score, average_precision_score, PrecisionRecallDisplay\n",
    "import numpy as np\n"
   ]
  },
  {
   "cell_type": "code",
   "execution_count": 2,
   "id": "57351439",
   "metadata": {},
   "outputs": [
    {
     "data": {
      "text/plain": [
       "'/home/jarobyte/malnis_dataset/notebooks'"
      ]
     },
     "execution_count": 2,
     "metadata": {},
     "output_type": "execute_result"
    }
   ],
   "source": [
    "pwd"
   ]
  },
  {
   "cell_type": "code",
   "execution_count": 3,
   "id": "b8d48d64",
   "metadata": {},
   "outputs": [
    {
     "name": "stdout",
     "output_type": "stream",
     "text": [
      "(391, 8)\n"
     ]
    },
    {
     "data": {
      "text/html": [
       "<div>\n",
       "<style scoped>\n",
       "    .dataframe tbody tr th:only-of-type {\n",
       "        vertical-align: middle;\n",
       "    }\n",
       "\n",
       "    .dataframe tbody tr th {\n",
       "        vertical-align: top;\n",
       "    }\n",
       "\n",
       "    .dataframe thead th {\n",
       "        text-align: right;\n",
       "    }\n",
       "</style>\n",
       "<table border=\"1\" class=\"dataframe\">\n",
       "  <thead>\n",
       "    <tr style=\"text-align: right;\">\n",
       "      <th></th>\n",
       "      <th>query</th>\n",
       "      <th>document</th>\n",
       "      <th>summary</th>\n",
       "      <th>r1</th>\n",
       "      <th>r2</th>\n",
       "      <th>rl</th>\n",
       "      <th>sentences</th>\n",
       "      <th>relevance</th>\n",
       "    </tr>\n",
       "  </thead>\n",
       "  <tbody>\n",
       "    <tr>\n",
       "      <th>36</th>\n",
       "      <td>For many types of machine learning algorithms,...</td>\n",
       "      <td>field in computer science, and health informat...</td>\n",
       "      <td>[While the techniques for neural networks are ...</td>\n",
       "      <td>0.594595</td>\n",
       "      <td>0.485714</td>\n",
       "      <td>0.594595</td>\n",
       "      <td>[field in computer science, and health informa...</td>\n",
       "      <td>[False, False, False, False, False, False, Fal...</td>\n",
       "    </tr>\n",
       "    <tr>\n",
       "      <th>38</th>\n",
       "      <td>We consider the problem of learning good traje...</td>\n",
       "      <td>field in computer science, and health informat...</td>\n",
       "      <td>[[71] considered the problem of learning good ...</td>\n",
       "      <td>0.646766</td>\n",
       "      <td>0.478571</td>\n",
       "      <td>0.636816</td>\n",
       "      <td>[field in computer science, and health informa...</td>\n",
       "      <td>[False, False, False, False, False, False, Fal...</td>\n",
       "    </tr>\n",
       "    <tr>\n",
       "      <th>136</th>\n",
       "      <td>We study in this work the importance of depth ...</td>\n",
       "      <td>Deep Learning Based Text Classification: A Com...</td>\n",
       "      <td>[[57] show that deep models indeed outperform ...</td>\n",
       "      <td>0.533333</td>\n",
       "      <td>0.403101</td>\n",
       "      <td>0.533333</td>\n",
       "      <td>[Deep Learning Based Text Classification: A Co...</td>\n",
       "      <td>[False, False, False, False, False, False, Fal...</td>\n",
       "    </tr>\n",
       "    <tr>\n",
       "      <th>5</th>\n",
       "      <td>We investigate a lattice-structured LSTM model...</td>\n",
       "      <td>1041-4347 (c) 2020 IEEE. Personal use is permi...</td>\n",
       "      <td>[Zhang and Yang [149] proposed a lattice-struc...</td>\n",
       "      <td>0.478261</td>\n",
       "      <td>0.393162</td>\n",
       "      <td>0.478261</td>\n",
       "      <td>[1041-4347 (c) 2020 IEEE., Personal use is per...</td>\n",
       "      <td>[False, False, False, False, False, False, Fal...</td>\n",
       "    </tr>\n",
       "    <tr>\n",
       "      <th>316</th>\n",
       "      <td>HDBSCAN*, a state-of-the-art density-based hie...</td>\n",
       "      <td>PVLDB Reference Format: Antonio Cavalcante Ara...</td>\n",
       "      <td>[In [6], the authors proposed RNG-HDBSCAN*, a ...</td>\n",
       "      <td>0.539062</td>\n",
       "      <td>0.350365</td>\n",
       "      <td>0.507812</td>\n",
       "      <td>[PVLDB Reference Format: Antonio Cavalcante Ar...</td>\n",
       "      <td>[False, False, False, False, False, False, Fal...</td>\n",
       "    </tr>\n",
       "  </tbody>\n",
       "</table>\n",
       "</div>"
      ],
      "text/plain": [
       "                                                 query  \\\n",
       "36   For many types of machine learning algorithms,...   \n",
       "38   We consider the problem of learning good traje...   \n",
       "136  We study in this work the importance of depth ...   \n",
       "5    We investigate a lattice-structured LSTM model...   \n",
       "316  HDBSCAN*, a state-of-the-art density-based hie...   \n",
       "\n",
       "                                              document  \\\n",
       "36   field in computer science, and health informat...   \n",
       "38   field in computer science, and health informat...   \n",
       "136  Deep Learning Based Text Classification: A Com...   \n",
       "5    1041-4347 (c) 2020 IEEE. Personal use is permi...   \n",
       "316  PVLDB Reference Format: Antonio Cavalcante Ara...   \n",
       "\n",
       "                                               summary        r1        r2  \\\n",
       "36   [While the techniques for neural networks are ...  0.594595  0.485714   \n",
       "38   [[71] considered the problem of learning good ...  0.646766  0.478571   \n",
       "136  [[57] show that deep models indeed outperform ...  0.533333  0.403101   \n",
       "5    [Zhang and Yang [149] proposed a lattice-struc...  0.478261  0.393162   \n",
       "316  [In [6], the authors proposed RNG-HDBSCAN*, a ...  0.539062  0.350365   \n",
       "\n",
       "           rl                                          sentences  \\\n",
       "36   0.594595  [field in computer science, and health informa...   \n",
       "38   0.636816  [field in computer science, and health informa...   \n",
       "136  0.533333  [Deep Learning Based Text Classification: A Co...   \n",
       "5    0.478261  [1041-4347 (c) 2020 IEEE., Personal use is per...   \n",
       "316  0.507812  [PVLDB Reference Format: Antonio Cavalcante Ar...   \n",
       "\n",
       "                                             relevance  \n",
       "36   [False, False, False, False, False, False, Fal...  \n",
       "38   [False, False, False, False, False, False, Fal...  \n",
       "136  [False, False, False, False, False, False, Fal...  \n",
       "5    [False, False, False, False, False, False, Fal...  \n",
       "316  [False, False, False, False, False, False, Fal...  "
      ]
     },
     "execution_count": 3,
     "metadata": {},
     "output_type": "execute_result"
    }
   ],
   "source": [
    "data = pd.read_pickle(\"../data/labels.pkl\")#.head(50)\n",
    "show(data)"
   ]
  },
  {
   "cell_type": "code",
   "execution_count": 4,
   "id": "d57f0b66",
   "metadata": {},
   "outputs": [
    {
     "data": {
      "text/html": [
       "<style>#sk-container-id-1 {color: black;background-color: white;}#sk-container-id-1 pre{padding: 0;}#sk-container-id-1 div.sk-toggleable {background-color: white;}#sk-container-id-1 label.sk-toggleable__label {cursor: pointer;display: block;width: 100%;margin-bottom: 0;padding: 0.3em;box-sizing: border-box;text-align: center;}#sk-container-id-1 label.sk-toggleable__label-arrow:before {content: \"▸\";float: left;margin-right: 0.25em;color: #696969;}#sk-container-id-1 label.sk-toggleable__label-arrow:hover:before {color: black;}#sk-container-id-1 div.sk-estimator:hover label.sk-toggleable__label-arrow:before {color: black;}#sk-container-id-1 div.sk-toggleable__content {max-height: 0;max-width: 0;overflow: hidden;text-align: left;background-color: #f0f8ff;}#sk-container-id-1 div.sk-toggleable__content pre {margin: 0.2em;color: black;border-radius: 0.25em;background-color: #f0f8ff;}#sk-container-id-1 input.sk-toggleable__control:checked~div.sk-toggleable__content {max-height: 200px;max-width: 100%;overflow: auto;}#sk-container-id-1 input.sk-toggleable__control:checked~label.sk-toggleable__label-arrow:before {content: \"▾\";}#sk-container-id-1 div.sk-estimator input.sk-toggleable__control:checked~label.sk-toggleable__label {background-color: #d4ebff;}#sk-container-id-1 div.sk-label input.sk-toggleable__control:checked~label.sk-toggleable__label {background-color: #d4ebff;}#sk-container-id-1 input.sk-hidden--visually {border: 0;clip: rect(1px 1px 1px 1px);clip: rect(1px, 1px, 1px, 1px);height: 1px;margin: -1px;overflow: hidden;padding: 0;position: absolute;width: 1px;}#sk-container-id-1 div.sk-estimator {font-family: monospace;background-color: #f0f8ff;border: 1px dotted black;border-radius: 0.25em;box-sizing: border-box;margin-bottom: 0.5em;}#sk-container-id-1 div.sk-estimator:hover {background-color: #d4ebff;}#sk-container-id-1 div.sk-parallel-item::after {content: \"\";width: 100%;border-bottom: 1px solid gray;flex-grow: 1;}#sk-container-id-1 div.sk-label:hover label.sk-toggleable__label {background-color: #d4ebff;}#sk-container-id-1 div.sk-serial::before {content: \"\";position: absolute;border-left: 1px solid gray;box-sizing: border-box;top: 0;bottom: 0;left: 50%;z-index: 0;}#sk-container-id-1 div.sk-serial {display: flex;flex-direction: column;align-items: center;background-color: white;padding-right: 0.2em;padding-left: 0.2em;position: relative;}#sk-container-id-1 div.sk-item {position: relative;z-index: 1;}#sk-container-id-1 div.sk-parallel {display: flex;align-items: stretch;justify-content: center;background-color: white;position: relative;}#sk-container-id-1 div.sk-item::before, #sk-container-id-1 div.sk-parallel-item::before {content: \"\";position: absolute;border-left: 1px solid gray;box-sizing: border-box;top: 0;bottom: 0;left: 50%;z-index: -1;}#sk-container-id-1 div.sk-parallel-item {display: flex;flex-direction: column;z-index: 1;position: relative;background-color: white;}#sk-container-id-1 div.sk-parallel-item:first-child::after {align-self: flex-end;width: 50%;}#sk-container-id-1 div.sk-parallel-item:last-child::after {align-self: flex-start;width: 50%;}#sk-container-id-1 div.sk-parallel-item:only-child::after {width: 0;}#sk-container-id-1 div.sk-dashed-wrapped {border: 1px dashed gray;margin: 0 0.4em 0.5em 0.4em;box-sizing: border-box;padding-bottom: 0.4em;background-color: white;}#sk-container-id-1 div.sk-label label {font-family: monospace;font-weight: bold;display: inline-block;line-height: 1.2em;}#sk-container-id-1 div.sk-label-container {text-align: center;}#sk-container-id-1 div.sk-container {/* jupyter's `normalize.less` sets `[hidden] { display: none; }` but bootstrap.min.css set `[hidden] { display: none !important; }` so we also need the `!important` here to be able to override the default hidden behavior on the sphinx rendered scikit-learn.org. See: https://github.com/scikit-learn/scikit-learn/issues/21755 */display: inline-block !important;position: relative;}#sk-container-id-1 div.sk-text-repr-fallback {display: none;}</style><div id=\"sk-container-id-1\" class=\"sk-top-container\"><div class=\"sk-text-repr-fallback\"><pre>TfidfVectorizer()</pre><b>In a Jupyter environment, please rerun this cell to show the HTML representation or trust the notebook. <br />On GitHub, the HTML representation is unable to render, please try loading this page with nbviewer.org.</b></div><div class=\"sk-container\" hidden><div class=\"sk-item\"><div class=\"sk-estimator sk-toggleable\"><input class=\"sk-toggleable__control sk-hidden--visually\" id=\"sk-estimator-id-1\" type=\"checkbox\" checked><label for=\"sk-estimator-id-1\" class=\"sk-toggleable__label sk-toggleable__label-arrow\">TfidfVectorizer</label><div class=\"sk-toggleable__content\"><pre>TfidfVectorizer()</pre></div></div></div></div></div>"
      ],
      "text/plain": [
       "TfidfVectorizer()"
      ]
     },
     "execution_count": 4,
     "metadata": {},
     "output_type": "execute_result"
    }
   ],
   "source": [
    "vectorizer = TfidfVectorizer(\n",
    "#     vocabulary = vocabulary\n",
    "#     max_features = 10000\n",
    ")\n",
    "# vectorizer\n",
    "vectorizer.fit(data.document)"
   ]
  },
  {
   "cell_type": "code",
   "execution_count": 5,
   "id": "3ff1df69",
   "metadata": {},
   "outputs": [
    {
     "data": {
      "text/plain": [
       "(391, 37119)"
      ]
     },
     "execution_count": 5,
     "metadata": {},
     "output_type": "execute_result"
    }
   ],
   "source": [
    "query_embeddings = vectorizer.transform(data[\"query\"])#.toarray()\n",
    "query_embeddings.shape"
   ]
  },
  {
   "cell_type": "code",
   "execution_count": 6,
   "id": "6a69cbde",
   "metadata": {},
   "outputs": [
    {
     "data": {
      "application/vnd.jupyter.widget-view+json": {
       "model_id": "7b5fb5a7f5ad48f1b73e7a34e61dd372",
       "version_major": 2,
       "version_minor": 0
      },
      "text/plain": [
       "  0%|          | 0/391 [00:00<?, ?it/s]"
      ]
     },
     "metadata": {},
     "output_type": "display_data"
    },
    {
     "name": "stderr",
     "output_type": "stream",
     "text": [
      "\n",
      "KeyboardInterrupt\n",
      "\n"
     ]
    }
   ],
   "source": [
    "dims = query_embeddings.shape[1]\n",
    "sentence_embeddings = [\n",
    "    vectorizer.transform(l)#.toarray() \n",
    "    for l in tqdm(data.sentences)\n",
    "]\n",
    "all([l.shape[1] == dims for l in sentence_embeddings])"
   ]
  },
  {
   "cell_type": "code",
   "execution_count": null,
   "id": "07ff9f48",
   "metadata": {},
   "outputs": [],
   "source": [
    "query_embeddings.shape[0] == len(sentence_embeddings)"
   ]
  },
  {
   "cell_type": "code",
   "execution_count": null,
   "id": "ed72a578",
   "metadata": {},
   "outputs": [],
   "source": [
    "sum([len(l) for l in tqdm(data.sentences)])"
   ]
  },
  {
   "cell_type": "code",
   "execution_count": null,
   "id": "eacf1fd6",
   "metadata": {},
   "outputs": [],
   "source": [
    "train = [\n",
    "#     sp.hstack([q, s])\n",
    "#     (-q).power(2)\n",
    "    ((sp.csr_matrix(np.ones([l.shape[0],1])) * q) - l).power(2)\n",
    "    for q, l in zip(query_embeddings, tqdm(sentence_embeddings))\n",
    "]\n",
    "len(train)"
   ]
  },
  {
   "cell_type": "code",
   "execution_count": null,
   "id": "f122e4cd",
   "metadata": {},
   "outputs": [],
   "source": [
    "X = sp.vstack(train)#.toarray().T#.squeeze()\n",
    "X.shape"
   ]
  },
  {
   "cell_type": "code",
   "execution_count": null,
   "id": "632ff8d5",
   "metadata": {},
   "outputs": [],
   "source": [
    "Y = np.array([y for l in tqdm(data.relevance) for y in l])\n",
    "Y.shape"
   ]
  },
  {
   "cell_type": "code",
   "execution_count": null,
   "id": "f9a816ac",
   "metadata": {},
   "outputs": [],
   "source": [
    "Y.mean()"
   ]
  },
  {
   "cell_type": "code",
   "execution_count": null,
   "id": "f80e15b4",
   "metadata": {},
   "outputs": [],
   "source": [
    "%%time\n",
    "lr = LogisticRegression(\n",
    "    C = 10**-2\n",
    ")\n",
    "lr.fit(X, Y)\n",
    "\n",
    "predictions = lr.predict_proba(X)\n",
    "\n",
    "# predictions.sum()\n",
    "predictions.shape"
   ]
  },
  {
   "cell_type": "code",
   "execution_count": null,
   "id": "dac6d586",
   "metadata": {},
   "outputs": [],
   "source": [
    "plt.hist(predictions[:, 1])\n",
    "# plt.xlim(-0.1, 1.1)\n",
    "plt.show()"
   ]
  },
  {
   "cell_type": "code",
   "execution_count": null,
   "id": "ade086c6",
   "metadata": {},
   "outputs": [],
   "source": [
    "roc_auc_score(Y, predictions[:, 1])"
   ]
  },
  {
   "cell_type": "code",
   "execution_count": null,
   "id": "e9b49538",
   "metadata": {},
   "outputs": [],
   "source": [
    "average_precision_score(Y, predictions[:, 1])"
   ]
  },
  {
   "cell_type": "code",
   "execution_count": null,
   "id": "d77c50ca",
   "metadata": {},
   "outputs": [],
   "source": [
    "display = PrecisionRecallDisplay.from_estimator(\n",
    "    lr, X, Y, name=\"Logistic Regression\"\n",
    ")"
   ]
  }
 ],
 "metadata": {
  "kernelspec": {
   "display_name": "Python 3 (ipykernel)",
   "language": "python",
   "name": "python3"
  },
  "language_info": {
   "codemirror_mode": {
    "name": "ipython",
    "version": 3
   },
   "file_extension": ".py",
   "mimetype": "text/x-python",
   "name": "python",
   "nbconvert_exporter": "python",
   "pygments_lexer": "ipython3",
   "version": "3.8.10"
  }
 },
 "nbformat": 4,
 "nbformat_minor": 5
}
