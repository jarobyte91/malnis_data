{
 "cells": [
  {
   "cell_type": "code",
   "execution_count": 32,
   "id": "364064ed",
   "metadata": {},
   "outputs": [],
   "source": [
    "import numpy as np\n",
    "import pandas as pd\n",
    "import matplotlib.pyplot as plt\n",
    "import os\n",
    "from sklearn.metrics import average_precision_score, roc_auc_score\n",
    "from malnis import show\n",
    "\n",
    "# plt.style.use('seaborn-whitegrid')\n",
    "import seaborn as sns\n",
    "sns.set(style = \"whitegrid\")"
   ]
  },
  {
   "cell_type": "code",
   "execution_count": 33,
   "id": "bf0a623d",
   "metadata": {},
   "outputs": [],
   "source": [
    "data_folder = \"/home/jarobyte/scratch/malnis_dataset/data/classical_models\""
   ]
  },
  {
   "cell_type": "code",
   "execution_count": 34,
   "id": "1cdb4723",
   "metadata": {},
   "outputs": [
    {
     "data": {
      "text/plain": [
       "4"
      ]
     },
     "execution_count": 34,
     "metadata": {},
     "output_type": "execute_result"
    }
   ],
   "source": [
    "names = os.listdir(data_folder)\n",
    "len(names)"
   ]
  },
  {
   "cell_type": "code",
   "execution_count": 35,
   "id": "71048590",
   "metadata": {},
   "outputs": [
    {
     "data": {
      "text/plain": [
       "4"
      ]
     },
     "execution_count": 35,
     "metadata": {},
     "output_type": "execute_result"
    }
   ],
   "source": [
    "predictions = [np.load(data_folder + \"/\" + m) for m in names]\n",
    "len(predictions)"
   ]
  },
  {
   "cell_type": "code",
   "execution_count": 36,
   "id": "397f50fa",
   "metadata": {},
   "outputs": [],
   "source": [
    "lstm_sbert = np.load(\"/home/jarobyte/scratch/malnis_dataset/lstm/sbert/predictions/13932670_9.npy\")\n",
    "names.append(\"lstm_sbert.npy\")\n",
    "predictions.append(lstm_sbert)"
   ]
  },
  {
   "cell_type": "code",
   "execution_count": 37,
   "id": "42a08e40",
   "metadata": {},
   "outputs": [],
   "source": [
    "lstm_specter = np.load(\"/home/jarobyte/scratch/malnis_dataset/lstm/specter/predictions/13925873_9.npy\")\n",
    "names.append(\"lstm_specter.npy\")\n",
    "predictions.append(lstm_specter)"
   ]
  },
  {
   "cell_type": "code",
   "execution_count": 38,
   "id": "6a7634dc",
   "metadata": {},
   "outputs": [],
   "source": [
    "transformer_sbert = np.load(\"/home/jarobyte/scratch/malnis_dataset/transformer/sbert/predictions/13932680_10.npy\")\n",
    "names.append(\"transformer_sbert.npy\")\n",
    "predictions.append(transformer_sbert)"
   ]
  },
  {
   "cell_type": "code",
   "execution_count": 39,
   "id": "df8e42f5",
   "metadata": {},
   "outputs": [],
   "source": [
    "transformer_specter = np.load(\"/home/jarobyte/scratch/malnis_dataset/transformer/specter/predictions/14158104_4.npy\")\n",
    "names.append(\"transformer_specter.npy\")\n",
    "predictions.append(transformer_specter)"
   ]
  },
  {
   "cell_type": "code",
   "execution_count": 40,
   "id": "31293212",
   "metadata": {},
   "outputs": [],
   "source": [
    "mlp_sbert = np.load(\"/home/jarobyte/scratch/malnis_dataset/mlp_pytorch/sbert/predictions/14628727_2.npy\")\n",
    "names.append(\"mlp_sbert.npy\")\n",
    "predictions.append(mlp_sbert)"
   ]
  },
  {
   "cell_type": "code",
   "execution_count": 41,
   "id": "51466042",
   "metadata": {},
   "outputs": [],
   "source": [
    "mlp_specter = np.load(\"/home/jarobyte/scratch/malnis_dataset/mlp_pytorch/specter/predictions/14678619_2.npy\")\n",
    "names.append(\"mlp_specter.npy\")\n",
    "predictions.append(mlp_specter)"
   ]
  },
  {
   "cell_type": "code",
   "execution_count": 42,
   "id": "4085f687",
   "metadata": {},
   "outputs": [],
   "source": [
    "mlp_words = np.load(\"/home/jarobyte/scratch/malnis_dataset/mlp_tfidf/words/predictions/15010241_7.npy\")\n",
    "names.append(\"mlp_words.npy\")\n",
    "predictions.append(mlp_words)"
   ]
  },
  {
   "cell_type": "code",
   "execution_count": 43,
   "id": "efd84334",
   "metadata": {},
   "outputs": [],
   "source": [
    "mlp_chars = np.load(\"/home/jarobyte/scratch/malnis_dataset/mlp_tfidf/chars/predictions/14986643_2.npy\")\n",
    "names.append(\"mlp_chars.npy\")\n",
    "predictions.append(mlp_chars)"
   ]
  },
  {
   "cell_type": "code",
   "execution_count": 44,
   "id": "e71001e1",
   "metadata": {},
   "outputs": [
    {
     "data": {
      "text/plain": [
       "(12, 12)"
      ]
     },
     "execution_count": 44,
     "metadata": {},
     "output_type": "execute_result"
    }
   ],
   "source": [
    "len(names), len(predictions)"
   ]
  },
  {
   "cell_type": "code",
   "execution_count": 45,
   "id": "2645336e",
   "metadata": {},
   "outputs": [
    {
     "data": {
      "text/plain": [
       "[(264918,),\n",
       " (264918,),\n",
       " (264918,),\n",
       " (264918,),\n",
       " (264918,),\n",
       " (264918,),\n",
       " (264918,),\n",
       " (264918,),\n",
       " (264918,),\n",
       " (264918,),\n",
       " (264918,),\n",
       " (264918,)]"
      ]
     },
     "execution_count": 45,
     "metadata": {},
     "output_type": "execute_result"
    }
   ],
   "source": [
    "[x.shape for x in predictions]"
   ]
  },
  {
   "cell_type": "code",
   "execution_count": 46,
   "id": "a2e95872",
   "metadata": {},
   "outputs": [
    {
     "data": {
      "text/plain": [
       "[0.0,\n",
       " 0.0,\n",
       " 0.0,\n",
       " 0.060099937,\n",
       " 4.4960443e-35,\n",
       " 0.0,\n",
       " 1.7889194e-07,\n",
       " 8.308031e-21,\n",
       " 0.00038413805,\n",
       " 1.3465447e-05,\n",
       " 1.6760275991150592e-41,\n",
       " 8.578993984138202e-19]"
      ]
     },
     "execution_count": 46,
     "metadata": {},
     "output_type": "execute_result"
    }
   ],
   "source": [
    "[x.min() for x in predictions]"
   ]
  },
  {
   "cell_type": "code",
   "execution_count": 47,
   "id": "144b34ab",
   "metadata": {},
   "outputs": [
    {
     "data": {
      "text/plain": [
       "[0.6226536469622973,\n",
       " 0.8849211,\n",
       " 0.6265156074666344,\n",
       " 0.97001946,\n",
       " 1.0,\n",
       " 1.0,\n",
       " 0.99999976,\n",
       " 1.0,\n",
       " 0.35483286,\n",
       " 0.44589433,\n",
       " 0.7959132122201866,\n",
       " 0.48493222346083753]"
      ]
     },
     "execution_count": 47,
     "metadata": {},
     "output_type": "execute_result"
    }
   ],
   "source": [
    "[x.max() for x in predictions]"
   ]
  },
  {
   "cell_type": "code",
   "execution_count": 54,
   "id": "efdbcfe4",
   "metadata": {},
   "outputs": [
    {
     "name": "stdout",
     "output_type": "stream",
     "text": [
      "targets (264918,)\n"
     ]
    }
   ],
   "source": [
    "dev = pd.read_pickle(\"/home/jarobyte/scratch/malnis_dataset/data/data_dev.pkl\")\n",
    "\n",
    "targets = np.concatenate(dev.relevance.to_list())\n",
    "print(\"targets\", targets.shape)"
   ]
  },
  {
   "cell_type": "code",
   "execution_count": 57,
   "id": "75f0c50e",
   "metadata": {},
   "outputs": [
    {
     "name": "stdout",
     "output_type": "stream",
     "text": [
      "(12, 2)\n"
     ]
    },
    {
     "data": {
      "text/html": [
       "<div>\n",
       "<style scoped>\n",
       "    .dataframe tbody tr th:only-of-type {\n",
       "        vertical-align: middle;\n",
       "    }\n",
       "\n",
       "    .dataframe tbody tr th {\n",
       "        vertical-align: top;\n",
       "    }\n",
       "\n",
       "    .dataframe thead th {\n",
       "        text-align: right;\n",
       "    }\n",
       "</style>\n",
       "<table border=\"1\" class=\"dataframe\">\n",
       "  <thead>\n",
       "    <tr style=\"text-align: right;\">\n",
       "      <th></th>\n",
       "      <th>Average Precision</th>\n",
       "      <th>ROC AUC</th>\n",
       "    </tr>\n",
       "    <tr>\n",
       "      <th>name</th>\n",
       "      <th></th>\n",
       "      <th></th>\n",
       "    </tr>\n",
       "  </thead>\n",
       "  <tbody>\n",
       "    <tr>\n",
       "      <th>SPECTER</th>\n",
       "      <td>0.051</td>\n",
       "      <td>0.584</td>\n",
       "    </tr>\n",
       "    <tr>\n",
       "      <th>SBERT</th>\n",
       "      <td>0.066</td>\n",
       "      <td>0.640</td>\n",
       "    </tr>\n",
       "    <tr>\n",
       "      <th>Transformer SBERT</th>\n",
       "      <td>0.127</td>\n",
       "      <td>0.650</td>\n",
       "    </tr>\n",
       "    <tr>\n",
       "      <th>MLP SBERT</th>\n",
       "      <td>0.063</td>\n",
       "      <td>0.666</td>\n",
       "    </tr>\n",
       "    <tr>\n",
       "      <th>Transformer SPECTER</th>\n",
       "      <td>0.123</td>\n",
       "      <td>0.677</td>\n",
       "    </tr>\n",
       "    <tr>\n",
       "      <th>MLP SPECTER</th>\n",
       "      <td>0.074</td>\n",
       "      <td>0.696</td>\n",
       "    </tr>\n",
       "    <tr>\n",
       "      <th>LSTM SBERT</th>\n",
       "      <td>0.132</td>\n",
       "      <td>0.701</td>\n",
       "    </tr>\n",
       "    <tr>\n",
       "      <th>LSTM SPECTER</th>\n",
       "      <td>0.179</td>\n",
       "      <td>0.707</td>\n",
       "    </tr>\n",
       "    <tr>\n",
       "      <th>TFIDF Chars</th>\n",
       "      <td>0.098</td>\n",
       "      <td>0.717</td>\n",
       "    </tr>\n",
       "    <tr>\n",
       "      <th>MLP Words</th>\n",
       "      <td>0.101</td>\n",
       "      <td>0.736</td>\n",
       "    </tr>\n",
       "    <tr>\n",
       "      <th>MLP Chars</th>\n",
       "      <td>0.102</td>\n",
       "      <td>0.741</td>\n",
       "    </tr>\n",
       "    <tr>\n",
       "      <th>TFIDF Words</th>\n",
       "      <td>0.134</td>\n",
       "      <td>0.780</td>\n",
       "    </tr>\n",
       "  </tbody>\n",
       "</table>\n",
       "</div>"
      ],
      "text/plain": [
       "                     Average Precision  ROC AUC\n",
       "name                                           \n",
       "SPECTER                          0.051    0.584\n",
       "SBERT                            0.066    0.640\n",
       "Transformer SBERT                0.127    0.650\n",
       "MLP SBERT                        0.063    0.666\n",
       "Transformer SPECTER              0.123    0.677\n",
       "MLP SPECTER                      0.074    0.696\n",
       "LSTM SBERT                       0.132    0.701\n",
       "LSTM SPECTER                     0.179    0.707\n",
       "TFIDF Chars                      0.098    0.717\n",
       "MLP Words                        0.101    0.736\n",
       "MLP Chars                        0.102    0.741\n",
       "TFIDF Words                      0.134    0.780"
      ]
     },
     "execution_count": 57,
     "metadata": {},
     "output_type": "execute_result"
    }
   ],
   "source": [
    "df = pd.DataFrame({\"name\":names, \"predictions\":predictions})\\\n",
    ".assign(\n",
    "    name = lambda df: df.name.map(\n",
    "        lambda x: x[:-4].replace(\"_\", \" \")\\\n",
    "        .replace(\"tfidf\", \"TFIDF\")\\\n",
    "        .replace(\"lstm\", \"LSTM\")\\\n",
    "        .replace(\"transformer\", \"Transformer\")\\\n",
    "        .replace(\"sbert\", \"SBERT\")\\\n",
    "        .replace(\"specter\", \"SPECTER\")\n",
    "        .replace(\"mlp\", \"MLP\")\\\n",
    "        .replace(\"words\", \"Words\")\\\n",
    "        .replace(\"chars\", \"Chars\")\n",
    "    ),\n",
    "    average_precision = lambda df: df.predictions.map(lambda x: average_precision_score(targets, x)),\n",
    "    roc_auc = lambda df: df.predictions.map(lambda x: roc_auc_score(targets, x))\n",
    ")\\\n",
    ".drop(columns = \"predictions\")\\\n",
    ".sort_values(\"roc_auc\", ascending = True)\\\n",
    ".set_index(\"name\")\\\n",
    ".rename(columns = dict(average_precision = \"Average Precision\", roc_auc = \"ROC AUC\"))\\\n",
    ".round(3)\n",
    "\n",
    "show(df, 20)"
   ]
  },
  {
   "cell_type": "code",
   "execution_count": 58,
   "id": "4d02ec8c",
   "metadata": {},
   "outputs": [
    {
     "data": {
      "image/png": "[encoded data removed]",
      "text/plain": [
       "<Figure size 640x480 with 1 Axes>"
      ]
     },
     "metadata": {},
     "output_type": "display_data"
    }
   ],
   "source": [
    "df.plot.barh()\n",
    "plt.legend(\n",
    "    bbox_to_anchor=(0.5, 1.125), \n",
    "    loc=\"upper center\",\n",
    "    ncol = 2,\n",
    "#     title = \"Metric\"\n",
    ")\n",
    "plt.xlim(0, 1)\n",
    "plt.xticks(np.linspace(0, 1, 11))\n",
    "plt.ylabel(\"Model\", fontsize = \"x-large\")\n",
    "plt.minorticks_on()\n",
    "# plt.tick_params(axis = \"x\", which = \"minor\", length = 20)\n",
    "plt.grid(visible = True, which = 'minor', color='#999999', linestyle='-', alpha=0.2)\n",
    "plt.show()"
   ]
  },
  {
   "cell_type": "code",
   "execution_count": null,
   "id": "849ca3ce",
   "metadata": {},
   "outputs": [],
   "source": []
  }
 ],
 "metadata": {
  "kernelspec": {
   "display_name": "Python 3 (ipykernel)",
   "language": "python",
   "name": "python3"
  },
  "language_info": {
   "codemirror_mode": {
    "name": "ipython",
    "version": 3
   },
   "file_extension": ".py",
   "mimetype": "text/x-python",
   "name": "python",
   "nbconvert_exporter": "python",
   "pygments_lexer": "ipython3",
   "version": "3.8.10"
  }
 },
 "nbformat": 4,
 "nbformat_minor": 5
}
