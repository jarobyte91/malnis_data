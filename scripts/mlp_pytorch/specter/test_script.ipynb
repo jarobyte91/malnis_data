{
 "cells": [
  {
   "cell_type": "code",
   "execution_count": null,
   "id": "62833602",
   "metadata": {},
   "outputs": [
    {
     "name": "stdout",
     "output_type": "stream",
     "text": [
      "Importing libraries...\n",
      "Loading data...\n",
      "Creating model...\n",
      "MLP Classfier\n",
      "Parameters: 174,001\n",
      "Fitting model...\n",
      "  epoch 1, loss 0.157850\n",
      "  epoch 2, loss 0.086719\n",
      "  epoch 3, loss 0.085437\n",
      "  epoch 4, loss 0.084436\n",
      "  epoch 5, loss 0.084109\n",
      "  epoch 6, loss 0.083996\n",
      "  epoch 7, loss 0.083755\n",
      "  epoch 8, loss 0.083394\n",
      "  epoch 9, loss 0.083349\n",
      "  epoch 10, loss 0.082935\n"
     ]
    }
   ],
   "source": [
    "%run mlp_specter.py --experiment_id=test"
   ]
  },
  {
   "cell_type": "code",
   "execution_count": null,
   "id": "75b626ff",
   "metadata": {},
   "outputs": [],
   "source": []
  }
 ],
 "metadata": {
  "kernelspec": {
   "display_name": "Python 3 (ipykernel)",
   "language": "python",
   "name": "python3"
  },
  "language_info": {
   "codemirror_mode": {
    "name": "ipython",
    "version": 3
   },
   "file_extension": ".py",
   "mimetype": "text/x-python",
   "name": "python",
   "nbconvert_exporter": "python",
   "pygments_lexer": "ipython3",
   "version": "3.8.10"
  }
 },
 "nbformat": 4,
 "nbformat_minor": 5
}
