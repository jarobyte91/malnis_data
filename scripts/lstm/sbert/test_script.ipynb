{
 "cells": [
  {
   "cell_type": "code",
   "execution_count": null,
   "id": "62833602",
   "metadata": {},
   "outputs": [
    {
     "name": "stdout",
     "output_type": "stream",
     "text": [
      "Importing libraries...\n",
      "Loading data...\n",
      "Creating model...\n",
      "Fitting model...\n",
      "  epoch 1, loss 0.142118\n",
      "  epoch 2, loss 0.088520\n",
      "  epoch 3, loss 0.086669\n",
      "  epoch 4, loss 0.084997\n",
      "  epoch 5, loss 0.084185\n",
      "  epoch 6, loss 0.083745\n",
      "  epoch 7, loss 0.083463\n",
      "  epoch 8, loss 0.083260\n",
      "  epoch 9, loss 0.083049\n",
      "  epoch 10, loss 0.082948\n",
      "Training minutes: 0.39\n",
      "Saving predictions at /home/jarobyte/scratch/malnis_dataset/lstm/predictions/test.npy...\n",
      "Saving predictions at /home/jarobyte/scratch/malnis_dataset/lstm/train_logs/test.pkl...\n"
     ]
    }
   ],
   "source": [
    "%run lstm.py --experiment_id=test"
   ]
  }
 ],
 "metadata": {
  "kernelspec": {
   "display_name": "Python 3 (ipykernel)",
   "language": "python",
   "name": "python3"
  },
  "language_info": {
   "codemirror_mode": {
    "name": "ipython",
    "version": 3
   },
   "file_extension": ".py",
   "mimetype": "text/x-python",
   "name": "python",
   "nbconvert_exporter": "python",
   "pygments_lexer": "ipython3",
   "version": "3.8.10"
  }
 },
 "nbformat": 4,
 "nbformat_minor": 5
}
