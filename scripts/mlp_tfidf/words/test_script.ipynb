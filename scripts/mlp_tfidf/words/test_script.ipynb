{
 "cells": [
  {
   "cell_type": "code",
   "execution_count": 1,
   "id": "09f5003c",
   "metadata": {},
   "outputs": [
    {
     "name": "stdout",
     "output_type": "stream",
     "text": [
      "Loading libraries...\n",
      "Parsing arguments...\n",
      "Reading data...\n",
      "Fitting vectorizer...\n",
      "Vectorizer: TfidfVectorizer()\n",
      "Examples: 100\n",
      "train_features: (100, 650)\n",
      "Fitting classfier...\n",
      "MLPClassifier(hidden_layer_sizes=[300, 300], max_iter=10, verbose=True)\n",
      "Start: 965166.924485954\n",
      "Iteration 1, loss = 0.69977686\n",
      "Iteration 2, loss = 0.63517470\n",
      "Iteration 3, loss = 0.57633604\n",
      "Iteration 4, loss = 0.52128089\n",
      "Iteration 5, loss = 0.46861577\n",
      "Iteration 6, loss = 0.41785748\n",
      "Iteration 7, loss = 0.36883574\n",
      "Iteration 8, loss = 0.32155918\n",
      "Iteration 9, loss = 0.27635409\n",
      "Iteration 10, loss = 0.23373645\n",
      "End: 0.05716675298754126\n",
      "Predicting on dev set...\n"
     ]
    },
    {
     "name": "stderr",
     "output_type": "stream",
     "text": [
      "/home/jarobyte/envs/malnis/lib/python3.8/site-packages/sklearn/neural_network/_multilayer_perceptron.py:702: ConvergenceWarning: Stochastic Optimizer: Maximum iterations (10) reached and the optimization hasn't converged yet.\n",
      "  warnings.warn(\n"
     ]
    },
    {
     "name": "stdout",
     "output_type": "stream",
     "text": [
      "Average Precision: 0.02794327861052204\n",
      "ROC AUC: 0.44339085751765295\n",
      "Saving to disk...\n",
      "Model saved in: /home/jarobyte/scratch/malnis_dataset/mlp_tfidf/words/models/test.pkl\n",
      "Predictions saved in: /home/jarobyte/scratch/malnis_dataset/mlp_tfidf/words/predictions/test.npy\n",
      "Train log saved in: /home/jarobyte/scratch/malnis_dataset/mlp_tfidf/words/train_logs/test.pkl\n"
     ]
    }
   ],
   "source": [
    "%run mlp_words.py --experiment_id=test"
   ]
  },
  {
   "cell_type": "code",
   "execution_count": null,
   "id": "4302c0f1",
   "metadata": {},
   "outputs": [],
   "source": []
  }
 ],
 "metadata": {
  "kernelspec": {
   "display_name": "Python 3 (ipykernel)",
   "language": "python",
   "name": "python3"
  },
  "language_info": {
   "codemirror_mode": {
    "name": "ipython",
    "version": 3
   },
   "file_extension": ".py",
   "mimetype": "text/x-python",
   "name": "python",
   "nbconvert_exporter": "python",
   "pygments_lexer": "ipython3",
   "version": "3.8.10"
  }
 },
 "nbformat": 4,
 "nbformat_minor": 5
}
