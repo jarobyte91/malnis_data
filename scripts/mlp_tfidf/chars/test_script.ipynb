{
 "cells": [
  {
   "cell_type": "code",
   "execution_count": 1,
   "id": "cc76cd51",
   "metadata": {},
   "outputs": [
    {
     "name": "stdout",
     "output_type": "stream",
     "text": [
      "Loading libraries...\n",
      "Parsing arguments...\n",
      "Reading data...\n",
      "Fitting vectorizer...\n",
      "Vectorizer: TfidfVectorizer(analyzer='char', ngram_range=(3, 3))\n",
      "Examples: 100\n",
      "train_features: (100, 2300)\n",
      "Fitting classfier...\n",
      "MLPClassifier(hidden_layer_sizes=[300], max_iter=10, verbose=True)\n",
      "Start: 963688.425320689\n",
      "Iteration 1, loss = 0.72563363\n",
      "Iteration 2, loss = 0.67187537\n",
      "Iteration 3, loss = 0.62184888\n",
      "Iteration 4, loss = 0.57513132\n",
      "Iteration 5, loss = 0.53084608\n",
      "Iteration 6, loss = 0.48858282\n",
      "Iteration 7, loss = 0.44817483\n",
      "Iteration 8, loss = 0.40952279\n",
      "Iteration 9, loss = 0.37265791\n",
      "Iteration 10, loss = 0.33779195\n",
      "End: 0.12469691806472838\n",
      "Predicting on dev set...\n"
     ]
    },
    {
     "name": "stderr",
     "output_type": "stream",
     "text": [
      "/home/jarobyte/envs/malnis/lib/python3.8/site-packages/sklearn/neural_network/_multilayer_perceptron.py:702: ConvergenceWarning: Stochastic Optimizer: Maximum iterations (10) reached and the optimization hasn't converged yet.\n",
      "  warnings.warn(\n"
     ]
    },
    {
     "name": "stdout",
     "output_type": "stream",
     "text": [
      "Average Precision: 0.028365769668967523\n",
      "ROC AUC: 0.4532945925937566\n",
      "Saving to disk...\n",
      "Model saved in: /home/jarobyte/scratch/malnis_dataset/mlp_tfidf/chars/models/test.pkl\n",
      "Predictions saved in: /home/jarobyte/scratch/malnis_dataset/mlp_tfidf/chars/predictions/test.npy\n",
      "Train log saved in: /home/jarobyte/scratch/malnis_dataset/mlp_tfidf/chars/train_logs/test.pkl\n"
     ]
    }
   ],
   "source": [
    "%run mlp_chars.py --experiment_id=test"
   ]
  }
 ],
 "metadata": {
  "kernelspec": {
   "display_name": "Python 3 (ipykernel)",
   "language": "python",
   "name": "python3"
  },
  "language_info": {
   "codemirror_mode": {
    "name": "ipython",
    "version": 3
   },
   "file_extension": ".py",
   "mimetype": "text/x-python",
   "name": "python",
   "nbconvert_exporter": "python",
   "pygments_lexer": "ipython3",
   "version": "3.8.10"
  }
 },
 "nbformat": 4,
 "nbformat_minor": 5
}
