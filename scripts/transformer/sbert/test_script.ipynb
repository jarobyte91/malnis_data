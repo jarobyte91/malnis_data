{
 "cells": [
  {
   "cell_type": "code",
   "execution_count": 1,
   "id": "62833602",
   "metadata": {},
   "outputs": [
    {
     "name": "stdout",
     "output_type": "stream",
     "text": [
      "Importing libraries...\n",
      "Loading data...\n",
      "Creating model...\n",
      "Fitting model...\n",
      "  epoch 1, loss 0.094720\n",
      "  epoch 2, loss 0.085674\n",
      "Training minutes: 0.42\n",
      "Saving predictions at /home/jarobyte/scratch/malnis_dataset/transformer/predictions/test.npy...\n",
      "Saving predictions at /home/jarobyte/scratch/malnis_dataset/transformer/train_logs/test.pkl...\n"
     ]
    }
   ],
   "source": [
    "%run transformer.py --experiment_id=test"
   ]
  },
  {
   "cell_type": "code",
   "execution_count": null,
   "id": "3385c50f",
   "metadata": {},
   "outputs": [],
   "source": []
  }
 ],
 "metadata": {
  "kernelspec": {
   "display_name": "Python 3 (ipykernel)",
   "language": "python",
   "name": "python3"
  },
  "language_info": {
   "codemirror_mode": {
    "name": "ipython",
    "version": 3
   },
   "file_extension": ".py",
   "mimetype": "text/x-python",
   "name": "python",
   "nbconvert_exporter": "python",
   "pygments_lexer": "ipython3",
   "version": "3.8.10"
  }
 },
 "nbformat": 4,
 "nbformat_minor": 5
}
